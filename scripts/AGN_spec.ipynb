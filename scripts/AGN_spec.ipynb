{
 "cells": [
  {
   "cell_type": "code",
   "execution_count": 1,
   "metadata": {},
   "outputs": [],
   "source": [
    "import numpy as np\n",
    "import pandas as pd\n",
    "from shutil import copyfile\n",
    "from astropy.cosmology import Planck13 as cosmo\n",
    "import fsps\n",
    "from matplotlib import gridspec\n",
    "from astropy.io import fits\n",
    "from astropy import wcs\n",
    "from astropy.modeling.models import Sersic2D\n",
    "from astropy.table import Table\n",
    "from sim_engine import Scale_model\n",
    "from spec_tools import Source_present, Oldest_galaxy, Sig_int, Smooth, Gen_SFH\n",
    "from spec_stats import Smooth, Highest_density_region\n",
    "from spec_id import *\n",
    "from spec_id_2d import Gen_multibeams, Gen_temp_dict, args\n",
    "from spec_stats import Highest_density_region, Linear_fit\n",
    "from spec_exam import Gen_spec\n",
    "import matplotlib.pyplot as plt\n",
    "from scipy.interpolate import interp1d, interp2d\n",
    "from glob import glob\n",
    "import seaborn as sea\n",
    "import os\n",
    "from grizli import multifit\n",
    "from grizli import model\n",
    "from sim_engine import forward_model_grism\n",
    "from astropy.wcs import wcs\n",
    "\n",
    "import rpy2\n",
    "import rpy2.robjects as robjects\n",
    "from rpy2.robjects.packages import importr\n",
    "from rpy2.robjects import pandas2ri\n",
    "R = robjects.r\n",
    "pandas2ri.activate()\n",
    "\n",
    "from time import time\n",
    "sea.set(style='white')\n",
    "sea.set(style='ticks')\n",
    "sea.set_style({'xtick.direct'\n",
    "               'ion': 'in','xtick.top':True,'xtick.minor.visible': True,\n",
    "               'ytick.direction': \"in\",'ytick.right': True,'ytick.minor.visible': True})\n",
    "cmap = sea.cubehelix_palette(12, start=2, rot=.2, dark=0, light=1.0, as_cmap=True)\n",
    "%config InlineBackend.figure_format = 'retina'\n",
    "%matplotlib inline\n",
    "\n",
    "### set home for files\n",
    "hpath = os.environ['HOME'] + '/'\n",
    "\n",
    "if hpath == '/Users/Vince.ec/':\n",
    "    dpath = '/Volumes/Vince_research/Data/' \n",
    "    \n",
    "else:\n",
    "    dpath = hpath + 'Data/' "
   ]
  },
  {
   "cell_type": "code",
   "execution_count": 5,
   "metadata": {},
   "outputs": [],
   "source": [
    "Bdb = pd.read_pickle('../dataframes/fitdb/buldgefitsdb.pkl')\n",
    "sfdb = pd.read_pickle('../Casey_data/SF_db_p1.pkl')\n",
    "mdb = pd.read_pickle('../dataframes/fitdb/fullfitdb.pkl')\n",
    "\n",
    "sfdb = sfdb.query('AGN != \"AGN\"')\n",
    "mdb = mdb.query('AGN != \"AGN\"')\n",
    "\n",
    "badfits = [13943, 21290, 29098, 32275, 35979,13429, 18224, 25505, 25550, 34999, 20788, 21615, 41886, 42915, 45795]\n",
    "\n",
    "inout = np.repeat(True, len(Bdb))\n",
    "\n",
    "idx =  0\n",
    "for i in Bdb.index:\n",
    "    if Bdb.id[i] in badfits:\n",
    "        inout[idx] = False\n",
    "    idx+=1\n",
    "    \n",
    "Bdb['inout'] = inout\n",
    "\n",
    "Bdb = Bdb.query('inout == True')\n",
    "\n",
    "Xdb = Bdb.query('AGN == \"AGN\" and lwa > 0 and log_ssfr > -20')\n",
    "Qdb = Bdb.query('log_ssfr < -11 and AGN != \"AGN\" and lwa > 0 and log_ssfr > -20')\n",
    "Sdb = Bdb.query('log_ssfr > -11 and AGN != \"AGN\" and lwa > 0 and log_ssfr > -20')\n",
    "QXdb = Xdb.query('log_ssfr < -11 and inout == True')\n",
    "SXdb = Xdb.query('log_ssfr > -11 and inout == True')"
   ]
  },
  {
   "cell_type": "code",
   "execution_count": 7,
   "metadata": {},
   "outputs": [
    {
     "data": {
      "text/plain": [
       "4      1.222988\n",
       "10     1.613136\n",
       "11     2.306281\n",
       "13     2.449117\n",
       "14     2.324508\n",
       "67          NaN\n",
       "82          NaN\n",
       "84     1.220616\n",
       "85     0.557419\n",
       "90     2.431394\n",
       "91     2.979857\n",
       "99     2.060118\n",
       "113    0.834618\n",
       "119    1.024086\n",
       "217         NaN\n",
       "Name: z_grizli, dtype: float64"
      ]
     },
     "execution_count": 7,
     "metadata": {},
     "output_type": "execute_result"
    }
   ],
   "source": [
    "SXdb.z_grizli"
   ]
  },
  {
   "cell_type": "code",
   "execution_count": 10,
   "metadata": {},
   "outputs": [
    {
     "name": "stderr",
     "output_type": "stream",
     "text": [
      "/Users/vestrada/miniconda3/envs/astroconda/lib/python3.5/site-packages/grizli-0.13.0_167_g5e9ee7c-py3.5-macosx-10.6-x86_64.egg/grizli/model.py:3510: RuntimeWarning: divide by zero encountered in true_divide\n",
      "  self.ivar = 1/self.grism.data['ERR']**2\n",
      "/Users/vestrada/miniconda3/envs/astroconda/lib/python3.5/site-packages/grizli-0.13.0_167_g5e9ee7c-py3.5-macosx-10.6-x86_64.egg/grizli/model.py:3553: RuntimeWarning: invalid value encountered in sqrt\n",
      "  resid = np.abs(self.scif - self.flat_flam)*np.sqrt(self.ivarf)\n",
      "/Users/vestrada/miniconda3/envs/astroconda/lib/python3.5/site-packages/grizli-0.13.0_167_g5e9ee7c-py3.5-macosx-10.6-x86_64.egg/grizli/model.py:3558: RuntimeWarning: invalid value encountered in sqrt\n",
      "  contam_mask = ((self.contam*np.sqrt(self.ivar) > contam_sn_mask[0]) &\n",
      "/Users/vestrada/miniconda3/envs/astroconda/lib/python3.5/site-packages/grizli-0.13.0_167_g5e9ee7c-py3.5-macosx-10.6-x86_64.egg/grizli/model.py:3559: RuntimeWarning: invalid value encountered in sqrt\n",
      "  (self.model*np.sqrt(self.ivar) < contam_sn_mask[1]))\n"
     ]
    },
    {
     "name": "stdout",
     "output_type": "stream",
     "text": [
      "1 icoi1eqkq_flt.fits G102\n",
      "2 icoi1eqmq_flt.fits G102\n",
      "3 icoi1eqoq_flt.fits G102\n",
      "4 icoi1eqsq_flt.fits G102\n",
      "5 icoi1eqyq_flt.fits G102\n",
      "6 icoi1er1q_flt.fits G102\n",
      "7 icoi1er3q_flt.fits G102\n",
      "8 icoi1er7q_flt.fits G102\n",
      "9 icoi1fzrq_flt.fits G102\n",
      "10 icoi1fztq_flt.fits G102\n",
      "11 icoi1fzvq_flt.fits G102\n",
      "12 icoi1fzzq_flt.fits G102\n",
      "13 icoi1fa6q_flt.fits G102\n",
      "14 icoi1fa9q_flt.fits G102\n",
      "15 icoi1fabq_flt.fits G102\n",
      "16 icoi1fafq_flt.fits G102\n",
      "17 icoi1gxjq_flt.fits G102\n",
      "18 icoi1gxlq_flt.fits G102\n",
      "19 icoi1gxoq_flt.fits G102\n",
      "20 icoi1gxsq_flt.fits G102\n",
      "21 icoi1gxyq_flt.fits G102\n",
      "22 icoi1gy1q_flt.fits G102\n",
      "23 icoi1gy3q_flt.fits G102\n",
      "24 icoi1gy7q_flt.fits G102\n",
      "25 icoi1hydq_flt.fits G102\n",
      "26 icoi1hyfq_flt.fits G102\n",
      "27 icoi1hyhq_flt.fits G102\n",
      "28 icoi1hylq_flt.fits G102\n",
      "29 icoi1hyrq_flt.fits G102\n",
      "30 icoi1hyuq_flt.fits G102\n",
      "31 icoi1hywq_flt.fits G102\n",
      "32 icoi1hz0q_flt.fits G102\n",
      "33 icoi1qduq_flt.fits G102\n",
      "34 icoi1qdwq_flt.fits G102\n",
      "35 icoi1qedq_flt.fits G102\n",
      "36 icoi1qehq_flt.fits G102\n",
      "37 icoi1rn3q_flt.fits G102\n",
      "38 icoi1rn5q_flt.fits G102\n",
      "39 icoi1rnmq_flt.fits G102\n",
      "40 icoi1rnqq_flt.fits G102\n",
      "41 icoi1sstq_flt.fits G102\n",
      "42 icoi1ssvq_flt.fits G102\n",
      "43 icoi1stcq_flt.fits G102\n",
      "44 icoi1stgq_flt.fits G102\n",
      "45 icoi1tkuq_flt.fits G102\n",
      "46 icoi1tkwq_flt.fits G102\n",
      "47 icoi1tlkq_flt.fits G102\n",
      "48 icoi1tloq_flt.fits G102\n",
      "49 icoi1ag2q_flt.fits G102\n",
      "50 icoi1ag4q_flt.fits G102\n",
      "51 icoi1ag6q_flt.fits G102\n",
      "52 icoi1agaq_flt.fits G102\n",
      "53 icoi1aggq_flt.fits G102\n",
      "54 icoi1agjq_flt.fits G102\n",
      "55 icoi1aglq_flt.fits G102\n",
      "56 icoi1agpq_flt.fits G102\n",
      "57 icoi1bn0q_flt.fits G102\n",
      "58 icoi1bn2q_flt.fits G102\n",
      "59 icoi1bnbq_flt.fits G102\n",
      "60 icoi1bnfq_flt.fits G102\n",
      "61 icoi1bnlq_flt.fits G102\n",
      "62 icoi1bnoq_flt.fits G102\n",
      "63 icoi1bnqq_flt.fits G102\n",
      "64 icoi1bnuq_flt.fits G102\n",
      "65 icoi1co0q_flt.fits G102\n",
      "66 icoi1co2q_flt.fits G102\n",
      "67 icoi1co4q_flt.fits G102\n",
      "68 icoi1co8q_flt.fits G102\n",
      "69 icoi1coeq_flt.fits G102\n",
      "70 icoi1cohq_flt.fits G102\n",
      "71 icoi1cojq_flt.fits G102\n",
      "72 icoi1conq_flt.fits G102\n",
      "73 icoi1dqaq_flt.fits G102\n",
      "74 icoi1dqcq_flt.fits G102\n",
      "75 icoi1dqeq_flt.fits G102\n",
      "76 icoi1dqiq_flt.fits G102\n",
      "77 icoi1dqoq_flt.fits G102\n",
      "78 icoi1dqrq_flt.fits G102\n",
      "79 icoi1dqtq_flt.fits G102\n",
      "80 icoi1dqxq_flt.fits G102\n"
     ]
    },
    {
     "name": "stderr",
     "output_type": "stream",
     "text": [
      "/Users/vestrada/miniconda3/envs/astroconda/lib/python3.5/site-packages/grizli-0.13.0_167_g5e9ee7c-py3.5-macosx-10.6-x86_64.egg/grizli/multifit.py:1433: RuntimeWarning: divide by zero encountered in true_divide\n",
      "  beam.ivarf = 1./(1/beam.ivarf + (sys_err*beam.scif)**2)\n",
      "/Users/vestrada/miniconda3/envs/astroconda/lib/python3.5/site-packages/grizli-0.13.0_167_g5e9ee7c-py3.5-macosx-10.6-x86_64.egg/grizli/multifit.py:1573: RuntimeWarning: invalid value encountered in sqrt\n",
      "  self.sivarf = np.sqrt(self.ivarf)\n",
      "/Users/vestrada/miniconda3/envs/astroconda/lib/python3.5/site-packages/grizli-0.13.0_167_g5e9ee7c-py3.5-macosx-10.6-x86_64.egg/grizli/multifit.py:1578: RuntimeWarning: invalid value encountered in sqrt\n",
      "  self.weightf = np.exp(-(self.fcontam*np.abs(self.contamf)*np.sqrt(self.ivarf)))\n",
      "/Users/vestrada/miniconda3/envs/astroconda/lib/python3.5/site-packages/grizli-0.13.0_167_g5e9ee7c-py3.5-macosx-10.6-x86_64.egg/grizli/model.py:557: RuntimeWarning: divide by zero encountered in true_divide\n",
      "  self.optimal_profile = m/m.sum(axis=0)\n",
      "/Users/vestrada/miniconda3/envs/astroconda/lib/python3.5/site-packages/grizli-0.13.0_167_g5e9ee7c-py3.5-macosx-10.6-x86_64.egg/grizli/model.py:557: RuntimeWarning: invalid value encountered in true_divide\n",
      "  self.optimal_profile = m/m.sum(axis=0)\n"
     ]
    },
    {
     "name": "stdout",
     "output_type": "stream",
     "text": [
      "missing g141\n"
     ]
    },
    {
     "name": "stderr",
     "output_type": "stream",
     "text": [
      "/Users/vestrada/miniconda3/envs/astroconda/lib/python3.5/site-packages/grizli-0.13.0_167_g5e9ee7c-py3.5-macosx-10.6-x86_64.egg/grizli/model.py:3553: RuntimeWarning: invalid value encountered in sqrt\n",
      "  resid = np.abs(self.scif - self.flat_flam)*np.sqrt(self.ivarf)\n",
      "/Users/vestrada/miniconda3/envs/astroconda/lib/python3.5/site-packages/grizli-0.13.0_167_g5e9ee7c-py3.5-macosx-10.6-x86_64.egg/grizli/model.py:3558: RuntimeWarning: invalid value encountered in sqrt\n",
      "  contam_mask = ((self.contam*np.sqrt(self.ivar) > contam_sn_mask[0]) &\n",
      "/Users/vestrada/miniconda3/envs/astroconda/lib/python3.5/site-packages/grizli-0.13.0_167_g5e9ee7c-py3.5-macosx-10.6-x86_64.egg/grizli/model.py:3559: RuntimeWarning: invalid value encountered in sqrt\n",
      "  (self.model*np.sqrt(self.ivar) < contam_sn_mask[1]))\n"
     ]
    },
    {
     "name": "stdout",
     "output_type": "stream",
     "text": [
      "1 ibhj30bzq_flt.fits G141\n",
      "2 ibhj30c6q_flt.fits G141\n",
      "3 ibhj30cdq_flt.fits G141\n",
      "4 ibhj30ckq_flt.fits G141\n",
      "5 icxt15emq_flt.fits G102\n"
     ]
    },
    {
     "name": "stderr",
     "output_type": "stream",
     "text": [
      "/Users/vestrada/miniconda3/envs/astroconda/lib/python3.5/site-packages/grizli-0.13.0_167_g5e9ee7c-py3.5-macosx-10.6-x86_64.egg/grizli/model.py:3510: RuntimeWarning: divide by zero encountered in true_divide\n",
      "  self.ivar = 1/self.grism.data['ERR']**2\n"
     ]
    },
    {
     "name": "stdout",
     "output_type": "stream",
     "text": [
      "6 icxt15enq_flt.fits G102\n",
      "7 icxt15esq_flt.fits G102\n",
      "8 icxt15ewq_flt.fits G102\n",
      "9 icxt16jzq_flt.fits G102\n",
      "10 icxt16k0q_flt.fits G102\n",
      "11 icxt16k3q_flt.fits G102\n",
      "12 icxt16k5q_flt.fits G102\n",
      "13 icxt13gfq_flt.fits G102\n",
      "14 icxt13ghq_flt.fits G102\n",
      "15 icxt13gkq_flt.fits G102\n",
      "16 icxt13gmq_flt.fits G102\n",
      "17 icxt14roq_flt.fits G102\n",
      "18 icxt14rqq_flt.fits G102\n",
      "19 icxt14rtq_flt.fits G102\n",
      "20 icxt14rvq_flt.fits G102\n",
      "21 icxt17aiq_flt.fits G102\n",
      "22 icxt17akq_flt.fits G102\n",
      "23 icxt17anq_flt.fits G102\n",
      "24 icxt17apq_flt.fits G102\n",
      "25 icxt18ykq_flt.fits G102\n",
      "26 icxt18ynq_flt.fits G102\n",
      "27 icxt18zgq_flt.fits G102\n",
      "28 icxt18zjq_flt.fits G102\n"
     ]
    },
    {
     "name": "stderr",
     "output_type": "stream",
     "text": [
      "/Users/vestrada/miniconda3/envs/astroconda/lib/python3.5/site-packages/grizli-0.13.0_167_g5e9ee7c-py3.5-macosx-10.6-x86_64.egg/grizli/multifit.py:1433: RuntimeWarning: divide by zero encountered in true_divide\n",
      "  beam.ivarf = 1./(1/beam.ivarf + (sys_err*beam.scif)**2)\n",
      "/Users/vestrada/miniconda3/envs/astroconda/lib/python3.5/site-packages/grizli-0.13.0_167_g5e9ee7c-py3.5-macosx-10.6-x86_64.egg/grizli/multifit.py:1573: RuntimeWarning: invalid value encountered in sqrt\n",
      "  self.sivarf = np.sqrt(self.ivarf)\n",
      "/Users/vestrada/miniconda3/envs/astroconda/lib/python3.5/site-packages/grizli-0.13.0_167_g5e9ee7c-py3.5-macosx-10.6-x86_64.egg/grizli/multifit.py:1578: RuntimeWarning: invalid value encountered in sqrt\n",
      "  self.weightf = np.exp(-(self.fcontam*np.abs(self.contamf)*np.sqrt(self.ivarf)))\n",
      "/Users/vestrada/miniconda3/envs/astroconda/lib/python3.5/site-packages/grizli-0.13.0_167_g5e9ee7c-py3.5-macosx-10.6-x86_64.egg/grizli/model.py:557: RuntimeWarning: divide by zero encountered in true_divide\n",
      "  self.optimal_profile = m/m.sum(axis=0)\n",
      "/Users/vestrada/miniconda3/envs/astroconda/lib/python3.5/site-packages/grizli-0.13.0_167_g5e9ee7c-py3.5-macosx-10.6-x86_64.egg/grizli/model.py:557: RuntimeWarning: invalid value encountered in true_divide\n",
      "  self.optimal_profile = m/m.sum(axis=0)\n"
     ]
    },
    {
     "name": "stdout",
     "output_type": "stream",
     "text": [
      "1 ibhj30bzq_flt.fits G141\n",
      "2 ibhj30c6q_flt.fits G141\n",
      "3 ibhj30cdq_flt.fits G141\n",
      "4 ibhj30ckq_flt.fits G141\n",
      "5 icxt15emq_flt.fits G102\n",
      "6 icxt15enq_flt.fits G102\n",
      "7 icxt15esq_flt.fits G102\n",
      "8 icxt15ewq_flt.fits G102\n",
      "9 icxt16jzq_flt.fits G102\n",
      "10 icxt16k0q_flt.fits G102\n",
      "11 icxt16k3q_flt.fits G102\n",
      "12 icxt16k5q_flt.fits G102\n",
      "13 icxt13gfq_flt.fits G102\n",
      "14 icxt13ghq_flt.fits G102\n",
      "15 icxt13gkq_flt.fits G102\n",
      "16 icxt13gmq_flt.fits G102\n",
      "17 icxt14roq_flt.fits G102\n",
      "18 icxt14rqq_flt.fits G102\n",
      "19 icxt14rtq_flt.fits G102\n",
      "20 icxt14rvq_flt.fits G102\n",
      "21 icxt17aiq_flt.fits G102\n",
      "22 icxt17akq_flt.fits G102\n",
      "23 icxt17anq_flt.fits G102\n",
      "24 icxt17apq_flt.fits G102\n",
      "25 icxt18ykq_flt.fits G102\n",
      "26 icxt18ynq_flt.fits G102\n",
      "27 icxt18zgq_flt.fits G102\n",
      "28 icxt18zjq_flt.fits G102\n"
     ]
    },
    {
     "name": "stderr",
     "output_type": "stream",
     "text": [
      "/Users/vestrada/miniconda3/envs/astroconda/lib/python3.5/site-packages/grizli-0.13.0_167_g5e9ee7c-py3.5-macosx-10.6-x86_64.egg/grizli/model.py:3510: RuntimeWarning: divide by zero encountered in true_divide\n",
      "  self.ivar = 1/self.grism.data['ERR']**2\n",
      "/Users/vestrada/miniconda3/envs/astroconda/lib/python3.5/site-packages/grizli-0.13.0_167_g5e9ee7c-py3.5-macosx-10.6-x86_64.egg/grizli/model.py:3553: RuntimeWarning: invalid value encountered in sqrt\n",
      "  resid = np.abs(self.scif - self.flat_flam)*np.sqrt(self.ivarf)\n",
      "/Users/vestrada/miniconda3/envs/astroconda/lib/python3.5/site-packages/grizli-0.13.0_167_g5e9ee7c-py3.5-macosx-10.6-x86_64.egg/grizli/model.py:3558: RuntimeWarning: invalid value encountered in sqrt\n",
      "  contam_mask = ((self.contam*np.sqrt(self.ivar) > contam_sn_mask[0]) &\n",
      "/Users/vestrada/miniconda3/envs/astroconda/lib/python3.5/site-packages/grizli-0.13.0_167_g5e9ee7c-py3.5-macosx-10.6-x86_64.egg/grizli/model.py:3559: RuntimeWarning: invalid value encountered in sqrt\n",
      "  (self.model*np.sqrt(self.ivar) < contam_sn_mask[1]))\n"
     ]
    },
    {
     "name": "stdout",
     "output_type": "stream",
     "text": [
      "1 ibhj35vuq_flt.fits G141\n",
      "2 ibhj35w1q_flt.fits G141\n",
      "3 ibhj35w8q_flt.fits G141\n",
      "4 ibhj35wfq_flt.fits G141\n"
     ]
    },
    {
     "name": "stderr",
     "output_type": "stream",
     "text": [
      "/Users/vestrada/miniconda3/envs/astroconda/lib/python3.5/site-packages/grizli-0.13.0_167_g5e9ee7c-py3.5-macosx-10.6-x86_64.egg/grizli/multifit.py:1433: RuntimeWarning: divide by zero encountered in true_divide\n",
      "  beam.ivarf = 1./(1/beam.ivarf + (sys_err*beam.scif)**2)\n",
      "/Users/vestrada/miniconda3/envs/astroconda/lib/python3.5/site-packages/grizli-0.13.0_167_g5e9ee7c-py3.5-macosx-10.6-x86_64.egg/grizli/multifit.py:1573: RuntimeWarning: invalid value encountered in sqrt\n",
      "  self.sivarf = np.sqrt(self.ivarf)\n",
      "/Users/vestrada/miniconda3/envs/astroconda/lib/python3.5/site-packages/grizli-0.13.0_167_g5e9ee7c-py3.5-macosx-10.6-x86_64.egg/grizli/multifit.py:1578: RuntimeWarning: invalid value encountered in sqrt\n",
      "  self.weightf = np.exp(-(self.fcontam*np.abs(self.contamf)*np.sqrt(self.ivarf)))\n"
     ]
    },
    {
     "name": "stdout",
     "output_type": "stream",
     "text": [
      "1 ibhj30bzq_flt.fits G141\n",
      "2 ibhj30c6q_flt.fits G141\n",
      "3 ibhj30cdq_flt.fits G141\n",
      "4 ibhj30ckq_flt.fits G141\n",
      "5 ibhj35vuq_flt.fits G141\n",
      "6 ibhj35w1q_flt.fits G141\n",
      "7 ibhj35w8q_flt.fits G141\n",
      "8 ibhj35wfq_flt.fits G141\n",
      "9 icxt15emq_flt.fits G102\n",
      "10 icxt15enq_flt.fits G102\n",
      "11 icxt15esq_flt.fits G102\n",
      "12 icxt15ewq_flt.fits G102\n",
      "13 icxt16jzq_flt.fits G102\n",
      "14 icxt16k0q_flt.fits G102\n",
      "15 icxt16k3q_flt.fits G102\n",
      "16 icxt16k5q_flt.fits G102\n",
      "17 icxt13gfq_flt.fits G102\n",
      "18 icxt13ghq_flt.fits G102\n",
      "19 icxt13gkq_flt.fits G102\n",
      "20 icxt13gmq_flt.fits G102\n",
      "21 icxt14roq_flt.fits G102\n",
      "22 icxt14rqq_flt.fits G102\n",
      "23 icxt14rtq_flt.fits G102\n",
      "24 icxt14rvq_flt.fits G102\n",
      "25 icxt17aiq_flt.fits G102\n",
      "26 icxt17akq_flt.fits G102\n",
      "27 icxt17anq_flt.fits G102\n",
      "28 icxt17apq_flt.fits G102\n",
      "29 icxt18ykq_flt.fits G102\n",
      "30 icxt18ynq_flt.fits G102\n",
      "31 icxt18zgq_flt.fits G102\n",
      "32 icxt18zjq_flt.fits G102\n"
     ]
    },
    {
     "name": "stderr",
     "output_type": "stream",
     "text": [
      "/Users/vestrada/miniconda3/envs/astroconda/lib/python3.5/site-packages/grizli-0.13.0_167_g5e9ee7c-py3.5-macosx-10.6-x86_64.egg/grizli/model.py:557: RuntimeWarning: divide by zero encountered in true_divide\n",
      "  self.optimal_profile = m/m.sum(axis=0)\n",
      "/Users/vestrada/miniconda3/envs/astroconda/lib/python3.5/site-packages/grizli-0.13.0_167_g5e9ee7c-py3.5-macosx-10.6-x86_64.egg/grizli/model.py:557: RuntimeWarning: invalid value encountered in true_divide\n",
      "  self.optimal_profile = m/m.sum(axis=0)\n"
     ]
    },
    {
     "name": "stdout",
     "output_type": "stream",
     "text": [
      "1 ibhj35vuq_flt.fits G141\n",
      "2 ibhj35w1q_flt.fits G141\n",
      "3 ibhj35w8q_flt.fits G141\n",
      "4 ibhj35wfq_flt.fits G141\n",
      "1 ibhj30bzq_flt.fits G141\n",
      "2 ibhj30c6q_flt.fits G141\n",
      "3 ibhj30cdq_flt.fits G141\n",
      "4 ibhj30ckq_flt.fits G141\n",
      "5 ibhj35vuq_flt.fits G141\n",
      "6 ibhj35w1q_flt.fits G141\n",
      "7 ibhj35w8q_flt.fits G141\n",
      "8 ibhj35wfq_flt.fits G141\n",
      "9 icxt15emq_flt.fits G102\n",
      "10 icxt15enq_flt.fits G102\n",
      "11 icxt15esq_flt.fits G102\n",
      "12 icxt15ewq_flt.fits G102\n",
      "13 icxt16jzq_flt.fits G102\n",
      "14 icxt16k0q_flt.fits G102\n",
      "15 icxt16k3q_flt.fits G102\n",
      "16 icxt16k5q_flt.fits G102\n",
      "17 icxt13gfq_flt.fits G102\n",
      "18 icxt13ghq_flt.fits G102\n",
      "19 icxt13gkq_flt.fits G102\n",
      "20 icxt13gmq_flt.fits G102\n",
      "21 icxt14roq_flt.fits G102\n",
      "22 icxt14rqq_flt.fits G102\n",
      "23 icxt14rtq_flt.fits G102\n",
      "24 icxt14rvq_flt.fits G102\n",
      "25 icxt17aiq_flt.fits G102\n",
      "26 icxt17akq_flt.fits G102\n",
      "27 icxt17anq_flt.fits G102\n",
      "28 icxt17apq_flt.fits G102\n",
      "29 icxt18ykq_flt.fits G102\n",
      "30 icxt18ynq_flt.fits G102\n",
      "31 icxt18zgq_flt.fits G102\n",
      "32 icxt18zjq_flt.fits G102\n"
     ]
    },
    {
     "name": "stderr",
     "output_type": "stream",
     "text": [
      "/Users/vestrada/miniconda3/envs/astroconda/lib/python3.5/site-packages/grizli-0.13.0_167_g5e9ee7c-py3.5-macosx-10.6-x86_64.egg/grizli/model.py:3553: RuntimeWarning: invalid value encountered in sqrt\n",
      "  resid = np.abs(self.scif - self.flat_flam)*np.sqrt(self.ivarf)\n",
      "/Users/vestrada/miniconda3/envs/astroconda/lib/python3.5/site-packages/grizli-0.13.0_167_g5e9ee7c-py3.5-macosx-10.6-x86_64.egg/grizli/model.py:3558: RuntimeWarning: invalid value encountered in sqrt\n",
      "  contam_mask = ((self.contam*np.sqrt(self.ivar) > contam_sn_mask[0]) &\n",
      "/Users/vestrada/miniconda3/envs/astroconda/lib/python3.5/site-packages/grizli-0.13.0_167_g5e9ee7c-py3.5-macosx-10.6-x86_64.egg/grizli/model.py:3559: RuntimeWarning: invalid value encountered in sqrt\n",
      "  (self.model*np.sqrt(self.ivar) < contam_sn_mask[1]))\n"
     ]
    },
    {
     "name": "stdout",
     "output_type": "stream",
     "text": [
      "1 ibhj11hiq_flt.fits G141\n",
      "2 ibhj11hpq_flt.fits G141\n",
      "3 ibhj11hwq_flt.fits G141\n",
      "4 ibhj11i3q_flt.fits G141\n",
      "5 ibhj03xoq_flt.fits G141\n",
      "6 ibhj03xvq_flt.fits G141\n",
      "7 ibhj03y2q_flt.fits G141\n",
      "8 ibhj03y9q_flt.fits G141\n",
      "9 icxt03jjq_flt.fits G102\n",
      "10 icxt03jkq_flt.fits G102\n",
      "11 icxt03jnq_flt.fits G102\n",
      "12 icxt03jpq_flt.fits G102\n",
      "13 icxt04e3q_flt.fits G102\n",
      "14 icxt04e4q_flt.fits G102\n",
      "15 icxt04edq_flt.fits G102\n",
      "16 icxt04efq_flt.fits G102\n",
      "17 icxt01cgq_flt.fits G102\n",
      "18 icxt01ciq_flt.fits G102\n",
      "19 icxt01clq_flt.fits G102\n",
      "20 icxt01cnq_flt.fits G102\n",
      "21 icxt02c7q_flt.fits G102\n",
      "22 icxt02caq_flt.fits G102\n",
      "23 icxt02cdq_flt.fits G102\n",
      "24 icxt02cfq_flt.fits G102\n",
      "25 icxt05h7q_flt.fits G102\n",
      "26 icxt05h9q_flt.fits G102\n",
      "27 icxt05hcq_flt.fits G102\n",
      "28 icxt05heq_flt.fits G102\n",
      "29 icxt06laq_flt.fits G102\n",
      "30 icxt06lcq_flt.fits G102\n",
      "31 icxt06lfq_flt.fits G102\n",
      "32 icxt06lhq_flt.fits G102\n"
     ]
    },
    {
     "name": "stderr",
     "output_type": "stream",
     "text": [
      "/Users/vestrada/miniconda3/envs/astroconda/lib/python3.5/site-packages/grizli-0.13.0_167_g5e9ee7c-py3.5-macosx-10.6-x86_64.egg/grizli/multifit.py:1433: RuntimeWarning: divide by zero encountered in true_divide\n",
      "  beam.ivarf = 1./(1/beam.ivarf + (sys_err*beam.scif)**2)\n",
      "/Users/vestrada/miniconda3/envs/astroconda/lib/python3.5/site-packages/grizli-0.13.0_167_g5e9ee7c-py3.5-macosx-10.6-x86_64.egg/grizli/multifit.py:1573: RuntimeWarning: invalid value encountered in sqrt\n",
      "  self.sivarf = np.sqrt(self.ivarf)\n",
      "/Users/vestrada/miniconda3/envs/astroconda/lib/python3.5/site-packages/grizli-0.13.0_167_g5e9ee7c-py3.5-macosx-10.6-x86_64.egg/grizli/multifit.py:1578: RuntimeWarning: invalid value encountered in sqrt\n",
      "  self.weightf = np.exp(-(self.fcontam*np.abs(self.contamf)*np.sqrt(self.ivarf)))\n"
     ]
    },
    {
     "name": "stdout",
     "output_type": "stream",
     "text": [
      "1 ibhj11hiq_flt.fits G141\n",
      "2 ibhj11hpq_flt.fits G141\n",
      "3 ibhj11hwq_flt.fits G141\n",
      "4 ibhj11i3q_flt.fits G141\n"
     ]
    },
    {
     "name": "stderr",
     "output_type": "stream",
     "text": [
      "/Users/vestrada/miniconda3/envs/astroconda/lib/python3.5/site-packages/grizli-0.13.0_167_g5e9ee7c-py3.5-macosx-10.6-x86_64.egg/grizli/model.py:557: RuntimeWarning: divide by zero encountered in true_divide\n",
      "  self.optimal_profile = m/m.sum(axis=0)\n",
      "/Users/vestrada/miniconda3/envs/astroconda/lib/python3.5/site-packages/grizli-0.13.0_167_g5e9ee7c-py3.5-macosx-10.6-x86_64.egg/grizli/model.py:557: RuntimeWarning: invalid value encountered in true_divide\n",
      "  self.optimal_profile = m/m.sum(axis=0)\n"
     ]
    },
    {
     "name": "stdout",
     "output_type": "stream",
     "text": [
      "1 ibhj11hiq_flt.fits G141\n",
      "2 ibhj11hpq_flt.fits G141\n",
      "3 ibhj11hwq_flt.fits G141\n",
      "4 ibhj11i3q_flt.fits G141\n",
      "5 ibhj03xoq_flt.fits G141\n",
      "6 ibhj03xvq_flt.fits G141\n",
      "7 ibhj03y2q_flt.fits G141\n",
      "8 ibhj03y9q_flt.fits G141\n",
      "9 icxt03jjq_flt.fits G102\n",
      "10 icxt03jkq_flt.fits G102\n",
      "11 icxt03jnq_flt.fits G102\n",
      "12 icxt03jpq_flt.fits G102\n",
      "13 icxt04e3q_flt.fits G102\n",
      "14 icxt04e4q_flt.fits G102\n",
      "15 icxt04edq_flt.fits G102\n",
      "16 icxt04efq_flt.fits G102\n",
      "17 icxt01cgq_flt.fits G102\n",
      "18 icxt01ciq_flt.fits G102\n",
      "19 icxt01clq_flt.fits G102\n",
      "20 icxt01cnq_flt.fits G102\n",
      "21 icxt02c7q_flt.fits G102\n",
      "22 icxt02caq_flt.fits G102\n",
      "23 icxt02cdq_flt.fits G102\n",
      "24 icxt02cfq_flt.fits G102\n",
      "25 icxt05h7q_flt.fits G102\n",
      "26 icxt05h9q_flt.fits G102\n",
      "27 icxt05hcq_flt.fits G102\n",
      "28 icxt05heq_flt.fits G102\n",
      "29 icxt06laq_flt.fits G102\n",
      "30 icxt06lcq_flt.fits G102\n",
      "31 icxt06lfq_flt.fits G102\n",
      "32 icxt06lhq_flt.fits G102\n",
      "1 ibhj11hiq_flt.fits G141\n",
      "2 ibhj11hpq_flt.fits G141\n",
      "3 ibhj11hwq_flt.fits G141\n",
      "4 ibhj11i3q_flt.fits G141\n"
     ]
    },
    {
     "name": "stderr",
     "output_type": "stream",
     "text": [
      "/Users/vestrada/miniconda3/envs/astroconda/lib/python3.5/site-packages/grizli-0.13.0_167_g5e9ee7c-py3.5-macosx-10.6-x86_64.egg/grizli/model.py:3510: RuntimeWarning: divide by zero encountered in true_divide\n",
      "  self.ivar = 1/self.grism.data['ERR']**2\n",
      "/Users/vestrada/miniconda3/envs/astroconda/lib/python3.5/site-packages/grizli-0.13.0_167_g5e9ee7c-py3.5-macosx-10.6-x86_64.egg/grizli/model.py:3553: RuntimeWarning: invalid value encountered in sqrt\n",
      "  resid = np.abs(self.scif - self.flat_flam)*np.sqrt(self.ivarf)\n",
      "/Users/vestrada/miniconda3/envs/astroconda/lib/python3.5/site-packages/grizli-0.13.0_167_g5e9ee7c-py3.5-macosx-10.6-x86_64.egg/grizli/model.py:3558: RuntimeWarning: invalid value encountered in sqrt\n",
      "  contam_mask = ((self.contam*np.sqrt(self.ivar) > contam_sn_mask[0]) &\n",
      "/Users/vestrada/miniconda3/envs/astroconda/lib/python3.5/site-packages/grizli-0.13.0_167_g5e9ee7c-py3.5-macosx-10.6-x86_64.egg/grizli/model.py:3559: RuntimeWarning: invalid value encountered in sqrt\n",
      "  (self.model*np.sqrt(self.ivar) < contam_sn_mask[1]))\n"
     ]
    },
    {
     "name": "stdout",
     "output_type": "stream",
     "text": [
      "1 icxt20f7q_flt.fits G102\n",
      "2 icxt20f8q_flt.fits G102\n",
      "3 icxt20fbq_flt.fits G102\n",
      "4 icxt20fdq_flt.fits G102\n",
      "5 icxt21b7q_flt.fits G102\n",
      "6 icxt21b8q_flt.fits G102\n",
      "7 icxt21bcq_flt.fits G102\n",
      "8 icxt21beq_flt.fits G102\n",
      "9 icxt19o6q_flt.fits G102\n",
      "10 icxt19o7q_flt.fits G102\n",
      "11 icxt19oaq_flt.fits G102\n",
      "12 icxt19ocq_flt.fits G102\n",
      "13 icxt22pmq_flt.fits G102\n",
      "14 icxt22pnq_flt.fits G102\n",
      "15 icxt22pqq_flt.fits G102\n",
      "16 icxt22psq_flt.fits G102\n",
      "17 icxt23pvq_flt.fits G102\n",
      "18 icxt23pwq_flt.fits G102\n",
      "19 icxt23pzq_flt.fits G102\n",
      "20 icxt23q1q_flt.fits G102\n",
      "21 ib6o23rsq_flt.fits G141\n",
      "22 ib6o23ruq_flt.fits G141\n",
      "23 ib6o23ryq_flt.fits G141\n",
      "24 ib6o23s0q_flt.fits G141\n"
     ]
    },
    {
     "name": "stderr",
     "output_type": "stream",
     "text": [
      "/Users/vestrada/miniconda3/envs/astroconda/lib/python3.5/site-packages/grizli-0.13.0_167_g5e9ee7c-py3.5-macosx-10.6-x86_64.egg/grizli/multifit.py:1433: RuntimeWarning: divide by zero encountered in true_divide\n",
      "  beam.ivarf = 1./(1/beam.ivarf + (sys_err*beam.scif)**2)\n",
      "/Users/vestrada/miniconda3/envs/astroconda/lib/python3.5/site-packages/grizli-0.13.0_167_g5e9ee7c-py3.5-macosx-10.6-x86_64.egg/grizli/multifit.py:1573: RuntimeWarning: invalid value encountered in sqrt\n",
      "  self.sivarf = np.sqrt(self.ivarf)\n",
      "/Users/vestrada/miniconda3/envs/astroconda/lib/python3.5/site-packages/grizli-0.13.0_167_g5e9ee7c-py3.5-macosx-10.6-x86_64.egg/grizli/multifit.py:1578: RuntimeWarning: invalid value encountered in sqrt\n",
      "  self.weightf = np.exp(-(self.fcontam*np.abs(self.contamf)*np.sqrt(self.ivarf)))\n",
      "/Users/vestrada/miniconda3/envs/astroconda/lib/python3.5/site-packages/grizli-0.13.0_167_g5e9ee7c-py3.5-macosx-10.6-x86_64.egg/grizli/model.py:557: RuntimeWarning: divide by zero encountered in true_divide\n",
      "  self.optimal_profile = m/m.sum(axis=0)\n",
      "/Users/vestrada/miniconda3/envs/astroconda/lib/python3.5/site-packages/grizli-0.13.0_167_g5e9ee7c-py3.5-macosx-10.6-x86_64.egg/grizli/model.py:557: RuntimeWarning: invalid value encountered in true_divide\n",
      "  self.optimal_profile = m/m.sum(axis=0)\n"
     ]
    },
    {
     "name": "stdout",
     "output_type": "stream",
     "text": [
      "1 icxt20f7q_flt.fits G102\n",
      "2 icxt20f8q_flt.fits G102\n",
      "3 icxt20fbq_flt.fits G102\n",
      "4 icxt20fdq_flt.fits G102\n",
      "5 icxt21b7q_flt.fits G102\n",
      "6 icxt21b8q_flt.fits G102\n",
      "7 icxt21bcq_flt.fits G102\n",
      "8 icxt21beq_flt.fits G102\n",
      "9 icxt19o6q_flt.fits G102\n",
      "10 icxt19o7q_flt.fits G102\n",
      "11 icxt19oaq_flt.fits G102\n",
      "12 icxt19ocq_flt.fits G102\n",
      "13 icxt22pmq_flt.fits G102\n",
      "14 icxt22pnq_flt.fits G102\n",
      "15 icxt22pqq_flt.fits G102\n",
      "16 icxt22psq_flt.fits G102\n",
      "17 icxt23pvq_flt.fits G102\n",
      "18 icxt23pwq_flt.fits G102\n",
      "19 icxt23pzq_flt.fits G102\n",
      "20 icxt23q1q_flt.fits G102\n",
      "21 ib6o23rsq_flt.fits G141\n",
      "22 ib6o23ruq_flt.fits G141\n",
      "23 ib6o23ryq_flt.fits G141\n",
      "24 ib6o23s0q_flt.fits G141\n"
     ]
    },
    {
     "name": "stderr",
     "output_type": "stream",
     "text": [
      "/Users/vestrada/miniconda3/envs/astroconda/lib/python3.5/site-packages/grizli-0.13.0_167_g5e9ee7c-py3.5-macosx-10.6-x86_64.egg/grizli/model.py:3553: RuntimeWarning: invalid value encountered in sqrt\n",
      "  resid = np.abs(self.scif - self.flat_flam)*np.sqrt(self.ivarf)\n",
      "/Users/vestrada/miniconda3/envs/astroconda/lib/python3.5/site-packages/grizli-0.13.0_167_g5e9ee7c-py3.5-macosx-10.6-x86_64.egg/grizli/model.py:3558: RuntimeWarning: invalid value encountered in sqrt\n",
      "  contam_mask = ((self.contam*np.sqrt(self.ivar) > contam_sn_mask[0]) &\n",
      "/Users/vestrada/miniconda3/envs/astroconda/lib/python3.5/site-packages/grizli-0.13.0_167_g5e9ee7c-py3.5-macosx-10.6-x86_64.egg/grizli/model.py:3559: RuntimeWarning: invalid value encountered in sqrt\n",
      "  (self.model*np.sqrt(self.ivar) < contam_sn_mask[1]))\n"
     ]
    },
    {
     "name": "stdout",
     "output_type": "stream",
     "text": [
      "1 ibhj11hiq_flt.fits G141\n",
      "2 ibhj11hpq_flt.fits G141\n",
      "3 ibhj11hwq_flt.fits G141\n",
      "4 ibhj11i3q_flt.fits G141\n",
      "5 icxt03jjq_flt.fits G102\n"
     ]
    },
    {
     "name": "stderr",
     "output_type": "stream",
     "text": [
      "/Users/vestrada/miniconda3/envs/astroconda/lib/python3.5/site-packages/grizli-0.13.0_167_g5e9ee7c-py3.5-macosx-10.6-x86_64.egg/grizli/model.py:3510: RuntimeWarning: divide by zero encountered in true_divide\n",
      "  self.ivar = 1/self.grism.data['ERR']**2\n"
     ]
    },
    {
     "name": "stdout",
     "output_type": "stream",
     "text": [
      "6 icxt03jkq_flt.fits G102\n",
      "7 icxt03jnq_flt.fits G102\n",
      "8 icxt03jpq_flt.fits G102\n",
      "9 icxt04e3q_flt.fits G102\n",
      "10 icxt04e4q_flt.fits G102\n",
      "11 icxt04edq_flt.fits G102\n",
      "12 icxt04efq_flt.fits G102\n"
     ]
    },
    {
     "name": "stderr",
     "output_type": "stream",
     "text": [
      "/Users/vestrada/miniconda3/envs/astroconda/lib/python3.5/site-packages/grizli-0.13.0_167_g5e9ee7c-py3.5-macosx-10.6-x86_64.egg/grizli/multifit.py:1433: RuntimeWarning: divide by zero encountered in true_divide\n",
      "  beam.ivarf = 1./(1/beam.ivarf + (sys_err*beam.scif)**2)\n",
      "/Users/vestrada/miniconda3/envs/astroconda/lib/python3.5/site-packages/grizli-0.13.0_167_g5e9ee7c-py3.5-macosx-10.6-x86_64.egg/grizli/multifit.py:1573: RuntimeWarning: invalid value encountered in sqrt\n",
      "  self.sivarf = np.sqrt(self.ivarf)\n",
      "/Users/vestrada/miniconda3/envs/astroconda/lib/python3.5/site-packages/grizli-0.13.0_167_g5e9ee7c-py3.5-macosx-10.6-x86_64.egg/grizli/multifit.py:1578: RuntimeWarning: invalid value encountered in sqrt\n",
      "  self.weightf = np.exp(-(self.fcontam*np.abs(self.contamf)*np.sqrt(self.ivarf)))\n"
     ]
    },
    {
     "name": "stdout",
     "output_type": "stream",
     "text": [
      "1 ibhj11hiq_flt.fits G141\n",
      "2 ibhj11hpq_flt.fits G141\n",
      "3 ibhj11hwq_flt.fits G141\n",
      "4 ibhj11i3q_flt.fits G141\n",
      "missing g102\n"
     ]
    },
    {
     "name": "stderr",
     "output_type": "stream",
     "text": [
      "/Users/vestrada/miniconda3/envs/astroconda/lib/python3.5/site-packages/grizli-0.13.0_167_g5e9ee7c-py3.5-macosx-10.6-x86_64.egg/grizli/model.py:557: RuntimeWarning: divide by zero encountered in true_divide\n",
      "  self.optimal_profile = m/m.sum(axis=0)\n",
      "/Users/vestrada/miniconda3/envs/astroconda/lib/python3.5/site-packages/grizli-0.13.0_167_g5e9ee7c-py3.5-macosx-10.6-x86_64.egg/grizli/model.py:557: RuntimeWarning: invalid value encountered in true_divide\n",
      "  self.optimal_profile = m/m.sum(axis=0)\n"
     ]
    },
    {
     "name": "stdout",
     "output_type": "stream",
     "text": [
      "1 ibhj11hiq_flt.fits G141\n",
      "2 ibhj11hpq_flt.fits G141\n",
      "3 ibhj11hwq_flt.fits G141\n",
      "4 ibhj11i3q_flt.fits G141\n",
      "5 icxt03jjq_flt.fits G102\n",
      "6 icxt03jkq_flt.fits G102\n",
      "7 icxt03jnq_flt.fits G102\n",
      "8 icxt03jpq_flt.fits G102\n",
      "9 icxt04e3q_flt.fits G102\n",
      "10 icxt04e4q_flt.fits G102\n",
      "11 icxt04edq_flt.fits G102\n",
      "12 icxt04efq_flt.fits G102\n",
      "1 ibhj11hiq_flt.fits G141\n",
      "2 ibhj11hpq_flt.fits G141\n",
      "3 ibhj11hwq_flt.fits G141\n",
      "4 ibhj11i3q_flt.fits G141\n",
      "missing g141\n"
     ]
    },
    {
     "name": "stderr",
     "output_type": "stream",
     "text": [
      "/Users/vestrada/miniconda3/envs/astroconda/lib/python3.5/site-packages/grizli-0.13.0_167_g5e9ee7c-py3.5-macosx-10.6-x86_64.egg/grizli/model.py:3510: RuntimeWarning: divide by zero encountered in true_divide\n",
      "  self.ivar = 1/self.grism.data['ERR']**2\n",
      "/Users/vestrada/miniconda3/envs/astroconda/lib/python3.5/site-packages/grizli-0.13.0_167_g5e9ee7c-py3.5-macosx-10.6-x86_64.egg/grizli/model.py:3553: RuntimeWarning: invalid value encountered in sqrt\n",
      "  resid = np.abs(self.scif - self.flat_flam)*np.sqrt(self.ivarf)\n",
      "/Users/vestrada/miniconda3/envs/astroconda/lib/python3.5/site-packages/grizli-0.13.0_167_g5e9ee7c-py3.5-macosx-10.6-x86_64.egg/grizli/model.py:3558: RuntimeWarning: invalid value encountered in sqrt\n",
      "  contam_mask = ((self.contam*np.sqrt(self.ivar) > contam_sn_mask[0]) &\n",
      "/Users/vestrada/miniconda3/envs/astroconda/lib/python3.5/site-packages/grizli-0.13.0_167_g5e9ee7c-py3.5-macosx-10.6-x86_64.egg/grizli/model.py:3559: RuntimeWarning: invalid value encountered in sqrt\n",
      "  (self.model*np.sqrt(self.ivar) < contam_sn_mask[1]))\n"
     ]
    },
    {
     "name": "stdout",
     "output_type": "stream",
     "text": [
      "1 icxt20f7q_flt.fits G102\n",
      "2 icxt20f8q_flt.fits G102\n",
      "3 icxt20fbq_flt.fits G102\n",
      "4 icxt20fdq_flt.fits G102\n",
      "5 icxt21b7q_flt.fits G102\n",
      "6 icxt21b8q_flt.fits G102\n",
      "7 icxt21bcq_flt.fits G102\n",
      "8 icxt21beq_flt.fits G102\n",
      "9 icxt22pmq_flt.fits G102\n",
      "10 icxt22pnq_flt.fits G102\n",
      "11 icxt22pqq_flt.fits G102\n",
      "12 icxt22psq_flt.fits G102\n",
      "13 icxt23pvq_flt.fits G102\n",
      "14 icxt23pwq_flt.fits G102\n",
      "15 icxt23pzq_flt.fits G102\n",
      "16 icxt23q1q_flt.fits G102\n",
      "17 ib6o23rsq_flt.fits G141\n",
      "18 ib6o23ruq_flt.fits G141\n"
     ]
    },
    {
     "name": "stderr",
     "output_type": "stream",
     "text": [
      "/Users/vestrada/miniconda3/envs/astroconda/lib/python3.5/site-packages/grizli-0.13.0_167_g5e9ee7c-py3.5-macosx-10.6-x86_64.egg/grizli/multifit.py:1433: RuntimeWarning: divide by zero encountered in true_divide\n",
      "  beam.ivarf = 1./(1/beam.ivarf + (sys_err*beam.scif)**2)\n",
      "/Users/vestrada/miniconda3/envs/astroconda/lib/python3.5/site-packages/grizli-0.13.0_167_g5e9ee7c-py3.5-macosx-10.6-x86_64.egg/grizli/multifit.py:1573: RuntimeWarning: invalid value encountered in sqrt\n",
      "  self.sivarf = np.sqrt(self.ivarf)\n",
      "/Users/vestrada/miniconda3/envs/astroconda/lib/python3.5/site-packages/grizli-0.13.0_167_g5e9ee7c-py3.5-macosx-10.6-x86_64.egg/grizli/multifit.py:1578: RuntimeWarning: invalid value encountered in sqrt\n",
      "  self.weightf = np.exp(-(self.fcontam*np.abs(self.contamf)*np.sqrt(self.ivarf)))\n",
      "/Users/vestrada/miniconda3/envs/astroconda/lib/python3.5/site-packages/grizli-0.13.0_167_g5e9ee7c-py3.5-macosx-10.6-x86_64.egg/grizli/model.py:557: RuntimeWarning: divide by zero encountered in true_divide\n",
      "  self.optimal_profile = m/m.sum(axis=0)\n",
      "/Users/vestrada/miniconda3/envs/astroconda/lib/python3.5/site-packages/grizli-0.13.0_167_g5e9ee7c-py3.5-macosx-10.6-x86_64.egg/grizli/model.py:557: RuntimeWarning: invalid value encountered in true_divide\n",
      "  self.optimal_profile = m/m.sum(axis=0)\n"
     ]
    },
    {
     "name": "stdout",
     "output_type": "stream",
     "text": [
      "1 icxt20f7q_flt.fits G102\n",
      "2 icxt20f8q_flt.fits G102\n",
      "3 icxt20fbq_flt.fits G102\n",
      "4 icxt20fdq_flt.fits G102\n",
      "5 icxt21b7q_flt.fits G102\n",
      "6 icxt21b8q_flt.fits G102\n",
      "7 icxt21bcq_flt.fits G102\n",
      "8 icxt21beq_flt.fits G102\n",
      "9 icxt22pmq_flt.fits G102\n",
      "10 icxt22pnq_flt.fits G102\n",
      "11 icxt22pqq_flt.fits G102\n",
      "12 icxt22psq_flt.fits G102\n",
      "13 icxt23pvq_flt.fits G102\n",
      "14 icxt23pwq_flt.fits G102\n",
      "15 icxt23pzq_flt.fits G102\n",
      "16 icxt23q1q_flt.fits G102\n",
      "17 ib6o23rsq_flt.fits G141\n",
      "18 ib6o23ruq_flt.fits G141\n"
     ]
    },
    {
     "name": "stderr",
     "output_type": "stream",
     "text": [
      "/Users/vestrada/miniconda3/envs/astroconda/lib/python3.5/site-packages/grizli-0.13.0_167_g5e9ee7c-py3.5-macosx-10.6-x86_64.egg/grizli/model.py:3553: RuntimeWarning: invalid value encountered in sqrt\n",
      "  resid = np.abs(self.scif - self.flat_flam)*np.sqrt(self.ivarf)\n",
      "/Users/vestrada/miniconda3/envs/astroconda/lib/python3.5/site-packages/grizli-0.13.0_167_g5e9ee7c-py3.5-macosx-10.6-x86_64.egg/grizli/model.py:3558: RuntimeWarning: invalid value encountered in sqrt\n",
      "  contam_mask = ((self.contam*np.sqrt(self.ivar) > contam_sn_mask[0]) &\n",
      "/Users/vestrada/miniconda3/envs/astroconda/lib/python3.5/site-packages/grizli-0.13.0_167_g5e9ee7c-py3.5-macosx-10.6-x86_64.egg/grizli/model.py:3559: RuntimeWarning: invalid value encountered in sqrt\n",
      "  (self.model*np.sqrt(self.ivar) < contam_sn_mask[1]))\n"
     ]
    },
    {
     "name": "stdout",
     "output_type": "stream",
     "text": [
      "1 icat07bxq_flt.fits G102\n",
      "2 icat07c2q_flt.fits G102\n",
      "3 icat07c9q_flt.fits G102\n",
      "4 icat07ceq_flt.fits G102\n"
     ]
    },
    {
     "name": "stderr",
     "output_type": "stream",
     "text": [
      "/Users/vestrada/miniconda3/envs/astroconda/lib/python3.5/site-packages/grizli-0.13.0_167_g5e9ee7c-py3.5-macosx-10.6-x86_64.egg/grizli/model.py:3510: RuntimeWarning: divide by zero encountered in true_divide\n",
      "  self.ivar = 1/self.grism.data['ERR']**2\n"
     ]
    },
    {
     "name": "stdout",
     "output_type": "stream",
     "text": [
      "5 icxt36jmq_flt.fits G102\n",
      "6 icxt36jnq_flt.fits G102\n",
      "7 icxt36jqq_flt.fits G102\n",
      "8 icxt36jsq_flt.fits G102\n",
      "9 ib3707caq_flt.fits G141\n",
      "10 ib3707ceq_flt.fits G141\n",
      "11 ib3707cqq_flt.fits G141\n",
      "12 ib3707cuq_flt.fits G141\n",
      "13 ib3747z0q_flt.fits G141\n",
      "14 ib3747z5q_flt.fits G141\n",
      "15 ib3747zyq_flt.fits G141\n",
      "16 ib3747a5q_flt.fits G141\n"
     ]
    },
    {
     "name": "stderr",
     "output_type": "stream",
     "text": [
      "/Users/vestrada/miniconda3/envs/astroconda/lib/python3.5/site-packages/grizli-0.13.0_167_g5e9ee7c-py3.5-macosx-10.6-x86_64.egg/grizli/multifit.py:1433: RuntimeWarning: divide by zero encountered in true_divide\n",
      "  beam.ivarf = 1./(1/beam.ivarf + (sys_err*beam.scif)**2)\n",
      "/Users/vestrada/miniconda3/envs/astroconda/lib/python3.5/site-packages/grizli-0.13.0_167_g5e9ee7c-py3.5-macosx-10.6-x86_64.egg/grizli/multifit.py:1573: RuntimeWarning: invalid value encountered in sqrt\n",
      "  self.sivarf = np.sqrt(self.ivarf)\n",
      "/Users/vestrada/miniconda3/envs/astroconda/lib/python3.5/site-packages/grizli-0.13.0_167_g5e9ee7c-py3.5-macosx-10.6-x86_64.egg/grizli/multifit.py:1578: RuntimeWarning: invalid value encountered in sqrt\n",
      "  self.weightf = np.exp(-(self.fcontam*np.abs(self.contamf)*np.sqrt(self.ivarf)))\n",
      "/Users/vestrada/miniconda3/envs/astroconda/lib/python3.5/site-packages/grizli-0.13.0_167_g5e9ee7c-py3.5-macosx-10.6-x86_64.egg/grizli/model.py:557: RuntimeWarning: divide by zero encountered in true_divide\n",
      "  self.optimal_profile = m/m.sum(axis=0)\n",
      "/Users/vestrada/miniconda3/envs/astroconda/lib/python3.5/site-packages/grizli-0.13.0_167_g5e9ee7c-py3.5-macosx-10.6-x86_64.egg/grizli/model.py:557: RuntimeWarning: invalid value encountered in true_divide\n",
      "  self.optimal_profile = m/m.sum(axis=0)\n"
     ]
    },
    {
     "name": "stdout",
     "output_type": "stream",
     "text": [
      "1 icat07bxq_flt.fits G102\n",
      "2 icat07c2q_flt.fits G102\n",
      "3 icat07c9q_flt.fits G102\n",
      "4 icat07ceq_flt.fits G102\n",
      "5 icxt36jmq_flt.fits G102\n",
      "6 icxt36jnq_flt.fits G102\n",
      "7 icxt36jqq_flt.fits G102\n",
      "8 icxt36jsq_flt.fits G102\n",
      "9 ib3707caq_flt.fits G141\n",
      "10 ib3707ceq_flt.fits G141\n",
      "11 ib3707cqq_flt.fits G141\n",
      "12 ib3707cuq_flt.fits G141\n",
      "13 ib3747z0q_flt.fits G141\n",
      "14 ib3747z5q_flt.fits G141\n",
      "15 ib3747zyq_flt.fits G141\n",
      "16 ib3747a5q_flt.fits G141\n"
     ]
    },
    {
     "name": "stderr",
     "output_type": "stream",
     "text": [
      "/Users/vestrada/miniconda3/envs/astroconda/lib/python3.5/site-packages/grizli-0.13.0_167_g5e9ee7c-py3.5-macosx-10.6-x86_64.egg/grizli/model.py:3553: RuntimeWarning: invalid value encountered in sqrt\n",
      "  resid = np.abs(self.scif - self.flat_flam)*np.sqrt(self.ivarf)\n",
      "/Users/vestrada/miniconda3/envs/astroconda/lib/python3.5/site-packages/grizli-0.13.0_167_g5e9ee7c-py3.5-macosx-10.6-x86_64.egg/grizli/model.py:3558: RuntimeWarning: invalid value encountered in sqrt\n",
      "  contam_mask = ((self.contam*np.sqrt(self.ivar) > contam_sn_mask[0]) &\n",
      "/Users/vestrada/miniconda3/envs/astroconda/lib/python3.5/site-packages/grizli-0.13.0_167_g5e9ee7c-py3.5-macosx-10.6-x86_64.egg/grizli/model.py:3559: RuntimeWarning: invalid value encountered in sqrt\n",
      "  (self.model*np.sqrt(self.ivar) < contam_sn_mask[1]))\n"
     ]
    },
    {
     "name": "stdout",
     "output_type": "stream",
     "text": [
      "1 icat07bxq_flt.fits G102\n",
      "2 icat07c2q_flt.fits G102\n",
      "3 icat07c9q_flt.fits G102\n",
      "4 icat07ceq_flt.fits G102\n"
     ]
    },
    {
     "name": "stderr",
     "output_type": "stream",
     "text": [
      "/Users/vestrada/miniconda3/envs/astroconda/lib/python3.5/site-packages/grizli-0.13.0_167_g5e9ee7c-py3.5-macosx-10.6-x86_64.egg/grizli/model.py:3510: RuntimeWarning: divide by zero encountered in true_divide\n",
      "  self.ivar = 1/self.grism.data['ERR']**2\n"
     ]
    },
    {
     "name": "stdout",
     "output_type": "stream",
     "text": [
      "5 icxt36jmq_flt.fits G102\n",
      "6 icxt36jnq_flt.fits G102\n",
      "7 icxt36jqq_flt.fits G102\n",
      "8 icxt36jsq_flt.fits G102\n",
      "9 ib3707caq_flt.fits G141\n",
      "10 ib3707ceq_flt.fits G141\n",
      "11 ib3707cqq_flt.fits G141\n",
      "12 ib3707cuq_flt.fits G141\n",
      "13 ib3747z0q_flt.fits G141\n",
      "14 ib3747z5q_flt.fits G141\n",
      "15 ib3747zyq_flt.fits G141\n",
      "16 ib3747a5q_flt.fits G141\n"
     ]
    },
    {
     "name": "stderr",
     "output_type": "stream",
     "text": [
      "/Users/vestrada/miniconda3/envs/astroconda/lib/python3.5/site-packages/grizli-0.13.0_167_g5e9ee7c-py3.5-macosx-10.6-x86_64.egg/grizli/multifit.py:1433: RuntimeWarning: divide by zero encountered in true_divide\n",
      "  beam.ivarf = 1./(1/beam.ivarf + (sys_err*beam.scif)**2)\n",
      "/Users/vestrada/miniconda3/envs/astroconda/lib/python3.5/site-packages/grizli-0.13.0_167_g5e9ee7c-py3.5-macosx-10.6-x86_64.egg/grizli/multifit.py:1573: RuntimeWarning: invalid value encountered in sqrt\n",
      "  self.sivarf = np.sqrt(self.ivarf)\n",
      "/Users/vestrada/miniconda3/envs/astroconda/lib/python3.5/site-packages/grizli-0.13.0_167_g5e9ee7c-py3.5-macosx-10.6-x86_64.egg/grizli/multifit.py:1578: RuntimeWarning: invalid value encountered in sqrt\n",
      "  self.weightf = np.exp(-(self.fcontam*np.abs(self.contamf)*np.sqrt(self.ivarf)))\n",
      "/Users/vestrada/miniconda3/envs/astroconda/lib/python3.5/site-packages/grizli-0.13.0_167_g5e9ee7c-py3.5-macosx-10.6-x86_64.egg/grizli/model.py:557: RuntimeWarning: divide by zero encountered in true_divide\n",
      "  self.optimal_profile = m/m.sum(axis=0)\n",
      "/Users/vestrada/miniconda3/envs/astroconda/lib/python3.5/site-packages/grizli-0.13.0_167_g5e9ee7c-py3.5-macosx-10.6-x86_64.egg/grizli/model.py:557: RuntimeWarning: invalid value encountered in true_divide\n",
      "  self.optimal_profile = m/m.sum(axis=0)\n"
     ]
    },
    {
     "name": "stdout",
     "output_type": "stream",
     "text": [
      "1 icat07bxq_flt.fits G102\n",
      "2 icat07c2q_flt.fits G102\n",
      "3 icat07c9q_flt.fits G102\n",
      "4 icat07ceq_flt.fits G102\n",
      "5 icxt36jmq_flt.fits G102\n",
      "6 icxt36jnq_flt.fits G102\n",
      "7 icxt36jqq_flt.fits G102\n",
      "8 icxt36jsq_flt.fits G102\n",
      "9 ib3707caq_flt.fits G141\n",
      "10 ib3707ceq_flt.fits G141\n",
      "11 ib3707cqq_flt.fits G141\n",
      "12 ib3707cuq_flt.fits G141\n",
      "13 ib3747z0q_flt.fits G141\n",
      "14 ib3747z5q_flt.fits G141\n",
      "15 ib3747zyq_flt.fits G141\n",
      "16 ib3747a5q_flt.fits G141\n"
     ]
    },
    {
     "name": "stderr",
     "output_type": "stream",
     "text": [
      "/Users/vestrada/miniconda3/envs/astroconda/lib/python3.5/site-packages/grizli-0.13.0_167_g5e9ee7c-py3.5-macosx-10.6-x86_64.egg/grizli/model.py:3553: RuntimeWarning: invalid value encountered in sqrt\n",
      "  resid = np.abs(self.scif - self.flat_flam)*np.sqrt(self.ivarf)\n",
      "/Users/vestrada/miniconda3/envs/astroconda/lib/python3.5/site-packages/grizli-0.13.0_167_g5e9ee7c-py3.5-macosx-10.6-x86_64.egg/grizli/model.py:3558: RuntimeWarning: invalid value encountered in sqrt\n",
      "  contam_mask = ((self.contam*np.sqrt(self.ivar) > contam_sn_mask[0]) &\n",
      "/Users/vestrada/miniconda3/envs/astroconda/lib/python3.5/site-packages/grizli-0.13.0_167_g5e9ee7c-py3.5-macosx-10.6-x86_64.egg/grizli/model.py:3559: RuntimeWarning: invalid value encountered in sqrt\n",
      "  (self.model*np.sqrt(self.ivar) < contam_sn_mask[1]))\n"
     ]
    },
    {
     "name": "stdout",
     "output_type": "stream",
     "text": [
      "1 icat12tqq_flt.fits G102\n",
      "2 icat12tvq_flt.fits G102\n",
      "3 icat12u2q_flt.fits G102\n",
      "4 icat12u7q_flt.fits G102\n",
      "5 ib3712lkq_flt.fits G141\n",
      "6 ib3712lyq_flt.fits G141\n",
      "7 ib3712maq_flt.fits G141\n",
      "8 ib3712meq_flt.fits G141\n"
     ]
    },
    {
     "name": "stderr",
     "output_type": "stream",
     "text": [
      "/Users/vestrada/miniconda3/envs/astroconda/lib/python3.5/site-packages/grizli-0.13.0_167_g5e9ee7c-py3.5-macosx-10.6-x86_64.egg/grizli/multifit.py:1433: RuntimeWarning: divide by zero encountered in true_divide\n",
      "  beam.ivarf = 1./(1/beam.ivarf + (sys_err*beam.scif)**2)\n",
      "/Users/vestrada/miniconda3/envs/astroconda/lib/python3.5/site-packages/grizli-0.13.0_167_g5e9ee7c-py3.5-macosx-10.6-x86_64.egg/grizli/multifit.py:1573: RuntimeWarning: invalid value encountered in sqrt\n",
      "  self.sivarf = np.sqrt(self.ivarf)\n",
      "/Users/vestrada/miniconda3/envs/astroconda/lib/python3.5/site-packages/grizli-0.13.0_167_g5e9ee7c-py3.5-macosx-10.6-x86_64.egg/grizli/multifit.py:1578: RuntimeWarning: invalid value encountered in sqrt\n",
      "  self.weightf = np.exp(-(self.fcontam*np.abs(self.contamf)*np.sqrt(self.ivarf)))\n",
      "/Users/vestrada/miniconda3/envs/astroconda/lib/python3.5/site-packages/grizli-0.13.0_167_g5e9ee7c-py3.5-macosx-10.6-x86_64.egg/grizli/model.py:557: RuntimeWarning: divide by zero encountered in true_divide\n",
      "  self.optimal_profile = m/m.sum(axis=0)\n",
      "/Users/vestrada/miniconda3/envs/astroconda/lib/python3.5/site-packages/grizli-0.13.0_167_g5e9ee7c-py3.5-macosx-10.6-x86_64.egg/grizli/model.py:557: RuntimeWarning: invalid value encountered in true_divide\n",
      "  self.optimal_profile = m/m.sum(axis=0)\n"
     ]
    },
    {
     "name": "stdout",
     "output_type": "stream",
     "text": [
      "1 icat12tqq_flt.fits G102\n",
      "2 icat12tvq_flt.fits G102\n",
      "3 icat12u2q_flt.fits G102\n",
      "4 icat12u7q_flt.fits G102\n",
      "5 ib3712lkq_flt.fits G141\n",
      "6 ib3712lyq_flt.fits G141\n",
      "7 ib3712maq_flt.fits G141\n",
      "8 ib3712meq_flt.fits G141\n"
     ]
    },
    {
     "name": "stderr",
     "output_type": "stream",
     "text": [
      "/Users/vestrada/miniconda3/envs/astroconda/lib/python3.5/site-packages/grizli-0.13.0_167_g5e9ee7c-py3.5-macosx-10.6-x86_64.egg/grizli/model.py:3510: RuntimeWarning: divide by zero encountered in true_divide\n",
      "  self.ivar = 1/self.grism.data['ERR']**2\n",
      "/Users/vestrada/miniconda3/envs/astroconda/lib/python3.5/site-packages/grizli-0.13.0_167_g5e9ee7c-py3.5-macosx-10.6-x86_64.egg/grizli/model.py:3553: RuntimeWarning: invalid value encountered in sqrt\n",
      "  resid = np.abs(self.scif - self.flat_flam)*np.sqrt(self.ivarf)\n",
      "/Users/vestrada/miniconda3/envs/astroconda/lib/python3.5/site-packages/grizli-0.13.0_167_g5e9ee7c-py3.5-macosx-10.6-x86_64.egg/grizli/model.py:3558: RuntimeWarning: invalid value encountered in sqrt\n",
      "  contam_mask = ((self.contam*np.sqrt(self.ivar) > contam_sn_mask[0]) &\n",
      "/Users/vestrada/miniconda3/envs/astroconda/lib/python3.5/site-packages/grizli-0.13.0_167_g5e9ee7c-py3.5-macosx-10.6-x86_64.egg/grizli/model.py:3559: RuntimeWarning: invalid value encountered in sqrt\n",
      "  (self.model*np.sqrt(self.ivar) < contam_sn_mask[1]))\n"
     ]
    },
    {
     "name": "stdout",
     "output_type": "stream",
     "text": [
      "1 icat03e4q_flt.fits G102\n",
      "2 icka04pcq_flt.fits G141\n",
      "3 icka04pdq_flt.fits G141\n",
      "4 icka04plq_flt.fits G141\n",
      "5 icka04pnq_flt.fits G141\n",
      "6 icka05pjq_flt.fits G141\n",
      "7 icka05pkq_flt.fits G141\n",
      "8 icka05psq_flt.fits G141\n",
      "9 icka05puq_flt.fits G141\n",
      "10 icka06g7q_flt.fits G141\n",
      "11 icka06g8q_flt.fits G141\n",
      "12 icka06ggq_flt.fits G141\n",
      "13 icka06giq_flt.fits G141\n",
      "14 icxt39eoq_flt.fits G102\n",
      "15 icxt39epq_flt.fits G102\n",
      "16 icxt39esq_flt.fits G102\n",
      "17 icxt39euq_flt.fits G102\n",
      "18 icxt40npq_flt.fits G102\n",
      "19 icxt40nrq_flt.fits G102\n",
      "20 icxt40nuq_flt.fits G102\n",
      "21 icxt40nwq_flt.fits G102\n",
      "22 icxt37laq_flt.fits G102\n",
      "23 icxt37lbq_flt.fits G102\n",
      "24 icxt37leq_flt.fits G102\n",
      "25 icxt37lgq_flt.fits G102\n",
      "26 icxt38p6q_flt.fits G102\n",
      "27 icxt38p7q_flt.fits G102\n",
      "28 icxt38paq_flt.fits G102\n",
      "29 icxt38pcq_flt.fits G102\n",
      "30 icxt36jmq_flt.fits G102\n",
      "31 icxt36jnq_flt.fits G102\n",
      "32 icxt36jqq_flt.fits G102\n",
      "33 icxt36jsq_flt.fits G102\n",
      "34 ib3707caq_flt.fits G141\n",
      "35 ib3707ceq_flt.fits G141\n",
      "36 ib3707cqq_flt.fits G141\n",
      "37 ib3707cuq_flt.fits G141\n",
      "38 ib3747z0q_flt.fits G141\n",
      "39 ib3747z5q_flt.fits G141\n",
      "40 ib3747zyq_flt.fits G141\n",
      "41 ib3747a5q_flt.fits G141\n"
     ]
    },
    {
     "name": "stderr",
     "output_type": "stream",
     "text": [
      "/Users/vestrada/miniconda3/envs/astroconda/lib/python3.5/site-packages/grizli-0.13.0_167_g5e9ee7c-py3.5-macosx-10.6-x86_64.egg/grizli/multifit.py:1433: RuntimeWarning: divide by zero encountered in true_divide\n",
      "  beam.ivarf = 1./(1/beam.ivarf + (sys_err*beam.scif)**2)\n",
      "/Users/vestrada/miniconda3/envs/astroconda/lib/python3.5/site-packages/grizli-0.13.0_167_g5e9ee7c-py3.5-macosx-10.6-x86_64.egg/grizli/multifit.py:1573: RuntimeWarning: invalid value encountered in sqrt\n",
      "  self.sivarf = np.sqrt(self.ivarf)\n",
      "/Users/vestrada/miniconda3/envs/astroconda/lib/python3.5/site-packages/grizli-0.13.0_167_g5e9ee7c-py3.5-macosx-10.6-x86_64.egg/grizli/multifit.py:1578: RuntimeWarning: invalid value encountered in sqrt\n",
      "  self.weightf = np.exp(-(self.fcontam*np.abs(self.contamf)*np.sqrt(self.ivarf)))\n",
      "/Users/vestrada/miniconda3/envs/astroconda/lib/python3.5/site-packages/grizli-0.13.0_167_g5e9ee7c-py3.5-macosx-10.6-x86_64.egg/grizli/model.py:557: RuntimeWarning: divide by zero encountered in true_divide\n",
      "  self.optimal_profile = m/m.sum(axis=0)\n",
      "/Users/vestrada/miniconda3/envs/astroconda/lib/python3.5/site-packages/grizli-0.13.0_167_g5e9ee7c-py3.5-macosx-10.6-x86_64.egg/grizli/model.py:557: RuntimeWarning: invalid value encountered in true_divide\n",
      "  self.optimal_profile = m/m.sum(axis=0)\n"
     ]
    },
    {
     "name": "stdout",
     "output_type": "stream",
     "text": [
      "1 icat03e4q_flt.fits G102\n",
      "2 icka04pcq_flt.fits G141\n",
      "3 icka04pdq_flt.fits G141\n",
      "4 icka04plq_flt.fits G141\n",
      "5 icka04pnq_flt.fits G141\n",
      "6 icka05pjq_flt.fits G141\n",
      "7 icka05pkq_flt.fits G141\n",
      "8 icka05psq_flt.fits G141\n",
      "9 icka05puq_flt.fits G141\n",
      "10 icka06g7q_flt.fits G141\n",
      "11 icka06g8q_flt.fits G141\n",
      "12 icka06ggq_flt.fits G141\n",
      "13 icka06giq_flt.fits G141\n",
      "14 icxt39eoq_flt.fits G102\n",
      "15 icxt39epq_flt.fits G102\n",
      "16 icxt39esq_flt.fits G102\n",
      "17 icxt39euq_flt.fits G102\n",
      "18 icxt40npq_flt.fits G102\n",
      "19 icxt40nrq_flt.fits G102\n",
      "20 icxt40nuq_flt.fits G102\n",
      "21 icxt40nwq_flt.fits G102\n",
      "22 icxt37laq_flt.fits G102\n",
      "23 icxt37lbq_flt.fits G102\n",
      "24 icxt37leq_flt.fits G102\n",
      "25 icxt37lgq_flt.fits G102\n",
      "26 icxt38p6q_flt.fits G102\n",
      "27 icxt38p7q_flt.fits G102\n",
      "28 icxt38paq_flt.fits G102\n",
      "29 icxt38pcq_flt.fits G102\n",
      "30 icxt36jmq_flt.fits G102\n",
      "31 icxt36jnq_flt.fits G102\n",
      "32 icxt36jqq_flt.fits G102\n",
      "33 icxt36jsq_flt.fits G102\n",
      "34 ib3707caq_flt.fits G141\n",
      "35 ib3707ceq_flt.fits G141\n",
      "36 ib3707cqq_flt.fits G141\n",
      "37 ib3707cuq_flt.fits G141\n",
      "38 ib3747z0q_flt.fits G141\n",
      "39 ib3747z5q_flt.fits G141\n",
      "40 ib3747zyq_flt.fits G141\n",
      "41 ib3747a5q_flt.fits G141\n"
     ]
    },
    {
     "name": "stderr",
     "output_type": "stream",
     "text": [
      "/Users/vestrada/miniconda3/envs/astroconda/lib/python3.5/site-packages/grizli-0.13.0_167_g5e9ee7c-py3.5-macosx-10.6-x86_64.egg/grizli/model.py:3553: RuntimeWarning: invalid value encountered in sqrt\n",
      "  resid = np.abs(self.scif - self.flat_flam)*np.sqrt(self.ivarf)\n",
      "/Users/vestrada/miniconda3/envs/astroconda/lib/python3.5/site-packages/grizli-0.13.0_167_g5e9ee7c-py3.5-macosx-10.6-x86_64.egg/grizli/model.py:3558: RuntimeWarning: invalid value encountered in sqrt\n",
      "  contam_mask = ((self.contam*np.sqrt(self.ivar) > contam_sn_mask[0]) &\n",
      "/Users/vestrada/miniconda3/envs/astroconda/lib/python3.5/site-packages/grizli-0.13.0_167_g5e9ee7c-py3.5-macosx-10.6-x86_64.egg/grizli/model.py:3559: RuntimeWarning: invalid value encountered in sqrt\n",
      "  (self.model*np.sqrt(self.ivar) < contam_sn_mask[1]))\n"
     ]
    },
    {
     "name": "stdout",
     "output_type": "stream",
     "text": [
      "1 icat21cfq_flt.fits G102\n",
      "2 icat21coq_flt.fits G102\n",
      "3 icat21dgq_flt.fits G102\n",
      "4 icat21dlq_flt.fits G102\n",
      "5 icxt52i0q_flt.fits G102\n"
     ]
    },
    {
     "name": "stderr",
     "output_type": "stream",
     "text": [
      "/Users/vestrada/miniconda3/envs/astroconda/lib/python3.5/site-packages/grizli-0.13.0_167_g5e9ee7c-py3.5-macosx-10.6-x86_64.egg/grizli/model.py:3510: RuntimeWarning: divide by zero encountered in true_divide\n",
      "  self.ivar = 1/self.grism.data['ERR']**2\n"
     ]
    },
    {
     "name": "stdout",
     "output_type": "stream",
     "text": [
      "6 icxt52i1q_flt.fits G102\n",
      "7 icxt52i4q_flt.fits G102\n",
      "8 icxt52i6q_flt.fits G102\n",
      "9 icxt53i9q_flt.fits G102\n",
      "10 icxt53iaq_flt.fits G102\n",
      "11 icxt53idq_flt.fits G102\n",
      "12 icxt53ifq_flt.fits G102\n",
      "13 ib3721xiq_flt.fits G141\n",
      "14 ib3721xmq_flt.fits G141\n",
      "15 ib3721xyq_flt.fits G141\n",
      "16 ib3721y2q_flt.fits G141\n"
     ]
    },
    {
     "name": "stderr",
     "output_type": "stream",
     "text": [
      "/Users/vestrada/miniconda3/envs/astroconda/lib/python3.5/site-packages/grizli-0.13.0_167_g5e9ee7c-py3.5-macosx-10.6-x86_64.egg/grizli/multifit.py:1433: RuntimeWarning: divide by zero encountered in true_divide\n",
      "  beam.ivarf = 1./(1/beam.ivarf + (sys_err*beam.scif)**2)\n",
      "/Users/vestrada/miniconda3/envs/astroconda/lib/python3.5/site-packages/grizli-0.13.0_167_g5e9ee7c-py3.5-macosx-10.6-x86_64.egg/grizli/multifit.py:1573: RuntimeWarning: invalid value encountered in sqrt\n",
      "  self.sivarf = np.sqrt(self.ivarf)\n",
      "/Users/vestrada/miniconda3/envs/astroconda/lib/python3.5/site-packages/grizli-0.13.0_167_g5e9ee7c-py3.5-macosx-10.6-x86_64.egg/grizli/multifit.py:1578: RuntimeWarning: invalid value encountered in sqrt\n",
      "  self.weightf = np.exp(-(self.fcontam*np.abs(self.contamf)*np.sqrt(self.ivarf)))\n"
     ]
    },
    {
     "name": "stdout",
     "output_type": "stream",
     "text": [
      "1 icat25hcq_flt.fits G102\n",
      "2 icat25hiq_flt.fits G102\n",
      "3 icat25icq_flt.fits G102\n",
      "4 icat25iiq_flt.fits G102\n",
      "5 ib3725dyq_flt.fits G141\n",
      "6 ib3725e2q_flt.fits G141\n",
      "7 ib3725eeq_flt.fits G141\n",
      "8 ib3725eiq_flt.fits G141\n"
     ]
    },
    {
     "name": "stderr",
     "output_type": "stream",
     "text": [
      "/Users/vestrada/miniconda3/envs/astroconda/lib/python3.5/site-packages/grizli-0.13.0_167_g5e9ee7c-py3.5-macosx-10.6-x86_64.egg/grizli/model.py:557: RuntimeWarning: divide by zero encountered in true_divide\n",
      "  self.optimal_profile = m/m.sum(axis=0)\n",
      "/Users/vestrada/miniconda3/envs/astroconda/lib/python3.5/site-packages/grizli-0.13.0_167_g5e9ee7c-py3.5-macosx-10.6-x86_64.egg/grizli/model.py:557: RuntimeWarning: invalid value encountered in true_divide\n",
      "  self.optimal_profile = m/m.sum(axis=0)\n"
     ]
    },
    {
     "name": "stdout",
     "output_type": "stream",
     "text": [
      "1 icat21cfq_flt.fits G102\n",
      "2 icat21coq_flt.fits G102\n",
      "3 icat21dgq_flt.fits G102\n",
      "4 icat21dlq_flt.fits G102\n",
      "5 icxt52i0q_flt.fits G102\n",
      "6 icxt52i1q_flt.fits G102\n",
      "7 icxt52i4q_flt.fits G102\n",
      "8 icxt52i6q_flt.fits G102\n",
      "9 icxt53i9q_flt.fits G102\n",
      "10 icxt53iaq_flt.fits G102\n",
      "11 icxt53idq_flt.fits G102\n",
      "12 icxt53ifq_flt.fits G102\n",
      "13 ib3721xiq_flt.fits G141\n",
      "14 ib3721xmq_flt.fits G141\n",
      "15 ib3721xyq_flt.fits G141\n",
      "16 ib3721y2q_flt.fits G141\n",
      "1 icat25hcq_flt.fits G102\n",
      "2 icat25hiq_flt.fits G102\n",
      "3 icat25icq_flt.fits G102\n",
      "4 icat25iiq_flt.fits G102\n",
      "5 ib3725dyq_flt.fits G141\n",
      "6 ib3725e2q_flt.fits G141\n",
      "7 ib3725eeq_flt.fits G141\n",
      "8 ib3725eiq_flt.fits G141\n"
     ]
    },
    {
     "name": "stderr",
     "output_type": "stream",
     "text": [
      "/Users/vestrada/miniconda3/envs/astroconda/lib/python3.5/site-packages/grizli-0.13.0_167_g5e9ee7c-py3.5-macosx-10.6-x86_64.egg/grizli/model.py:3510: RuntimeWarning: divide by zero encountered in true_divide\n",
      "  self.ivar = 1/self.grism.data['ERR']**2\n",
      "/Users/vestrada/miniconda3/envs/astroconda/lib/python3.5/site-packages/grizli-0.13.0_167_g5e9ee7c-py3.5-macosx-10.6-x86_64.egg/grizli/model.py:3553: RuntimeWarning: invalid value encountered in sqrt\n",
      "  resid = np.abs(self.scif - self.flat_flam)*np.sqrt(self.ivarf)\n",
      "/Users/vestrada/miniconda3/envs/astroconda/lib/python3.5/site-packages/grizli-0.13.0_167_g5e9ee7c-py3.5-macosx-10.6-x86_64.egg/grizli/model.py:3558: RuntimeWarning: invalid value encountered in sqrt\n",
      "  contam_mask = ((self.contam*np.sqrt(self.ivar) > contam_sn_mask[0]) &\n",
      "/Users/vestrada/miniconda3/envs/astroconda/lib/python3.5/site-packages/grizli-0.13.0_167_g5e9ee7c-py3.5-macosx-10.6-x86_64.egg/grizli/model.py:3559: RuntimeWarning: invalid value encountered in sqrt\n",
      "  (self.model*np.sqrt(self.ivar) < contam_sn_mask[1]))\n"
     ]
    },
    {
     "name": "stdout",
     "output_type": "stream",
     "text": [
      "1 icat23cwq_flt.fits G102\n",
      "2 icat23d3q_flt.fits G102\n",
      "3 ib3723qrq_flt.fits G141\n",
      "4 ib3723r3q_flt.fits G141\n",
      "5 ib3723r7q_flt.fits G141\n"
     ]
    },
    {
     "name": "stderr",
     "output_type": "stream",
     "text": [
      "/Users/vestrada/miniconda3/envs/astroconda/lib/python3.5/site-packages/grizli-0.13.0_167_g5e9ee7c-py3.5-macosx-10.6-x86_64.egg/grizli/multifit.py:1433: RuntimeWarning: divide by zero encountered in true_divide\n",
      "  beam.ivarf = 1./(1/beam.ivarf + (sys_err*beam.scif)**2)\n",
      "/Users/vestrada/miniconda3/envs/astroconda/lib/python3.5/site-packages/grizli-0.13.0_167_g5e9ee7c-py3.5-macosx-10.6-x86_64.egg/grizli/multifit.py:1573: RuntimeWarning: invalid value encountered in sqrt\n",
      "  self.sivarf = np.sqrt(self.ivarf)\n",
      "/Users/vestrada/miniconda3/envs/astroconda/lib/python3.5/site-packages/grizli-0.13.0_167_g5e9ee7c-py3.5-macosx-10.6-x86_64.egg/grizli/multifit.py:1578: RuntimeWarning: invalid value encountered in sqrt\n",
      "  self.weightf = np.exp(-(self.fcontam*np.abs(self.contamf)*np.sqrt(self.ivarf)))\n",
      "/Users/vestrada/miniconda3/envs/astroconda/lib/python3.5/site-packages/grizli-0.13.0_167_g5e9ee7c-py3.5-macosx-10.6-x86_64.egg/grizli/model.py:557: RuntimeWarning: divide by zero encountered in true_divide\n",
      "  self.optimal_profile = m/m.sum(axis=0)\n",
      "/Users/vestrada/miniconda3/envs/astroconda/lib/python3.5/site-packages/grizli-0.13.0_167_g5e9ee7c-py3.5-macosx-10.6-x86_64.egg/grizli/model.py:557: RuntimeWarning: invalid value encountered in true_divide\n",
      "  self.optimal_profile = m/m.sum(axis=0)\n"
     ]
    },
    {
     "name": "stdout",
     "output_type": "stream",
     "text": [
      "1 icat23cwq_flt.fits G102\n",
      "2 icat23d3q_flt.fits G102\n",
      "3 ib3723qrq_flt.fits G141\n",
      "4 ib3723r3q_flt.fits G141\n",
      "5 ib3723r7q_flt.fits G141\n"
     ]
    },
    {
     "name": "stderr",
     "output_type": "stream",
     "text": [
      "/Users/vestrada/miniconda3/envs/astroconda/lib/python3.5/site-packages/grizli-0.13.0_167_g5e9ee7c-py3.5-macosx-10.6-x86_64.egg/grizli/model.py:3510: RuntimeWarning: divide by zero encountered in true_divide\n",
      "  self.ivar = 1/self.grism.data['ERR']**2\n",
      "/Users/vestrada/miniconda3/envs/astroconda/lib/python3.5/site-packages/grizli-0.13.0_167_g5e9ee7c-py3.5-macosx-10.6-x86_64.egg/grizli/model.py:3553: RuntimeWarning: invalid value encountered in sqrt\n",
      "  resid = np.abs(self.scif - self.flat_flam)*np.sqrt(self.ivarf)\n",
      "/Users/vestrada/miniconda3/envs/astroconda/lib/python3.5/site-packages/grizli-0.13.0_167_g5e9ee7c-py3.5-macosx-10.6-x86_64.egg/grizli/model.py:3558: RuntimeWarning: invalid value encountered in sqrt\n",
      "  contam_mask = ((self.contam*np.sqrt(self.ivar) > contam_sn_mask[0]) &\n",
      "/Users/vestrada/miniconda3/envs/astroconda/lib/python3.5/site-packages/grizli-0.13.0_167_g5e9ee7c-py3.5-macosx-10.6-x86_64.egg/grizli/model.py:3559: RuntimeWarning: invalid value encountered in sqrt\n",
      "  (self.model*np.sqrt(self.ivar) < contam_sn_mask[1]))\n"
     ]
    },
    {
     "name": "stdout",
     "output_type": "stream",
     "text": [
      "1 icat19u2q_flt.fits G102\n",
      "2 icat19u7q_flt.fits G102\n",
      "3 icat19ueq_flt.fits G102\n",
      "4 icat19ujq_flt.fits G102\n",
      "5 ib3719ukq_flt.fits G141\n",
      "6 ib3719uoq_flt.fits G141\n",
      "7 ib3719v7q_flt.fits G141\n",
      "8 ib3719vbq_flt.fits G141\n"
     ]
    },
    {
     "name": "stderr",
     "output_type": "stream",
     "text": [
      "/Users/vestrada/miniconda3/envs/astroconda/lib/python3.5/site-packages/grizli-0.13.0_167_g5e9ee7c-py3.5-macosx-10.6-x86_64.egg/grizli/multifit.py:1433: RuntimeWarning: divide by zero encountered in true_divide\n",
      "  beam.ivarf = 1./(1/beam.ivarf + (sys_err*beam.scif)**2)\n",
      "/Users/vestrada/miniconda3/envs/astroconda/lib/python3.5/site-packages/grizli-0.13.0_167_g5e9ee7c-py3.5-macosx-10.6-x86_64.egg/grizli/multifit.py:1573: RuntimeWarning: invalid value encountered in sqrt\n",
      "  self.sivarf = np.sqrt(self.ivarf)\n",
      "/Users/vestrada/miniconda3/envs/astroconda/lib/python3.5/site-packages/grizli-0.13.0_167_g5e9ee7c-py3.5-macosx-10.6-x86_64.egg/grizli/multifit.py:1578: RuntimeWarning: invalid value encountered in sqrt\n",
      "  self.weightf = np.exp(-(self.fcontam*np.abs(self.contamf)*np.sqrt(self.ivarf)))\n",
      "/Users/vestrada/miniconda3/envs/astroconda/lib/python3.5/site-packages/grizli-0.13.0_167_g5e9ee7c-py3.5-macosx-10.6-x86_64.egg/grizli/model.py:557: RuntimeWarning: divide by zero encountered in true_divide\n",
      "  self.optimal_profile = m/m.sum(axis=0)\n",
      "/Users/vestrada/miniconda3/envs/astroconda/lib/python3.5/site-packages/grizli-0.13.0_167_g5e9ee7c-py3.5-macosx-10.6-x86_64.egg/grizli/model.py:557: RuntimeWarning: invalid value encountered in true_divide\n",
      "  self.optimal_profile = m/m.sum(axis=0)\n"
     ]
    },
    {
     "name": "stdout",
     "output_type": "stream",
     "text": [
      "1 icat19u2q_flt.fits G102\n",
      "2 icat19u7q_flt.fits G102\n",
      "3 icat19ueq_flt.fits G102\n",
      "4 icat19ujq_flt.fits G102\n",
      "5 ib3719ukq_flt.fits G141\n",
      "6 ib3719uoq_flt.fits G141\n",
      "7 ib3719v7q_flt.fits G141\n",
      "8 ib3719vbq_flt.fits G141\n"
     ]
    },
    {
     "name": "stderr",
     "output_type": "stream",
     "text": [
      "/Users/vestrada/miniconda3/envs/astroconda/lib/python3.5/site-packages/grizli-0.13.0_167_g5e9ee7c-py3.5-macosx-10.6-x86_64.egg/grizli/model.py:3553: RuntimeWarning: invalid value encountered in sqrt\n",
      "  resid = np.abs(self.scif - self.flat_flam)*np.sqrt(self.ivarf)\n",
      "/Users/vestrada/miniconda3/envs/astroconda/lib/python3.5/site-packages/grizli-0.13.0_167_g5e9ee7c-py3.5-macosx-10.6-x86_64.egg/grizli/model.py:3558: RuntimeWarning: invalid value encountered in sqrt\n",
      "  contam_mask = ((self.contam*np.sqrt(self.ivar) > contam_sn_mask[0]) &\n",
      "/Users/vestrada/miniconda3/envs/astroconda/lib/python3.5/site-packages/grizli-0.13.0_167_g5e9ee7c-py3.5-macosx-10.6-x86_64.egg/grizli/model.py:3559: RuntimeWarning: invalid value encountered in sqrt\n",
      "  (self.model*np.sqrt(self.ivar) < contam_sn_mask[1]))\n"
     ]
    },
    {
     "name": "stdout",
     "output_type": "stream",
     "text": [
      "1 icat12tqq_flt.fits G102\n",
      "2 icat12tvq_flt.fits G102\n",
      "3 icat12u2q_flt.fits G102\n",
      "4 icat12u7q_flt.fits G102\n"
     ]
    },
    {
     "name": "stderr",
     "output_type": "stream",
     "text": [
      "/Users/vestrada/miniconda3/envs/astroconda/lib/python3.5/site-packages/grizli-0.13.0_167_g5e9ee7c-py3.5-macosx-10.6-x86_64.egg/grizli/model.py:3510: RuntimeWarning: divide by zero encountered in true_divide\n",
      "  self.ivar = 1/self.grism.data['ERR']**2\n"
     ]
    },
    {
     "name": "stdout",
     "output_type": "stream",
     "text": [
      "5 icxt51jvq_flt.fits G102\n",
      "6 icxt51jwq_flt.fits G102\n",
      "7 icxt51jzq_flt.fits G102\n",
      "8 icxt51k1q_flt.fits G102\n",
      "9 ib3712lkq_flt.fits G141\n",
      "10 ib3712lyq_flt.fits G141\n",
      "11 ib3712maq_flt.fits G141\n",
      "12 ib3712meq_flt.fits G141\n"
     ]
    },
    {
     "name": "stderr",
     "output_type": "stream",
     "text": [
      "/Users/vestrada/miniconda3/envs/astroconda/lib/python3.5/site-packages/grizli-0.13.0_167_g5e9ee7c-py3.5-macosx-10.6-x86_64.egg/grizli/multifit.py:1433: RuntimeWarning: divide by zero encountered in true_divide\n",
      "  beam.ivarf = 1./(1/beam.ivarf + (sys_err*beam.scif)**2)\n",
      "/Users/vestrada/miniconda3/envs/astroconda/lib/python3.5/site-packages/grizli-0.13.0_167_g5e9ee7c-py3.5-macosx-10.6-x86_64.egg/grizli/multifit.py:1573: RuntimeWarning: invalid value encountered in sqrt\n",
      "  self.sivarf = np.sqrt(self.ivarf)\n",
      "/Users/vestrada/miniconda3/envs/astroconda/lib/python3.5/site-packages/grizli-0.13.0_167_g5e9ee7c-py3.5-macosx-10.6-x86_64.egg/grizli/multifit.py:1578: RuntimeWarning: invalid value encountered in sqrt\n",
      "  self.weightf = np.exp(-(self.fcontam*np.abs(self.contamf)*np.sqrt(self.ivarf)))\n",
      "/Users/vestrada/miniconda3/envs/astroconda/lib/python3.5/site-packages/grizli-0.13.0_167_g5e9ee7c-py3.5-macosx-10.6-x86_64.egg/grizli/model.py:557: RuntimeWarning: divide by zero encountered in true_divide\n",
      "  self.optimal_profile = m/m.sum(axis=0)\n",
      "/Users/vestrada/miniconda3/envs/astroconda/lib/python3.5/site-packages/grizli-0.13.0_167_g5e9ee7c-py3.5-macosx-10.6-x86_64.egg/grizli/model.py:557: RuntimeWarning: invalid value encountered in true_divide\n",
      "  self.optimal_profile = m/m.sum(axis=0)\n"
     ]
    },
    {
     "name": "stdout",
     "output_type": "stream",
     "text": [
      "1 icat12tqq_flt.fits G102\n",
      "2 icat12tvq_flt.fits G102\n",
      "3 icat12u2q_flt.fits G102\n",
      "4 icat12u7q_flt.fits G102\n",
      "5 icxt51jvq_flt.fits G102\n",
      "6 icxt51jwq_flt.fits G102\n",
      "7 icxt51jzq_flt.fits G102\n",
      "8 icxt51k1q_flt.fits G102\n",
      "9 ib3712lkq_flt.fits G141\n",
      "10 ib3712lyq_flt.fits G141\n",
      "11 ib3712maq_flt.fits G141\n",
      "12 ib3712meq_flt.fits G141\n"
     ]
    },
    {
     "data": {
      "image/png": "[encoded data removed]",
      "text/plain": [
       "<Figure size 1080x360 with 1 Axes>"
      ]
     },
     "metadata": {
      "image/png": {
       "height": 299,
       "width": 867
      }
     },
     "output_type": "display_data"
    }
   ],
   "source": [
    "plt.figure(figsize = [15,5])\n",
    "\n",
    "for i in SXdb.index:\n",
    "    if SXdb.zgrism[i] > 0:\n",
    "        rshift = SXdb.zgrism[i]\n",
    "    else:\n",
    "        rshift = SXdb.z_grizli[i]\n",
    "    \n",
    "    Gs= Gen_SF_spec(SXdb.field[i], SXdb.id[i], rshift, mask = False)\n",
    "    \n",
    "#     plt.figure(figsize = [15,5])\n",
    "    \n",
    "    if Gs.g102:\n",
    "        plt.errorbar(np.log10(Gs.Bwv_rf),Gs.Bfl *1E18,Gs.Ber *1E18,\n",
    "                linestyle='None', marker='o', markersize=0.25, color='#36787A', zorder = 2, elinewidth = 0.4)\n",
    "\n",
    "    if Gs.g141:\n",
    "        plt.errorbar(np.log10(Gs.Rwv_rf),Gs.Rfl *1E18,Gs.Rer *1E18,\n",
    "                linestyle='None', marker='o', markersize=0.25, color='#EA2E3B', zorder = 2, elinewidth = 0.4)\n",
    "\n",
    "#     plt.errorbar(np.log10(Gs.Pwv_rf),Gs.Pflx*1E18,Gs.Perr*1E18,\n",
    "#             linestyle='None', marker='o', markersize=7, markerfacecolor='#B5677D', zorder = 1,\n",
    "#                  markeredgecolor = '#685877',markeredgewidth = 1, label = '{0}-{1}'.format(SXdb.field[i], SXdb.id[i]))\n"
   ]
  },
  {
   "cell_type": "code",
   "execution_count": null,
   "metadata": {},
   "outputs": [],
   "source": [
    "flxgrid = []\n",
    "errgrid = []\n",
    "swave = np.arange(3000,8000,10)\n",
    "\n",
    "for i in SXdb.index:\n",
    "    field = SXdb.field[i]\n",
    "    galaxy = SXdb.id[i]\n",
    "\n",
    "    if Bdb.zgrism[i] > 0:\n",
    "        rshift = Bdb.zgrism[i]\n",
    "    else:\n",
    "        rshift = Bdb.z_grizli[i]\n",
    "\n",
    "    \n",
    "    flist = glob('../data/posteriors/{}_{}_*_Pm*.npy'.format(field,galaxy))\n",
    "\n",
    "\n",
    "    for f in flist:\n",
    "        ext = re.split('{}_{}_'.format(field,galaxy),re.split('_Pm[0-9].npy', os.path.basename(f))[0])[1]\n",
    "        if ext in ['tabfit', 'SFfit_p1']:\n",
    "            fext = ext\n",
    "            break\n",
    "\n",
    "    if fext == 'tabfit':\n",
    "        m, a, m1, m2, m3, m4, m5, m6, m7, m8, m9, m10, lm, z, d, \\\n",
    "        bp1, rp1, ba, bb, bl, ra, rb, rl, lwa, logl = np.load(\n",
    "            '../data/bestfits/{0}_{1}_tabfit_bfit.npy'.format(field, galaxy))\n",
    "        \n",
    "        sp = fsps.StellarPopulation(zcontinuous = 1, logzsol = 0, sfh = 3, dust_type = 1)\n",
    "        sp.params['dust2'] = d\n",
    "        sp.params['dust1'] = d\n",
    "        sp.params['logzsol'] = np.log10(m)\n",
    "        time, sfr, tmax = convert_sfh(get_agebins(a), [m1, m2, m3, m4, m5, m6, m7, m8, m9, m10], maxage = a*1E9)\n",
    "\n",
    "        \n",
    "    else:\n",
    "        m, a, m1, m2, m3, m4, m5, m6, lm, d, \\\n",
    "        bp1, rp1, ba, bb, bl, ra, rb, rl, lwa, logl = np.load(\n",
    "            '../data/bestfits/{0}_{1}_SFfit_p1_bfit.npy'.format(field, galaxy))\n",
    "        \n",
    "        sp = fsps.StellarPopulation(zcontinuous = 1, logzsol = 0, sfh = 3, dust_type = 2)\n",
    "        sp.params['dust2'] = d\n",
    "        sp.params['dust1'] = 0\n",
    "        sp.params['logzsol'] = np.log10(m)\n",
    "        time, sfr, tmax = convert_sfh(get_agebins(a, binnum=6), [m1, m2, m3, m4, m5, m6], maxage = a*1E9)\n",
    "\n",
    "        ######### up to here ##############\n",
    "        \n",
    "    Gs = Gen_spec(field, galaxy, z, phot_errterm = 0.04, irac_err = 0.08) \n",
    "\n",
    "    wvs, flxs, errs, beams, trans = Gather_grism_data(Gs)\n",
    "\n",
    "    sp.set_tabular_sfh(time,sfr)    \n",
    "\n",
    "    wave, flux = sp.get_spectrum(tage = a, peraa = True)    \n",
    "\n",
    "    Gmfl, Pmfl = Full_forward_model(Gs, wave, F_lam_per_M(flux,wave*(1+z),z,0,sp.stellar_mass)*10**lm, z, \n",
    "                                    wvs, flxs, errs, beams, trans)\n",
    "\n",
    "    MFLX = F_lam_per_M(flux,wave*(1+z),z,0,sp.stellar_mass)*10**lm\n",
    "\n",
    "    IDX = [U for U in range(len(wave)) if 6000 < wave[U] < 6500]\n",
    "\n",
    "    Nfact = np.trapz(MFLX[IDX],wave[IDX])\n",
    "\n",
    "    sidx = 0\n",
    "    sflux = np.zeros(len(swave))\n",
    "    serror = np.zeros(len(swave))\n",
    "\n",
    "    if Gs.g102:\n",
    "        bcal = Calibrate_grism([wvs[sidx], flxs[sidx], errs[sidx]], Gmfl[sidx], bp1)[0]\n",
    "        bscale = Scale_model( flxs[sidx] / bcal,errs[sidx]/ bcal,Gmfl[sidx])\n",
    "        iBflx =interp1d(Gs.Bwv_rf,flxs[sidx] / bcal/ bscale / Nfact, fill_value=0, bounds_error=False)(swave)\n",
    "        iBerr =interp1d(Gs.Bwv_rf,errs[sidx] / bcal/ bscale / Nfact, fill_value=0, bounds_error=False)(swave)\n",
    "        sflux += iBflx\n",
    "        serror += iBerr\n",
    "\n",
    "        sidx += 1\n",
    "\n",
    "    if Gs.g141:\n",
    "        rcal = Calibrate_grism([wvs[sidx], flxs[sidx], errs[sidx]], Gmfl[sidx], rp1)[0]\n",
    "        rscale =Scale_model( flxs[sidx] / rcal,errs[sidx]/ rcal,Gmfl[sidx])\n",
    "        iRflx =interp1d(Gs.Rwv_rf,flxs[sidx] / rcal/ rscale / Nfact, fill_value=0, bounds_error=False)(swave)\n",
    "        iRerr =interp1d(Gs.Rwv_rf,errs[sidx] / rcal/ rscale / Nfact, fill_value=0, bounds_error=False)(swave)\n",
    "        sflux += iRflx\n",
    "        serror += iRerr\n",
    "\n",
    "    serror[serror == 0] = 1E5\n",
    "\n",
    "    flxgrid.append(sflux)\n",
    "    errgrid.append(serror)        "
   ]
  }
 ],
 "metadata": {
  "kernelspec": {
   "display_name": "Python 3",
   "language": "python",
   "name": "python3"
  },
  "language_info": {
   "codemirror_mode": {
    "name": "ipython",
    "version": 3
   },
   "file_extension": ".py",
   "mimetype": "text/x-python",
   "name": "python",
   "nbconvert_exporter": "python",
   "pygments_lexer": "ipython3",
   "version": "3.5.5"
  }
 },
 "nbformat": 4,
 "nbformat_minor": 2
}
