{
 "cells": [
  {
   "cell_type": "code",
   "execution_count": 4,
   "metadata": {},
   "outputs": [],
   "source": [
    "import numpy as np\n",
    "import matplotlib.pyplot as plt\n",
    "from matplotlib.gridspec import GridSpec\n",
    "import seaborn as sea\n",
    "import pandas as pd\n",
    "from spec_exam import Gen_spec\n",
    "import os\n",
    "from astropy.io import fits\n",
    "from astropy.table import Table\n",
    "import fsps\n",
    "import img_scale\n",
    "from glob import glob\n",
    "from astropy.wcs import wcs\n",
    "sea.set(style='white')\n",
    "sea.set(style='ticks')\n",
    "sea.set_style({'xtick.direct'\n",
    "               'ion': 'in','xtick.top':True,'xtick.minor.visible': True,\n",
    "               'ytick.direction': \"in\",'ytick.right': True,'ytick.minor.visible': True})\n",
    "cmap = sea.cubehelix_palette(12, start=2, rot=.2, dark=0, light=1.0, as_cmap=True)\n",
    "%config InlineBackend.figure_format = 'retina'\n",
    "%matplotlib inline\n",
    "\n",
    "### set home for files\n",
    "hpath = os.environ['HOME'] + '/'"
   ]
  },
  {
   "cell_type": "code",
   "execution_count": 5,
   "metadata": {},
   "outputs": [
    {
     "name": "stdout",
     "output_type": "stream",
     "text": [
      "cleaned\n"
     ]
    },
    {
     "name": "stderr",
     "output_type": "stream",
     "text": [
      "/Users/vestrada/miniconda3/envs/astroconda/lib/python3.5/site-packages/grizli-0.8.0_4_g1153432-py3.5-macosx-10.6-x86_64.egg/grizli/model.py:548: RuntimeWarning: invalid value encountered in true_divide\n",
      "  self.optimal_profile = m/m.sum(axis=0)\n",
      "/Users/vestrada/miniconda3/envs/astroconda/lib/python3.5/site-packages/grizli-0.8.0_4_g1153432-py3.5-macosx-10.6-x86_64.egg/grizli/model.py:3423: RuntimeWarning: divide by zero encountered in true_divide\n",
      "  self.ivar = 1/self.grism.data['ERR']**2\n"
     ]
    }
   ],
   "source": [
    "sp = fsps.StellarPopulation(imf_type = 2, tpagb_norm_type=0, zcontinuous = 3, sfh = 3, dust_type = 1)\n",
    "\n",
    "Gs = Gen_spec('GND', 21156, 1.25257,\n",
    "               g102_lims=[8300, 11288], g141_lims=[11288, 16500],mdl_err = False,\n",
    "            phot_errterm = 0.0, decontam = True) "
   ]
  },
  {
   "cell_type": "code",
   "execution_count": 49,
   "metadata": {},
   "outputs": [],
   "source": [
    "def Covariance(wave, flux, error, a, b, l):\n",
    "    A =  a**2*np.diag(error**2)\n",
    "    \n",
    "    lam1 =np.array([wave]).T * np.ones([len(wave),len(wave)])\n",
    "    lam2 =np.array([wave]) * np.ones([len(wave),len(wave)])\n",
    "    \n",
    "    fmax = flux.max()\n",
    "    dlam = wave[ -1] - wave[0]\n",
    "    \n",
    "    DLAM = lam1 - lam2\n",
    "\n",
    "    B = (b * fmax)**2 * np.exp(-DLAM**2 / (2 * (l * dlam)**2))\n",
    "    \n",
    "    return A + B"
   ]
  },
  {
   "cell_type": "code",
   "execution_count": 116,
   "metadata": {},
   "outputs": [],
   "source": [
    "C = Covariance(Gs.Bwv,Gs.Bfl,Gs.Ber, 0.1, .1,1)"
   ]
  },
  {
   "cell_type": "code",
   "execution_count": 117,
   "metadata": {},
   "outputs": [
    {
     "data": {
      "text/plain": [
       "<matplotlib.image.AxesImage at 0x1a886f2860>"
      ]
     },
     "execution_count": 117,
     "metadata": {},
     "output_type": "execute_result"
    },
    {
     "data": {
      "image/png": "[encoded data removed]",
      "text/plain": [
       "<Figure size 432x288 with 1 Axes>"
      ]
     },
     "metadata": {
      "image/png": {
       "height": 251,
       "width": 255
      }
     },
     "output_type": "display_data"
    }
   ],
   "source": [
    "plt.imshow(C)"
   ]
  },
  {
   "cell_type": "code",
   "execution_count": 109,
   "metadata": {},
   "outputs": [
    {
     "data": {
      "text/plain": [
       "array([-230.2585093])"
      ]
     },
     "execution_count": 109,
     "metadata": {},
     "output_type": "execute_result"
    }
   ],
   "source": [
    "np.log(np.clip([np.linalg.det(C)],1E-100,np.inf))\n"
   ]
  },
  {
   "cell_type": "code",
   "execution_count": 98,
   "metadata": {},
   "outputs": [
    {
     "name": "stderr",
     "output_type": "stream",
     "text": [
      "/Users/vestrada/miniconda3/envs/astroconda/lib/python3.5/site-packages/ipykernel_launcher.py:1: RuntimeWarning: divide by zero encountered in log\n",
      "  \"\"\"Entry point for launching an IPython kernel.\n"
     ]
    },
    {
     "data": {
      "text/plain": [
       "-inf"
      ]
     },
     "execution_count": 98,
     "metadata": {},
     "output_type": "execute_result"
    }
   ],
   "source": [
    "np.log(np.linalg.det(C).astype(np.float128))"
   ]
  },
  {
   "cell_type": "code",
   "execution_count": 111,
   "metadata": {},
   "outputs": [
    {
     "data": {
      "text/plain": [
       "-10997.442653416138"
      ]
     },
     "execution_count": 111,
     "metadata": {},
     "output_type": "execute_result"
    }
   ],
   "source": [
    "sign, logdet = np.linalg.slogdet(C)\n",
    "logdet"
   ]
  },
  {
   "cell_type": "code",
   "execution_count": 103,
   "metadata": {},
   "outputs": [
    {
     "data": {
      "text/plain": [
       "array([[ 1.48367486e+37, -2.39385482e+33, -2.80478246e+33, ...,\n",
       "         2.10726613e+23,  2.58831339e+23,  2.53707954e+23],\n",
       "       [-2.39385482e+33,  1.41368064e+37, -2.69784472e+33, ...,\n",
       "         1.57757825e+23,  2.35203650e+23,  2.51372289e+23],\n",
       "       [-2.80478246e+33, -2.69784472e+33,  1.67256051e+37, ...,\n",
       "         8.62737646e+22,  2.31409780e+23,  2.89876410e+23],\n",
       "       ...,\n",
       "       [ 2.10726613e+23,  1.57757825e+23,  8.62737646e+22, ...,\n",
       "         1.66357011e+38, -3.18417714e+35, -2.90762776e+35],\n",
       "       [ 2.58831339e+23,  2.35203650e+23,  2.31409780e+23, ...,\n",
       "        -3.18417714e+35,  1.70634405e+38, -3.01433617e+35],\n",
       "       [ 2.53707954e+23,  2.51372289e+23,  2.89876410e+23, ...,\n",
       "        -2.90762776e+35, -3.01433617e+35,  1.57219595e+38]])"
      ]
     },
     "execution_count": 103,
     "metadata": {},
     "output_type": "execute_result"
    }
   ],
   "source": [
    "np.linalg.inv(C)"
   ]
  },
  {
   "cell_type": "code",
   "execution_count": null,
   "metadata": {},
   "outputs": [],
   "source": []
  }
 ],
 "metadata": {
  "kernelspec": {
   "display_name": "Python 3",
   "language": "python",
   "name": "python3"
  },
  "language_info": {
   "codemirror_mode": {
    "name": "ipython",
    "version": 3
   },
   "file_extension": ".py",
   "mimetype": "text/x-python",
   "name": "python",
   "nbconvert_exporter": "python",
   "pygments_lexer": "ipython3",
   "version": "3.5.5"
  }
 },
 "nbformat": 4,
 "nbformat_minor": 2
}
