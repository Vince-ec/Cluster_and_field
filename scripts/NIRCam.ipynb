{
 "cells": [
  {
   "cell_type": "code",
   "execution_count": 1,
   "metadata": {},
   "outputs": [
    {
     "name": "stdout",
     "output_type": "stream",
     "text": [
      "The following task in the stsci.skypac package can be run with TEAL:\n",
      "                                    skymatch                                    \n",
      "The following tasks in the drizzlepac package can be run with TEAL:\n",
      "    astrodrizzle       imagefindpars           mapreg              photeq       \n",
      "     pixreplace           pixtopix            pixtosky        refimagefindpars  \n",
      "     resetbits          runastrodriz          skytopix           tweakback      \n",
      "      tweakreg           updatenpol\n",
      "\n",
      " grizli version: 1.0.dev1398\n"
     ]
    }
   ],
   "source": [
    "import os\n",
    "import glob\n",
    "from collections import OrderedDict\n",
    "\n",
    "import matplotlib as mpl    \n",
    "import matplotlib.pyplot as plt    \n",
    "import matplotlib.gridspec\n",
    "mpl.rcParams['figure.figsize'] = (10.0, 6.0)\n",
    "mpl.rcParams['font.size'] = 14\n",
    "mpl.rcParams['savefig.dpi'] = 72\n",
    "\n",
    "import numpy as np\n",
    "\n",
    "from astropy.io import fits\n",
    "import astropy.wcs \n",
    "from astropy.table import Table\n",
    "from astropy.coordinates import SkyCoord\n",
    "import astropy.units as u\n",
    "    \n",
    "import drizzlepac\n",
    "\n",
    "import pysynphot as S\n",
    "\n",
    "import grizli\n",
    "import grizli.fake_image\n",
    "\n",
    "print('\\n grizli version: %s' %(grizli.__version__))\n",
    "\n",
    "%matplotlib inline\n"
   ]
  },
  {
   "cell_type": "code",
   "execution_count": 2,
   "metadata": {},
   "outputs": [],
   "source": [
    "# Work in /tmp for now\n",
    "os.chdir('/tmp/')"
   ]
  },
  {
   "cell_type": "code",
   "execution_count": 12,
   "metadata": {},
   "outputs": [],
   "source": [
    "\n",
    "## Fetch WFC3/IR F140W images of the UDF\n",
    "if not os.path.exists('hlsp_xdf_hst_wfc3ir-60mas_hudf_f140w_v1_sci.fits'):\n",
    "    url = 'https://archive.stsci.edu/missions/hlsp/xdf/'\n",
    "    wget='wget --no-check-certificate'\n",
    "    os.system('%s %s/hlsp_xdf_hst_wfc3ir-60mas_hudf_f140w_v1_sci.fits' %(wget, url))\n",
    "    os.system('%s %s/hlsp_xdf_hst_wfc3ir-60mas_hudf_f140w_v1_wht.fits' %(wget, url))\n",
    "    \n",
    "## 3D-HST photometry around the HUDF field, and an extension with best-fit photo-z SED\n",
    "if not os.path.exists('udf_3dhst_cat.fits'):\n",
    "    os.system('wget http://www.stsci.edu/~brammer/Grizli/Demos/udf_3dhst_cat.fits')"
   ]
  },
  {
   "cell_type": "code",
   "execution_count": 14,
   "metadata": {},
   "outputs": [
    {
     "name": "stdout",
     "output_type": "stream",
     "text": [
      "udf_f140w_photutils: photutils.detect_sources (detect_thresh=1.4, grow_seg=3, gauss_fwhm=2.0, ZP=26.5)\n",
      "udf_f140w_photutils: photutils.source_properties\n",
      "Rename column: xcentroid -> x_flt\n",
      "Rename column: ycentroid -> y_flt\n",
      "\u001b[1A\u001b[1Mudf_f140w_photutils: photutils.source_properties - 3354 objects\n"
     ]
    }
   ],
   "source": [
    "## Make an object catalog / segmentation image with photutils\n",
    "sci = fits.open('hlsp_xdf_hst_wfc3ir-60mas_hudf_f140w_v1_sci.fits')\n",
    "wht = fits.open('hlsp_xdf_hst_wfc3ir-60mas_hudf_f140w_v1_wht.fits')\n",
    "rms = 1/np.sqrt(wht[0].data)\n",
    "rms[~np.isfinite(rms)] = 1000\n",
    "dq = rms > 900\n",
    "wcs = astropy.wcs.WCS(sci[0].header)\n",
    "\n",
    "# Run the detection with the grizli / photutils wrapper\n",
    "from grizli.utils import detect_with_photutils\n",
    "cat, seg = detect_with_photutils(sci[0].data, err=rms, dq=dq, seg=None, \n",
    "                                 detect_thresh=1.4, npixels=6, grow_seg=3, \n",
    "                                 gauss_fwhm=2.0, gsize=3, wcs=wcs, save_detection=False, \n",
    "                                 root='udf_f140w_photutils', background=None, gain=None, \n",
    "                                 AB_zeropoint=26.452, \n",
    "                                 rename_columns={'ycentroid': 'y_flt', 'xcentroid': 'x_flt', \n",
    "                                                 'dec_icrs_centroid': 'dec', \n",
    "                                                 'ra_icrs_centroid': 'ra'}, \n",
    "                                 verbose=True)\n",
    "\n",
    "# code expects this columns later....\n",
    "cat['NUMBER'] = cat['id']"
   ]
  },
  {
   "cell_type": "code",
   "execution_count": 20,
   "metadata": {},
   "outputs": [],
   "source": [
    "# Get matches from 3D-HST catalog\n",
    "ref_3dhst = fits.open('udf_3dhst_cat.fits')\n",
    "ref_cat = Table.read(ref_3dhst[1])\n",
    "\n",
    "gs = SkyCoord(ra=ref_cat['ra']*u.degree, dec=ref_cat['dec']*u.degree)\n",
    "cat_rd = SkyCoord(ra=cat['sky_centroid'].ra, dec=cat['sky_centroid'].dec)\n",
    "\n",
    "gs_idx, d2d, d3d = cat_rd.match_to_catalog_sky(gs)\n",
    "has_gs_match = np.where(d2d < 2*u.arcsec)[0]\n",
    "\n",
    "# Use 3D-HST mags because quick photutils catalog has some issues, \n",
    "# perhaps related to background subtraction\n",
    "gs_mag = 25-2.5*np.log10(ref_cat['F204'])\n",
    "cat['MAG_AUTO'] = gs_mag[gs_idx] \n",
    "cat.write('udf_f140w_photutils.cat', format='ascii.commented_header')\n",
    "\n",
    "fits.writeto('udf_f140w_photutils_seg.fits', data=np.cast[int](seg), \n",
    "             header=sci[0].header, clobber=True)"
   ]
  },
  {
   "cell_type": "code",
   "execution_count": 30,
   "metadata": {},
   "outputs": [
    {
     "name": "stdout",
     "output_type": "stream",
     "text": [
      "Filter: F356W, Background: 0.9 e/s/pix, RN: 9 e/exp\n",
      "Filter: F356W, Background: 0.9 e/s/pix, RN: 9 e/exp\n",
      "Filter: F444W, Background: 3.0 e/s/pix, RN: 9 e/exp\n",
      "Filter: F444W, Background: 3.0 e/s/pix, RN: 9 e/exp\n",
      "Filter: F410M, Background: 0.5 e/s/pix, RN: 9 e/exp\n",
      "Filter: F410M, Background: 0.5 e/s/pix, RN: 9 e/exp\n"
     ]
    }
   ],
   "source": [
    "## Setup fake images, cendered in the UDF/XDF\n",
    "ra, dec = 53.1592277508136, -27.782056346146\n",
    "pa_aper = 128.589\n",
    "\n",
    "np.random.seed(1)\n",
    "# Crude exposure parameters.  Rough read noise and backgrounds coded in \n",
    "# grizli.fake_image to make some reasonable noise estimate\n",
    "EXPTIME = 1.e4 # 10 ks ~ 4 HST orbits\n",
    "NEXP = 10      # divided between 10 exposures\n",
    "\n",
    "# JWST NIRISS, three filters & two orients\n",
    "for filt in ['F356W', 'F444W', 'F410M']:\n",
    "    for theta in [0,90]:\n",
    "        h, wcs = grizli.fake_image.nircam_header(filter=filt, ra=ra, dec=dec, \n",
    "                                                 pa_aper=pa_aper+theta)\n",
    "        print('Filter: {filter}, Background: {bg} e/s/pix, RN: {RN} e/exp'.format(filter=filt, \n",
    "                                                        bg=h['BACKGR'], RN=h['READN']))\n",
    "        output = 'nircam_{filt}_{theta:02d}_flt.fits'.format(filt=filt, theta=theta)\n",
    "        grizli.fake_image.make_fake_image(h, output=output, exptime=EXPTIME, nexp=NEXP)"
   ]
  },
  {
   "cell_type": "code",
   "execution_count": 3,
   "metadata": {},
   "outputs": [
    {
     "data": {
      "text/plain": [
       "['nircam_F356W_00_flt.fits',\n",
       " 'nircam_F356W_90_flt.fits',\n",
       " 'nircam_F410M_00_flt.fits',\n",
       " 'nircam_F410M_90_flt.fits',\n",
       " 'nircam_F444W_00_flt.fits',\n",
       " 'nircam_F444W_90_flt.fits',\n",
       " 'niriss_F356W_00_flt.fits',\n",
       " 'niriss_F356W_90_flt.fits',\n",
       " 'niriss_F410M_00_flt.fits',\n",
       " 'niriss_F410M_90_flt.fits',\n",
       " 'niriss_F444W_00_flt.fits',\n",
       " 'niriss_F444W_90_flt.fits']"
      ]
     },
     "execution_count": 3,
     "metadata": {},
     "output_type": "execute_result"
    }
   ],
   "source": [
    "glob.glob('n*')"
   ]
  },
  {
   "cell_type": "code",
   "execution_count": 4,
   "metadata": {},
   "outputs": [
    {
     "data": {
      "text/plain": [
       "'/private/tmp'"
      ]
     },
     "execution_count": 4,
     "metadata": {},
     "output_type": "execute_result"
    }
   ],
   "source": [
    "pwd"
   ]
  },
  {
   "cell_type": "code",
   "execution_count": 6,
   "metadata": {},
   "outputs": [
    {
     "ename": "UnboundLocalError",
     "evalue": "local variable 'conf_file' referenced before assignment",
     "output_type": "error",
     "traceback": [
      "\u001b[0;31m---------------------------------------------------------------------------\u001b[0m",
      "\u001b[0;31mRemoteTraceback\u001b[0m                           Traceback (most recent call last)",
      "\u001b[0;31mRemoteTraceback\u001b[0m: \n\"\"\"\nTraceback (most recent call last):\n  File \"/Users/vestrada/miniconda3/envs/astroconda/lib/python3.5/multiprocessing/pool.py\", line 119, in worker\n    result = (True, func(*args, **kwds))\n  File \"/Users/vestrada/miniconda3/envs/astroconda/lib/python3.5/site-packages/grizli-1.0.dev1398-py3.5-macosx-10.6-x86_64.egg/grizli/multifit.py\", line 184, in _loadFLT\n    verbose=verbose)\n  File \"/Users/vestrada/miniconda3/envs/astroconda/lib/python3.5/site-packages/grizli-1.0.dev1398-py3.5-macosx-10.6-x86_64.egg/grizli/model.py\", line 2313, in __init__\n    self.grism.ccdchip)\n  File \"/Users/vestrada/miniconda3/envs/astroconda/lib/python3.5/site-packages/grizli-1.0.dev1398-py3.5-macosx-10.6-x86_64.egg/grizli/grismconf.py\", line 555, in get_config_filename\n    return conf_file\nUnboundLocalError: local variable 'conf_file' referenced before assignment\n\"\"\"",
      "\nThe above exception was the direct cause of the following exception:\n",
      "\u001b[0;31mUnboundLocalError\u001b[0m                         Traceback (most recent call last)",
      "\u001b[0;32m<ipython-input-6-cc94b3c04896>\u001b[0m in \u001b[0;36m<module>\u001b[0;34m()\u001b[0m\n\u001b[1;32m      5\u001b[0m                                \u001b[0mseg_file\u001b[0m\u001b[0;34m=\u001b[0m\u001b[0;34m'udf_f140w_photutils_seg.fits'\u001b[0m\u001b[0;34m,\u001b[0m\u001b[0;34m\u001b[0m\u001b[0m\n\u001b[1;32m      6\u001b[0m                                \u001b[0mcatalog\u001b[0m\u001b[0;34m=\u001b[0m\u001b[0;34m'udf_f140w_photutils.cat'\u001b[0m\u001b[0;34m,\u001b[0m\u001b[0;34m\u001b[0m\u001b[0m\n\u001b[0;32m----> 7\u001b[0;31m                                 pad=200)\n\u001b[0m",
      "\u001b[0;32m~/miniconda3/envs/astroconda/lib/python3.5/site-packages/grizli-1.0.dev1398-py3.5-macosx-10.6-x86_64.egg/grizli/multifit.py\u001b[0m in \u001b[0;36m__init__\u001b[0;34m(self, grism_files, sci_extn, direct_files, pad, group_name, ref_file, ref_ext, seg_file, shrink_segimage, verbose, cpu_count, catalog, polyx, MW_EBV)\u001b[0m\n\u001b[1;32m    393\u001b[0m \u001b[0;34m\u001b[0m\u001b[0m\n\u001b[1;32m    394\u001b[0m             \u001b[0;32mfor\u001b[0m \u001b[0mres\u001b[0m \u001b[0;32min\u001b[0m \u001b[0mresults\u001b[0m\u001b[0;34m:\u001b[0m\u001b[0;34m\u001b[0m\u001b[0m\n\u001b[0;32m--> 395\u001b[0;31m                 \u001b[0mflt_i\u001b[0m \u001b[0;34m=\u001b[0m \u001b[0mres\u001b[0m\u001b[0;34m.\u001b[0m\u001b[0mget\u001b[0m\u001b[0;34m(\u001b[0m\u001b[0mtimeout\u001b[0m\u001b[0;34m=\u001b[0m\u001b[0;36m1\u001b[0m\u001b[0;34m)\u001b[0m\u001b[0;34m\u001b[0m\u001b[0m\n\u001b[0m\u001b[1;32m    396\u001b[0m                 \u001b[0;31m#flt_i.catalog = cat_i\u001b[0m\u001b[0;34m\u001b[0m\u001b[0;34m\u001b[0m\u001b[0m\n\u001b[1;32m    397\u001b[0m \u001b[0;34m\u001b[0m\u001b[0m\n",
      "\u001b[0;32m~/miniconda3/envs/astroconda/lib/python3.5/multiprocessing/pool.py\u001b[0m in \u001b[0;36mget\u001b[0;34m(self, timeout)\u001b[0m\n\u001b[1;32m    642\u001b[0m             \u001b[0;32mreturn\u001b[0m \u001b[0mself\u001b[0m\u001b[0;34m.\u001b[0m\u001b[0m_value\u001b[0m\u001b[0;34m\u001b[0m\u001b[0m\n\u001b[1;32m    643\u001b[0m         \u001b[0;32melse\u001b[0m\u001b[0;34m:\u001b[0m\u001b[0;34m\u001b[0m\u001b[0m\n\u001b[0;32m--> 644\u001b[0;31m             \u001b[0;32mraise\u001b[0m \u001b[0mself\u001b[0m\u001b[0;34m.\u001b[0m\u001b[0m_value\u001b[0m\u001b[0;34m\u001b[0m\u001b[0m\n\u001b[0m\u001b[1;32m    645\u001b[0m \u001b[0;34m\u001b[0m\u001b[0m\n\u001b[1;32m    646\u001b[0m     \u001b[0;32mdef\u001b[0m \u001b[0m_set\u001b[0m\u001b[0;34m(\u001b[0m\u001b[0mself\u001b[0m\u001b[0;34m,\u001b[0m \u001b[0mi\u001b[0m\u001b[0;34m,\u001b[0m \u001b[0mobj\u001b[0m\u001b[0;34m)\u001b[0m\u001b[0;34m:\u001b[0m\u001b[0;34m\u001b[0m\u001b[0m\n",
      "\u001b[0;31mUnboundLocalError\u001b[0m: local variable 'conf_file' referenced before assignment"
     ]
    }
   ],
   "source": [
    "from grizli import multifit\n",
    "# Load GroupFLT for simulation, NB: input files are just noise\n",
    "sim = multifit.GroupFLT(grism_files=glob.glob('nircam_*flt.fits'), direct_files=[], \n",
    "                               ref_file='hlsp_xdf_hst_wfc3ir-60mas_hudf_f140w_v1_sci.fits', \n",
    "                               seg_file='udf_f140w_photutils_seg.fits', \n",
    "                               catalog='udf_f140w_photutils.cat',\n",
    "                                pad=200)"
   ]
  },
  {
   "cell_type": "code",
   "execution_count": null,
   "metadata": {},
   "outputs": [],
   "source": []
  },
  {
   "cell_type": "code",
   "execution_count": null,
   "metadata": {},
   "outputs": [],
   "source": [
    "sim.compute_full_model(mag_limit=27)\n"
   ]
  },
  {
   "cell_type": "code",
   "execution_count": null,
   "metadata": {},
   "outputs": [],
   "source": [
    "# Compute model grism spectra for 3D-HST matches based on full photo-z templates\n",
    "detection_bp = S.ObsBandpass('wfc3,ir,f140w')\n",
    "for ix in has_gs_match:\n",
    "    templ = ref_3dhst['WAVE'].data*(1+ref_cat['zbest'][gs_idx[ix]])\n",
    "    tempf = ref_3dhst['FLAMBDA'].data[gs_idx[ix],:]\n",
    "    # Needs to be normalized to unity in the detection band\n",
    "    spec = S.ArraySpectrum(wave=templ, flux=tempf, waveunits='angstroms', fluxunits='flam')\n",
    "    spec = spec.renorm(1., 'flam', detection_bp)\n",
    "\n",
    "    id = cat['id'][ix]\n",
    "    #print(id)\n",
    "    sim.compute_single_model(id, mag=cat['MAG_AUTO'][ix], size=-1, store=False, \n",
    "                             spectrum_1d=[spec.wave, spec.flux], get_beams=None, \n",
    "                             in_place=True)"
   ]
  },
  {
   "cell_type": "code",
   "execution_count": null,
   "metadata": {},
   "outputs": [],
   "source": [
    "\n",
    "# Blotted reference image \n",
    "# \"grism\" exposures are still empty, just noise\n",
    "fig = plt.figure(figsize=[9,9*2./3])\n",
    "for ix, i in enumerate([0,2,4,1,3,5]):\n",
    "    ax = fig.add_subplot(2,3,ix+1)\n",
    "    ax.imshow(sim.FLTs[i].direct['REF'], vmin=-0.01, vmax=0.05, cmap='viridis', \n",
    "              origin='lower')\n",
    "    ax.set_xticklabels([]); ax.set_yticklabels([])\n",
    "    ax.grid(color='w', alpha=0.8)\n",
    "    ax.text(100,100,sim.FLTs[i].grism_file, color='w', size=10, ha='left', va='bottom')\n",
    "fig.tight_layout(pad=0.1)"
   ]
  },
  {
   "cell_type": "code",
   "execution_count": 27,
   "metadata": {},
   "outputs": [
    {
     "data": {
      "text/plain": [
       "[]"
      ]
     },
     "execution_count": 27,
     "metadata": {},
     "output_type": "execute_result"
    }
   ],
   "source": [
    "sim.FLTs"
   ]
  },
  {
   "cell_type": "code",
   "execution_count": null,
   "metadata": {},
   "outputs": [],
   "source": []
  }
 ],
 "metadata": {
  "kernelspec": {
   "display_name": "Python 3",
   "language": "python",
   "name": "python3"
  },
  "language_info": {
   "codemirror_mode": {
    "name": "ipython",
    "version": 3
   },
   "file_extension": ".py",
   "mimetype": "text/x-python",
   "name": "python",
   "nbconvert_exporter": "python",
   "pygments_lexer": "ipython3",
   "version": "3.5.5"
  }
 },
 "nbformat": 4,
 "nbformat_minor": 2
}
