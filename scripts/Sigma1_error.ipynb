{
 "cells": [
  {
   "cell_type": "code",
   "execution_count": 3,
   "metadata": {},
   "outputs": [],
   "source": [
    "import numpy as np\n",
    "import matplotlib.pyplot as plt\n",
    "import pandas as pd \n",
    "import seaborn as sea\n",
    "import os\n",
    "\n",
    "from time import time\n",
    "sea.set(style='white')\n",
    "sea.set(style='ticks')\n",
    "sea.set_style({'xtick.direct'\n",
    "               'ion': 'in','xtick.top':True,'xtick.minor.visible': True,\n",
    "               'ytick.direction': \"in\",'ytick.right': True,'ytick.minor.visible': True})\n",
    "cmap = sea.cubehelix_palette(12, start=2, rot=.2, dark=0, light=1.0, as_cmap=True)\n",
    "%config InlineBackend.figure_format = 'retina'\n",
    "%matplotlib inline\n",
    "\n",
    "### set home for files\n",
    "hpath = os.environ['HOME'] + '/'\n",
    "\n"
   ]
  },
  {
   "cell_type": "markdown",
   "metadata": {},
   "source": [
    "$\\Sigma_1 = \\Theta(r_e,n) \\Pi(L_G,L_p,M_*)$"
   ]
  },
  {
   "cell_type": "markdown",
   "metadata": {},
   "source": [
    "$\\Theta(r_e,n) = \\frac{\\int_0^1 \\phi(r_e,n) dr}{\\int_0^\\inf \\phi(r_e,n) dr}$\n",
    "\n",
    "$\\phi(r_e,n) = I_eexp(-(2n-1/3)\\left[ \\left(\\frac{r}{r_e} \\right)^{(1/n)} - 1 \\right]) 2\\pi r$ \n",
    "\n",
    "after simplification due to it being a fraction\n",
    "\n",
    "$\\phi(r_e,n) = r exp(-(2n-1/3)\\left[ \\left(\\frac{r}{r_e} \\right)^{(1/n)} - 1 \\right])$ \n"
   ]
  },
  {
   "cell_type": "markdown",
   "metadata": {},
   "source": [
    "$\\Pi(L_G,L_p,M_*) = \\frac{L_G}{Lp} \\frac{M_*}{\\pi }$"
   ]
  },
  {
   "cell_type": "markdown",
   "metadata": {},
   "source": [
    "$(\\partial \\Sigma_1)^2 = \\left(\\frac{\\partial \\Sigma_1}{\\partial r_e} \\right)^2 (\\partial r_e)^2 +\n",
    "\\left(\\frac{\\partial \\Sigma_1}{\\partial n} \\right)^2 (\\partial n)^2 +\n",
    "\\left(\\frac{\\partial \\Sigma_1}{\\partial L_G} \\right)^2 (\\partial L_G)^2 +\n",
    "\\left(\\frac{\\partial \\Sigma_1}{\\partial L_p} \\right)^2 (\\partial L_p)^2 +\n",
    "\\left(\\frac{\\partial \\Sigma_1}{\\partial M_*} \\right)^2 (\\partial M_*)^2 $ "
   ]
  },
  {
   "cell_type": "markdown",
   "metadata": {},
   "source": [
    "$(\\partial \\Sigma_1)^2 = \\left(\\frac{\\partial \\Theta}{\\partial r_e} \\Pi \\right)^2 (\\partial r_e)^2 +\n",
    "\\left(\\frac{\\partial \\Theta}{\\partial n} \\Pi\\right)^2 (\\partial n)^2 +\n",
    "\\left(\\frac{\\partial \\Pi}{\\partial L_G} \\Theta \\right)^2 (\\partial L_G)^2 +\n",
    "\\left(\\frac{\\partial \\Pi}{\\partial L_p} \\Theta \\right)^2 (\\partial L_p)^2 +\n",
    "\\left(\\frac{\\partial \\Pi}{\\partial M_*} \\Theta \\right)^2 (\\partial M_*)^2 $ "
   ]
  },
  {
   "cell_type": "markdown",
   "metadata": {},
   "source": [
    "$\\frac{\\partial \\Theta}{\\partial x} = \\frac{g'h-h'g}{h^2}$ \n",
    "\n",
    "$g(x)=\\int_0^1 \\phi(r_e,n) dr$\n",
    "\n",
    "$g'(x)=\\int_0^1 \\frac{d}{dx} \\phi(r_e,n) dr$\n",
    "\n",
    "$h(x)=\\int_0^\\inf \\phi(r_e,n) dr$\n",
    "\n",
    "$h'(x)=\\int_0^\\inf \\frac{d}{dx} \\phi(r_e,n) dr$"
   ]
  },
  {
   "cell_type": "markdown",
   "metadata": {},
   "source": [
    "$\\frac{d}{dr_e} \\phi = (2 - \\frac{1}{3n}) \\left( \\frac{r}{r_e} \\right)^{1/n +1} exp(-(2n-1/3)\\left[ \\left(\\frac{r}{r_e} \\right)^{(1/n)} - 1 \\right])$"
   ]
  },
  {
   "cell_type": "markdown",
   "metadata": {},
   "source": [
    "$\\frac{d}{dn} \\phi = r [(-2 (\\frac{r}{r_e})^{1/n} + 2) - \\frac{2n - 1/3}{n^2} (\\frac{r}{r_e})^{1/n} \\ln(\\frac{r}{r_e})] \n",
    "exp(-(2n-1/3)\\left[ \\left(\\frac{r}{r_e} \\right)^{(1/n)} - 1 \\right])$"
   ]
  },
  {
   "cell_type": "code",
   "execution_count": null,
   "metadata": {},
   "outputs": [],
   "source": []
  }
 ],
 "metadata": {
  "kernelspec": {
   "display_name": "Python 3",
   "language": "python",
   "name": "python3"
  },
  "language_info": {
   "codemirror_mode": {
    "name": "ipython",
    "version": 3
   },
   "file_extension": ".py",
   "mimetype": "text/x-python",
   "name": "python",
   "nbconvert_exporter": "python",
   "pygments_lexer": "ipython3",
   "version": "3.5.5"
  }
 },
 "nbformat": 4,
 "nbformat_minor": 2
}
