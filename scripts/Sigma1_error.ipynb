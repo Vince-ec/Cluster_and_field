{
 "cells": [
  {
   "cell_type": "code",
   "execution_count": 106,
   "metadata": {},
   "outputs": [],
   "source": [
    "import numpy as np\n",
    "import matplotlib.pyplot as plt\n",
    "import pandas as pd \n",
    "import seaborn as sea\n",
    "import os\n",
    "from astropy.table import Table\n",
    "from astropy.io import fits\n",
    "from glob import glob\n",
    "from astropy.cosmology import FlatLambdaCDM\n",
    "cosmo = FlatLambdaCDM(H0=70, Om0=0.3)\n",
    "\n",
    "from time import time\n",
    "sea.set(style='white')\n",
    "sea.set(style='ticks')\n",
    "sea.set_style({'xtick.direct'\n",
    "               'ion': 'in','xtick.top':True,'xtick.minor.visible': True,\n",
    "               'ytick.direction': \"in\",'ytick.right': True,'ytick.minor.visible': True})\n",
    "cmap = sea.cubehelix_palette(12, start=2, rot=.2, dark=0, light=1.0, as_cmap=True)\n",
    "%config InlineBackend.figure_format = 'retina'\n",
    "%matplotlib inline\n",
    "\n",
    "### set home for files\n",
    "hpath = os.environ['HOME'] + '/'\n",
    "\n"
   ]
  },
  {
   "cell_type": "markdown",
   "metadata": {},
   "source": [
    "$\\Sigma_1 = \\Theta(r_e,n) \\Pi(L_G,L_p,M_*)$"
   ]
  },
  {
   "cell_type": "markdown",
   "metadata": {},
   "source": [
    "$\\Theta(r_e,n) = \\frac{\\int_0^1 \\phi(r_e,n) dr}{\\int_0^\\inf \\phi(r_e,n) dr}$\n",
    "\n",
    "$\\phi(r_e,n) = I_eexp(-(2n-1/3)\\left[ \\left(\\frac{r}{r_e} \\right)^{(1/n)} - 1 \\right]) 2\\pi r$ \n",
    "\n",
    "after simplification due to it being a fraction\n",
    "\n",
    "$\\phi(r_e,n) = r exp(-(2n-1/3)\\left[ \\left(\\frac{r}{r_e} \\right)^{(1/n)} - 1 \\right])$ \n"
   ]
  },
  {
   "cell_type": "markdown",
   "metadata": {},
   "source": [
    "$\\Pi(L_G,L_p,M_*) = \\frac{L_G}{Lp} \\frac{M_*}{\\pi }$"
   ]
  },
  {
   "cell_type": "markdown",
   "metadata": {},
   "source": [
    "$(\\partial \\Sigma_1)^2 = \\left(\\frac{\\partial \\Sigma_1}{\\partial r_e} \\right)^2 (\\partial r_e)^2 +\n",
    "\\left(\\frac{\\partial \\Sigma_1}{\\partial n} \\right)^2 (\\partial n)^2 +\n",
    "\\left(\\frac{\\partial \\Sigma_1}{\\partial L_G} \\right)^2 (\\partial L_G)^2 +\n",
    "\\left(\\frac{\\partial \\Sigma_1}{\\partial L_p} \\right)^2 (\\partial L_p)^2 +\n",
    "\\left(\\frac{\\partial \\Sigma_1}{\\partial M_*} \\right)^2 (\\partial M_*)^2 $ "
   ]
  },
  {
   "cell_type": "markdown",
   "metadata": {},
   "source": [
    "$(\\partial \\Sigma_1)^2 = \\left(\\frac{\\partial \\Theta}{\\partial r_e} \\Pi \\right)^2 (\\partial r_e)^2 +\n",
    "\\left(\\frac{\\partial \\Theta}{\\partial n} \\Pi\\right)^2 (\\partial n)^2 +\n",
    "\\left(\\frac{\\partial \\Pi}{\\partial L_G} \\Theta \\right)^2 (\\partial L_G)^2 +\n",
    "\\left(\\frac{\\partial \\Pi}{\\partial L_p} \\Theta \\right)^2 (\\partial L_p)^2 +\n",
    "\\left(\\frac{\\partial \\Pi}{\\partial M_*} \\Theta \\right)^2 (\\partial M_*)^2 $ "
   ]
  },
  {
   "cell_type": "markdown",
   "metadata": {},
   "source": [
    "$\\frac{\\partial \\Theta}{\\partial x} = \\frac{g'h-h'g}{h^2}$ \n",
    "\n",
    "$g(x)=\\int_0^1 \\phi(r_e,n) dr$\n",
    "\n",
    "$g'(x)=\\int_0^1 \\frac{d}{dx} \\phi(r_e,n) dr$\n",
    "\n",
    "$h(x)=\\int_0^\\inf \\phi(r_e,n) dr$\n",
    "\n",
    "$h'(x)=\\int_0^\\inf \\frac{d}{dx} \\phi(r_e,n) dr$"
   ]
  },
  {
   "cell_type": "markdown",
   "metadata": {},
   "source": [
    "$\\frac{d}{dr_e} \\phi = (2 - \\frac{1}{3n}) \\left( \\frac{r}{r_e} \\right)^{1/n +1} exp(-(2n-1/3)\\left[ \\left(\\frac{r}{r_e} \\right)^{(1/n)} - 1 \\right])$"
   ]
  },
  {
   "cell_type": "markdown",
   "metadata": {},
   "source": [
    "$\\frac{d}{dn} \\phi = r [(2 -2 (\\frac{r}{r_e})^{1/n}) + \\frac{2n - 1/3}{n^2} (\\frac{r}{r_e})^{1/n} \\ln(\\frac{r}{r_e})] \n",
    "exp(-(2n-1/3)\\left[ \\left(\\frac{r}{r_e} \\right)^{(1/n)} - 1 \\right])$"
   ]
  },
  {
   "cell_type": "code",
   "execution_count": 28,
   "metadata": {},
   "outputs": [],
   "source": [
    "def Phi(r, re, n):\n",
    "    return r*np.exp(-(2*n - 1/3) * ((r/re)**(1/n) - 1))\n",
    "\n",
    "def d_Phi_re(r, re, n):\n",
    "    P = (2 - 1/(3*n)) * (1/re)**((1/n) + 1) * r**(1/n)\n",
    "    return P*Phi(r, re, n)\n",
    "\n",
    "def d_Phi_n(r, re, n):\n",
    "    P = (2 - 2 * (r/re)**(1/n)) + ((2*n - 1/3) / n**2) * (r/re)**(1/n) * np.log(r/re)\n",
    "    return P*Phi(r, re, n)\n",
    "\n",
    "def g(re, n):\n",
    "    r1 = np.arange(0.001,1,0.001)    \n",
    "    return np.trapz(Phi(r1, re, n), r1)\n",
    "\n",
    "def h(re, n):\n",
    "    r = np.arange(0.001,1000,0.001)    \n",
    "    return np.trapz(Phi(r, re, n), r)\n",
    "\n",
    "def Theta(re, n):\n",
    "    return g(re, n) / h(re, n)\n",
    "\n",
    "def Pi(Lg, Lp, M):\n",
    "    return (Lg/Lp) * (M/np.pi)\n",
    "\n",
    "def Sigma1(re, n, Lg, Lp, M):\n",
    "    return Theta(re, n) * Pi(Lg, Lp, M)\n",
    "\n",
    "def g_prime_re(re, n):\n",
    "    r1 = np.arange(0.001,1,0.001)    \n",
    "    return np.trapz(d_Phi_re(r1, re, n), r1)\n",
    "\n",
    "def h_prime_re(re, n):\n",
    "    r = np.arange(0.001,1000,0.001)    \n",
    "    return np.trapz(d_Phi_re(r, re, n), r)\n",
    "\n",
    "def g_prime_n(re, n):\n",
    "    r1 = np.arange(0.001,1,0.001)    \n",
    "    return np.trapz(d_Phi_n(r1, re, n), r1)\n",
    "\n",
    "def h_prime_n(re, n):\n",
    "    r = np.arange(0.001,1000,0.001)    \n",
    "    return np.trapz(d_Phi_n(r, re, n), r)\n",
    "\n",
    "def d_Theta_re(re, n):\n",
    "    return (g_prime_re(re, n) * h(re, n) - g(re, n) * h_prime_re(re, n)) / h(re, n)**2\n",
    "\n",
    "def d_Theta_n(re, n):\n",
    "    return (g_prime_n(re, n) * h(re, n) - g(re, n) * h_prime_n(re, n)) / h(re, n)**2\n",
    "\n",
    "def d_Pi_Lg(Lg, Lp, M):\n",
    "    return (1/Lp) * (M/np.pi)\n",
    "\n",
    "def d_Pi_Lp(Lg, Lp, M):\n",
    "    return -(Lg/Lp**2) * (M/np.pi)\n",
    "\n",
    "def d_Pi_M(Lg, Lp, M):\n",
    "    return (Lg/Lp) * (1/np.pi)"
   ]
  },
  {
   "cell_type": "code",
   "execution_count": 30,
   "metadata": {},
   "outputs": [],
   "source": [
    "def re_term(re, n, Lg, Lp, M, sig_re):\n",
    "    return d_Theta_re(re, n) * Pi(Lg, Lp, M) * sig_re\n",
    "\n",
    "def n_term(re, n, Lg, Lp, M, sig_n):\n",
    "    return d_Theta_n(re, n) * Pi(Lg, Lp, M) * sig_n\n",
    "\n",
    "def Lg_term(re, n, Lg, Lp, M, sig_Lg):\n",
    "    return d_Pi_Lg(Lg, Lp, M) * Theta(re, n) * sig_Lg\n",
    "\n",
    "def Lp_term(re, n, Lg, Lp, M, sig_Lp):\n",
    "    return d_Pi_Lp(Lg, Lp, M) * Theta(re, n) * sig_Lp\n",
    "\n",
    "def M_term(re, n, Lg, Lp, M, sig_M):\n",
    "    return d_Pi_M(Lg, Lp, M) * Theta(re, n) * sig_M\n",
    "\n",
    "def Sigma1_sig(re, n, Lg, Lp, M, sig_re, sig_n, sig_Lg, sig_Lp, sig_M):\n",
    "    return np.sqrt(re_term(re, n, Lg, Lp, M, sig_re)**2 + n_term(re, n, Lg, Lp, M, sig_n)**2 +\\\n",
    "        Lg_term(re, n, Lg, Lp, M, sig_Lg)**2 + Lp_term(re, n, Lg, Lp, M, sig_Lp)**2 + M_term(re, n, Lg, Lp, M, sig_M)**2)"
   ]
  },
  {
   "cell_type": "code",
   "execution_count": 91,
   "metadata": {},
   "outputs": [
    {
     "name": "stderr",
     "output_type": "stream",
     "text": [
      "/Users/Vince.ec/miniconda3/envs/astroconda/lib/python3.5/site-packages/ipykernel_launcher.py:66: SettingWithCopyWarning: \n",
      "A value is trying to be set on a copy of a slice from a DataFrame.\n",
      "Try using .loc[row_indexer,col_indexer] = value instead\n",
      "\n",
      "See the caveats in the documentation: http://pandas.pydata.org/pandas-docs/stable/indexing.html#indexing-view-versus-copy\n"
     ]
    }
   ],
   "source": [
    "if hpath.split('/')[-2][-1] == 'a':\n",
    "    goodss_125 = Table.read('/Users/vestrada/Downloads/allfields/goodss/goodss_3dhst.v4.1_f125w.galfit',format='ascii').to_pandas()\n",
    "    goodsn_125 = Table.read('/Users/vestrada/Downloads/allfields/goodsn/goodsn_3dhst.v4.1_f125w.galfit',format='ascii').to_pandas()\n",
    "    goodss_160 = Table.read('/Users/vestrada/Downloads/allfields/goodss/goodss_3dhst.v4.1_f160w.galfit',format='ascii').to_pandas()\n",
    "    goodsn_160 = Table.read('/Users/vestrada/Downloads/allfields/goodsn/goodsn_3dhst.v4.1_f160w.galfit',format='ascii').to_pandas()\n",
    "    \n",
    "else:\n",
    "    goodss_125 = Table.read('/Users/Vince.ec/Clear_data/galaxy_meas/goodss/goodss_3dhst.v4.1_f125w.galfit',format='ascii').to_pandas()\n",
    "    goodsn_125 = Table.read('/Users/Vince.ec/Clear_data/galaxy_meas/goodsn/goodsn_3dhst.v4.1_f125w.galfit',format='ascii').to_pandas()\n",
    "    goodss_160 = Table.read('/Users/Vince.ec/Clear_data/galaxy_meas/goodss/goodss_3dhst.v4.1_f160w.galfit',format='ascii').to_pandas()\n",
    "    goodsn_160 = Table.read('/Users/Vince.ec/Clear_data/galaxy_meas/goodsn/goodsn_3dhst.v4.1_f160w.galfit',format='ascii').to_pandas()\n",
    "\n",
    "\n",
    "alldb = pd.read_pickle('../dataframes/fitdb/all_1d_fits.pkl')\n",
    "\n",
    "v4N = Table.read(fits.open('/Volumes/Vince_CLEAR/3dhst_V4.4/goodsn_3dhst.v4.4.cats/Eazy/goodsn_3dhst.v4.4.zout.fits'),\n",
    "                 format='fits').to_pandas()\n",
    "v4S = Table.read(fits.open('/Volumes/Vince_CLEAR/3dhst_V4.4/goodss_3dhst.v4.4.cats/Eazy/goodss_3dhst.v4.4.zout.fits'),\n",
    "                 format='fits').to_pandas()\n",
    "\n",
    "v4Ncat = Table.read('/Volumes/Vince_CLEAR/3dhst_V4.4/goodsn_3dhst.v4.4.cats/Catalog/goodsn_3dhst.v4.4.cat',\n",
    "                 format='ascii').to_pandas()\n",
    "v4Scat = Table.read('/Volumes/Vince_CLEAR/3dhst_V4.4/goodss_3dhst.v4.4.cats/Catalog/goodss_3dhst.v4.4.cat',\n",
    "                 format='ascii').to_pandas()\n",
    "\n",
    "v4N['use'] = v4Ncat['use_phot']\n",
    "v4S['use'] = v4Scat['use_phot']\n",
    "\n",
    "v4N['star'] = v4Ncat['class_star']\n",
    "v4S['star'] = v4Scat['class_star']\n",
    "\n",
    "v4N['f125'] = v4Ncat['f_F125W']\n",
    "v4S['f125'] = v4Scat['f_F125W']\n",
    "\n",
    "v4N['f160'] = v4Ncat['f_F160W']\n",
    "v4S['f160'] = v4Scat['f_F160W']\n",
    "\n",
    "filesN = glob('/Volumes/Vince_CLEAR/RELEASE_v2.1.0/BEAMS/*N*/*.beams.fits')\n",
    "filesS = glob('/Volumes/Vince_CLEAR/RELEASE_v2.1.0/BEAMS/*S*/*.beams.fits')\n",
    "\n",
    "allNids = [int(os.path.basename(U).replace('.beams.fits','').split('_')[1]) for U in filesN]\n",
    "allSids = [int(os.path.basename(U).replace('.beams.fits','').split('_')[1]) for U in filesS]\n",
    "\n",
    "Nids = np.array(list(set(allNids)))\n",
    "Sids = np.array(list(set(allSids)))\n",
    "\n",
    "Npresent = [U in Nids for U in v4N.id]\n",
    "Spresent = [U in Sids for U in v4S.id]\n",
    "\n",
    "v4N['grism'] = Npresent\n",
    "v4S['grism'] = Spresent\n",
    "\n",
    "morph_db = alldb.query('UVJ == \"Q\" and AGN != \"AGN\" and lmass >= 10.5 and n_f < 3 and Re < 20 ')\n",
    "\n",
    "bspec = [27458,294464,36348,48631,19290,32566,32691,33093,26272,35640,45333]\n",
    "nog141 = [27915,37955,17746,17735]\n",
    "nog102 = [27714,37189,26139,32799,47223,22774,28890,23073,31452,24033]\n",
    "\n",
    "inout = []\n",
    "for i in morph_db.index:\n",
    "    if morph_db.id[i] not in bspec and morph_db.id[i] not in nog102: \n",
    "        inout.append('i')\n",
    "    else:\n",
    "        inout.append('o')\n",
    "        \n",
    "morph_db['inout'] = inout\n",
    "mdb = morph_db.query('inout == \"i\" and 0.7 < zgrism < 2.5 and Sigma1 > 10**9.6')\n"
   ]
  },
  {
   "cell_type": "markdown",
   "metadata": {},
   "source": [
    "re (kpc), n, Lg (L), Lp (L), M (M), sig_re (kpc), sig_n, sig_Lg (L), sig_Lp (L), sig_M (M)"
   ]
  },
  {
   "cell_type": "code",
   "execution_count": 66,
   "metadata": {},
   "outputs": [],
   "source": [
    "re, n, lM, dre, dlM = alldb.query('id == 39170')[['Re','n','lmass', 'Re_sig','lmass_hci']].values[0]\n",
    "M = 10**lM\n",
    "dM = M * np.log(10) * (dlM[1] - dlM[0])/2\n",
    "\n",
    "dn, mag, dmag = goodss_125.query('NUMBER == {0}'.format(39170))[['dn','mag', 'dmag']].values[0]\n",
    "Lg = 10**((mag + 48.6) / -2.5)   \n",
    "dLg = Lg * dmag / mag \n",
    "\n",
    "Lp, dLp = Fphot('GSD', 39170, 'f125')"
   ]
  },
  {
   "cell_type": "code",
   "execution_count": 96,
   "metadata": {},
   "outputs": [],
   "source": [
    "def Extract_params(field, gid, redshift):\n",
    "    if redshift < 1.5:\n",
    "        Filt = 'f125'\n",
    "    else:\n",
    "        Filt = 'f160'\n",
    "    \n",
    "    re, n, lM, dre, dlM = alldb.query('id == {}'.format(gid))[['Re','n','lmass', 'Re_sig','lmass_hci']].values[0]\n",
    "    M = 10**lM\n",
    "    dM = M * np.log(10) * (dlM[1] - dlM[0])/2\n",
    "\n",
    "    dn, mag, dmag = goodss_125.query('NUMBER == {}'.format(gid))[['dn','mag', 'dmag']].values[0]\n",
    "    Lg = 10**((mag + 48.6) / -2.5)   \n",
    "    dLg = Lg * dmag / mag \n",
    "\n",
    "    Lp, dLp = Fphot(field, gid, Filt)\n",
    "    return re, n, Lg, Lp, M, dre, dn, dLg, dLp, dM"
   ]
  },
  {
   "cell_type": "code",
   "execution_count": 54,
   "metadata": {},
   "outputs": [],
   "source": [
    "def Fphot(field, galaxy_id, phot):\n",
    "    if phot.lower() == 'f125':\n",
    "        bfilters = 203\n",
    "    if phot.lower() == 'f160':\n",
    "        bfilters = 205\n",
    "\n",
    "    W, F, E, FLT = np.load('../phot/{0}_{1}_phot.npy'.format(field, galaxy_id))\n",
    "\n",
    "    return (F[FLT == bfilters] * W[FLT == bfilters]**2 / 3E18)[0], (E[FLT == bfilters] * W[FLT == bfilters]**2 / 3E18)[0]"
   ]
  },
  {
   "cell_type": "code",
   "execution_count": 97,
   "metadata": {},
   "outputs": [],
   "source": [
    "re, n, Lg, Lp, M, dre, dn, dLg, dLp, dM = Extract_params('GND', 21156, 1.23)\n",
    "\n",
    "dS1 = Sigma1_sig(re, n, Lg, Lp, M, dre, dn, dLg, dLp, dM)"
   ]
  },
  {
   "cell_type": "code",
   "execution_count": 98,
   "metadata": {},
   "outputs": [
    {
     "data": {
      "text/plain": [
       "10.242103970368474"
      ]
     },
     "execution_count": 98,
     "metadata": {},
     "output_type": "execute_result"
    }
   ],
   "source": [
    "np.log10(alldb.query('id == 21156').Sigma1.values[0])"
   ]
  },
  {
   "cell_type": "code",
   "execution_count": 99,
   "metadata": {},
   "outputs": [
    {
     "data": {
      "text/plain": [
       "0.00026745892807089687"
      ]
     },
     "execution_count": 99,
     "metadata": {},
     "output_type": "execute_result"
    }
   ],
   "source": [
    "dS1/(alldb.query('id == 21156').Sigma1.values[0] * np.log(10))"
   ]
  },
  {
   "cell_type": "code",
   "execution_count": 100,
   "metadata": {},
   "outputs": [],
   "source": [
    "lS1 = []\n",
    "dlS1 = []\n",
    "for i in mdb.index:\n",
    "    re, n, Lg, Lp, M, dre, dn, dLg, dLp, dM = Extract_params(mdb.field[i],mdb.id[i],mdb.zgrism[i])\n",
    "    dS1 = Sigma1_sig(re, n, Lg, Lp, M, dre, dn, dLg, dLp, dM)\n",
    "    \n",
    "    lS1.append(np.log10(alldb.query('id == {}'.format(mdb.id[i])).Sigma1.values[0]))\n",
    "    dlS1.append(dS1/(alldb.query('id == {}'.format(mdb.id[i])).Sigma1.values[0] * np.log(10)))"
   ]
  },
  {
   "cell_type": "code",
   "execution_count": 114,
   "metadata": {},
   "outputs": [
    {
     "data": {
      "text/plain": [
       "([<matplotlib.axis.YTick at 0x1a1f316ef0>,\n",
       "  <matplotlib.axis.YTick at 0x1a1f316748>,\n",
       "  <matplotlib.axis.YTick at 0x1a1e92f630>,\n",
       "  <matplotlib.axis.YTick at 0x1a1f337cf8>,\n",
       "  <matplotlib.axis.YTick at 0x1a1f33a240>,\n",
       "  <matplotlib.axis.YTick at 0x1a1f33a6d8>],\n",
       " <a list of 6 Text yticklabel objects>)"
      ]
     },
     "execution_count": 114,
     "metadata": {},
     "output_type": "execute_result"
    },
    {
     "data": {
      "image/png": "[encoded data removed]",
      "text/plain": [
       "<Figure size 432x288 with 1 Axes>"
      ]
     },
     "metadata": {
      "image/png": {
       "height": 245,
       "width": 358
      }
     },
     "output_type": "display_data"
    }
   ],
   "source": [
    "z50lerr = []\n",
    "z50herr = []\n",
    "\n",
    "for i in mdb.index:\n",
    "    z50lerr.append(cosmo.lookback_time(mdb.z_50[i]).value - cosmo.lookback_time(mdb.z_50_hci[i][0]).value)\n",
    "    z50herr.append(cosmo.lookback_time(mdb.z_50_hci[i][1]).value - cosmo.lookback_time(mdb.z_50[i]).value)\n",
    "\n",
    "sea.scatterplot(lS1, cosmo.lookback_time(mdb.z_50.values).value)\n",
    "plt.errorbar(lS1, cosmo.lookback_time(mdb.z_50.values).value, xerr = dlS1, yerr = [z50lerr, z50herr], linestyle = 'none')\n",
    "\n",
    "plt.yticks(cosmo.lookback_time([2,3,4,5,6,7]).value,[2,3,4,5,6,7])\n"
   ]
  },
  {
   "cell_type": "code",
   "execution_count": 115,
   "metadata": {},
   "outputs": [],
   "source": [
    "R=[]\n",
    "dR = []\n",
    "for i in mdb.index:\n",
    "    r, dr = goodss_125.query('NUMBER == {0}'.format(mdb.id[i]))[['re','dre']].values[0]\n",
    "    R.append(r)\n",
    "    dR.append(dr)\n",
    "    "
   ]
  },
  {
   "cell_type": "code",
   "execution_count": 118,
   "metadata": {},
   "outputs": [
    {
     "data": {
      "text/plain": [
       "<matplotlib.axes._subplots.AxesSubplot at 0x1a1f5df3c8>"
      ]
     },
     "execution_count": 118,
     "metadata": {},
     "output_type": "execute_result"
    },
    {
     "data": {
      "image/png": "[encoded data removed]",
      "text/plain": [
       "<Figure size 432x288 with 1 Axes>"
      ]
     },
     "metadata": {
      "image/png": {
       "height": 245,
       "width": 370
      }
     },
     "output_type": "display_data"
    }
   ],
   "source": [
    "sea.scatterplot(R,np.array(R)/np.array(dR))"
   ]
  },
  {
   "cell_type": "code",
   "execution_count": 119,
   "metadata": {},
   "outputs": [
    {
     "data": {
      "text/plain": [
       "<matplotlib.axes._subplots.AxesSubplot at 0x1a1da717b8>"
      ]
     },
     "execution_count": 119,
     "metadata": {},
     "output_type": "execute_result"
    },
    {
     "data": {
      "image/png": "[encoded data removed]",
      "text/plain": [
       "<Figure size 432x288 with 1 Axes>"
      ]
     },
     "metadata": {
      "image/png": {
       "height": 260,
       "width": 370
      }
     },
     "output_type": "display_data"
    }
   ],
   "source": [
    "sea.scatterplot(mdb.Re,mdb.Re/mdb.Re_sig)"
   ]
  },
  {
   "cell_type": "code",
   "execution_count": null,
   "metadata": {},
   "outputs": [],
   "source": []
  }
 ],
 "metadata": {
  "kernelspec": {
   "display_name": "Python 3",
   "language": "python",
   "name": "python3"
  },
  "language_info": {
   "codemirror_mode": {
    "name": "ipython",
    "version": 3
   },
   "file_extension": ".py",
   "mimetype": "text/x-python",
   "name": "python",
   "nbconvert_exporter": "python",
   "pygments_lexer": "ipython3",
   "version": "3.5.5"
  }
 },
 "nbformat": 4,
 "nbformat_minor": 2
}
