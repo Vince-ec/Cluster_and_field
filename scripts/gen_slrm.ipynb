{
 "cells": [
  {
   "cell_type": "code",
   "execution_count": 28,
   "metadata": {},
   "outputs": [],
   "source": [
    "import numpy as np\n",
    "import pandas as pd\n",
    "from glob import glob\n",
    "import os"
   ]
  },
  {
   "cell_type": "code",
   "execution_count": 16,
   "metadata": {},
   "outputs": [],
   "source": [
    "snr_cat = pd.read_pickle('../dataframes/high_snr_df.pkl')"
   ]
  },
  {
   "cell_type": "code",
   "execution_count": 17,
   "metadata": {},
   "outputs": [],
   "source": [
    "idx = 1\n",
    "for i in snr_cat.index:\n",
    "    slrm_text= [\"#!/bin/bash\\n#SBATCH -J bfit-{0}\\n#SBATCH -p background\\n#SBATCH --time=8:00:00\\n#SBATCH --mem-per-cpu=32000\\n#SBATCH -o bfit{0}-%j.out\\n\\\n",
    "#SBATCH -e bfit{0}-%j.err\\n\\nchmod a+x bestfit.py\\n\\n\\\n",
    "python bestfit.py {1} {2} {3} &\\n\\\n",
    "\\nwait\\n\\nexit 0\".format(idx, snr_cat.field[i],snr_cat.id[i], np.round(snr_cat.z[i],4))]\n",
    "    np.savetxt('../cluster_scripts/bestfit_{0}.slrm'.format(idx), slrm_text, fmt='%s')   \n",
    "    idx +=1\n"
   ]
  },
  {
   "cell_type": "code",
   "execution_count": 12,
   "metadata": {},
   "outputs": [
    {
     "name": "stdout",
     "output_type": "stream",
     "text": [
      "#!/bin/bash\n",
      "#SBATCH -J bfit-61\n",
      "#SBATCH -p background\n",
      "#SBATCH --time=2:00:00\n",
      "#SBATCH --mem-per-cpu=16000\n",
      "#SBATCH -o bfit61-%j.out\n",
      "#SBATCH -e bfit61-%j.err\n",
      "\n",
      "chmod a+x bestfit.py\n",
      "\n",
      "python bestfit.py GSD 35774 1.2533 &\n",
      "\n",
      "wait\n",
      "\n",
      "exit 0\n"
     ]
    }
   ],
   "source": [
    "print(slrm_text[0])"
   ]
  },
  {
   "cell_type": "code",
   "execution_count": 2,
   "metadata": {},
   "outputs": [],
   "source": [
    "select = pd.read_pickle('../spec_files/all_section.pkl')\n",
    "select = select.query('AGN != \"AGN\" and use == True')"
   ]
  },
  {
   "cell_type": "code",
   "execution_count": 11,
   "metadata": {},
   "outputs": [],
   "source": [
    "idx = 1\n",
    "test_ids = [21156, 39170, 41520]\n",
    "for i in select.index:   \n",
    "    if select.id[i] in test_ids:\n",
    "        if os.path.isfile('../data/posteriors/{0}_{1}_zfit_Pz.npy'.format(select.field[i], select.id[i])):\n",
    "            z,pz = np.load('../data/posteriors/{0}_{1}_zfit_Pz.npy'.format(select.field[i], select.id[i]))\n",
    "            zfit = z[pz == max(pz)][0] \n",
    "        else:\n",
    "            zfit =  select.zphot[i]\n",
    "\n",
    "        slrm_text= [\"#!/bin/bash\\n#SBATCH -J ttst-{0}\\n#SBATCH -p background\\n#SBATCH -c 8\\n\\\n",
    "#SBATCH --time=16:00:00\\n#SBATCH --mem=32gb\\n#SBATCH -o ttst{0}-%j.out\\n#SBATCH -e ttst{0}-%j.err\\n\\nchmod a+x fullfit-test.py\\n\\n\\\n",
    "python fullfit-test.py {1} {2} {3:1.4f}\\n\\\n",
    "\\nwait\\n\\nexit 0\".format(idx, select.field[i], select.id[i], zfit)]\n",
    "        np.savetxt('../cluster_scripts/fullfit-test_{0}.slrm'.format(idx), slrm_text, fmt='%s')   \n",
    "        idx +=1   \n",
    "        "
   ]
  },
  {
   "cell_type": "code",
   "execution_count": 10,
   "metadata": {},
   "outputs": [
    {
     "name": "stdout",
     "output_type": "stream",
     "text": [
      "#!/bin/bash\n",
      "#SBATCH -J ttst-3\n",
      "#SBATCH -p background\n",
      "#SBATCH -c 8\n",
      "#SBATCH --time=16:00:00\n",
      "#SBATCH --mem=32gb\n",
      "#SBATCH -o ttst3-%j.out\n",
      "#SBATCH -e ttst3-%j.err\n",
      "\n",
      "chmod a+x fullfit-test.py\n",
      "\n",
      "python fullfit-test.py GSD 41520 1.6148\n",
      "\n",
      "wait\n",
      "\n",
      "exit 0\n"
     ]
    }
   ],
   "source": [
    "print(slrm_text[0])"
   ]
  },
  {
   "cell_type": "code",
   "execution_count": 3,
   "metadata": {},
   "outputs": [],
   "source": [
    "idx = 1\n",
    "for i in select.index:   \n",
    "    if select.use[i]:\n",
    "        slrm_text= [\"#!/bin/bash\\n#SBATCH -J zfit-{0}\\n#SBATCH -p background\\n#SBATCH -c 8\\n\\\n",
    "#SBATCH --time=16:00:00\\n#SBATCH --mem=32gb\\n#SBATCH -o zfit{0}-%j.out\\n#SBATCH -e zfit{0}-%j.err\\n\\nchmod a+x redshift_fit.py\\n\\n\\\n",
    "python redshift_fit.py {1} {2} {3:1.4f}\\n\\\n",
    "\\nwait\\n\\nexit 0\".format(idx, select.field[i], select.id[i], select.zphot[i])]\n",
    "        np.savetxt('../cluster_scripts/zfit_{0}.slrm'.format(idx), slrm_text, fmt='%s')   \n",
    "        idx +=1                  "
   ]
  },
  {
   "cell_type": "code",
   "execution_count": 4,
   "metadata": {},
   "outputs": [
    {
     "name": "stdout",
     "output_type": "stream",
     "text": [
      "#!/bin/bash\n",
      "#SBATCH -J zfit-166\n",
      "#SBATCH -p background\n",
      "#SBATCH -c 8\n",
      "#SBATCH --time=16:00:00\n",
      "#SBATCH --mem=32gb\n",
      "#SBATCH -o zfit166-%j.out\n",
      "#SBATCH -e zfit166-%j.err\n",
      "\n",
      "chmod a+x redshift_fit.py\n",
      "\n",
      "python redshift_fit.py GSD 49072 0.9914\n",
      "\n",
      "wait\n",
      "\n",
      "exit 0\n"
     ]
    }
   ],
   "source": [
    "print(slrm_text[0])"
   ]
  },
  {
   "cell_type": "code",
   "execution_count": 23,
   "metadata": {},
   "outputs": [],
   "source": [
    "idx = 1\n",
    "\n",
    "errterm = [0.02,0.03,0.04,0.05]\n",
    "for i in errterm:\n",
    "    for ii in range(10):   \n",
    "        slrm_text= [\"#!/bin/bash\\n#SBATCH -J tfit-{1}\\n#SBATCH -p background\\n#SBATCH -c 8\\n\\\n",
    "#SBATCH --time=16:00:00\\n#SBATCH --mem=32gb\\n#SBATCH -o tfit{1}-%j.out\\n#SBATCH -e tfit{1}-%j.err\\n\\nchmod a+x fullfit-test.py\\n\\n\\\n",
    "python fullfit-test.py GND 21156 1.255 {0} {1}\\n\\\n",
    "\\nwait\\n\\nexit 0\".format(i, idx)]\n",
    "        np.savetxt('../cluster_scripts/fullfit-test_{0}.slrm'.format(idx), slrm_text, fmt='%s')   \n",
    "        idx +=1  "
   ]
  },
  {
   "cell_type": "code",
   "execution_count": 2,
   "metadata": {},
   "outputs": [],
   "source": [
    "flist = glob('../data/posteriors/*zfit*')\n",
    "\n",
    "fld = [os.path.basename(U).split('_')[0] for U in flist] \n",
    "ids = [os.path.basename(U).split('_')[1] for U in flist] "
   ]
  },
  {
   "cell_type": "code",
   "execution_count": 13,
   "metadata": {},
   "outputs": [],
   "source": [
    "idx = 1\n",
    "for i in select.index:   \n",
    "    if os.path.isfile('../data/posteriors/{0}_{1}_zfit_Pz.npy'.format(select.field[i], select.id[i])):\n",
    "        z,pz = np.load('../data/posteriors/{0}_{1}_zfit_Pz.npy'.format(select.field[i], select.id[i]))\n",
    "        zfit = z[pz == max(pz)][0] \n",
    "    else:\n",
    "        zfit =  select.zphot[i]\n",
    "        \n",
    "    slrm_text= [\"#!/bin/bash\\n#SBATCH -J tfit-{0}\\n#SBATCH -p background\\n#SBATCH -c 8\\n\\\n",
    "#SBATCH --time=16:00:00\\n#SBATCH --mem=32gb\\n#SBATCH -o tfit{0}-%j.out\\n#SBATCH -e tfit{0}-%j.err\\n\\nchmod a+x fullfit.py\\n\\n\\\n",
    "python fullfit.py {1} {2} {3:1.4f}\\n\\\n",
    "\\nwait\\n\\nexit 0\".format(idx, select.field[i], select.id[i], zfit)]\n",
    "    np.savetxt('../cluster_scripts/fullfit_{0}.slrm'.format(idx), slrm_text, fmt='%s')   \n",
    "    idx +=1  "
   ]
  },
  {
   "cell_type": "code",
   "execution_count": 28,
   "metadata": {},
   "outputs": [],
   "source": [
    "idx = 1\n",
    "for i in select.index: \n",
    "    if os.path.isfile('../data/posteriors/{0}_{1}_zfit_Pz.npy'.format(select.field[i], select.id[i]))\n",
    "        z,pz = np.load('../data/posteriors/{0}_{1}_zfit_Pz.npy'.format(select.field[i], select.id[i]))\n",
    "        zfit = z[pz == max(pz)][0] \n",
    "    else:\n",
    "        zfit =  select.zphot[i]\n",
    "    slrm_text= [\"#!/bin/bash\\n#SBATCH -J dfit-{0}\\n#SBATCH -p background\\n#SBATCH -c 8\\n\\\n",
    "#SBATCH --time=16:00:00\\n#SBATCH --mem=32gb\\n#SBATCH -o dfit{0}-%j.out\\n#SBATCH -e dfit{0}-%j.err\\n\\nchmod a+x delayfit.py\\n\\n\\\n",
    "python delayfit.py {1} {2} {3:1.4f}\\n\\\n",
    "\\nwait\\n\\nexit 0\".format(idx, select.field[i], select.id[i], zfit)]\n",
    "    np.savetxt('../cluster_scripts/delayfit_{0}.slrm'.format(idx), slrm_text, fmt='%s')   \n",
    "    idx +=1  "
   ]
  },
  {
   "cell_type": "code",
   "execution_count": 12,
   "metadata": {},
   "outputs": [
    {
     "name": "stdout",
     "output_type": "stream",
     "text": [
      "#!/bin/bash\n",
      "#SBATCH -J tfit-166\n",
      "#SBATCH -p background\n",
      "#SBATCH -c 8\n",
      "#SBATCH --time=16:00:00\n",
      "#SBATCH --mem=32gb\n",
      "#SBATCH -o tfit166-%j.out\n",
      "#SBATCH -e tfit166-%j.err\n",
      "\n",
      "chmod a+x fullfit.py\n",
      "\n",
      "python fullfit.py GSD 49072 1.0630\n",
      "\n",
      "wait\n",
      "\n",
      "exit 0\n"
     ]
    }
   ],
   "source": [
    "print(slrm_text[0])"
   ]
  },
  {
   "cell_type": "code",
   "execution_count": 13,
   "metadata": {},
   "outputs": [],
   "source": [
    "####ALMA Zfit########\n",
    "gals = [26272, 29257, 38843, 39012, 39364, 40223, 41520, 42113, 42778,\n",
    "        43007, 44042]\n",
    "\n",
    "LIMSR = [None, None, None, None, None, [11200,12500], None, [11200,15400], [14000,16500], None, None]\n",
    "\n",
    "idx = 1\n",
    "\n",
    "for i in range(len(gals)):\n",
    "    if LIMSR[i] == None:\n",
    "        lim1 = 11200\n",
    "        lim2 = 16500\n",
    "    else:\n",
    "        lim1 = LIMSR[i][0]\n",
    "        lim2 = LIMSR[i][1]\n",
    "    \n",
    "    slrm_text= [\"#!/bin/bash\\n#SBATCH -J afit-{0}\\n#SBATCH -p background\\n#SBATCH -c 8\\n\\\n",
    "#SBATCH --time=16:00:00\\n#SBATCH --mem=32gb\\n#SBATCH -o afit{0}-%j.out\\n#SBATCH -e afit{0}-%j.err\\n\\nchmod a+x ALMA_Zfit.py\\n\\n\\\n",
    "python ALMA_Zfit.py {1} {2} {3}\\n\\\n",
    "\\nwait\\n\\nexit 0\".format(idx, gals[i], lim1, lim2)]\n",
    "    np.savetxt('../cluster_scripts/ALMA_Zfit_{0}.slrm'.format(idx), slrm_text, fmt='%s')   \n",
    "    idx +=1  "
   ]
  },
  {
   "cell_type": "code",
   "execution_count": 12,
   "metadata": {},
   "outputs": [
    {
     "name": "stdout",
     "output_type": "stream",
     "text": [
      "#!/bin/bash\n",
      "#SBATCH -J afit-11\n",
      "#SBATCH -p background\n",
      "#SBATCH -c 8\n",
      "#SBATCH --time=16:00:00\n",
      "#SBATCH --mem=32gb\n",
      "#SBATCH -o afit11-%j.out\n",
      "#SBATCH -e afit11-%j.err\n",
      "\n",
      "chmod a+x ALMA_Zfit.py\n",
      "\n",
      "python ALMA_Zfit.py 44042 11200 16500\n",
      "\n",
      "wait\n",
      "\n",
      "exit 0\n"
     ]
    }
   ],
   "source": [
    "print(slrm_text[0])"
   ]
  },
  {
   "cell_type": "code",
   "execution_count": 2,
   "metadata": {},
   "outputs": [],
   "source": [
    "########SF fit###########\n",
    "SF_db = pd.read_pickle('../Casey_data/SF_db.pkl')"
   ]
  },
  {
   "cell_type": "code",
   "execution_count": 3,
   "metadata": {},
   "outputs": [],
   "source": [
    "idx = 1\n",
    "for i in SF_db.index:      \n",
    "    slrm_text= [\"#!/bin/bash\\n#SBATCH -J sfit-{0}\\n#SBATCH -p background\\n#SBATCH -c 8\\n\\\n",
    "#SBATCH --time=16:00:00\\n#SBATCH --mem=32gb\\n#SBATCH -o sfit{0}-%j.out\\n#SBATCH -e sfit{0}-%j.err\\n\\nchmod a+x SFfit-test.py\\n\\n\\\n",
    "python SFfit-test.py {1} {2} {3:1.5f} {4}\\n\\\n",
    "\\nwait\\n\\nexit 0\".format(idx, SF_db.field[i], SF_db.id[i], SF_db.zgrism[i], SF_db.lmass[i])]\n",
    "    np.savetxt('../cluster_scripts/SFfit_{0}.slrm'.format(idx), slrm_text, fmt='%s')   \n",
    "    idx +=1  "
   ]
  },
  {
   "cell_type": "code",
   "execution_count": 4,
   "metadata": {},
   "outputs": [
    {
     "name": "stdout",
     "output_type": "stream",
     "text": [
      "#!/bin/bash\n",
      "#SBATCH -J sfit-69\n",
      "#SBATCH -p background\n",
      "#SBATCH -c 8\n",
      "#SBATCH --time=16:00:00\n",
      "#SBATCH --mem=32gb\n",
      "#SBATCH -o sfit69-%j.out\n",
      "#SBATCH -e sfit69-%j.err\n",
      "\n",
      "chmod a+x SFfit-test.py\n",
      "\n",
      "python SFfit-test.py GSD 40078 1.29567 9.556964641311804\n",
      "\n",
      "wait\n",
      "\n",
      "exit 0\n"
     ]
    }
   ],
   "source": [
    "print(slrm_text[0])"
   ]
  },
  {
   "cell_type": "code",
   "execution_count": 2,
   "metadata": {},
   "outputs": [],
   "source": [
    "SF_db = pd.read_pickle('../Casey_data/SF_db_p1.pkl')"
   ]
  },
  {
   "cell_type": "code",
   "execution_count": 3,
   "metadata": {},
   "outputs": [],
   "source": [
    "idx = 1\n",
    "for i in SF_db.index:  \n",
    "    \n",
    "    x,px = np.load('../Casey_data/posteriors/{0}_{1}_SFfit_p1_Pa.npy'.format(SF_db.field[i], SF_db.id[i]))\n",
    "    a = x[px == max(px)][0]\n",
    "    \n",
    "    slrm_text= [\"#!/bin/bash\\n#SBATCH -J sfit-{0}\\n#SBATCH -p background\\n#SBATCH -c 8\\n\\\n",
    "#SBATCH --time=16:00:00\\n#SBATCH --mem=32gb\\n#SBATCH -o sfit{0}-%j.out\\n#SBATCH -e sfit{0}-%j.err\\n\\nchmod a+x SFfit-sim.py\\n\\n\\\n",
    "python SFfit-sim.py {1} {2} {3:1.5f} {4:1.3f} {5:1.3f} {6:1.3f} {7:1.3f} {8:1.3f} {9:1.3f} {10:1.3f} {11:1.3f} {12:1.3f} {13:1.3f}\\n\\\n",
    "\\nwait\\n\\nexit 0\".format(idx, SF_db.field[i], SF_db.id[i], SF_db.zgrism[i], SF_db.lmass[i], \n",
    "            SF_db.Av[i], SF_db.Z[i], a, SF_db.m1[i], SF_db.m2[i], SF_db.m3[i], SF_db.m4[i], SF_db.m5[i], SF_db.m6[i])]\n",
    "    np.savetxt('../cluster_scripts/SFfit_sim_{0}.slrm'.format(idx), slrm_text, fmt='%s')   \n",
    "    idx +=1  "
   ]
  },
  {
   "cell_type": "code",
   "execution_count": 4,
   "metadata": {},
   "outputs": [
    {
     "name": "stdout",
     "output_type": "stream",
     "text": [
      "#!/bin/bash\n",
      "#SBATCH -J sfit-69\n",
      "#SBATCH -p background\n",
      "#SBATCH -c 8\n",
      "#SBATCH --time=16:00:00\n",
      "#SBATCH --mem=32gb\n",
      "#SBATCH -o sfit69-%j.out\n",
      "#SBATCH -e sfit69-%j.err\n",
      "\n",
      "chmod a+x SFfit-sim.py\n",
      "\n",
      "python SFfit-sim.py GSD 40078 1.29567 9.608 0.632 0.090 2.797 0.055 0.055 0.115 0.278 0.336 0.080\n",
      "\n",
      "wait\n",
      "\n",
      "exit 0\n"
     ]
    }
   ],
   "source": [
    "print(slrm_text[0])"
   ]
  },
  {
   "cell_type": "code",
   "execution_count": 14,
   "metadata": {},
   "outputs": [],
   "source": [
    "idx = 1\n",
    "fields = ['GSD', 'GND']\n",
    "\n",
    "\n",
    "for i in range(len(fields)):\n",
    "    if fields[i] == 'GSD':\n",
    "        subfields = ['ERSPRIME', 'GS1', 'GS2', 'GS3', 'GS4', 'GS5']\n",
    "    else:\n",
    "        subfields = ['GN1', 'GN2', 'GN3', 'GN4', 'GN5', 'GN7']\n",
    "    \n",
    "    for ii in range(len(subfields)):\n",
    "        slrm_text= [\"#!/bin/bash\\n#SBATCH -J bex-{0}\\n#SBATCH -p background\\n#SBATCH -c 8\\n\\\n",
    "#SBATCH --time=16:00:00\\n#SBATCH --mem=64gb\\n#SBATCH -o bex{0}-%j.out\\n#SBATCH -e bex{0}-%j.err\\n\\nchmod a+x beam_extract.py\\n\\n\\\n",
    "python beam_extract.py {1} {2} \\n\\\n",
    "\\nwait\\n\\nexit 0\".format(idx, fields[i], subfields[ii])]\n",
    "        np.savetxt('../cluster_scripts/beamextract_{0}.slrm'.format(idx), slrm_text, fmt='%s')   \n",
    "        idx +=1"
   ]
  },
  {
   "cell_type": "code",
   "execution_count": 15,
   "metadata": {},
   "outputs": [
    {
     "name": "stdout",
     "output_type": "stream",
     "text": [
      "#!/bin/bash\n",
      "#SBATCH -J bex-12\n",
      "#SBATCH -p background\n",
      "#SBATCH -c 8\n",
      "#SBATCH --time=16:00:00\n",
      "#SBATCH --mem=64gb\n",
      "#SBATCH -o bex12-%j.out\n",
      "#SBATCH -e bex12-%j.err\n",
      "\n",
      "chmod a+x beam_extract.py\n",
      "\n",
      "python beam_extract.py GND GN7 \n",
      "\n",
      "wait\n",
      "\n",
      "exit 0\n"
     ]
    }
   ],
   "source": [
    "print(slrm_text[0])"
   ]
  },
  {
   "cell_type": "markdown",
   "metadata": {},
   "source": [
    "# Buldge quiescent"
   ]
  },
  {
   "cell_type": "code",
   "execution_count": 2,
   "metadata": {},
   "outputs": [],
   "source": [
    "mdb = pd.read_pickle('../dataframes/fitdb/fullfitdb.pkl')\n",
    "BSQ = pd.read_pickle('../dataframes/galaxy_frames/GS_buldge_Qup.pkl')\n",
    "BNQ = pd.read_pickle('../dataframes/galaxy_frames/GN_buldge_Qup.pkl')"
   ]
  },
  {
   "cell_type": "code",
   "execution_count": 17,
   "metadata": {},
   "outputs": [],
   "source": [
    "idx = 1\n",
    "for i in BSQ.index:   \n",
    "    if BSQ.id[i] not in mdb.id.values:\n",
    "        zfit =  BSQ.zphot[i]\n",
    "\n",
    "        slrm_text= [\"#!/bin/bash\\n#SBATCH -J bqf-{0}\\n#SBATCH -p background\\n#SBATCH -c 8\\n\\\n",
    "#SBATCH --time=16:00:00\\n#SBATCH --mem=32gb\\n#SBATCH -o bqf{0}-%j.out\\n#SBATCH -e bqf{0}-%j.err\\n\\nchmod a+x ../fullfit.py\\n\\n\\\n",
    "python ../fullfit.py {1} {2} {3:1.4f}\\n\\\n",
    "\\nwait\\n\\nexit 0\".format(idx, 'GSD', BSQ.id[i], zfit)]\n",
    "        np.savetxt('../cluster_scripts/bq_fit_{0}.slrm'.format(idx), slrm_text, fmt='%s')   \n",
    "        idx +=1  \n",
    "        \n",
    "for i in BNQ.index:   \n",
    "    if BNQ.id[i] not in mdb.id.values:\n",
    "        zfit =  BNQ.zphot[i]\n",
    "\n",
    "        slrm_text= [\"#!/bin/bash\\n#SBATCH -J bqf-{0}\\n#SBATCH -p background\\n#SBATCH -c 8\\n\\\n",
    "#SBATCH --time=16:00:00\\n#SBATCH --mem=32gb\\n#SBATCH -o bqf{0}-%j.out\\n#SBATCH -e bqf{0}-%j.err\\n\\nchmod a+x ../fullfit.py\\n\\n\\\n",
    "python ../fullfit.py {1} {2} {3:1.4f}\\n\\\n",
    "\\nwait\\n\\nexit 0\".format(idx, 'GND', BNQ.id[i], zfit)]\n",
    "        np.savetxt('../cluster_scripts/bq_fit_{0}.slrm'.format(idx), slrm_text, fmt='%s')   \n",
    "        idx +=1  "
   ]
  },
  {
   "cell_type": "code",
   "execution_count": 18,
   "metadata": {},
   "outputs": [
    {
     "name": "stdout",
     "output_type": "stream",
     "text": [
      "#!/bin/bash\n",
      "#SBATCH -J bqf-91\n",
      "#SBATCH -p background\n",
      "#SBATCH -c 8\n",
      "#SBATCH --time=16:00:00\n",
      "#SBATCH --mem=32gb\n",
      "#SBATCH -o bqf91-%j.out\n",
      "#SBATCH -e bqf91-%j.err\n",
      "\n",
      "chmod a+x ../fullfit.py\n",
      "\n",
      "python ../fullfit.py GND 35090 1.1632\n",
      "\n",
      "wait\n",
      "\n",
      "exit 0\n"
     ]
    }
   ],
   "source": [
    "print(slrm_text[0])"
   ]
  },
  {
   "cell_type": "markdown",
   "metadata": {},
   "source": [
    "# Buldge star forming"
   ]
  },
  {
   "cell_type": "code",
   "execution_count": 29,
   "metadata": {},
   "outputs": [],
   "source": [
    "sfdb = pd.read_pickle('../Casey_data/SF_db_p1.pkl')\n",
    "BSSF = pd.read_pickle('../dataframes/galaxy_frames/GS_buldge_SFup.pkl')\n",
    "BNSF = pd.read_pickle('../dataframes/galaxy_frames/GN_buldge_SFup.pkl')"
   ]
  },
  {
   "cell_type": "code",
   "execution_count": 30,
   "metadata": {},
   "outputs": [],
   "source": [
    "idx = 1\n",
    "for i in BSSF.index:   \n",
    "    if BSSF.id[i] not in sfdb.id.values:\n",
    "        slrm_text= [\"#!/bin/bash\\n#SBATCH -J bsf-{0}\\n#SBATCH -p background\\n#SBATCH -c 8\\n\\\n",
    "#SBATCH --time=16:00:00\\n#SBATCH --mem=32gb\\n#SBATCH -o bsf{0}-%j.out\\n#SBATCH -e bsf{0}-%j.err\\n\\nchmod a+x ../SFfit.py\\n\\n\\\n",
    "python ../SFfit.py {1} {2} {3:1.5f} {4}\\n\\\n",
    "\\nwait\\n\\nexit 0\".format(idx, 'GSD', BSSF.id[i], BSSF.z_50[i], BSSF.lmass[i])]\n",
    "        np.savetxt('../cluster_scripts/bsf_fit_{0}.slrm'.format(idx), slrm_text, fmt='%s')    \n",
    "        idx +=1  \n",
    "        \n",
    "for i in BNSF.index:   \n",
    "    if BNSF.id[i] not in sfdb.id.values:\n",
    "        slrm_text= [\"#!/bin/bash\\n#SBATCH -J bsf-{0}\\n#SBATCH -p background\\n#SBATCH -c 8\\n\\\n",
    "#SBATCH --time=16:00:00\\n#SBATCH --mem=32gb\\n#SBATCH -o bsf{0}-%j.out\\n#SBATCH -e bsf{0}-%j.err\\n\\nchmod a+x ../SFfit.py\\n\\n\\\n",
    "python ../SFfit.py {1} {2} {3:1.5f} {4}\\n\\\n",
    "\\nwait\\n\\nexit 0\".format(idx, 'GND', BNSF.id[i], BNSF.z_50[i], BNSF.lmass[i])]\n",
    "        np.savetxt('../cluster_scripts/bsf_fit_{0}.slrm'.format(idx), slrm_text, fmt='%s')   \n",
    "        idx +=1  "
   ]
  },
  {
   "cell_type": "code",
   "execution_count": 31,
   "metadata": {},
   "outputs": [
    {
     "name": "stdout",
     "output_type": "stream",
     "text": [
      "#!/bin/bash\n",
      "#SBATCH -J bsf-59\n",
      "#SBATCH -p background\n",
      "#SBATCH -c 8\n",
      "#SBATCH --time=16:00:00\n",
      "#SBATCH --mem=32gb\n",
      "#SBATCH -o bsf59-%j.out\n",
      "#SBATCH -e bsf59-%j.err\n",
      "\n",
      "chmod a+x ../SFfit.py\n",
      "\n",
      "python ../SFfit.py GND 38093 1.09406 10.019586308805085\n",
      "\n",
      "wait\n",
      "\n",
      "exit 0\n"
     ]
    }
   ],
   "source": [
    "print(slrm_text[0])"
   ]
  },
  {
   "cell_type": "code",
   "execution_count": null,
   "metadata": {},
   "outputs": [],
   "source": []
  }
 ],
 "metadata": {
  "kernelspec": {
   "display_name": "Python 3",
   "language": "python",
   "name": "python3"
  },
  "language_info": {
   "codemirror_mode": {
    "name": "ipython",
    "version": 3
   },
   "file_extension": ".py",
   "mimetype": "text/x-python",
   "name": "python",
   "nbconvert_exporter": "python",
   "pygments_lexer": "ipython3",
   "version": "3.5.5"
  }
 },
 "nbformat": 4,
 "nbformat_minor": 2
}
