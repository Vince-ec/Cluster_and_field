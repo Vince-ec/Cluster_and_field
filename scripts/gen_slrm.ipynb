{
 "cells": [
  {
   "cell_type": "code",
   "execution_count": 4,
   "metadata": {},
   "outputs": [],
   "source": [
    "import numpy as np\n",
    "import pandas as pd\n",
    "from glob import glob\n",
    "import os"
   ]
  },
  {
   "cell_type": "code",
   "execution_count": 2,
   "metadata": {},
   "outputs": [],
   "source": [
    "s_cand = pd.read_pickle('../dataframes/galaxy_frames/s_candidates.pkl')\n",
    "n_cand = pd.read_pickle('../dataframes/galaxy_frames/n_candidates.pkl')\n",
    "s_cand_sup= pd.read_pickle('../dataframes/galaxy_frames/s_sup_candidates.pkl')\n",
    "n_cand_sup= pd.read_pickle('../dataframes/galaxy_frames/n_sup_candidates.pkl')\n",
    "u_cand= pd.read_pickle('../dataframes/galaxy_frames/u_candidates.pkl')"
   ]
  },
  {
   "cell_type": "code",
   "execution_count": 3,
   "metadata": {},
   "outputs": [],
   "source": [
    "s_cand = pd.concat([s_cand,s_cand_sup]).sort_values('gids')\n",
    "n_cand = pd.concat([n_cand,n_cand_sup]).sort_values('gids')"
   ]
  },
  {
   "cell_type": "code",
   "execution_count": 8,
   "metadata": {},
   "outputs": [
    {
     "data": {
      "text/plain": [
       "96"
      ]
     },
     "execution_count": 8,
     "metadata": {},
     "output_type": "execute_result"
    }
   ],
   "source": [
    "len(n_cand)"
   ]
  },
  {
   "cell_type": "code",
   "execution_count": 9,
   "metadata": {},
   "outputs": [],
   "source": [
    "for i in range(len(s_cand)):\n",
    "    slrm_text= [\"#!/bin/bash\\n#SBATCH -J g_beam-{0}\\n#SBATCH -p background\\n#SBATCH --time=10:00:00\\n#SBATCH --mem-per-cpu=8000\\n#SBATCH -o gbeam{0}-%j.out\\n\\\n",
    "#SBATCH -e gbeam{0}-%j.err\\n\\nchmod a+x C_beams_instruct.py\\n\\n\\\n",
    "python C_beams_instruct.py {1} 'south' {2} {3} &\\npython C_beams_instruct.py {4} 'north' {5} {6} &\\n\\\n",
    "    \\nwait\\n\\nexit 0\".format(i + 1, s_cand.gids[s_cand.index[i]],s_cand.ra[s_cand.index[i]],s_cand.dec[s_cand.index[i]],\n",
    "                            n_cand.gids[n_cand.index[i]],n_cand.ra[n_cand.index[i]],n_cand.dec[n_cand.index[i]])]\n",
    "\n",
    "    np.savetxt('../cluster_scripts/gen_beam_{0}.slrm'.format(i + 1), slrm_text, fmt='%s')"
   ]
  },
  {
   "cell_type": "code",
   "execution_count": 10,
   "metadata": {},
   "outputs": [
    {
     "data": {
      "text/plain": [
       "68"
      ]
     },
     "execution_count": 10,
     "metadata": {},
     "output_type": "execute_result"
    }
   ],
   "source": [
    "i"
   ]
  },
  {
   "cell_type": "code",
   "execution_count": 11,
   "metadata": {},
   "outputs": [],
   "source": [
    "for i in range(len(u_cand)):\n",
    "    slrm_text= [\"#!/bin/bash\\n#SBATCH -J g_beam-{0}\\n#SBATCH -p background\\n#SBATCH --time=10:00:00\\n#SBATCH --mem-per-cpu=8000\\n#SBATCH -o gbeam{0}-%j.out\\n\\\n",
    "#SBATCH -e gbeam{0}-%j.err\\n\\nchmod a+x C_beams_instruct.py\\n\\n\\\n",
    "python C_beams_instruct.py {1} 'uds' {2} {3} &\\npython C_beams_instruct.py {4} 'north' {5} {6} &\\n\\\n",
    "    \\nwait\\n\\nexit 0\".format(i + 69+ 1, u_cand.gids[u_cand.index[i]],u_cand.ra[u_cand.index[i]],u_cand.dec[u_cand.index[i]],\n",
    "                            n_cand.gids[n_cand.index[i+ 69]],n_cand.ra[n_cand.index[i+ 69]],n_cand.dec[n_cand.index[i+ 69]])]\n",
    "\n",
    "    np.savetxt('../cluster_scripts/gen_beam_{0}.slrm'.format(i + 69 + 1), slrm_text, fmt='%s')"
   ]
  },
  {
   "cell_type": "code",
   "execution_count": 14,
   "metadata": {},
   "outputs": [],
   "source": [
    "for i in range(len(n_cand)-84):\n",
    "    slrm_text= [\"#!/bin/bash\\n#SBATCH -J g_beam-{0}\\n#SBATCH -p background\\n#SBATCH --time=10:00:00\\n#SBATCH --mem-per-cpu=8000\\n#SBATCH -o gbeam{0}-%j.out\\n\\\n",
    "#SBATCH -e gbeam{0}-%j.err\\n\\nchmod a+x C_beams_instruct.py\\n\\n\\\n",
    "python C_beams_instruct.py {1} 'north' {2} {3} &\\n\\nwait\\n\\nexit 0\".format(i + 84+ 1, n_cand.gids[n_cand.index[i+ 84]],n_cand.ra[n_cand.index[i+ 84]],n_cand.dec[n_cand.index[i+ 84]])]\n",
    "\n",
    "    np.savetxt('../cluster_scripts/gen_beam_{0}.slrm'.format(i + 84 + 1), slrm_text, fmt='%s')"
   ]
  },
  {
   "cell_type": "code",
   "execution_count": 12,
   "metadata": {},
   "outputs": [
    {
     "data": {
      "text/plain": [
       "12"
      ]
     },
     "execution_count": 12,
     "metadata": {},
     "output_type": "execute_result"
    }
   ],
   "source": [
    "len(n_cand)-84"
   ]
  },
  {
   "cell_type": "code",
   "execution_count": 24,
   "metadata": {},
   "outputs": [],
   "source": [
    "slrm_text= [\"#!/bin/bash\\n#SBATCH -J g_beam-{0}\\n#SBATCH -p background\\n#SBATCH --time=10:00:00\\n#SBATCH --mem-per-cpu=8000\\n#SBATCH -o gbeam{0}-%j.out\\n\\\n",
    "#SBATCH -e gbeam{0}-%j.err\\n\\nchmod a+x C_beams_instruct.py\\n\\npython C_beams_instruct.py {1} 'south' {2} {3} &\\n\\nwait\\n\\nexit 0\".format(17, s_cand.gids[s_cand.index[16]],s_cand.ra[s_cand.index[16]],s_cand.dec[s_cand.index[16]])]\n",
    "\n",
    "np.savetxt('../cluster_scripts/gen_beam_{0}.slrm'.format(17), slrm_text, fmt='%s')"
   ]
  },
  {
   "cell_type": "code",
   "execution_count": 25,
   "metadata": {},
   "outputs": [],
   "source": [
    "slrm_text= [\"#!/bin/bash\\n#SBATCH -J g_beam-{0}\\n#SBATCH -p background\\n#SBATCH --time=10:00:00\\n#SBATCH --mem-per-cpu=8000\\n#SBATCH -o gbeam{0}-%j.out\\n\\\n",
    "#SBATCH -e gbeam{0}-%j.err\\n\\nchmod a+x C_beams_instruct.py\\n\\npython C_beams_instruct.py {1} 'south' {2} {3} &\\n\\nwait\\n\\nexit 0\".format(18, s_cand.gids[s_cand.index[17]],s_cand.ra[s_cand.index[17]],s_cand.dec[s_cand.index[17]])]\n",
    "\n",
    "np.savetxt('../cluster_scripts/gen_beam_{0}.slrm'.format(18), slrm_text, fmt='%s')"
   ]
  },
  {
   "cell_type": "markdown",
   "metadata": {},
   "source": [
    "# Make Redshift Fitting files"
   ]
  },
  {
   "cell_type": "code",
   "execution_count": 16,
   "metadata": {},
   "outputs": [],
   "source": [
    "for i in range(int(len(s_cand)/4)):\n",
    "    slrm_text= [\"#!/bin/bash\\n#SBATCH -J zfit-{0}\\n#SBATCH -p background\\n#SBATCH --time=10:00:00\\n#SBATCH --mem-per-cpu=8000\\n#SBATCH -o zfit{0}-%j.out\\n\\\n",
    "#SBATCH -e zfit{0}-%j.err\\n\\nchmod a+x C_zfit_beam_instruct.py\\n\\n\\\n",
    "python C_zfit_beam_instruct.py '{1}' {5} &\\npython C_zfit_beam_instruct.py '{2}' {5} &\\n\\\n",
    "python C_zfit_beam_instruct.py '{3}' {5} &\\n\\\n",
    "python C_zfit_beam_instruct.py '{4}' {5} &\\n\\\n",
    "\\nwait\\n\\nexit 0\".format(i + 1, s_cand.gids[s_cand.index[4*i + 0]], s_cand.gids[s_cand.index[4*i + 1]], \n",
    "                             s_cand.gids[s_cand.index[4*i + 2]], s_cand.gids[s_cand.index[4*i + 3]],'gs')]\n",
    "\n",
    "    np.savetxt('../cluster_scripts/beam_zfit_{0}.slrm'.format(i + 1), slrm_text, fmt='%s')    "
   ]
  },
  {
   "cell_type": "code",
   "execution_count": null,
   "metadata": {},
   "outputs": [],
   "source": [
    "for i in range(int(len(n_cand)/4)):\n",
    "    slrm_text= [\"#!/bin/bash\\n#SBATCH -J zfit-{0}\\n#SBATCH -p background\\n#SBATCH --time=10:00:00\\n#SBATCH --mem-per-cpu=8000\\n#SBATCH -o zfit{0}-%j.out\\n\\\n",
    "#SBATCH -e zfit{0}-%j.err\\n\\nchmod a+x C_zfit_beam_instruct.py\\n\\n\\\n",
    "python C_zfit_beam_instruct.py '{1}' {5} &\\npython C_zfit_beam_instruct.py '{2}' {5} &\\n\\\n",
    "python C_zfit_beam_instruct.py '{3}' {5} &\\n\\\n",
    "python C_zfit_beam_instruct.py '{4}' {5} &\\n\\\n",
    "\\nwait\\n\\nexit 0\".format(i + 1, n_cand.gids[n_cand.index[4*i + 0]], n_cand.gids[n_cand.index[4*i + 1]], \n",
    "                             n_cand.gids[n_cand.index[4*i + 2]], n_cand.gids[n_cand.index[4*i + 3]],'gn')]\n",
    "\n",
    "    np.savetxt('../cluster_scripts/beam_zfit_{0}.slrm'.format(i + 1), slrm_text, fmt='%s')    "
   ]
  },
  {
   "cell_type": "code",
   "execution_count": null,
   "metadata": {},
   "outputs": [],
   "source": [
    "for i in range(int(len(u_cand)/4)):\n",
    "    slrm_text= [\"#!/bin/bash\\n#SBATCH -J zfit-{0}\\n#SBATCH -p background\\n#SBATCH --time=10:00:00\\n#SBATCH --mem-per-cpu=8000\\n#SBATCH -o zfit{0}-%j.out\\n\\\n",
    "#SBATCH -e zfit{0}-%j.err\\n\\nchmod a+x C_zfit_beam_instruct.py\\n\\n\\\n",
    "python C_zfit_beam_instruct.py '{1}' {5} &\\npython C_zfit_beam_instruct.py '{2}' {5} &\\n\\\n",
    "python C_zfit_beam_instruct.py '{3}' {5} &\\n\\\n",
    "python C_zfit_beam_instruct.py '{4}' {5} &\\n\\\n",
    "\\nwait\\n\\nexit 0\".format(i + 1, u_cand.gids[u_cand.index[4*i + 0]], u_cand.gids[u_cand.index[4*i + 1]], \n",
    "                             u_cand.gids[u_cand.index[4*i + 2]], u_cand.gids[u_cand.index[4*i + 3]],'uds')]\n",
    "\n",
    "    np.savetxt('../cluster_scripts/beam_zfit_{0}.slrm'.format(i + 1), slrm_text, fmt='%s')    "
   ]
  },
  {
   "cell_type": "code",
   "execution_count": 18,
   "metadata": {},
   "outputs": [
    {
     "data": {
      "text/plain": [
       "(1, 0, 3)"
      ]
     },
     "execution_count": 18,
     "metadata": {},
     "output_type": "execute_result"
    }
   ],
   "source": [
    "len(s_cand) - int(len(s_cand)/4) *4 , len(n_cand) - int(len(n_cand)/4) *4 , len(u_cand) - int(len(u_cand)/4) *4  "
   ]
  },
  {
   "cell_type": "code",
   "execution_count": 11,
   "metadata": {},
   "outputs": [
    {
     "name": "stdout",
     "output_type": "stream",
     "text": [
      "0\n",
      "1\n",
      "2\n",
      "3\n",
      "4\n",
      "5\n",
      "6\n",
      "7\n",
      "8\n",
      "9\n",
      "10\n",
      "11\n",
      "12\n",
      "13\n",
      "14\n",
      "15\n",
      "16\n",
      "17\n",
      "18\n",
      "19\n",
      "20\n",
      "21\n",
      "22\n",
      "23\n",
      "24\n",
      "25\n",
      "26\n",
      "27\n",
      "28\n",
      "29\n",
      "30\n",
      "31\n",
      "32\n",
      "33\n",
      "34\n",
      "35\n",
      "36\n",
      "37\n",
      "38\n",
      "39\n",
      "40\n",
      "41\n",
      "42\n",
      "43\n",
      "44\n",
      "45\n",
      "46\n",
      "47\n",
      "48\n",
      "49\n",
      "50\n",
      "51\n",
      "52\n",
      "53\n",
      "54\n",
      "55\n",
      "56\n",
      "57\n",
      "58\n",
      "59\n",
      "60\n",
      "61\n",
      "62\n",
      "63\n",
      "64\n",
      "65\n",
      "66\n",
      "67\n"
     ]
    }
   ],
   "source": [
    "slrm_text= [\"#!/bin/bash\\n#SBATCH -J zfit-{0}\\n#SBATCH -p background\\n#SBATCH --time=10:00:00\\n#SBATCH --mem-per-cpu=8000\\n#SBATCH -o zfit{0}-%j.out\\n\\\n",
    "#SBATCH -e zfit{0}-%j.err\\n\\nchmod a+x C_zfit_beam_instruct.py\\n\\n\\\n",
    "python C_zfit_beam_instruct.py '{1}' {2} &\\n\\nwait\\n\\nexit 0\".format(i + 1, s_cand.gids[s_cand.index[-1]],,'gs')]\n",
    "\n",
    "np.savetxt('../cluster_scripts/beam_zfit_{0}.slrm'.format(i + 1), slrm_text, fmt='%s')    "
   ]
  },
  {
   "cell_type": "code",
   "execution_count": null,
   "metadata": {},
   "outputs": [],
   "source": [
    "slrm_text= [\"#!/bin/bash\\n#SBATCH -J zfit-{0}\\n#SBATCH -p background\\n#SBATCH --time=10:00:00\\n#SBATCH --mem-per-cpu=8000\\n#SBATCH -o zfit{0}-%j.out\\n\\\n",
    "#SBATCH -e zfit{0}-%j.err\\n\\nchmod a+x C_zfit_beam_instruct.py\\n\\n\\\n",
    "python C_zfit_beam_instruct.py '{1}' {4} &\\npython C_zfit_beam_instruct.py '{2}' {4} &\\n\\\n",
    "python C_zfit_beam_instruct.py '{3}' {4} &\\n\\\n",
    "\\nwait\\n\\nexit 0\".format(i + 1, u_cand.gids[u_cand.index[-1]], u_cand.gids[u_cand.index[-2]], \n",
    "                             u_cand.gids[u_cand.index[-3]], 'uds')]\n",
    "\n",
    "    np.savetxt('../cluster_scripts/beam_zfit_{0}.slrm'.format(i + 1), slrm_text, fmt='%s') "
   ]
  },
  {
   "cell_type": "code",
   "execution_count": 2,
   "metadata": {},
   "outputs": [],
   "source": [
    "galDB = pd.read_pickle('../dataframes/galaxy_database.pkl')"
   ]
  },
  {
   "cell_type": "code",
   "execution_count": 3,
   "metadata": {},
   "outputs": [],
   "source": [
    "for i in galDB.index:\n",
    "    slrm_text= [\"#!/bin/bash\\n#SBATCH -J zfit-{0}\\n#SBATCH -p background\\n#SBATCH --time=20:00:00\\n#SBATCH --mem-per-cpu=64000\\n#SBATCH -o zfit{0}-%j.out\\n\\\n",
    "#SBATCH -e zfit{0}-%j.err\\n\\nchmod a+x C_rshift_fit_instruct.py\\n\\n\\\n",
    "python C_rshift_fit_instruct.py '{1}' {2} {3} &\\n\\\n",
    "\\nwait\\n\\nexit 0\".format(i + 1, galDB.field[i], galDB.ids[i], galDB.z_lres[i])]\n",
    "\n",
    "    np.savetxt('../cluster_scripts/rshift_fit_{0}.slrm'.format(i + 1), slrm_text, fmt='%s')    "
   ]
  },
  {
   "cell_type": "code",
   "execution_count": 6,
   "metadata": {},
   "outputs": [
    {
     "name": "stdout",
     "output_type": "stream",
     "text": [
      "#!/bin/bash\n",
      "#SBATCH -J zfit-35\n",
      "#SBATCH -p background\n",
      "#SBATCH --time=20:00:00\n",
      "#SBATCH --mem-per-cpu=64000\n",
      "#SBATCH -o zfit35-%j.out\n",
      "#SBATCH -e zfit35-%j.err\n",
      "\n",
      "chmod a+x C_rshift_fit_instruct.py\n",
      "\n",
      "python C_rshift_fit_instruct.py 'GSD' 48464 &\n",
      "\n",
      "wait\n",
      "\n",
      "exit 0\n"
     ]
    }
   ],
   "source": [
    "print(slrm_text[0])"
   ]
  },
  {
   "cell_type": "code",
   "execution_count": 5,
   "metadata": {},
   "outputs": [],
   "source": [
    "for i in galDB.index:\n",
    "    slrm_text= [\"#!/bin/bash\\n#SBATCH -J zfit-{0}\\n#SBATCH -p background\\n#SBATCH --time=20:00:00\\n#SBATCH --mem-per-cpu=64000\\n#SBATCH -o zfit{0}-%j.out\\n\\\n",
    "#SBATCH -e zfit{0}-%j.err\\n\\nchmod a+x C_full_fit_instruct.py\\n\\n\\\n",
    "python C_full_fit_instruct.py '{1}' {2} {3} &\\n\\\n",
    "\\nwait\\n\\nexit 0\".format(i + 1, galDB.field[i], galDB.ids[i], galDB.z_grism[i])]\n",
    "\n",
    "    np.savetxt('../cluster_scripts/full_fit_{0}.slrm'.format(i + 1), slrm_text, fmt='%s')    "
   ]
  },
  {
   "cell_type": "code",
   "execution_count": 3,
   "metadata": {},
   "outputs": [],
   "source": [
    "BFs = pd.read_pickle('../dataframes/BF_fit_all.pkl')"
   ]
  },
  {
   "cell_type": "code",
   "execution_count": 52,
   "metadata": {},
   "outputs": [],
   "source": [
    "bfZ, bfd, bft, bftau, bfz, gids = [[],[],[],[],[],[]]\n",
    "\n",
    "for i in BFs.index:\n",
    "    bfZ.append(BFs.bfZ[i])\n",
    "    bft.append(BFs.bft[i])\n",
    "    bftau.append(BFs.bftau[i])\n",
    "    bfz.append(np.round(BFs.bfz[i],3))\n",
    "    bfd.append(np.round(BFs.bfd[i],1))\n",
    "    gids.append(int(BFs.gids[i]))\n",
    "    \n",
    "bfZ = np.array(bfZ)\n",
    "bft = np.array(bft)\n",
    "bftau = np.array(bftau)\n",
    "bfz = np.array(bfz)\n",
    "bfd = np.array(bfd)\n",
    "gids = np.array(gids)"
   ]
  },
  {
   "cell_type": "code",
   "execution_count": 55,
   "metadata": {},
   "outputs": [],
   "source": [
    "for i in galDB.index:\n",
    "    slrm_text= [\"#!/bin/bash\\n#SBATCH -J ffit-{0}\\n#SBATCH -p background\\n#SBATCH --time=20:00:00\\n#SBATCH --mem-per-cpu=64000\\n#SBATCH -o ffit{0}-%j.out\\n\\\n",
    "#SBATCH -e ffit{0}-%j.err\\n\\nchmod a+x C_full_fit_instruct3.py\\n\\n\\\n",
    "python C_full_fit_instruct3.py '{1}' {2} {3} {4} {5} {6} {7} {8} &\\n\\\n",
    "\\nwait\\n\\nexit 0\".format(i + 1, galDB.field[i], galDB.ids[i], np.round(galDB.z_grism[i],3),\n",
    "                        bfZ[gids == galDB.ids[i]][0], bft[gids == galDB.ids[i]][0],bftau[gids == galDB.ids[i]][0],\n",
    "                        bfz[gids == galDB.ids[i]][0], bfd[gids == galDB.ids[i]][0])]\n",
    "\n",
    "    np.savetxt('../cluster_scripts/full_fit_set_{0}.slrm'.format(i + 1), slrm_text, fmt='%s')   "
   ]
  },
  {
   "cell_type": "code",
   "execution_count": 54,
   "metadata": {},
   "outputs": [
    {
     "name": "stdout",
     "output_type": "stream",
     "text": [
      "#!/bin/bash\n",
      "#SBATCH -J zfit-35\n",
      "#SBATCH -p background\n",
      "#SBATCH --time=20:00:00\n",
      "#SBATCH --mem-per-cpu=64000\n",
      "#SBATCH -o zfit35-%j.out\n",
      "#SBATCH -e zfit35-%j.err\n",
      "\n",
      "chmod a+x C_full_fit_instruct.py\n",
      "\n",
      "python C_full_fit_instruct.py 'GSD' 48464 2.173 0.002 4.1 8.78 2.173 0.8 &\n",
      "\n",
      "wait\n",
      "\n",
      "exit 0\n"
     ]
    }
   ],
   "source": [
    "print(slrm_text[0])"
   ]
  },
  {
   "cell_type": "code",
   "execution_count": 2,
   "metadata": {},
   "outputs": [],
   "source": [
    "gsd_cat = pd.read_pickle('../dataframes/GS_snr.pkl')\n",
    "gnd_cat = pd.read_pickle('../dataframes/GN_snr.pkl')"
   ]
  },
  {
   "cell_type": "code",
   "execution_count": 9,
   "metadata": {},
   "outputs": [],
   "source": [
    "idx = 1\n",
    "\n",
    "for i in gsd_cat.index:\n",
    "    slrm_text= [\"#!/bin/bash\\n#SBATCH -J zit-{0}\\n#SBATCH -p background\\n#SBATCH --time=2:00:00\\n#SBATCH --mem-per-cpu=16000\\n#SBATCH -o zfit{0}-%j.out\\n\\\n",
    "#SBATCH -e zfit{0}-%j.err\\n\\nchmod a+x redshift_fit.py\\n\\n\\\n",
    "python redshift_fit.py 'GSD' {1} &\\n\\\n",
    "\\nwait\\n\\nexit 0\".format(idx, gsd_cat.id[i])]\n",
    "    np.savetxt('../cluster_scripts/rshift_fit_{0}.slrm'.format(idx), slrm_text, fmt='%s')   \n",
    "    idx +=1\n",
    "\n",
    "for i in gnd_cat.index:\n",
    "    slrm_text= [\"#!/bin/bash\\n#SBATCH -J zit-{0}\\n#SBATCH -p background\\n#SBATCH --time=2:00:00\\n#SBATCH --mem-per-cpu=16000\\n#SBATCH -o zfit{0}-%j.out\\n\\\n",
    "#SBATCH -e zfit{0}-%j.err\\n\\nchmod a+x redshift_fit.py\\n\\n\\\n",
    "python redshift_fit.py 'GND' {1} &\\n\\\n",
    "\\nwait\\n\\nexit 0\".format(idx, gnd_cat.id[i])]\n",
    "    np.savetxt('../cluster_scripts/rshift_fit_{0}.slrm'.format(idx), slrm_text, fmt='%s')   \n",
    "    idx +=1\n"
   ]
  },
  {
   "cell_type": "code",
   "execution_count": 16,
   "metadata": {},
   "outputs": [],
   "source": [
    "snr_cat = pd.read_pickle('../dataframes/high_snr_df.pkl')"
   ]
  },
  {
   "cell_type": "code",
   "execution_count": 17,
   "metadata": {},
   "outputs": [],
   "source": [
    "idx = 1\n",
    "for i in snr_cat.index:\n",
    "    slrm_text= [\"#!/bin/bash\\n#SBATCH -J bfit-{0}\\n#SBATCH -p background\\n#SBATCH --time=8:00:00\\n#SBATCH --mem-per-cpu=32000\\n#SBATCH -o bfit{0}-%j.out\\n\\\n",
    "#SBATCH -e bfit{0}-%j.err\\n\\nchmod a+x bestfit.py\\n\\n\\\n",
    "python bestfit.py {1} {2} {3} &\\n\\\n",
    "\\nwait\\n\\nexit 0\".format(idx, snr_cat.field[i],snr_cat.id[i], np.round(snr_cat.z[i],4))]\n",
    "    np.savetxt('../cluster_scripts/bestfit_{0}.slrm'.format(idx), slrm_text, fmt='%s')   \n",
    "    idx +=1\n"
   ]
  },
  {
   "cell_type": "code",
   "execution_count": 12,
   "metadata": {},
   "outputs": [
    {
     "name": "stdout",
     "output_type": "stream",
     "text": [
      "#!/bin/bash\n",
      "#SBATCH -J bfit-61\n",
      "#SBATCH -p background\n",
      "#SBATCH --time=2:00:00\n",
      "#SBATCH --mem-per-cpu=16000\n",
      "#SBATCH -o bfit61-%j.out\n",
      "#SBATCH -e bfit61-%j.err\n",
      "\n",
      "chmod a+x bestfit.py\n",
      "\n",
      "python bestfit.py GSD 35774 1.2533 &\n",
      "\n",
      "wait\n",
      "\n",
      "exit 0\n"
     ]
    }
   ],
   "source": [
    "print(slrm_text[0])"
   ]
  },
  {
   "cell_type": "code",
   "execution_count": 5,
   "metadata": {},
   "outputs": [],
   "source": [
    "flist = glob('../data/bestfits/*bestfit.npy')\n",
    "\n",
    "field = [os.path.basename(U).split('_')[0] for U in flist]\n",
    "galaxy = np.array([os.path.basename(U).split('_')[1] for U in flist]).astype(np.int)"
   ]
  },
  {
   "cell_type": "code",
   "execution_count": 3,
   "metadata": {},
   "outputs": [],
   "source": [
    "from dynesty.utils import quantile as _quantile\n",
    "from scipy.ndimage import gaussian_filter as norm_kde\n",
    "\n",
    "def Get_posterior(sample,logwt,logz):\n",
    "    weight = np.exp(logwt - logz[-1])\n",
    "\n",
    "    q = [0.5 - 0.5 * 0.999999426697, 0.5 + 0.5 * 0.999999426697]\n",
    "    span = _quantile(sample.T, q, weights=weight)\n",
    "\n",
    "    s = 0.02\n",
    "\n",
    "    bins = int(round(10. / 0.02))\n",
    "    n, b = np.histogram(sample, bins=bins, weights=weight,\n",
    "                        range=np.sort(span))\n",
    "    n = norm_kde(n, 10.)\n",
    "    x0 = 0.5 * (b[1:] + b[:-1])\n",
    "    y0 = n\n",
    "    \n",
    "    return x0, y0 / np.trapz(y0,x0)"
   ]
  },
  {
   "cell_type": "code",
   "execution_count": 8,
   "metadata": {},
   "outputs": [],
   "source": [
    "idx = 1\n",
    "for i in range(len(field)):   \n",
    "    bfZ, bft, bftau1, bftau2, bftau3, bftau4, bftau5, bftau6, bfz, bfd =np.load('../data/bestfits/{0}_{1}_bestfit.npy'.format(field[i],\n",
    "                                                                                                                              galaxy[i]))\n",
    "    \n",
    "    slrm_text= [\"#!/bin/bash\\n#SBATCH -J nfit-{0}\\n#SBATCH -p background\\n#SBATCH --time=16:00:00\\n#SBATCH --mem-per-cpu=16000\\n#SBATCH -o nfit{0}-%j.out\\n\\\n",
    "#SBATCH -e nfit{0}-%j.err\\n\\nchmod a+x fullfit.py\\n\\n\\\n",
    "python fullfit.py {1} {2} {3:0.4f}\\n\\\n",
    "\\nwait\\n\\nexit 0\".format(idx, field[i], galaxy[i], bfz)]\n",
    "    np.savetxt('../cluster_scripts/nestfit_{0}.slrm'.format(idx), slrm_text, fmt='%s')   \n",
    "    idx +=1                  \n",
    "        "
   ]
  },
  {
   "cell_type": "code",
   "execution_count": 31,
   "metadata": {},
   "outputs": [],
   "source": [
    "tau = ['tab', 'delay']\n",
    "trim = [0,2500]\n",
    "trails = [1,2,3,4,5]\n",
    "idx=1\n",
    "for i in range(len(tau)):\n",
    "    for ii in range(len(trim)):\n",
    "        for iii in range(len(trails)):        \n",
    "            slrm_text= [\"#!/bin/bash\\n#SBATCH -J tfit-{0}\\n#SBATCH -p background\\n#SBATCH --time=16:00:00\\n#SBATCH --mem-per-cpu=16000\\n#SBATCH -o tfit{0}-%j.out\\n\\\n",
    "#SBATCH -e tfit{0}-%j.err\\n\\nchmod a+x fullfit-test.py\\n\\n\\\n",
    "python fullfit-test.py {1} {2} {3}\\nnwait\\n\\nexit 0\".format(idx, trails[iii], tau[i], trim[ii])]\n",
    "            np.savetxt('../cluster_scripts/testfit_{0}.slrm'.format(idx), slrm_text, fmt='%s') \n",
    "            idx+=1"
   ]
  },
  {
   "cell_type": "code",
   "execution_count": 7,
   "metadata": {},
   "outputs": [],
   "source": [
    "##### bestfit\n",
    "\n",
    "idx = 1\n",
    "for i in range(len(field)):   \n",
    "    slrm_text= [\"#!/bin/bash\\n#SBATCH -J bfit-{0}\\n#SBATCH -p background\\n#SBATCH --time=16:00:00\\n#SBATCH --mem-per-cpu=16000\\n#SBATCH -o bfit{0}-%j.out\\n\\\n",
    "#SBATCH -e bfit{0}-%j.err\\n\\nchmod a+x bestfit.py\\n\\n\\\n",
    "python bestfit.py {1} {2}\\n\\\n",
    "\\nwait\\n\\nexit 0\".format(idx, field[i], galaxy[i])]\n",
    "    np.savetxt('../cluster_scripts/bestfit_{0}.slrm'.format(idx), slrm_text, fmt='%s')   \n",
    "    idx +=1  "
   ]
  },
  {
   "cell_type": "code",
   "execution_count": 7,
   "metadata": {},
   "outputs": [
    {
     "name": "stdout",
     "output_type": "stream",
     "text": [
      "#!/bin/bash\n",
      "#SBATCH -J nfit-56\n",
      "#SBATCH -p background\n",
      "#SBATCH --time=16:00:00\n",
      "#SBATCH --mem-per-cpu=16000\n",
      "#SBATCH -o nfit56-%j.out\n",
      "#SBATCH -e nfit56-%j.err\n",
      "\n",
      "chmod a+x fullfit.py\n",
      "\n",
      "python fullfit.py GSD 47691 1.1287\n",
      "\n",
      "wait\n",
      "\n",
      "exit 0\n"
     ]
    }
   ],
   "source": [
    "print(slrm_text[0])"
   ]
  },
  {
   "cell_type": "code",
   "execution_count": 11,
   "metadata": {},
   "outputs": [],
   "source": [
    "##### testfit\n",
    "\n",
    "idx = 1\n",
    "for i in range(4):\n",
    "    for ii in range(10):\n",
    "        slrm_text= [\"#!/bin/bash\\n#SBATCH -J tfit-{0}\\n#SBATCH -p background\\n#SBATCH -c 8\\n\\\n",
    "#SBATCH --time=16:00:00\\n#SBATCH --mem=16gb\\n#SBATCH -o tfit{0}-%j.out\\n#SBATCH -e tfit{0}-%j.err\\n\\nchmod a+x testfit_{1}.py\\n\\n\\\n",
    "python testfit_{1}.py {2} {3}\\n\\\n",
    "\\nwait\\n\\nexit 0\".format(idx, i + 6, ii +1, ii + 7)]\n",
    "        np.savetxt('../cluster_scripts/testfit_{0}.slrm'.format(idx), slrm_text, fmt='%s')   \n",
    "        idx +=1  "
   ]
  },
  {
   "cell_type": "code",
   "execution_count": 12,
   "metadata": {},
   "outputs": [
    {
     "name": "stdout",
     "output_type": "stream",
     "text": [
      "#!/bin/bash\n",
      "#SBATCH -J tfit-40\n",
      "#SBATCH -p background\n",
      "#SBATCH -c 8\n",
      "#SBATCH --time=16:00:00\n",
      "#SBATCH --mem=16gb\n",
      "#SBATCH -o tfit40-%j.out\n",
      "#SBATCH -e tfit40-%j.err\n",
      "\n",
      "chmod a+x testfit_9.py\n",
      "\n",
      "python testfit_9.py 10 16\n",
      "\n",
      "wait\n",
      "\n",
      "exit 0\n"
     ]
    }
   ],
   "source": [
    "print(slrm_text[0])"
   ]
  },
  {
   "cell_type": "code",
   "execution_count": null,
   "metadata": {},
   "outputs": [],
   "source": []
  }
 ],
 "metadata": {
  "kernelspec": {
   "display_name": "Python 3",
   "language": "python",
   "name": "python3"
  },
  "language_info": {
   "codemirror_mode": {
    "name": "ipython",
    "version": 3
   },
   "file_extension": ".py",
   "mimetype": "text/x-python",
   "name": "python",
   "nbconvert_exporter": "python",
   "pygments_lexer": "ipython3",
   "version": "3.5.5"
  }
 },
 "nbformat": 4,
 "nbformat_minor": 2
}
