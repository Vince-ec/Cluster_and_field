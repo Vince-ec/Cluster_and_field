{
 "cells": [
  {
   "cell_type": "code",
   "execution_count": 1,
   "metadata": {},
   "outputs": [],
   "source": [
    "import numpy as np\n",
    "import pandas as pd"
   ]
  },
  {
   "cell_type": "code",
   "execution_count": 2,
   "metadata": {},
   "outputs": [],
   "source": [
    "s_cand = pd.read_pickle('../dataframes/galaxy_frames/s_candidates.pkl')\n",
    "n_cand = pd.read_pickle('../dataframes/galaxy_frames/n_candidates.pkl')\n",
    "s_cand_sup= pd.read_pickle('../dataframes/galaxy_frames/s_sup_candidates.pkl')\n",
    "n_cand_sup= pd.read_pickle('../dataframes/galaxy_frames/n_sup_candidates.pkl')\n",
    "u_cand= pd.read_pickle('../dataframes/galaxy_frames/u_candidates.pkl')"
   ]
  },
  {
   "cell_type": "code",
   "execution_count": 6,
   "metadata": {},
   "outputs": [],
   "source": [
    "s_cand = pd.concat([s_cand,s_cand_sup]).sort_values('gids')\n",
    "n_cand = pd.concat([n_cand,n_cand_sup]).sort_values('gids')"
   ]
  },
  {
   "cell_type": "code",
   "execution_count": 8,
   "metadata": {},
   "outputs": [
    {
     "data": {
      "text/plain": [
       "96"
      ]
     },
     "execution_count": 8,
     "metadata": {},
     "output_type": "execute_result"
    }
   ],
   "source": [
    "len(n_cand)"
   ]
  },
  {
   "cell_type": "code",
   "execution_count": 9,
   "metadata": {},
   "outputs": [],
   "source": [
    "for i in range(len(s_cand)):\n",
    "    slrm_text= [\"#!/bin/bash\\n#SBATCH -J g_beam-{0}\\n#SBATCH -p background\\n#SBATCH --time=10:00:00\\n#SBATCH --mem-per-cpu=8000\\n#SBATCH -o gbeam{0}-%j.out\\n\\\n",
    "#SBATCH -e gbeam{0}-%j.err\\n\\nchmod a+x C_beams_instruct.py\\n\\n\\\n",
    "python C_beams_instruct.py {1} 'south' {2} {3} &\\npython C_beams_instruct.py {4} 'north' {5} {6} &\\n\\\n",
    "    \\nwait\\n\\nexit 0\".format(i + 1, s_cand.gids[s_cand.index[i]],s_cand.ra[s_cand.index[i]],s_cand.dec[s_cand.index[i]],\n",
    "                            n_cand.gids[n_cand.index[i]],n_cand.ra[n_cand.index[i]],n_cand.dec[n_cand.index[i]])]\n",
    "\n",
    "    np.savetxt('../cluster_scripts/gen_beam_{0}.slrm'.format(i + 1), slrm_text, fmt='%s')"
   ]
  },
  {
   "cell_type": "code",
   "execution_count": 10,
   "metadata": {},
   "outputs": [
    {
     "data": {
      "text/plain": [
       "68"
      ]
     },
     "execution_count": 10,
     "metadata": {},
     "output_type": "execute_result"
    }
   ],
   "source": [
    "i"
   ]
  },
  {
   "cell_type": "code",
   "execution_count": 11,
   "metadata": {},
   "outputs": [],
   "source": [
    "for i in range(len(u_cand)):\n",
    "    slrm_text= [\"#!/bin/bash\\n#SBATCH -J g_beam-{0}\\n#SBATCH -p background\\n#SBATCH --time=10:00:00\\n#SBATCH --mem-per-cpu=8000\\n#SBATCH -o gbeam{0}-%j.out\\n\\\n",
    "#SBATCH -e gbeam{0}-%j.err\\n\\nchmod a+x C_beams_instruct.py\\n\\n\\\n",
    "python C_beams_instruct.py {1} 'uds' {2} {3} &\\npython C_beams_instruct.py {4} 'north' {5} {6} &\\n\\\n",
    "    \\nwait\\n\\nexit 0\".format(i + 69+ 1, u_cand.gids[u_cand.index[i]],u_cand.ra[u_cand.index[i]],u_cand.dec[u_cand.index[i]],\n",
    "                            n_cand.gids[n_cand.index[i+ 69]],n_cand.ra[n_cand.index[i+ 69]],n_cand.dec[n_cand.index[i+ 69]])]\n",
    "\n",
    "    np.savetxt('../cluster_scripts/gen_beam_{0}.slrm'.format(i + 69 + 1), slrm_text, fmt='%s')"
   ]
  },
  {
   "cell_type": "code",
   "execution_count": 14,
   "metadata": {},
   "outputs": [],
   "source": [
    "for i in range(len(n_cand)-84):\n",
    "    slrm_text= [\"#!/bin/bash\\n#SBATCH -J g_beam-{0}\\n#SBATCH -p background\\n#SBATCH --time=10:00:00\\n#SBATCH --mem-per-cpu=8000\\n#SBATCH -o gbeam{0}-%j.out\\n\\\n",
    "#SBATCH -e gbeam{0}-%j.err\\n\\nchmod a+x C_beams_instruct.py\\n\\n\\\n",
    "python C_beams_instruct.py {1} 'north' {2} {3} &\\n\\nwait\\n\\nexit 0\".format(i + 84+ 1, n_cand.gids[n_cand.index[i+ 84]],n_cand.ra[n_cand.index[i+ 84]],n_cand.dec[n_cand.index[i+ 84]])]\n",
    "\n",
    "    np.savetxt('../cluster_scripts/gen_beam_{0}.slrm'.format(i + 84 + 1), slrm_text, fmt='%s')"
   ]
  },
  {
   "cell_type": "code",
   "execution_count": 12,
   "metadata": {},
   "outputs": [
    {
     "data": {
      "text/plain": [
       "12"
      ]
     },
     "execution_count": 12,
     "metadata": {},
     "output_type": "execute_result"
    }
   ],
   "source": [
    "len(n_cand)-84"
   ]
  },
  {
   "cell_type": "code",
   "execution_count": 24,
   "metadata": {},
   "outputs": [],
   "source": [
    "slrm_text= [\"#!/bin/bash\\n#SBATCH -J g_beam-{0}\\n#SBATCH -p background\\n#SBATCH --time=10:00:00\\n#SBATCH --mem-per-cpu=8000\\n#SBATCH -o gbeam{0}-%j.out\\n\\\n",
    "#SBATCH -e gbeam{0}-%j.err\\n\\nchmod a+x C_beams_instruct.py\\n\\npython C_beams_instruct.py {1} 'south' {2} {3} &\\n\\nwait\\n\\nexit 0\".format(17, s_cand.gids[s_cand.index[16]],s_cand.ra[s_cand.index[16]],s_cand.dec[s_cand.index[16]])]\n",
    "\n",
    "np.savetxt('../cluster_scripts/gen_beam_{0}.slrm'.format(17), slrm_text, fmt='%s')"
   ]
  },
  {
   "cell_type": "code",
   "execution_count": 25,
   "metadata": {},
   "outputs": [],
   "source": [
    "slrm_text= [\"#!/bin/bash\\n#SBATCH -J g_beam-{0}\\n#SBATCH -p background\\n#SBATCH --time=10:00:00\\n#SBATCH --mem-per-cpu=8000\\n#SBATCH -o gbeam{0}-%j.out\\n\\\n",
    "#SBATCH -e gbeam{0}-%j.err\\n\\nchmod a+x C_beams_instruct.py\\n\\npython C_beams_instruct.py {1} 'south' {2} {3} &\\n\\nwait\\n\\nexit 0\".format(18, s_cand.gids[s_cand.index[17]],s_cand.ra[s_cand.index[17]],s_cand.dec[s_cand.index[17]])]\n",
    "\n",
    "np.savetxt('../cluster_scripts/gen_beam_{0}.slrm'.format(18), slrm_text, fmt='%s')"
   ]
  },
  {
   "cell_type": "code",
   "execution_count": null,
   "metadata": {},
   "outputs": [],
   "source": []
  }
 ],
 "metadata": {
  "kernelspec": {
   "display_name": "Python 3",
   "language": "python",
   "name": "python3"
  },
  "language_info": {
   "codemirror_mode": {
    "name": "ipython",
    "version": 3
   },
   "file_extension": ".py",
   "mimetype": "text/x-python",
   "name": "python",
   "nbconvert_exporter": "python",
   "pygments_lexer": "ipython3",
   "version": "3.5.5"
  }
 },
 "nbformat": 4,
 "nbformat_minor": 2
}
