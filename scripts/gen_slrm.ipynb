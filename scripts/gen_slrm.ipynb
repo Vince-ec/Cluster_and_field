{
 "cells": [
  {
   "cell_type": "code",
   "execution_count": 1,
   "metadata": {},
   "outputs": [],
   "source": [
    "import numpy as np\n",
    "import pandas as pd\n",
    "from glob import glob\n",
    "import os"
   ]
  },
  {
   "cell_type": "code",
   "execution_count": 16,
   "metadata": {},
   "outputs": [],
   "source": [
    "snr_cat = pd.read_pickle('../dataframes/high_snr_df.pkl')"
   ]
  },
  {
   "cell_type": "code",
   "execution_count": 17,
   "metadata": {},
   "outputs": [],
   "source": [
    "idx = 1\n",
    "for i in snr_cat.index:\n",
    "    slrm_text= [\"#!/bin/bash\\n#SBATCH -J bfit-{0}\\n#SBATCH -p background\\n#SBATCH --time=8:00:00\\n#SBATCH --mem-per-cpu=32000\\n#SBATCH -o bfit{0}-%j.out\\n\\\n",
    "#SBATCH -e bfit{0}-%j.err\\n\\nchmod a+x bestfit.py\\n\\n\\\n",
    "python bestfit.py {1} {2} {3} &\\n\\\n",
    "\\nwait\\n\\nexit 0\".format(idx, snr_cat.field[i],snr_cat.id[i], np.round(snr_cat.z[i],4))]\n",
    "    np.savetxt('../cluster_scripts/bestfit_{0}.slrm'.format(idx), slrm_text, fmt='%s')   \n",
    "    idx +=1\n"
   ]
  },
  {
   "cell_type": "code",
   "execution_count": 12,
   "metadata": {},
   "outputs": [
    {
     "name": "stdout",
     "output_type": "stream",
     "text": [
      "#!/bin/bash\n",
      "#SBATCH -J bfit-61\n",
      "#SBATCH -p background\n",
      "#SBATCH --time=2:00:00\n",
      "#SBATCH --mem-per-cpu=16000\n",
      "#SBATCH -o bfit61-%j.out\n",
      "#SBATCH -e bfit61-%j.err\n",
      "\n",
      "chmod a+x bestfit.py\n",
      "\n",
      "python bestfit.py GSD 35774 1.2533 &\n",
      "\n",
      "wait\n",
      "\n",
      "exit 0\n"
     ]
    }
   ],
   "source": [
    "print(slrm_text[0])"
   ]
  },
  {
   "cell_type": "code",
   "execution_count": 5,
   "metadata": {},
   "outputs": [],
   "source": [
    "flist = glob('../data/bestfits/*bestfit.npy')\n",
    "\n",
    "field = [os.path.basename(U).split('_')[0] for U in flist]\n",
    "galaxy = np.array([os.path.basename(U).split('_')[1] for U in flist]).astype(np.int)"
   ]
  },
  {
   "cell_type": "code",
   "execution_count": 3,
   "metadata": {},
   "outputs": [],
   "source": [
    "from dynesty.utils import quantile as _quantile\n",
    "from scipy.ndimage import gaussian_filter as norm_kde\n",
    "\n",
    "def Get_posterior(sample,logwt,logz):\n",
    "    weight = np.exp(logwt - logz[-1])\n",
    "\n",
    "    q = [0.5 - 0.5 * 0.999999426697, 0.5 + 0.5 * 0.999999426697]\n",
    "    span = _quantile(sample.T, q, weights=weight)\n",
    "\n",
    "    s = 0.02\n",
    "\n",
    "    bins = int(round(10. / 0.02))\n",
    "    n, b = np.histogram(sample, bins=bins, weights=weight,\n",
    "                        range=np.sort(span))\n",
    "    n = norm_kde(n, 10.)\n",
    "    x0 = 0.5 * (b[1:] + b[:-1])\n",
    "    y0 = n\n",
    "    \n",
    "    return x0, y0 / np.trapz(y0,x0)"
   ]
  },
  {
   "cell_type": "code",
   "execution_count": 8,
   "metadata": {},
   "outputs": [],
   "source": [
    "idx = 1\n",
    "for i in range(len(field)):   \n",
    "    bfZ, bft, bftau1, bftau2, bftau3, bftau4, bftau5, bftau6, bfz, bfd =np.load('../data/bestfits/{0}_{1}_bestfit.npy'.format(field[i],\n",
    "                                                                                                                              galaxy[i]))\n",
    "    \n",
    "    slrm_text= [\"#!/bin/bash\\n#SBATCH -J nfit-{0}\\n#SBATCH -p background\\n#SBATCH --time=16:00:00\\n#SBATCH --mem-per-cpu=16000\\n#SBATCH -o nfit{0}-%j.out\\n\\\n",
    "#SBATCH -e nfit{0}-%j.err\\n\\nchmod a+x fullfit.py\\n\\n\\\n",
    "python fullfit.py {1} {2} {3:0.4f}\\n\\\n",
    "\\nwait\\n\\nexit 0\".format(idx, field[i], galaxy[i], bfz)]\n",
    "    np.savetxt('../cluster_scripts/nestfit_{0}.slrm'.format(idx), slrm_text, fmt='%s')   \n",
    "    idx +=1                  \n",
    "        "
   ]
  },
  {
   "cell_type": "code",
   "execution_count": 31,
   "metadata": {},
   "outputs": [],
   "source": [
    "tau = ['tab', 'delay']\n",
    "trim = [0,2500]\n",
    "trails = [1,2,3,4,5]\n",
    "idx=1\n",
    "for i in range(len(tau)):\n",
    "    for ii in range(len(trim)):\n",
    "        for iii in range(len(trails)):        \n",
    "            slrm_text= [\"#!/bin/bash\\n#SBATCH -J tfit-{0}\\n#SBATCH -p background\\n#SBATCH --time=16:00:00\\n#SBATCH --mem-per-cpu=16000\\n#SBATCH -o tfit{0}-%j.out\\n\\\n",
    "#SBATCH -e tfit{0}-%j.err\\n\\nchmod a+x fullfit-test.py\\n\\n\\\n",
    "python fullfit-test.py {1} {2} {3}\\nnwait\\n\\nexit 0\".format(idx, trails[iii], tau[i], trim[ii])]\n",
    "            np.savetxt('../cluster_scripts/testfit_{0}.slrm'.format(idx), slrm_text, fmt='%s') \n",
    "            idx+=1"
   ]
  },
  {
   "cell_type": "code",
   "execution_count": 7,
   "metadata": {},
   "outputs": [],
   "source": [
    "##### bestfit\n",
    "\n",
    "idx = 1\n",
    "for i in range(len(field)):   \n",
    "    slrm_text= [\"#!/bin/bash\\n#SBATCH -J bfit-{0}\\n#SBATCH -p background\\n#SBATCH --time=16:00:00\\n#SBATCH --mem-per-cpu=16000\\n#SBATCH -o bfit{0}-%j.out\\n\\\n",
    "#SBATCH -e bfit{0}-%j.err\\n\\nchmod a+x bestfit.py\\n\\n\\\n",
    "python bestfit.py {1} {2}\\n\\\n",
    "\\nwait\\n\\nexit 0\".format(idx, field[i], galaxy[i])]\n",
    "    np.savetxt('../cluster_scripts/bestfit_{0}.slrm'.format(idx), slrm_text, fmt='%s')   \n",
    "    idx +=1  "
   ]
  },
  {
   "cell_type": "code",
   "execution_count": 7,
   "metadata": {},
   "outputs": [
    {
     "name": "stdout",
     "output_type": "stream",
     "text": [
      "#!/bin/bash\n",
      "#SBATCH -J nfit-56\n",
      "#SBATCH -p background\n",
      "#SBATCH --time=16:00:00\n",
      "#SBATCH --mem-per-cpu=16000\n",
      "#SBATCH -o nfit56-%j.out\n",
      "#SBATCH -e nfit56-%j.err\n",
      "\n",
      "chmod a+x fullfit.py\n",
      "\n",
      "python fullfit.py GSD 47691 1.1287\n",
      "\n",
      "wait\n",
      "\n",
      "exit 0\n"
     ]
    }
   ],
   "source": [
    "print(slrm_text[0])"
   ]
  },
  {
   "cell_type": "code",
   "execution_count": 21,
   "metadata": {},
   "outputs": [],
   "source": [
    "##### testfit\n",
    "\n",
    "idx = 1\n",
    "\n",
    "for i in range(1,5,1):\n",
    "    for ii in range(10):\n",
    "        slrm_text= [\"#!/bin/bash\\n#SBATCH -J tfit-{0}\\n#SBATCH -p background\\n#SBATCH -c 8\\n\\\n",
    "#SBATCH --time=16:00:00\\n#SBATCH --mem=32gb\\n#SBATCH -o tfit{0}-%j.out\\n#SBATCH -e tfit{0}-%j.err\\n\\nchmod a+x testfit_{1}.py\\n\\n\\\n",
    "python testfit_{1}.py {2} {3}\\n\\\n",
    "\\nwait\\n\\nexit 0\".format(idx, i + 10, ii +1, ii + 7)]\n",
    "        np.savetxt('../cluster_scripts/testfit_{0}.slrm'.format(idx), slrm_text, fmt='%s')   \n",
    "        idx +=1  "
   ]
  },
  {
   "cell_type": "code",
   "execution_count": 19,
   "metadata": {},
   "outputs": [
    {
     "name": "stdout",
     "output_type": "stream",
     "text": [
      "#!/bin/bash\n",
      "#SBATCH -J tfit-40\n",
      "#SBATCH -p background\n",
      "#SBATCH -c 8\n",
      "#SBATCH --time=16:00:00\n",
      "#SBATCH --mem=32gb\n",
      "#SBATCH -o tfit40-%j.out\n",
      "#SBATCH -e tfit40-%j.err\n",
      "\n",
      "chmod a+x testfit_14.py\n",
      "\n",
      "python testfit_14.py 10 16\n",
      "\n",
      "wait\n",
      "\n",
      "exit 0\n"
     ]
    }
   ],
   "source": [
    "print(slrm_text[0])"
   ]
  },
  {
   "cell_type": "code",
   "execution_count": 13,
   "metadata": {},
   "outputs": [],
   "source": [
    "####ALMA Zfit########\n",
    "gals = [26272, 29257, 38843, 39012, 39364, 40223, 41520, 42113, 42778,\n",
    "        43007, 44042]\n",
    "\n",
    "LIMSR = [None, None, None, None, None, [11200,12500], None, [11200,15400], [14000,16500], None, None]\n",
    "\n",
    "idx = 1\n",
    "\n",
    "for i in range(len(gals)):\n",
    "    if LIMSR[i] == None:\n",
    "        lim1 = 11200\n",
    "        lim2 = 16500\n",
    "    else:\n",
    "        lim1 = LIMSR[i][0]\n",
    "        lim2 = LIMSR[i][1]\n",
    "    \n",
    "    slrm_text= [\"#!/bin/bash\\n#SBATCH -J afit-{0}\\n#SBATCH -p background\\n#SBATCH -c 8\\n\\\n",
    "#SBATCH --time=16:00:00\\n#SBATCH --mem=32gb\\n#SBATCH -o afit{0}-%j.out\\n#SBATCH -e afit{0}-%j.err\\n\\nchmod a+x ALMA_Zfit.py\\n\\n\\\n",
    "python ALMA_Zfit.py {1} {2} {3}\\n\\\n",
    "\\nwait\\n\\nexit 0\".format(idx, gals[i], lim1, lim2)]\n",
    "    np.savetxt('../cluster_scripts/ALMA_Zfit_{0}.slrm'.format(idx), slrm_text, fmt='%s')   \n",
    "    idx +=1  "
   ]
  },
  {
   "cell_type": "code",
   "execution_count": 12,
   "metadata": {},
   "outputs": [
    {
     "name": "stdout",
     "output_type": "stream",
     "text": [
      "#!/bin/bash\n",
      "#SBATCH -J afit-11\n",
      "#SBATCH -p background\n",
      "#SBATCH -c 8\n",
      "#SBATCH --time=16:00:00\n",
      "#SBATCH --mem=32gb\n",
      "#SBATCH -o afit11-%j.out\n",
      "#SBATCH -e afit11-%j.err\n",
      "\n",
      "chmod a+x ALMA_Zfit.py\n",
      "\n",
      "python ALMA_Zfit.py 44042 11200 16500\n",
      "\n",
      "wait\n",
      "\n",
      "exit 0\n"
     ]
    }
   ],
   "source": [
    "print(slrm_text[0])"
   ]
  },
  {
   "cell_type": "code",
   "execution_count": null,
   "metadata": {},
   "outputs": [],
   "source": []
  }
 ],
 "metadata": {
  "kernelspec": {
   "display_name": "Python 3",
   "language": "python",
   "name": "python3"
  },
  "language_info": {
   "codemirror_mode": {
    "name": "ipython",
    "version": 3
   },
   "file_extension": ".py",
   "mimetype": "text/x-python",
   "name": "python",
   "nbconvert_exporter": "python",
   "pygments_lexer": "ipython3",
   "version": "3.5.5"
  }
 },
 "nbformat": 4,
 "nbformat_minor": 2
}
