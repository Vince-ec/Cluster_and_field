{
 "cells": [
  {
   "cell_type": "code",
   "execution_count": 1,
   "metadata": {},
   "outputs": [],
   "source": [
    "import pandas as pd\n",
    "import numpy as np\n",
    "from bokeh.palettes import Spectral4\n",
    "from bokeh.plotting import figure, output_file, show\n",
    "from astropy.cosmology import FlatLambdaCDM\n",
    "cosmo = FlatLambdaCDM(H0=70, Om0=0.3)\n",
    "from astropy.cosmology import z_at_value"
   ]
  },
  {
   "cell_type": "code",
   "execution_count": 2,
   "metadata": {},
   "outputs": [
    {
     "name": "stderr",
     "output_type": "stream",
     "text": [
      "/Users/Vince.ec/miniconda3/envs/astroconda/lib/python3.5/site-packages/ipykernel_launcher.py:16: SettingWithCopyWarning: \n",
      "A value is trying to be set on a copy of a slice from a DataFrame.\n",
      "Try using .loc[row_indexer,col_indexer] = value instead\n",
      "\n",
      "See the caveats in the documentation: http://pandas.pydata.org/pandas-docs/stable/indexing.html#indexing-view-versus-copy\n",
      "  app.launch_new_instance()\n"
     ]
    }
   ],
   "source": [
    "alldb = pd.read_pickle('../dataframes/fitdb/allfits_1D.pkl')\n",
    "morph_db = alldb.query('W_UVJ == \"Q\" and AGN != \"AGN\" and lmass >= 10.5 and n_f < 3 and Re < 20 ')\n",
    "\n",
    "bspec = [27458,294464,36348,48631,19290,32566,32691,33093,26272,35640,45333, 30144]\n",
    "# nog141 = [27915,37955,17746,17735]\n",
    "nog102 = [27714,37189,26139,32799,47223,22774,28890,23073,31452,24033]\n",
    "# nog102 = []\n",
    "\n",
    "inout = []\n",
    "for i in morph_db.index:     \n",
    "    if morph_db.id[i] not in bspec and morph_db.id[i] not in nog102: \n",
    "        inout.append('i')\n",
    "    else:\n",
    "        inout.append('o')\n",
    "        \n",
    "morph_db['inout'] = inout\n",
    "mdb = morph_db.query('inout == \"i\" and 0.7 < zgrism < 2.5 and Sigma1 > 10**9.6')"
   ]
  },
  {
   "cell_type": "code",
   "execution_count": 5,
   "metadata": {},
   "outputs": [],
   "source": [
    "p = figure(plot_width=800, plot_height=600, title=None)\n",
    "p.scatter(np.log10(mdb.query('Sigma1 > 10**10').Sigma1), \n",
    "          cosmo.lookback_time(mdb.query('Sigma1 > 10**10').z_50), \n",
    "          size=10, color=\"navy\", alpha=0.5, name='Compact')\n",
    "\n",
    "# create a new plot and share both ranges\n",
    "p.scatter(np.log10(mdb.query('Sigma1 < 10**10').Sigma1), \n",
    "          cosmo.lookback_time(mdb.query('Sigma1 < 10**10').z_50), \n",
    "            size=10, color=\"firebrick\", alpha=0.5, name='Extended')\n",
    "\n",
    "p.legend.location = \"top_left\"\n",
    "p.legend.click_policy=\"hide\"\n",
    "\n",
    "# output_file(\"interactive_legend.html\", title=\"interactive_legend.py example\")\n",
    "output_file(\"lines.html\")\n",
    "\n",
    "show(p)"
   ]
  },
  {
   "cell_type": "code",
   "execution_count": null,
   "metadata": {},
   "outputs": [],
   "source": []
  }
 ],
 "metadata": {
  "kernelspec": {
   "display_name": "Python 3",
   "language": "python",
   "name": "python3"
  },
  "language_info": {
   "codemirror_mode": {
    "name": "ipython",
    "version": 3
   },
   "file_extension": ".py",
   "mimetype": "text/x-python",
   "name": "python",
   "nbconvert_exporter": "python",
   "pygments_lexer": "ipython3",
   "version": "3.5.5"
  }
 },
 "nbformat": 4,
 "nbformat_minor": 2
}
