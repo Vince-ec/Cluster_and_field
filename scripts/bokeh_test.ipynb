{
 "cells": [
  {
   "cell_type": "code",
   "execution_count": 1,
   "metadata": {},
   "outputs": [
    {
     "ename": "FileNotFoundError",
     "evalue": "[Errno 2] No such file or directory: '/Volumes/Vince_CLEAR/Data/CLEAR/goodsn-F105W-astrodrizzle-v4.4_drz_sci.fits'",
     "output_type": "error",
     "traceback": [
      "\u001b[0;31m---------------------------------------------------------------------------\u001b[0m",
      "\u001b[0;31mFileNotFoundError\u001b[0m                         Traceback (most recent call last)",
      "\u001b[0;32m<ipython-input-1-68a10bc22ebc>\u001b[0m in \u001b[0;36m<module>\u001b[0;34m()\u001b[0m\n\u001b[1;32m      7\u001b[0m \u001b[0;32mfrom\u001b[0m \u001b[0mbokeh\u001b[0m\u001b[0;34m.\u001b[0m\u001b[0mplotting\u001b[0m \u001b[0;32mimport\u001b[0m \u001b[0mfigure\u001b[0m\u001b[0;34m,\u001b[0m\u001b[0msave\u001b[0m\u001b[0;34m\u001b[0m\u001b[0m\n\u001b[1;32m      8\u001b[0m \u001b[0;32mfrom\u001b[0m \u001b[0mbokeh\u001b[0m\u001b[0;34m.\u001b[0m\u001b[0mio\u001b[0m \u001b[0;32mimport\u001b[0m \u001b[0mshow\u001b[0m\u001b[0;34m,\u001b[0m \u001b[0moutput_notebook\u001b[0m\u001b[0;34m,\u001b[0m \u001b[0moutput_file\u001b[0m\u001b[0;34m\u001b[0m\u001b[0m\n\u001b[0;32m----> 9\u001b[0;31m \u001b[0;32mfrom\u001b[0m \u001b[0mbokeh_scripts\u001b[0m \u001b[0;32mimport\u001b[0m \u001b[0mRS_img\u001b[0m\u001b[0;34m,\u001b[0m \u001b[0mimg_ext\u001b[0m\u001b[0;34m\u001b[0m\u001b[0m\n\u001b[0m\u001b[1;32m     10\u001b[0m \u001b[0;32mfrom\u001b[0m \u001b[0mbokeh\u001b[0m\u001b[0;34m.\u001b[0m\u001b[0mlayouts\u001b[0m \u001b[0;32mimport\u001b[0m \u001b[0mgridplot\u001b[0m\u001b[0;34m\u001b[0m\u001b[0m\n\u001b[1;32m     11\u001b[0m \u001b[0;34m\u001b[0m\u001b[0m\n",
      "\u001b[0;32m~/GitHub/Cluster_and_field/scripts/bokeh_scripts.py\u001b[0m in \u001b[0;36m<module>\u001b[0;34m()\u001b[0m\n\u001b[1;32m     26\u001b[0m     \u001b[0mdpath\u001b[0m \u001b[0;34m=\u001b[0m \u001b[0mhpath\u001b[0m \u001b[0;34m+\u001b[0m \u001b[0;34m'Data/'\u001b[0m\u001b[0;34m\u001b[0m\u001b[0m\n\u001b[1;32m     27\u001b[0m \u001b[0;34m\u001b[0m\u001b[0m\n\u001b[0;32m---> 28\u001b[0;31m \u001b[0mf105N\u001b[0m \u001b[0;34m=\u001b[0m \u001b[0mfits\u001b[0m\u001b[0;34m.\u001b[0m\u001b[0mopen\u001b[0m\u001b[0;34m(\u001b[0m\u001b[0;34m'/Volumes/Vince_CLEAR/Data/CLEAR/goodsn-F105W-astrodrizzle-v4.4_drz_sci.fits'\u001b[0m\u001b[0;34m)\u001b[0m\u001b[0;34m\u001b[0m\u001b[0m\n\u001b[0m\u001b[1;32m     29\u001b[0m \u001b[0mf105N_img\u001b[0m \u001b[0;34m=\u001b[0m \u001b[0mf105N\u001b[0m\u001b[0;34m[\u001b[0m\u001b[0;36m0\u001b[0m\u001b[0;34m]\u001b[0m\u001b[0;34m.\u001b[0m\u001b[0mdata\u001b[0m\u001b[0;34m\u001b[0m\u001b[0m\n\u001b[1;32m     30\u001b[0m \u001b[0;34m\u001b[0m\u001b[0m\n",
      "\u001b[0;32m~/miniconda3/envs/astroconda/lib/python3.5/site-packages/astropy/io/fits/hdu/hdulist.py\u001b[0m in \u001b[0;36mfitsopen\u001b[0;34m(name, mode, memmap, save_backup, cache, lazy_load_hdus, **kwargs)\u001b[0m\n\u001b[1;32m    164\u001b[0m \u001b[0;34m\u001b[0m\u001b[0m\n\u001b[1;32m    165\u001b[0m     return HDUList.fromfile(name, mode, memmap, save_backup, cache,\n\u001b[0;32m--> 166\u001b[0;31m                             lazy_load_hdus, **kwargs)\n\u001b[0m\u001b[1;32m    167\u001b[0m \u001b[0;34m\u001b[0m\u001b[0m\n\u001b[1;32m    168\u001b[0m \u001b[0;34m\u001b[0m\u001b[0m\n",
      "\u001b[0;32m~/miniconda3/envs/astroconda/lib/python3.5/site-packages/astropy/io/fits/hdu/hdulist.py\u001b[0m in \u001b[0;36mfromfile\u001b[0;34m(cls, fileobj, mode, memmap, save_backup, cache, lazy_load_hdus, **kwargs)\u001b[0m\n\u001b[1;32m    400\u001b[0m         return cls._readfrom(fileobj=fileobj, mode=mode, memmap=memmap,\n\u001b[1;32m    401\u001b[0m                              \u001b[0msave_backup\u001b[0m\u001b[0;34m=\u001b[0m\u001b[0msave_backup\u001b[0m\u001b[0;34m,\u001b[0m \u001b[0mcache\u001b[0m\u001b[0;34m=\u001b[0m\u001b[0mcache\u001b[0m\u001b[0;34m,\u001b[0m\u001b[0;34m\u001b[0m\u001b[0m\n\u001b[0;32m--> 402\u001b[0;31m                              lazy_load_hdus=lazy_load_hdus, **kwargs)\n\u001b[0m\u001b[1;32m    403\u001b[0m \u001b[0;34m\u001b[0m\u001b[0m\n\u001b[1;32m    404\u001b[0m     \u001b[0;34m@\u001b[0m\u001b[0mclassmethod\u001b[0m\u001b[0;34m\u001b[0m\u001b[0m\n",
      "\u001b[0;32m~/miniconda3/envs/astroconda/lib/python3.5/site-packages/astropy/io/fits/hdu/hdulist.py\u001b[0m in \u001b[0;36m_readfrom\u001b[0;34m(cls, fileobj, data, mode, memmap, save_backup, cache, lazy_load_hdus, **kwargs)\u001b[0m\n\u001b[1;32m    987\u001b[0m             \u001b[0;32mif\u001b[0m \u001b[0;32mnot\u001b[0m \u001b[0misinstance\u001b[0m\u001b[0;34m(\u001b[0m\u001b[0mfileobj\u001b[0m\u001b[0;34m,\u001b[0m \u001b[0m_File\u001b[0m\u001b[0;34m)\u001b[0m\u001b[0;34m:\u001b[0m\u001b[0;34m\u001b[0m\u001b[0m\n\u001b[1;32m    988\u001b[0m                 \u001b[0;31m# instantiate a FITS file object (ffo)\u001b[0m\u001b[0;34m\u001b[0m\u001b[0;34m\u001b[0m\u001b[0m\n\u001b[0;32m--> 989\u001b[0;31m                 \u001b[0mfileobj\u001b[0m \u001b[0;34m=\u001b[0m \u001b[0m_File\u001b[0m\u001b[0;34m(\u001b[0m\u001b[0mfileobj\u001b[0m\u001b[0;34m,\u001b[0m \u001b[0mmode\u001b[0m\u001b[0;34m=\u001b[0m\u001b[0mmode\u001b[0m\u001b[0;34m,\u001b[0m \u001b[0mmemmap\u001b[0m\u001b[0;34m=\u001b[0m\u001b[0mmemmap\u001b[0m\u001b[0;34m,\u001b[0m \u001b[0mcache\u001b[0m\u001b[0;34m=\u001b[0m\u001b[0mcache\u001b[0m\u001b[0;34m)\u001b[0m\u001b[0;34m\u001b[0m\u001b[0m\n\u001b[0m\u001b[1;32m    990\u001b[0m             \u001b[0;31m# The Astropy mode is determined by the _File initializer if the\u001b[0m\u001b[0;34m\u001b[0m\u001b[0;34m\u001b[0m\u001b[0m\n\u001b[1;32m    991\u001b[0m             \u001b[0;31m# supplied mode was None\u001b[0m\u001b[0;34m\u001b[0m\u001b[0;34m\u001b[0m\u001b[0m\n",
      "\u001b[0;32m~/miniconda3/envs/astroconda/lib/python3.5/site-packages/astropy/utils/decorators.py\u001b[0m in \u001b[0;36mwrapper\u001b[0;34m(*args, **kwargs)\u001b[0m\n\u001b[1;32m    486\u001b[0m                         \u001b[0;31m# one with the name of the new argument to the function\u001b[0m\u001b[0;34m\u001b[0m\u001b[0;34m\u001b[0m\u001b[0m\n\u001b[1;32m    487\u001b[0m                         \u001b[0mkwargs\u001b[0m\u001b[0;34m[\u001b[0m\u001b[0mnew_name\u001b[0m\u001b[0;34m[\u001b[0m\u001b[0mi\u001b[0m\u001b[0;34m]\u001b[0m\u001b[0;34m]\u001b[0m \u001b[0;34m=\u001b[0m \u001b[0mvalue\u001b[0m\u001b[0;34m\u001b[0m\u001b[0m\n\u001b[0;32m--> 488\u001b[0;31m             \u001b[0;32mreturn\u001b[0m \u001b[0mfunction\u001b[0m\u001b[0;34m(\u001b[0m\u001b[0;34m*\u001b[0m\u001b[0margs\u001b[0m\u001b[0;34m,\u001b[0m \u001b[0;34m**\u001b[0m\u001b[0mkwargs\u001b[0m\u001b[0;34m)\u001b[0m\u001b[0;34m\u001b[0m\u001b[0m\n\u001b[0m\u001b[1;32m    489\u001b[0m \u001b[0;34m\u001b[0m\u001b[0m\n\u001b[1;32m    490\u001b[0m         \u001b[0;32mreturn\u001b[0m \u001b[0mwrapper\u001b[0m\u001b[0;34m\u001b[0m\u001b[0m\n",
      "\u001b[0;32m~/miniconda3/envs/astroconda/lib/python3.5/site-packages/astropy/io/fits/file.py\u001b[0m in \u001b[0;36m__init__\u001b[0;34m(self, fileobj, mode, memmap, overwrite, cache)\u001b[0m\n\u001b[1;32m    173\u001b[0m             \u001b[0mself\u001b[0m\u001b[0;34m.\u001b[0m\u001b[0m_open_fileobj\u001b[0m\u001b[0;34m(\u001b[0m\u001b[0mfileobj\u001b[0m\u001b[0;34m,\u001b[0m \u001b[0mmode\u001b[0m\u001b[0;34m,\u001b[0m \u001b[0moverwrite\u001b[0m\u001b[0;34m)\u001b[0m\u001b[0;34m\u001b[0m\u001b[0m\n\u001b[1;32m    174\u001b[0m         \u001b[0;32melif\u001b[0m \u001b[0misinstance\u001b[0m\u001b[0;34m(\u001b[0m\u001b[0mfileobj\u001b[0m\u001b[0;34m,\u001b[0m \u001b[0mstr\u001b[0m\u001b[0;34m)\u001b[0m\u001b[0;34m:\u001b[0m\u001b[0;34m\u001b[0m\u001b[0m\n\u001b[0;32m--> 175\u001b[0;31m             \u001b[0mself\u001b[0m\u001b[0;34m.\u001b[0m\u001b[0m_open_filename\u001b[0m\u001b[0;34m(\u001b[0m\u001b[0mfileobj\u001b[0m\u001b[0;34m,\u001b[0m \u001b[0mmode\u001b[0m\u001b[0;34m,\u001b[0m \u001b[0moverwrite\u001b[0m\u001b[0;34m)\u001b[0m\u001b[0;34m\u001b[0m\u001b[0m\n\u001b[0m\u001b[1;32m    176\u001b[0m         \u001b[0;32melse\u001b[0m\u001b[0;34m:\u001b[0m\u001b[0;34m\u001b[0m\u001b[0m\n\u001b[1;32m    177\u001b[0m             \u001b[0mself\u001b[0m\u001b[0;34m.\u001b[0m\u001b[0m_open_filelike\u001b[0m\u001b[0;34m(\u001b[0m\u001b[0mfileobj\u001b[0m\u001b[0;34m,\u001b[0m \u001b[0mmode\u001b[0m\u001b[0;34m,\u001b[0m \u001b[0moverwrite\u001b[0m\u001b[0;34m)\u001b[0m\u001b[0;34m\u001b[0m\u001b[0m\n",
      "\u001b[0;32m~/miniconda3/envs/astroconda/lib/python3.5/site-packages/astropy/io/fits/file.py\u001b[0m in \u001b[0;36m_open_filename\u001b[0;34m(self, filename, mode, overwrite)\u001b[0m\n\u001b[1;32m    529\u001b[0m \u001b[0;34m\u001b[0m\u001b[0m\n\u001b[1;32m    530\u001b[0m         \u001b[0;32mif\u001b[0m \u001b[0;32mnot\u001b[0m \u001b[0mself\u001b[0m\u001b[0;34m.\u001b[0m\u001b[0m_try_read_compressed\u001b[0m\u001b[0;34m(\u001b[0m\u001b[0mself\u001b[0m\u001b[0;34m.\u001b[0m\u001b[0mname\u001b[0m\u001b[0;34m,\u001b[0m \u001b[0mmagic\u001b[0m\u001b[0;34m,\u001b[0m \u001b[0mmode\u001b[0m\u001b[0;34m,\u001b[0m \u001b[0mext\u001b[0m\u001b[0;34m=\u001b[0m\u001b[0mext\u001b[0m\u001b[0;34m)\u001b[0m\u001b[0;34m:\u001b[0m\u001b[0;34m\u001b[0m\u001b[0m\n\u001b[0;32m--> 531\u001b[0;31m             \u001b[0mself\u001b[0m\u001b[0;34m.\u001b[0m\u001b[0m_file\u001b[0m \u001b[0;34m=\u001b[0m \u001b[0mfileobj_open\u001b[0m\u001b[0;34m(\u001b[0m\u001b[0mself\u001b[0m\u001b[0;34m.\u001b[0m\u001b[0mname\u001b[0m\u001b[0;34m,\u001b[0m \u001b[0mIO_FITS_MODES\u001b[0m\u001b[0;34m[\u001b[0m\u001b[0mmode\u001b[0m\u001b[0;34m]\u001b[0m\u001b[0;34m)\u001b[0m\u001b[0;34m\u001b[0m\u001b[0m\n\u001b[0m\u001b[1;32m    532\u001b[0m             \u001b[0mself\u001b[0m\u001b[0;34m.\u001b[0m\u001b[0mclose_on_error\u001b[0m \u001b[0;34m=\u001b[0m \u001b[0;32mTrue\u001b[0m\u001b[0;34m\u001b[0m\u001b[0m\n\u001b[1;32m    533\u001b[0m \u001b[0;34m\u001b[0m\u001b[0m\n",
      "\u001b[0;32m~/miniconda3/envs/astroconda/lib/python3.5/site-packages/astropy/io/fits/util.py\u001b[0m in \u001b[0;36mfileobj_open\u001b[0;34m(filename, mode)\u001b[0m\n\u001b[1;32m    386\u001b[0m     \"\"\"\n\u001b[1;32m    387\u001b[0m \u001b[0;34m\u001b[0m\u001b[0m\n\u001b[0;32m--> 388\u001b[0;31m     \u001b[0;32mreturn\u001b[0m \u001b[0mopen\u001b[0m\u001b[0;34m(\u001b[0m\u001b[0mfilename\u001b[0m\u001b[0;34m,\u001b[0m \u001b[0mmode\u001b[0m\u001b[0;34m,\u001b[0m \u001b[0mbuffering\u001b[0m\u001b[0;34m=\u001b[0m\u001b[0;36m0\u001b[0m\u001b[0;34m)\u001b[0m\u001b[0;34m\u001b[0m\u001b[0m\n\u001b[0m\u001b[1;32m    389\u001b[0m \u001b[0;34m\u001b[0m\u001b[0m\n\u001b[1;32m    390\u001b[0m \u001b[0;34m\u001b[0m\u001b[0m\n",
      "\u001b[0;31mFileNotFoundError\u001b[0m: [Errno 2] No such file or directory: '/Volumes/Vince_CLEAR/Data/CLEAR/goodsn-F105W-astrodrizzle-v4.4_drz_sci.fits'"
     ]
    }
   ],
   "source": [
    "import pandas as pd\n",
    "import numpy as np\n",
    "from shutil import copy\n",
    "from glob import glob\n",
    "from bokeh.models import HoverTool, ColumnDataSource, OpenURL, TapTool\n",
    "from bokeh import palettes\n",
    "from bokeh.plotting import figure,save\n",
    "from bokeh.io import show, output_notebook, output_file\n",
    "from bokeh_scripts import RS_img, img_ext\n",
    "from bokeh.layouts import gridplot\n",
    "\n",
    "from astropy.cosmology import FlatLambdaCDM\n",
    "cosmo = FlatLambdaCDM(H0=70, Om0=0.3)\n",
    "from astropy.cosmology import z_at_value\n",
    "import astropy.units as u"
   ]
  },
  {
   "cell_type": "code",
   "execution_count": null,
   "metadata": {},
   "outputs": [],
   "source": [
    "alldb = pd.read_pickle('../dataframes/fitdb/allfits_1D.pkl')\n",
    "morph_db = alldb.query('W_UVJ == \"Q\" and AGN != \"AGN\" and lmass >= 10.5 and n_f < 3 and Re < 20 ')\n",
    "\n",
    "bspec = [27458,294464,36348,48631,19290,32566,32691,33093,26272,35640,45333, 30144]\n",
    "# nog141 = [27915,37955,17746,17735]\n",
    "nog102 = [27714,37189,26139,32799,47223,22774,28890,23073,31452,24033]\n",
    "# nog102 = []\n",
    "\n",
    "inout = []\n",
    "for i in morph_db.index:     \n",
    "    if morph_db.id[i] not in bspec and morph_db.id[i] not in nog102: \n",
    "        inout.append('i')\n",
    "    else:\n",
    "        inout.append('o')\n",
    "        \n",
    "morph_db['inout'] = inout\n",
    "mdb = morph_db.query('inout == \"i\" and 0.7 < zgrism < 2.5 and Sigma1 > 10**9.6')"
   ]
  },
  {
   "cell_type": "code",
   "execution_count": 42,
   "metadata": {},
   "outputs": [
    {
     "data": {
      "text/plain": [
       "'/Users/vestrada/Github/Vince-ec.github.io/appendix/appendix.html'"
      ]
     },
     "execution_count": 42,
     "metadata": {},
     "output_type": "execute_result"
    }
   ],
   "source": [
    "src1 = ColumnDataSource(data = {'id':mdb.id,'S1':np.log10(mdb.Sigma1), 'z50':cosmo.lookback_time(mdb.z_50),\n",
    "                               'z50p':mdb.z_50})\n",
    "\n",
    "\n",
    "zs = cosmo.lookback_time([2,3,4,5,6,7]).value\n",
    "\n",
    "# output_file('/Users/vestrada/Github/Vince-ec.github.io/appendix/appendix.html')\n",
    "\n",
    "\n",
    "p = figure(plot_width=800, plot_height=600, title=None, \n",
    "          x_axis_label ='log(Sigma_1)',\n",
    "          y_axis_label = 'z_50', tools = \"tap,pan,wheel_zoom,box_zoom,reset\"\n",
    ")\n",
    "\n",
    "p.scatter(source=src1, x='S1', y='z50',size=20, color=\"firebrick\", alpha=0.5, \n",
    "          hover_color=\"black\", )\n",
    "\n",
    "\n",
    "# p.legend.location = \"bottom_left\"\n",
    "# p.legend.click_policy=\"hide\"\n",
    "# p.legend.label_text_font_size = '15pt'\n",
    "\n",
    "p.add_tools(HoverTool(tooltips = [('ID', '@id'), ('log(Sigma_1)', '@S1'), ('z50', '@z50p')] ))\n",
    "\n",
    "p.xaxis.axis_label_text_font_size = \"20pt\"\n",
    "p.yaxis.axis_label_text_font_size = \"20pt\"\n",
    "p.xaxis.major_label_text_font_size = \"15pt\"\n",
    "p.yaxis.major_label_text_font_size = \"15pt\"\n",
    "\n",
    "\n",
    "p.yaxis.ticker = zs\n",
    "p.yaxis.major_label_overrides = {zs[0]:'2',zs[1]:'3',zs[2]:'4',zs[3]:'5',zs[4]:'6',zs[5]:'7'}\n",
    "\n",
    "url = \"https://vince-ec.github.io/appendix/sfhs/@id.html\"\n",
    "taptool = p.select(type=TapTool)\n",
    "taptool.callback = OpenURL(url=url)\n",
    "\n",
    "# save(p)\n",
    "output_notebook()\n",
    "show(p)"
   ]
  },
  {
   "cell_type": "code",
   "execution_count": 17,
   "metadata": {},
   "outputs": [
    {
     "data": {
      "text/plain": [
       "37186"
      ]
     },
     "execution_count": 17,
     "metadata": {},
     "output_type": "execute_result"
    }
   ],
   "source": [
    "src1.data['id'][14]"
   ]
  },
  {
   "cell_type": "code",
   "execution_count": 119,
   "metadata": {},
   "outputs": [
    {
     "name": "stderr",
     "output_type": "stream",
     "text": [
      "/Users/vestrada/miniconda3/envs/astroconda/lib/python3.5/site-packages/scipy/integrate/quadpack.py:385: IntegrationWarning: The integral is probably divergent, or slowly convergent.\n",
      "  warnings.warn(msg, IntegrationWarning)\n",
      "/Users/vestrada/miniconda3/envs/astroconda/lib/python3.5/site-packages/astropy/cosmology/funcs.py:122: UserWarning: fval is not bracketed by func(zmin) and func(zmax). This means either\n",
      "there is no solution, or that there is more than one solution between\n",
      "zmin and zmax satisfying fval = func(z).\n",
      "  zmin and zmax satisfying fval = func(z).\"\"\")\n"
     ]
    }
   ],
   "source": [
    "import pickle\n",
    "from spec_tools import Gen_SFH\n",
    "\n",
    "for idx in mdb.index:\n",
    "\n",
    "    with open('../data/SFH/{}_{}_1D.pkl'.format( mdb.field[idx],  mdb.id[idx]), 'rb') as sfh_file:\n",
    "        SFH = pickle.load(sfh_file)\n",
    "\n",
    "    IMG = RS_img(img_ext(mdb.field[idx], mdb.id[idx]))\n",
    "    zs = [z_at_value(cosmo.lookback_time,(U*u.Gyr + cosmo.lookback_time(mdb.zgrism[idx])), zmax=1E6) for U in SFH.LBT]\n",
    "\n",
    "\n",
    "    src_sfh = ColumnDataSource(data = {'LBT':SFH.LBT,'SFH':SFH.SFH, \n",
    "                                       'z':zs })\n",
    "\n",
    "\n",
    "    img = figure(plot_width=300, plot_height=350, x_range=(0, 10), y_range=(0, 10), \n",
    "                 title = '{}-{}'.format(mdb.field[idx], mdb.id[idx]))\n",
    "    img.image(image=[IMG], x=0, y=0, dw=10, dh=10)\n",
    "    img.title.text_font_size = \"20pt\"\n",
    "    img.xaxis.major_label_text_color = img.yaxis.major_label_text_color = None\n",
    "    img.yaxis.major_tick_line_color = img.xaxis.major_tick_line_color =None \n",
    "    img.yaxis.minor_tick_line_color = img.xaxis.minor_tick_line_color =None \n",
    "\n",
    "    sfh = figure(plot_width = 600, plot_height = 350, x_axis_label ='Lookback Time (Gyr)',\n",
    "              y_axis_label = 'SFR')\n",
    "    for i in range(100):\n",
    "        sfh.line(SFH.fulltimes,SFH.sfr_grid[i], color = '#532436', alpha=.075)\n",
    "\n",
    "    sfh.line(source = src_sfh, x = 'LBT', y='SFH', color = '#C1253C')\n",
    "    sfh.line(SFH.LBT,SFH.SFH_16, color ='black')\n",
    "    sfh.line(SFH.LBT,SFH.SFH_84, color ='black')\n",
    "\n",
    "    sfh.add_tools(HoverTool(tooltips = [('Lookback time', '@LBT'), ('SFH', '@SFH'), ('z', '@z')] ))\n",
    "    sfh.xaxis.axis_label_text_font_size = \"20pt\"\n",
    "    sfh.yaxis.axis_label_text_font_size = \"20pt\"\n",
    "\n",
    "    output_file('../appendix/sfhs/{}-{}.html'.format( mdb.field[idx],  mdb.id[idx]))\n",
    "\n",
    "    save(gridplot([[img, sfh]]))  "
   ]
  },
  {
   "cell_type": "code",
   "execution_count": 2,
   "metadata": {},
   "outputs": [
    {
     "ename": "NameError",
     "evalue": "name 'mdb' is not defined",
     "output_type": "error",
     "traceback": [
      "\u001b[0;31m---------------------------------------------------------------------------\u001b[0m",
      "\u001b[0;31mNameError\u001b[0m                                 Traceback (most recent call last)",
      "\u001b[0;32m<ipython-input-2-80206e50aff3>\u001b[0m in \u001b[0;36m<module>\u001b[0;34m()\u001b[0m\n\u001b[1;32m      3\u001b[0m \u001b[0;34m\u001b[0m\u001b[0m\n\u001b[1;32m      4\u001b[0m \u001b[0midx\u001b[0m \u001b[0;34m=\u001b[0m \u001b[0;36m2\u001b[0m\u001b[0;34m\u001b[0m\u001b[0m\n\u001b[0;32m----> 5\u001b[0;31m \u001b[0;32mwith\u001b[0m \u001b[0mopen\u001b[0m\u001b[0;34m(\u001b[0m\u001b[0;34m'../data/SFH/{}_{}_1D.pkl'\u001b[0m\u001b[0;34m.\u001b[0m\u001b[0mformat\u001b[0m\u001b[0;34m(\u001b[0m \u001b[0mmdb\u001b[0m\u001b[0;34m.\u001b[0m\u001b[0mfield\u001b[0m\u001b[0;34m[\u001b[0m\u001b[0midx\u001b[0m\u001b[0;34m]\u001b[0m\u001b[0;34m,\u001b[0m  \u001b[0mmdb\u001b[0m\u001b[0;34m.\u001b[0m\u001b[0mid\u001b[0m\u001b[0;34m[\u001b[0m\u001b[0midx\u001b[0m\u001b[0;34m]\u001b[0m\u001b[0;34m)\u001b[0m\u001b[0;34m,\u001b[0m \u001b[0;34m'rb'\u001b[0m\u001b[0;34m)\u001b[0m \u001b[0;32mas\u001b[0m \u001b[0msfh_file\u001b[0m\u001b[0;34m:\u001b[0m\u001b[0;34m\u001b[0m\u001b[0m\n\u001b[0m\u001b[1;32m      6\u001b[0m     \u001b[0mSFH\u001b[0m \u001b[0;34m=\u001b[0m \u001b[0mpickle\u001b[0m\u001b[0;34m.\u001b[0m\u001b[0mload\u001b[0m\u001b[0;34m(\u001b[0m\u001b[0msfh_file\u001b[0m\u001b[0;34m)\u001b[0m\u001b[0;34m\u001b[0m\u001b[0m\n\u001b[1;32m      7\u001b[0m \u001b[0;34m\u001b[0m\u001b[0m\n",
      "\u001b[0;31mNameError\u001b[0m: name 'mdb' is not defined"
     ]
    }
   ],
   "source": [
    "import pickle\n",
    "from spec_tools import Gen_SFH\n",
    "\n",
    "idx = 2 \n",
    "with open('../data/SFH/{}_{}_1D.pkl'.format( mdb.field[idx],  mdb.id[idx]), 'rb') as sfh_file:\n",
    "    SFH = pickle.load(sfh_file)\n",
    "\n",
    "IMG = RS_img(img_ext(mdb.field[idx], mdb.id[idx]))\n",
    "zs = [z_at_value(cosmo.lookback_time,(U*u.Gyr + cosmo.lookback_time(mdb.zgrism[idx])), zmax=1E6) for U in SFH.LBT]\n",
    "\n",
    "\n",
    "src_sfh = ColumnDataSource(data = {'LBT':SFH.LBT,'SFH':SFH.SFH, \n",
    "                                   'z':zs })"
   ]
  },
  {
   "cell_type": "code",
   "execution_count": null,
   "metadata": {},
   "outputs": [],
   "source": [
    "img = figure(plot_width=300, plot_height=350, x_range=(0, 10), y_range=(0, 10), \n",
    "             title = '{}-{}'.format(mdb.field[idx], mdb.id[idx]))\n",
    "img.image(image=[IMG], x=0, y=0, dw=10, dh=10)\n",
    "img.title.text_font_size = \"20pt\"\n",
    "img.xaxis.major_label_text_color = img.yaxis.major_label_text_color = None\n",
    "img.yaxis.major_tick_line_color = img.xaxis.major_tick_line_color =None \n",
    "img.yaxis.minor_tick_line_color = img.xaxis.minor_tick_line_color =None \n",
    "\n",
    "sfh = figure(plot_width = 600, plot_height = 350, x_axis_label ='Lookback Time (Gyr)',\n",
    "          y_axis_label = 'SFR (M/yr)')\n",
    "for i in range(100):\n",
    "    sfh.line(SFH.fulltimes,SFH.sfr_grid[i], color = '#532436', alpha=.075)\n",
    "\n",
    "r1 = sfh.line(source = src_sfh, x = 'LBT', y='SFH', color = '#C1253C')\n",
    "sfh.line(SFH.LBT,SFH.SFH_16, color ='black')\n",
    "sfh.line(SFH.LBT,SFH.SFH_84, color ='black')\n",
    "\n",
    "sfh.add_tools(HoverTool(tooltips = [('Lookback time', '@LBT'), ('SFH', '@SFH'), ('z', '@z')], renderers = [r1]))\n",
    "sfh.xaxis.axis_label_text_font_size = \"20pt\"\n",
    "sfh.yaxis.axis_label_text_font_size = \"20pt\"\n",
    "sfh.xaxis.major_label_text_font_size = \"15pt\"\n",
    "sfh.yaxis.major_label_text_font_size = \"15pt\"\n",
    "output_notebook()\n",
    "show(gridplot([[img, sfh]]))"
   ]
  },
  {
   "cell_type": "code",
   "execution_count": 29,
   "metadata": {},
   "outputs": [],
   "source": [
    "import os\n",
    "flist = glob('../appendix/sfhs/*')\n",
    "\n",
    "for f in flist:\n",
    "    copy(f, '../appendix/sfhs/' + os.path.basename(f)[4:])    "
   ]
  },
  {
   "cell_type": "code",
   "execution_count": null,
   "metadata": {},
   "outputs": [],
   "source": []
  }
 ],
 "metadata": {
  "kernelspec": {
   "display_name": "Python 3",
   "language": "python",
   "name": "python3"
  },
  "language_info": {
   "codemirror_mode": {
    "name": "ipython",
    "version": 3
   },
   "file_extension": ".py",
   "mimetype": "text/x-python",
   "name": "python",
   "nbconvert_exporter": "python",
   "pygments_lexer": "ipython3",
   "version": "3.5.5"
  }
 },
 "nbformat": 4,
 "nbformat_minor": 2
}
