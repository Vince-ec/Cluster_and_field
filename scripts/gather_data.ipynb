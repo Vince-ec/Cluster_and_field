{
 "cells": [
  {
   "cell_type": "code",
   "execution_count": 1,
   "metadata": {},
   "outputs": [],
   "source": [
    "from spec_extract import *\n",
    "from astropy.table import Table\n",
    "import pandas as pd\n",
    "from glob import glob\n",
    "from spec_tools import Source_present\n",
    "from grizli import multifit\n",
    "import matplotlib.pyplot as plt\n",
    "import seaborn as sea\n",
    "from astropy.io import fits\n",
    "\n",
    "sea.set(style='white')\n",
    "sea.set(style='ticks')\n",
    "sea.set_style({'xtick.direct'\n",
    "               'ion': 'in','xtick.top':True,'xtick.minor.visible': True,\n",
    "               'ytick.direction': \"in\",'ytick.right': True,'ytick.minor.visible': True})\n",
    "cmap = sea.cubehelix_palette(12, start=2, rot=.2, dark=0, light=1.0, as_cmap=True)\n",
    "%config InlineBackend.figure_format = 'retina'\n",
    "%matplotlib inline\n",
    "\n",
    "### set home for files\n",
    "hpath = os.environ['HOME'] + '/'\n",
    "\n",
    "if hpath == '/Users/Vince.ec/':\n",
    "    dpath = '/Volumes/Vince_research/Data/' \n",
    "    \n",
    "else:\n",
    "    dpath = hpath + 'Data/' \n"
   ]
  },
  {
   "cell_type": "code",
   "execution_count": 2,
   "metadata": {},
   "outputs": [
    {
     "name": "stdout",
     "output_type": "stream",
     "text": [
      "Load /Volumes/Vince_CLEAR/RELEASE_v2.1.0/Grism_flts/GN1/ib3720f0q.01.GrismFLT.fits!\n",
      "Load /Volumes/Vince_CLEAR/RELEASE_v2.1.0/Grism_flts/GN1/ib3720f4q.01.GrismFLT.fits!\n",
      "Load /Volumes/Vince_CLEAR/RELEASE_v2.1.0/Grism_flts/GN1/ib3720fgq.01.GrismFLT.fits!\n",
      "Load /Volumes/Vince_CLEAR/RELEASE_v2.1.0/Grism_flts/GN1/ib3720fkq.01.GrismFLT.fits!\n",
      "Load /Volumes/Vince_CLEAR/RELEASE_v2.1.0/Grism_flts/GN1/icat20tdq.01.GrismFLT.fits!\n",
      "Load /Volumes/Vince_CLEAR/RELEASE_v2.1.0/Grism_flts/GN1/icat20tpq.01.GrismFLT.fits!\n",
      "Load /Volumes/Vince_CLEAR/RELEASE_v2.1.0/Grism_flts/GN1/icat20tiq.01.GrismFLT.fits!\n",
      "Load /Volumes/Vince_CLEAR/RELEASE_v2.1.0/Grism_flts/GN1/icat20tuq.01.GrismFLT.fits!\n"
     ]
    },
    {
     "name": "stderr",
     "output_type": "stream",
     "text": [
      "WARNING: FITSFixedWarning: The WCS transformation has more axes (2) than the image it is associated with (0) [astropy.wcs.wcs]\n",
      "WARNING: FITSFixedWarning: The WCS transformation has more axes (2) than the image it is associated with (0) [astropy.wcs.wcs]\n",
      "WARNING: FITSFixedWarning: The WCS transformation has more axes (2) than the image it is associated with (0) [astropy.wcs.wcs]\n",
      "WARNING: FITSFixedWarning: The WCS transformation has more axes (2) than the image it is associated with (0) [astropy.wcs.wcs]\n",
      "WARNING: FITSFixedWarning: The WCS transformation has more axes (2) than the image it is associated with (0) [astropy.wcs.wcs]\n",
      "WARNING: FITSFixedWarning: The WCS transformation has more axes (2) than the image it is associated with (0) [astropy.wcs.wcs]\n",
      "WARNING: FITSFixedWarning: The WCS transformation has more axes (2) than the image it is associated with (0) [astropy.wcs.wcs]\n",
      "WARNING: FITSFixedWarning: The WCS transformation has more axes (2) than the image it is associated with (0) [astropy.wcs.wcs]\n"
     ]
    },
    {
     "name": "stdout",
     "output_type": "stream",
     "text": [
      "Load /Volumes/Vince_CLEAR/RELEASE_v2.1.0/Grism_flts/GN1/icxt46swq.01.GrismFLT.fits!\n"
     ]
    },
    {
     "name": "stderr",
     "output_type": "stream",
     "text": [
      "WARNING: FITSFixedWarning: The WCS transformation has more axes (2) than the image it is associated with (0) [astropy.wcs.wcs]\n",
      "WARNING: FITSFixedWarning: The WCS transformation has more axes (2) than the image it is associated with (0) [astropy.wcs.wcs]\n"
     ]
    },
    {
     "name": "stdout",
     "output_type": "stream",
     "text": [
      "Load /Volumes/Vince_CLEAR/RELEASE_v2.1.0/Grism_flts/GN1/icxt46sxq.01.GrismFLT.fits!\n"
     ]
    },
    {
     "name": "stderr",
     "output_type": "stream",
     "text": [
      "WARNING: FITSFixedWarning: The WCS transformation has more axes (2) than the image it is associated with (0) [astropy.wcs.wcs]\n"
     ]
    },
    {
     "name": "stdout",
     "output_type": "stream",
     "text": [
      "Load /Volumes/Vince_CLEAR/RELEASE_v2.1.0/Grism_flts/GN1/icxt46t0q.01.GrismFLT.fits!\n"
     ]
    },
    {
     "name": "stderr",
     "output_type": "stream",
     "text": [
      "WARNING: FITSFixedWarning: The WCS transformation has more axes (2) than the image it is associated with (0) [astropy.wcs.wcs]\n"
     ]
    },
    {
     "name": "stdout",
     "output_type": "stream",
     "text": [
      "Load /Volumes/Vince_CLEAR/RELEASE_v2.1.0/Grism_flts/GN1/icxt46t2q.01.GrismFLT.fits!\n"
     ]
    },
    {
     "name": "stderr",
     "output_type": "stream",
     "text": [
      "WARNING: FITSFixedWarning: The WCS transformation has more axes (2) than the image it is associated with (0) [astropy.wcs.wcs]\n"
     ]
    },
    {
     "name": "stdout",
     "output_type": "stream",
     "text": [
      "Load /Volumes/Vince_CLEAR/RELEASE_v2.1.0/Grism_flts/GN1/icxt47xbq.01.GrismFLT.fits!\n"
     ]
    },
    {
     "name": "stderr",
     "output_type": "stream",
     "text": [
      "WARNING: FITSFixedWarning: The WCS transformation has more axes (2) than the image it is associated with (0) [astropy.wcs.wcs]\n"
     ]
    },
    {
     "name": "stdout",
     "output_type": "stream",
     "text": [
      "Load /Volumes/Vince_CLEAR/RELEASE_v2.1.0/Grism_flts/GN1/icxt47xcq.01.GrismFLT.fits!\n"
     ]
    },
    {
     "name": "stderr",
     "output_type": "stream",
     "text": [
      "WARNING: FITSFixedWarning: The WCS transformation has more axes (2) than the image it is associated with (0) [astropy.wcs.wcs]\n"
     ]
    },
    {
     "name": "stdout",
     "output_type": "stream",
     "text": [
      "Load /Volumes/Vince_CLEAR/RELEASE_v2.1.0/Grism_flts/GN1/icxt47xfq.01.GrismFLT.fits!\n"
     ]
    },
    {
     "name": "stderr",
     "output_type": "stream",
     "text": [
      "WARNING: FITSFixedWarning: The WCS transformation has more axes (2) than the image it is associated with (0) [astropy.wcs.wcs]\n"
     ]
    },
    {
     "name": "stdout",
     "output_type": "stream",
     "text": [
      "Load /Volumes/Vince_CLEAR/RELEASE_v2.1.0/Grism_flts/GN1/icxt47xhq.01.GrismFLT.fits!\n"
     ]
    },
    {
     "name": "stderr",
     "output_type": "stream",
     "text": [
      "WARNING: FITSFixedWarning: The WCS transformation has more axes (2) than the image it is associated with (0) [astropy.wcs.wcs]\n"
     ]
    },
    {
     "name": "stdout",
     "output_type": "stream",
     "text": [
      "Load /Volumes/Vince_CLEAR/RELEASE_v2.1.0/Grism_flts/GN1/icxt48mgq.01.GrismFLT.fits!\n",
      "Load /Volumes/Vince_CLEAR/RELEASE_v2.1.0/Grism_flts/GN1/icxt48mhq.01.GrismFLT.fits!\n",
      "Load /Volumes/Vince_CLEAR/RELEASE_v2.1.0/Grism_flts/GN1/icxt48mnq.01.GrismFLT.fits!\n",
      "Load /Volumes/Vince_CLEAR/RELEASE_v2.1.0/Grism_flts/GN1/icxt48mtq.01.GrismFLT.fits!\n",
      "Load /Volumes/Vince_CLEAR/RELEASE_v2.1.0/Grism_flts/GN1/icxt49hmq.01.GrismFLT.fits!\n",
      "Load /Volumes/Vince_CLEAR/RELEASE_v2.1.0/Grism_flts/GN1/icxt49hnq.01.GrismFLT.fits!\n",
      "Load /Volumes/Vince_CLEAR/RELEASE_v2.1.0/Grism_flts/GN1/icxt49hqq.01.GrismFLT.fits!\n",
      "Load /Volumes/Vince_CLEAR/RELEASE_v2.1.0/Grism_flts/GN1/icxt49hsq.01.GrismFLT.fits!\n",
      "Load /Volumes/Vince_CLEAR/RELEASE_v2.1.0/Grism_flts/GN1/icxt50hvq.01.GrismFLT.fits!\n",
      "Load /Volumes/Vince_CLEAR/RELEASE_v2.1.0/Grism_flts/GN1/icxt50hwq.01.GrismFLT.fits!\n",
      "Load /Volumes/Vince_CLEAR/RELEASE_v2.1.0/Grism_flts/GN1/icxt50hzq.01.GrismFLT.fits!\n",
      "Load /Volumes/Vince_CLEAR/RELEASE_v2.1.0/Grism_flts/GN1/icxt50i1q.01.GrismFLT.fits!\n",
      "Files loaded - 77.79 sec.\n"
     ]
    }
   ],
   "source": [
    "grp = multifit.GroupFLT(grism_files = glob('/Volumes/Vince_CLEAR/RELEASE_v2.1.0/Grism_flts/GN1/*GrismFLT.fits'),cpu_count=8)\n"
   ]
  },
  {
   "cell_type": "code",
   "execution_count": 3,
   "metadata": {},
   "outputs": [],
   "source": [
    "Cpd = pd.read_pickle('../dataframes/fitdb/tabfitdb.pkl')\n",
    "Cids = Cpd.query('field == \"GSD\"').id.values"
   ]
  },
  {
   "cell_type": "code",
   "execution_count": 4,
   "metadata": {},
   "outputs": [
    {
     "name": "stdout",
     "output_type": "stream",
     "text": [
      "[] 18642\n",
      "[] 19148\n",
      "[] 26139\n",
      "[] 32799\n",
      "[] 35774\n",
      "[] 38191\n",
      "[] 39170\n",
      "[] 39241\n",
      "[] 39631\n",
      "[] 39804\n",
      "[] 39805\n",
      "[] 39850\n",
      "[] 40476\n",
      "[] 40597\n",
      "[] 40623\n",
      "[] 40862\n",
      "[] 41148\n",
      "[] 41520\n",
      "[] 42221\n",
      "[] 43615\n",
      "[] 44042\n",
      "[] 44620\n",
      "[] 44946\n",
      "[] 45775\n",
      "[] 45789\n",
      "[] 45972\n",
      "[] 47223\n",
      "[] 47677\n",
      "[] 47691\n",
      "[] 48631\n",
      "[] 19872\n",
      "[] 23237\n",
      "[] 25799\n",
      "[] 26018\n",
      "[] 26272\n",
      "[] 28119\n",
      "[] 29257\n",
      "[] 29794\n",
      "[] 30566\n",
      "[] 30587\n",
      "[] 34671\n",
      "[] 35640\n",
      "[] 35993\n",
      "[] 36095\n",
      "[<grizli.model.BeamCutout object at 0x1a2760f9b0>, <grizli.model.BeamCutout object at 0x1a27546978>, <grizli.model.BeamCutout object at 0x1a276a4b70>, <grizli.model.BeamCutout object at 0x1a276b8f60>, <grizli.model.BeamCutout object at 0x1a276cdda0>, <grizli.model.BeamCutout object at 0x1a276e2be0>, <grizli.model.BeamCutout object at 0x1a276f4b70>, <grizli.model.BeamCutout object at 0x1a27707fd0>, <grizli.model.BeamCutout object at 0x1a27780ba8>, <grizli.model.BeamCutout object at 0x1a27794da0>, <grizli.model.BeamCutout object at 0x1a277aabe0>, <grizli.model.BeamCutout object at 0x1a277bad68>, <grizli.model.BeamCutout object at 0x1a277cfba8>, <grizli.model.BeamCutout object at 0x1a277e4be0>, <grizli.model.BeamCutout object at 0x1a277f8fd0>, <grizli.model.BeamCutout object at 0x1a27873fd0>, <grizli.model.BeamCutout object at 0x1a27887e10>, <grizli.model.BeamCutout object at 0x1a27899da0>, <grizli.model.BeamCutout object at 0x1a278aebe0>, <grizli.model.BeamCutout object at 0x1a278c0d68>, <grizli.model.BeamCutout object at 0x1a278d4ba8>, <grizli.model.BeamCutout object at 0x1a278e9be0>, <grizli.model.BeamCutout object at 0x1a278fbfd0>, <grizli.model.BeamCutout object at 0x1a2790ffd0>] 38173\n",
      "[] 38785\n",
      "[] 38786\n",
      "[] 38843\n",
      "[] 39012\n",
      "[] 39681\n",
      "[] 39937\n",
      "[] 40223\n",
      "[] 40248\n",
      "[] 41659\n",
      "[] 42123\n",
      "[] 42338\n",
      "[] 43007\n",
      "[] 43572\n",
      "[] 45128\n",
      "[] 46001\n",
      "[] 46066\n",
      "[] 46072\n",
      "[] 46231\n",
      "[] 46274\n",
      "[] 46345\n",
      "[] 46636\n",
      "[] 47378\n",
      "[] 48464\n",
      "[] 48720\n",
      "[] 49072\n"
     ]
    }
   ],
   "source": [
    "\n",
    "for i in Cids:\n",
    "    try:\n",
    "        print(grp.get_beams(i),i)\n",
    "    except:\n",
    "        pass"
   ]
  },
  {
   "cell_type": "code",
   "execution_count": 5,
   "metadata": {},
   "outputs": [],
   "source": [
    "beams = grp.get_beams(38173)"
   ]
  },
  {
   "cell_type": "code",
   "execution_count": 8,
   "metadata": {},
   "outputs": [
    {
     "name": "stdout",
     "output_type": "stream",
     "text": [
      "G141\n",
      "G141\n",
      "G141\n",
      "G141\n",
      "G102\n",
      "G102\n",
      "G102\n",
      "G102\n",
      "G102\n",
      "G102\n",
      "G102\n",
      "G102\n",
      "G102\n",
      "G102\n",
      "G102\n",
      "G102\n",
      "G102\n",
      "G102\n",
      "G102\n",
      "G102\n",
      "G102\n",
      "G102\n",
      "G102\n",
      "G102\n"
     ]
    }
   ],
   "source": [
    "\n",
    "for i in beams:\n",
    "    print(i.grism.filter)"
   ]
  },
  {
   "cell_type": "code",
   "execution_count": 2,
   "metadata": {},
   "outputs": [],
   "source": [
    "gsd_cat = pd.read_pickle('../dataframes/galaxy_frames/GS_snr.pkl')\n",
    "gnd_cat = pd.read_pickle('../dataframes/galaxy_frames/GN_snr.pkl')"
   ]
  },
  {
   "cell_type": "code",
   "execution_count": 2,
   "metadata": {},
   "outputs": [],
   "source": [
    "gsd_fields = ['ERSPRIME', 'GS1', 'GS2', 'GS3', 'GS4', 'GS5']\n",
    "gnd_fields = ['GN1', 'GN2', 'GN3', 'GN4', 'GN5', 'GN7']"
   ]
  },
  {
   "cell_type": "code",
   "execution_count": 3,
   "metadata": {},
   "outputs": [
    {
     "name": "stdout",
     "output_type": "stream",
     "text": [
      "Load /Volumes/Vince_CLEAR/Data/Grism_fields/ERSPRIME/ibhj12ihq.01.GrismFLT.fits!\n",
      "Load /Volumes/Vince_CLEAR/Data/Grism_fields/ERSPRIME/ibhj12iaq.01.GrismFLT.fits!\n",
      "Load /Volumes/Vince_CLEAR/Data/Grism_fields/ERSPRIME/ibhj12ioq.01.GrismFLT.fits!\n",
      "Load /Volumes/Vince_CLEAR/Data/Grism_fields/ERSPRIME/ibhj12ivq.01.GrismFLT.fits!\n"
     ]
    },
    {
     "name": "stderr",
     "output_type": "stream",
     "text": [
      "WARNING: FITSFixedWarning: The WCS transformation has more axes (2) than the image it is associated with (0) [astropy.wcs.wcs]\n",
      "WARNING: FITSFixedWarning: The WCS transformation has more axes (2) than the image it is associated with (0) [astropy.wcs.wcs]\n",
      "WARNING: FITSFixedWarning: The WCS transformation has more axes (2) than the image it is associated with (0) [astropy.wcs.wcs]\n",
      "WARNING: FITSFixedWarning: The WCS transformation has more axes (2) than the image it is associated with (0) [astropy.wcs.wcs]\n"
     ]
    },
    {
     "name": "stdout",
     "output_type": "stream",
     "text": [
      "Load /Volumes/Vince_CLEAR/Data/Grism_fields/ERSPRIME/ibhj23sxq.01.GrismFLT.fits!\n"
     ]
    },
    {
     "name": "stderr",
     "output_type": "stream",
     "text": [
      "WARNING: FITSFixedWarning: The WCS transformation has more axes (2) than the image it is associated with (0) [astropy.wcs.wcs]\n",
      "WARNING: FITSFixedWarning: The WCS transformation has more axes (2) than the image it is associated with (0) [astropy.wcs.wcs]\n"
     ]
    },
    {
     "name": "stdout",
     "output_type": "stream",
     "text": [
      "Load /Volumes/Vince_CLEAR/Data/Grism_fields/ERSPRIME/ibhj23t4q.01.GrismFLT.fits!\n"
     ]
    },
    {
     "name": "stderr",
     "output_type": "stream",
     "text": [
      "WARNING: FITSFixedWarning: The WCS transformation has more axes (2) than the image it is associated with (0) [astropy.wcs.wcs]\n"
     ]
    },
    {
     "name": "stdout",
     "output_type": "stream",
     "text": [
      "Load /Volumes/Vince_CLEAR/Data/Grism_fields/ERSPRIME/ibhj23tbq.01.GrismFLT.fits!\n"
     ]
    },
    {
     "name": "stderr",
     "output_type": "stream",
     "text": [
      "WARNING: FITSFixedWarning: The WCS transformation has more axes (2) than the image it is associated with (0) [astropy.wcs.wcs]\n"
     ]
    },
    {
     "name": "stdout",
     "output_type": "stream",
     "text": [
      "Load /Volumes/Vince_CLEAR/Data/Grism_fields/ERSPRIME/ibhj23tiq.01.GrismFLT.fits!\n"
     ]
    },
    {
     "name": "stderr",
     "output_type": "stream",
     "text": [
      "WARNING: FITSFixedWarning: The WCS transformation has more axes (2) than the image it is associated with (0) [astropy.wcs.wcs]\n"
     ]
    },
    {
     "name": "stdout",
     "output_type": "stream",
     "text": [
      "Load /Volumes/Vince_CLEAR/Data/Grism_fields/ERSPRIME/icxt19o6q.01.GrismFLT.fits!\n",
      "Load /Volumes/Vince_CLEAR/Data/Grism_fields/ERSPRIME/icxt19o7q.01.GrismFLT.fits!\n",
      "Load /Volumes/Vince_CLEAR/Data/Grism_fields/ERSPRIME/icxt19oaq.01.GrismFLT.fits!\n",
      "Load /Volumes/Vince_CLEAR/Data/Grism_fields/ERSPRIME/icxt19ocq.01.GrismFLT.fits!\n",
      "Load /Volumes/Vince_CLEAR/Data/Grism_fields/ERSPRIME/icxt20f7q.01.GrismFLT.fits!\n",
      "Load /Volumes/Vince_CLEAR/Data/Grism_fields/ERSPRIME/icxt20f8q.01.GrismFLT.fits!\n",
      "Load /Volumes/Vince_CLEAR/Data/Grism_fields/ERSPRIME/icxt20fbq.01.GrismFLT.fits!\n",
      "Load /Volumes/Vince_CLEAR/Data/Grism_fields/ERSPRIME/icxt20fdq.01.GrismFLT.fits!\n",
      "Load /Volumes/Vince_CLEAR/Data/Grism_fields/ERSPRIME/icxt21b7q.01.GrismFLT.fits!\n",
      "Load /Volumes/Vince_CLEAR/Data/Grism_fields/ERSPRIME/icxt21b8q.01.GrismFLT.fits!\n",
      "Load /Volumes/Vince_CLEAR/Data/Grism_fields/ERSPRIME/icxt21bcq.01.GrismFLT.fits!\n",
      "Load /Volumes/Vince_CLEAR/Data/Grism_fields/ERSPRIME/icxt21beq.01.GrismFLT.fits!\n",
      "Load /Volumes/Vince_CLEAR/Data/Grism_fields/ERSPRIME/icxt22pmq.01.GrismFLT.fits!\n",
      "Load /Volumes/Vince_CLEAR/Data/Grism_fields/ERSPRIME/icxt22pnq.01.GrismFLT.fits!\n",
      "Load /Volumes/Vince_CLEAR/Data/Grism_fields/ERSPRIME/icxt22pqq.01.GrismFLT.fits!\n",
      "Load /Volumes/Vince_CLEAR/Data/Grism_fields/ERSPRIME/icxt22psq.01.GrismFLT.fits!\n",
      "Load /Volumes/Vince_CLEAR/Data/Grism_fields/ERSPRIME/icxt23pvq.01.GrismFLT.fits!\n",
      "Load /Volumes/Vince_CLEAR/Data/Grism_fields/ERSPRIME/icxt23pwq.01.GrismFLT.fits!\n",
      "Load /Volumes/Vince_CLEAR/Data/Grism_fields/ERSPRIME/icxt23pzq.01.GrismFLT.fits!\n",
      "Load /Volumes/Vince_CLEAR/Data/Grism_fields/ERSPRIME/icxt23q1q.01.GrismFLT.fits!\n",
      "Files loaded - 51.11 sec.\n"
     ]
    },
    {
     "name": "stderr",
     "output_type": "stream",
     "text": [
      "WARNING: AstropyDeprecationWarning: \"clobber\" was deprecated in version 2.0 and will be removed in a future version. Use argument \"overwrite\" instead. [grizli.model]\n",
      "WARNING: VerifyWarning: Card is too long, comment will be truncated. [astropy.io.fits.card]\n",
      "/Users/Vince.ec/miniconda3/envs/astroconda/lib/python3.5/site-packages/grizli-0.6.0_115_g3ce5ccf-py3.5-macosx-10.6-x86_64.egg/grizli/model.py:3393: RuntimeWarning: divide by zero encountered in true_divide\n",
      "  self.ivar = 1/self.grism.data['ERR']**2\n"
     ]
    },
    {
     "name": "stdout",
     "output_type": "stream",
     "text": [
      "Load /Volumes/Vince_CLEAR/Data/Grism_fields/GS1/ibhj01j4q.01.GrismFLT.fits!\n",
      "Load /Volumes/Vince_CLEAR/Data/Grism_fields/GS1/ibhj01iqq.01.GrismFLT.fits!\n",
      "Load /Volumes/Vince_CLEAR/Data/Grism_fields/GS1/ibhj01ixq.01.GrismFLT.fits!\n",
      "Load /Volumes/Vince_CLEAR/Data/Grism_fields/GS1/ibhj01jbq.01.GrismFLT.fits!\n"
     ]
    },
    {
     "name": "stderr",
     "output_type": "stream",
     "text": [
      "WARNING: FITSFixedWarning: The WCS transformation has more axes (2) than the image it is associated with (0) [astropy.wcs.wcs]\n",
      "WARNING: FITSFixedWarning: The WCS transformation has more axes (2) than the image it is associated with (0) [astropy.wcs.wcs]\n",
      "WARNING: FITSFixedWarning: The WCS transformation has more axes (2) than the image it is associated with (0) [astropy.wcs.wcs]\n",
      "WARNING: FITSFixedWarning: The WCS transformation has more axes (2) than the image it is associated with (0) [astropy.wcs.wcs]\n"
     ]
    },
    {
     "name": "stdout",
     "output_type": "stream",
     "text": [
      "Load /Volumes/Vince_CLEAR/Data/Grism_fields/GS1/icxt07dxq.01.GrismFLT.fits!\n"
     ]
    },
    {
     "name": "stderr",
     "output_type": "stream",
     "text": [
      "WARNING: FITSFixedWarning: The WCS transformation has more axes (2) than the image it is associated with (0) [astropy.wcs.wcs]\n"
     ]
    },
    {
     "name": "stdout",
     "output_type": "stream",
     "text": [
      "Load /Volumes/Vince_CLEAR/Data/Grism_fields/GS1/icxt07dzq.01.GrismFLT.fits!\n",
      "Load /Volumes/Vince_CLEAR/Data/Grism_fields/GS1/icxt07e2q.01.GrismFLT.fits!\n",
      "Load /Volumes/Vince_CLEAR/Data/Grism_fields/GS1/icxt07e4q.01.GrismFLT.fits!\n",
      "Load /Volumes/Vince_CLEAR/Data/Grism_fields/GS1/icxt08e7q.01.GrismFLT.fits!\n",
      "Load /Volumes/Vince_CLEAR/Data/Grism_fields/GS1/icxt08e9q.01.GrismFLT.fits!\n",
      "Load /Volumes/Vince_CLEAR/Data/Grism_fields/GS1/icxt08ecq.01.GrismFLT.fits!\n",
      "Load /Volumes/Vince_CLEAR/Data/Grism_fields/GS1/icxt08eeq.01.GrismFLT.fits!\n",
      "Load /Volumes/Vince_CLEAR/Data/Grism_fields/GS1/icxt09f0q.01.GrismFLT.fits!\n",
      "Load /Volumes/Vince_CLEAR/Data/Grism_fields/GS1/icxt09f2q.01.GrismFLT.fits!\n",
      "Load /Volumes/Vince_CLEAR/Data/Grism_fields/GS1/icxt09f5q.01.GrismFLT.fits!\n",
      "Load /Volumes/Vince_CLEAR/Data/Grism_fields/GS1/icxt09f7q.01.GrismFLT.fits!\n",
      "Load /Volumes/Vince_CLEAR/Data/Grism_fields/GS1/icxt10dbq.01.GrismFLT.fits!\n",
      "Load /Volumes/Vince_CLEAR/Data/Grism_fields/GS1/icxt10deq.01.GrismFLT.fits!\n",
      "Load /Volumes/Vince_CLEAR/Data/Grism_fields/GS1/icxt10diq.01.GrismFLT.fits!\n",
      "Load /Volumes/Vince_CLEAR/Data/Grism_fields/GS1/icxt10dkq.01.GrismFLT.fits!\n",
      "Load /Volumes/Vince_CLEAR/Data/Grism_fields/GS1/icxt11qiq.01.GrismFLT.fits!\n",
      "Load /Volumes/Vince_CLEAR/Data/Grism_fields/GS1/icxt11qkq.01.GrismFLT.fits!\n",
      "Load /Volumes/Vince_CLEAR/Data/Grism_fields/GS1/icxt11qnq.01.GrismFLT.fits!\n",
      "Load /Volumes/Vince_CLEAR/Data/Grism_fields/GS1/icxt11qpq.01.GrismFLT.fits!\n",
      "Load /Volumes/Vince_CLEAR/Data/Grism_fields/GS1/icxt12qvq.01.GrismFLT.fits!\n",
      "Load /Volumes/Vince_CLEAR/Data/Grism_fields/GS1/icxt12qxq.01.GrismFLT.fits!\n",
      "Load /Volumes/Vince_CLEAR/Data/Grism_fields/GS1/icxt12r0q.01.GrismFLT.fits!\n",
      "Load /Volumes/Vince_CLEAR/Data/Grism_fields/GS1/icxt12r2q.01.GrismFLT.fits!\n",
      "Files loaded - 46.90 sec.\n",
      "Load /Volumes/Vince_CLEAR/Data/Grism_fields/GS2/ibhj03xvq.01.GrismFLT.fits!\n",
      "Load /Volumes/Vince_CLEAR/Data/Grism_fields/GS2/ibhj03y9q.01.GrismFLT.fits!\n",
      "Load /Volumes/Vince_CLEAR/Data/Grism_fields/GS2/ibhj03xoq.01.GrismFLT.fits!\n",
      "Load /Volumes/Vince_CLEAR/Data/Grism_fields/GS2/ibhj03y2q.01.GrismFLT.fits!\n",
      "Load /Volumes/Vince_CLEAR/Data/Grism_fields/GS2/ibhj11hiq.01.GrismFLT.fits!\n",
      "Load /Volumes/Vince_CLEAR/Data/Grism_fields/GS2/ibhj11hpq.01.GrismFLT.fits!\n",
      "Load /Volumes/Vince_CLEAR/Data/Grism_fields/GS2/ibhj11hwq.01.GrismFLT.fits!\n",
      "Load /Volumes/Vince_CLEAR/Data/Grism_fields/GS2/ibhj11i3q.01.GrismFLT.fits!\n",
      "Load /Volumes/Vince_CLEAR/Data/Grism_fields/GS2/ibhj35vuq.01.GrismFLT.fits!\n",
      "Load /Volumes/Vince_CLEAR/Data/Grism_fields/GS2/ibhj35w1q.01.GrismFLT.fits!\n",
      "Load /Volumes/Vince_CLEAR/Data/Grism_fields/GS2/ibhj35w8q.01.GrismFLT.fits!\n",
      "Load /Volumes/Vince_CLEAR/Data/Grism_fields/GS2/ibhj35wfq.01.GrismFLT.fits!\n",
      "Load /Volumes/Vince_CLEAR/Data/Grism_fields/GS2/icxt01cgq.01.GrismFLT.fits!\n",
      "Load /Volumes/Vince_CLEAR/Data/Grism_fields/GS2/icxt01ciq.01.GrismFLT.fits!\n",
      "Load /Volumes/Vince_CLEAR/Data/Grism_fields/GS2/icxt01clq.01.GrismFLT.fits!\n",
      "Load /Volumes/Vince_CLEAR/Data/Grism_fields/GS2/icxt01cnq.01.GrismFLT.fits!\n",
      "Load /Volumes/Vince_CLEAR/Data/Grism_fields/GS2/icxt02c7q.01.GrismFLT.fits!\n",
      "Load /Volumes/Vince_CLEAR/Data/Grism_fields/GS2/icxt02caq.01.GrismFLT.fits!\n",
      "Load /Volumes/Vince_CLEAR/Data/Grism_fields/GS2/icxt02cdq.01.GrismFLT.fits!\n",
      "Load /Volumes/Vince_CLEAR/Data/Grism_fields/GS2/icxt02cfq.01.GrismFLT.fits!\n",
      "Load /Volumes/Vince_CLEAR/Data/Grism_fields/GS2/icxt03jjq.01.GrismFLT.fits!\n",
      "Load /Volumes/Vince_CLEAR/Data/Grism_fields/GS2/icxt03jkq.01.GrismFLT.fits!\n",
      "Load /Volumes/Vince_CLEAR/Data/Grism_fields/GS2/icxt03jnq.01.GrismFLT.fits!\n",
      "Load /Volumes/Vince_CLEAR/Data/Grism_fields/GS2/icxt03jpq.01.GrismFLT.fits!\n",
      "Load /Volumes/Vince_CLEAR/Data/Grism_fields/GS2/icxt04e3q.01.GrismFLT.fits!\n",
      "Load /Volumes/Vince_CLEAR/Data/Grism_fields/GS2/icxt04e4q.01.GrismFLT.fits!\n",
      "Load /Volumes/Vince_CLEAR/Data/Grism_fields/GS2/icxt04edq.01.GrismFLT.fits!\n",
      "Load /Volumes/Vince_CLEAR/Data/Grism_fields/GS2/icxt04efq.01.GrismFLT.fits!\n",
      "Load /Volumes/Vince_CLEAR/Data/Grism_fields/GS2/icxt05h7q.01.GrismFLT.fits!\n",
      "Load /Volumes/Vince_CLEAR/Data/Grism_fields/GS2/icxt05h9q.01.GrismFLT.fits!\n",
      "Load /Volumes/Vince_CLEAR/Data/Grism_fields/GS2/icxt05hcq.01.GrismFLT.fits!\n",
      "Load /Volumes/Vince_CLEAR/Data/Grism_fields/GS2/icxt05heq.01.GrismFLT.fits!\n",
      "Load /Volumes/Vince_CLEAR/Data/Grism_fields/GS2/icxt06laq.01.GrismFLT.fits!\n",
      "Load /Volumes/Vince_CLEAR/Data/Grism_fields/GS2/icxt06lcq.01.GrismFLT.fits!\n",
      "Load /Volumes/Vince_CLEAR/Data/Grism_fields/GS2/icxt06lfq.01.GrismFLT.fits!\n",
      "Load /Volumes/Vince_CLEAR/Data/Grism_fields/GS2/icxt06lhq.01.GrismFLT.fits!\n",
      "Files loaded - 125.03 sec.\n",
      "Load /Volumes/Vince_CLEAR/Data/Grism_fields/GS3/ibhj11i3q.01.GrismFLT.fits!\n",
      "Load /Volumes/Vince_CLEAR/Data/Grism_fields/GS3/ibhj11hwq.01.GrismFLT.fits!\n",
      "Load /Volumes/Vince_CLEAR/Data/Grism_fields/GS3/ibhj11hiq.01.GrismFLT.fits!\n",
      "Load /Volumes/Vince_CLEAR/Data/Grism_fields/GS3/ibhj11hpq.01.GrismFLT.fits!\n",
      "Load /Volumes/Vince_CLEAR/Data/Grism_fields/GS3/ibhj29ncq.01.GrismFLT.fits!\n",
      "Load /Volumes/Vince_CLEAR/Data/Grism_fields/GS3/ibhj29nkq.01.GrismFLT.fits!\n",
      "Load /Volumes/Vince_CLEAR/Data/Grism_fields/GS3/ibhj29nsq.01.GrismFLT.fits!\n",
      "Load /Volumes/Vince_CLEAR/Data/Grism_fields/GS3/ibhj29nzq.01.GrismFLT.fits!\n",
      "Load /Volumes/Vince_CLEAR/Data/Grism_fields/GS3/ibhj33tiq.01.GrismFLT.fits!\n",
      "Load /Volumes/Vince_CLEAR/Data/Grism_fields/GS3/ibhj33tpq.01.GrismFLT.fits!\n",
      "Load /Volumes/Vince_CLEAR/Data/Grism_fields/GS3/ibhj33twq.01.GrismFLT.fits!\n",
      "Load /Volumes/Vince_CLEAR/Data/Grism_fields/GS3/ibhj33u3q.01.GrismFLT.fits!\n",
      "Load /Volumes/Vince_CLEAR/Data/Grism_fields/GS3/icxt30s0q.01.GrismFLT.fits!\n",
      "Load /Volumes/Vince_CLEAR/Data/Grism_fields/GS3/icxt30s2q.01.GrismFLT.fits!\n",
      "Load /Volumes/Vince_CLEAR/Data/Grism_fields/GS3/icxt30s5q.01.GrismFLT.fits!\n",
      "Load /Volumes/Vince_CLEAR/Data/Grism_fields/GS3/icxt30s7q.01.GrismFLT.fits!\n",
      "Load /Volumes/Vince_CLEAR/Data/Grism_fields/GS3/icxt31r1q.01.GrismFLT.fits!\n",
      "Load /Volumes/Vince_CLEAR/Data/Grism_fields/GS3/icxt31r3q.01.GrismFLT.fits!\n",
      "Load /Volumes/Vince_CLEAR/Data/Grism_fields/GS3/icxt31r6q.01.GrismFLT.fits!\n",
      "Load /Volumes/Vince_CLEAR/Data/Grism_fields/GS3/icxt31r8q.01.GrismFLT.fits!\n",
      "Load /Volumes/Vince_CLEAR/Data/Grism_fields/GS3/icxt32nlq.01.GrismFLT.fits!\n",
      "Load /Volumes/Vince_CLEAR/Data/Grism_fields/GS3/icxt32nmq.01.GrismFLT.fits!\n",
      "Load /Volumes/Vince_CLEAR/Data/Grism_fields/GS3/icxt32npq.01.GrismFLT.fits!\n",
      "Load /Volumes/Vince_CLEAR/Data/Grism_fields/GS3/icxt32nrq.01.GrismFLT.fits!\n",
      "Load /Volumes/Vince_CLEAR/Data/Grism_fields/GS3/icxt33roq.01.GrismFLT.fits!\n",
      "Load /Volumes/Vince_CLEAR/Data/Grism_fields/GS3/icxt33rpq.01.GrismFLT.fits!\n",
      "Load /Volumes/Vince_CLEAR/Data/Grism_fields/GS3/icxt33rsq.01.GrismFLT.fits!\n",
      "Load /Volumes/Vince_CLEAR/Data/Grism_fields/GS3/icxt33ruq.01.GrismFLT.fits!\n",
      "Load /Volumes/Vince_CLEAR/Data/Grism_fields/GS3/icxt34ekq.01.GrismFLT.fits!\n",
      "Load /Volumes/Vince_CLEAR/Data/Grism_fields/GS3/icxt34emq.01.GrismFLT.fits!\n",
      "Load /Volumes/Vince_CLEAR/Data/Grism_fields/GS3/icxt34epq.01.GrismFLT.fits!\n",
      "Load /Volumes/Vince_CLEAR/Data/Grism_fields/GS3/icxt34erq.01.GrismFLT.fits!\n",
      "Load /Volumes/Vince_CLEAR/Data/Grism_fields/GS3/icxt35s4q.01.GrismFLT.fits!\n",
      "Load /Volumes/Vince_CLEAR/Data/Grism_fields/GS3/icxt35s6q.01.GrismFLT.fits!\n",
      "Load /Volumes/Vince_CLEAR/Data/Grism_fields/GS3/icxt35s9q.01.GrismFLT.fits!\n",
      "Load /Volumes/Vince_CLEAR/Data/Grism_fields/GS3/icxt35sbq.01.GrismFLT.fits!\n",
      "Files loaded - 141.45 sec.\n",
      "Load /Volumes/Vince_CLEAR/Data/Grism_fields/GS4/ibhj07ygq.01.GrismFLT.fits!\n",
      "Load /Volumes/Vince_CLEAR/Data/Grism_fields/GS4/ibhj07z1q.01.GrismFLT.fits!\n",
      "Load /Volumes/Vince_CLEAR/Data/Grism_fields/GS4/ibhj07ynq.01.GrismFLT.fits!\n",
      "Load /Volumes/Vince_CLEAR/Data/Grism_fields/GS4/ibhj07yuq.01.GrismFLT.fits!\n",
      "Load /Volumes/Vince_CLEAR/Data/Grism_fields/GS4/ibhj32qvq.01.GrismFLT.fits!\n",
      "Load /Volumes/Vince_CLEAR/Data/Grism_fields/GS4/ibhj32r2q.01.GrismFLT.fits!\n",
      "Load /Volumes/Vince_CLEAR/Data/Grism_fields/GS4/ibhj32r9q.01.GrismFLT.fits!\n",
      "Load /Volumes/Vince_CLEAR/Data/Grism_fields/GS4/ibhj32rgq.01.GrismFLT.fits!\n",
      "Load /Volumes/Vince_CLEAR/Data/Grism_fields/GS4/ibhj34h8q.01.GrismFLT.fits!\n",
      "Load /Volumes/Vince_CLEAR/Data/Grism_fields/GS4/ibhj34hiq.01.GrismFLT.fits!\n",
      "Load /Volumes/Vince_CLEAR/Data/Grism_fields/GS4/ibhj34huq.01.GrismFLT.fits!\n",
      "Load /Volumes/Vince_CLEAR/Data/Grism_fields/GS4/ibhj34i1q.01.GrismFLT.fits!\n",
      "Load /Volumes/Vince_CLEAR/Data/Grism_fields/GS4/ibhj36huq.01.GrismFLT.fits!\n",
      "Load /Volumes/Vince_CLEAR/Data/Grism_fields/GS4/ibhj36i4q.01.GrismFLT.fits!\n",
      "Load /Volumes/Vince_CLEAR/Data/Grism_fields/GS4/ibhj36j3q.01.GrismFLT.fits!\n",
      "Load /Volumes/Vince_CLEAR/Data/Grism_fields/GS4/ibhj36jbq.01.GrismFLT.fits!\n",
      "Load /Volumes/Vince_CLEAR/Data/Grism_fields/GS4/ibhj37uaq.01.GrismFLT.fits!\n",
      "Load /Volumes/Vince_CLEAR/Data/Grism_fields/GS4/ibhj37uhq.01.GrismFLT.fits!\n",
      "Load /Volumes/Vince_CLEAR/Data/Grism_fields/GS4/ibhj37uoq.01.GrismFLT.fits!\n",
      "Load /Volumes/Vince_CLEAR/Data/Grism_fields/GS4/ibhj37uvq.01.GrismFLT.fits!\n",
      "Load /Volumes/Vince_CLEAR/Data/Grism_fields/GS4/ibhj38a6q.01.GrismFLT.fits!\n",
      "Load /Volumes/Vince_CLEAR/Data/Grism_fields/GS4/ibhj38adq.01.GrismFLT.fits!\n",
      "Load /Volumes/Vince_CLEAR/Data/Grism_fields/GS4/ibhj38akq.01.GrismFLT.fits!\n",
      "Load /Volumes/Vince_CLEAR/Data/Grism_fields/GS4/ibhj38arq.01.GrismFLT.fits!\n",
      "Load /Volumes/Vince_CLEAR/Data/Grism_fields/GS4/icxt24a5q.01.GrismFLT.fits!\n",
      "Load /Volumes/Vince_CLEAR/Data/Grism_fields/GS4/icxt24a7q.01.GrismFLT.fits!\n",
      "Load /Volumes/Vince_CLEAR/Data/Grism_fields/GS4/icxt24z2q.01.GrismFLT.fits!\n",
      "Load /Volumes/Vince_CLEAR/Data/Grism_fields/GS4/icxt24z4q.01.GrismFLT.fits!\n",
      "Load /Volumes/Vince_CLEAR/Data/Grism_fields/GS4/icxt25buq.01.GrismFLT.fits!\n",
      "Load /Volumes/Vince_CLEAR/Data/Grism_fields/GS4/icxt25bwq.01.GrismFLT.fits!\n",
      "Load /Volumes/Vince_CLEAR/Data/Grism_fields/GS4/icxt25c3q.01.GrismFLT.fits!\n",
      "Load /Volumes/Vince_CLEAR/Data/Grism_fields/GS4/icxt25c5q.01.GrismFLT.fits!\n",
      "Load /Volumes/Vince_CLEAR/Data/Grism_fields/GS4/icxt26h8q.01.GrismFLT.fits!\n",
      "Load /Volumes/Vince_CLEAR/Data/Grism_fields/GS4/icxt26h9q.01.GrismFLT.fits!\n",
      "Load /Volumes/Vince_CLEAR/Data/Grism_fields/GS4/icxt26hcq.01.GrismFLT.fits!\n",
      "Load /Volumes/Vince_CLEAR/Data/Grism_fields/GS4/icxt26heq.01.GrismFLT.fits!\n",
      "Load /Volumes/Vince_CLEAR/Data/Grism_fields/GS4/icxt27hhq.01.GrismFLT.fits!\n",
      "Load /Volumes/Vince_CLEAR/Data/Grism_fields/GS4/icxt27hiq.01.GrismFLT.fits!\n",
      "Load /Volumes/Vince_CLEAR/Data/Grism_fields/GS4/icxt27hlq.01.GrismFLT.fits!\n",
      "Load /Volumes/Vince_CLEAR/Data/Grism_fields/GS4/icxt27hnq.01.GrismFLT.fits!\n",
      "Load /Volumes/Vince_CLEAR/Data/Grism_fields/GS4/icxt28w5q.01.GrismFLT.fits!\n",
      "Load /Volumes/Vince_CLEAR/Data/Grism_fields/GS4/icxt28w6q.01.GrismFLT.fits!\n",
      "Load /Volumes/Vince_CLEAR/Data/Grism_fields/GS4/icxt28w9q.01.GrismFLT.fits!\n",
      "Load /Volumes/Vince_CLEAR/Data/Grism_fields/GS4/icxt28wbq.01.GrismFLT.fits!\n",
      "Load /Volumes/Vince_CLEAR/Data/Grism_fields/GS4/icxt29yaq.01.GrismFLT.fits!\n",
      "Load /Volumes/Vince_CLEAR/Data/Grism_fields/GS4/icxt29ybq.01.GrismFLT.fits!\n",
      "Load /Volumes/Vince_CLEAR/Data/Grism_fields/GS4/icxt29yeq.01.GrismFLT.fits!\n",
      "Load /Volumes/Vince_CLEAR/Data/Grism_fields/GS4/icxt29ygq.01.GrismFLT.fits!\n",
      "Files loaded - 239.74 sec.\n",
      "Load /Volumes/Vince_CLEAR/Data/Grism_fields/GS5/ibhj30ckq.01.GrismFLT.fits!\n",
      "Load /Volumes/Vince_CLEAR/Data/Grism_fields/GS5/ibhj30bzq.01.GrismFLT.fits!\n",
      "Load /Volumes/Vince_CLEAR/Data/Grism_fields/GS5/ibhj30cdq.01.GrismFLT.fits!\n",
      "Load /Volumes/Vince_CLEAR/Data/Grism_fields/GS5/ibhj30c6q.01.GrismFLT.fits!\n",
      "Load /Volumes/Vince_CLEAR/Data/Grism_fields/GS5/ibhj35vuq.01.GrismFLT.fits!\n",
      "Load /Volumes/Vince_CLEAR/Data/Grism_fields/GS5/ibhj35w1q.01.GrismFLT.fits!\n",
      "Load /Volumes/Vince_CLEAR/Data/Grism_fields/GS5/ibhj35w8q.01.GrismFLT.fits!\n",
      "Load /Volumes/Vince_CLEAR/Data/Grism_fields/GS5/ibhj35wfq.01.GrismFLT.fits!\n",
      "Load /Volumes/Vince_CLEAR/Data/Grism_fields/GS5/icxt13gfq.01.GrismFLT.fits!\n",
      "Load /Volumes/Vince_CLEAR/Data/Grism_fields/GS5/icxt13ghq.01.GrismFLT.fits!\n",
      "Load /Volumes/Vince_CLEAR/Data/Grism_fields/GS5/icxt13gkq.01.GrismFLT.fits!\n",
      "Load /Volumes/Vince_CLEAR/Data/Grism_fields/GS5/icxt13gmq.01.GrismFLT.fits!\n",
      "Load /Volumes/Vince_CLEAR/Data/Grism_fields/GS5/icxt14roq.01.GrismFLT.fits!\n",
      "Load /Volumes/Vince_CLEAR/Data/Grism_fields/GS5/icxt14rqq.01.GrismFLT.fits!\n",
      "Load /Volumes/Vince_CLEAR/Data/Grism_fields/GS5/icxt14rtq.01.GrismFLT.fits!\n",
      "Load /Volumes/Vince_CLEAR/Data/Grism_fields/GS5/icxt14rvq.01.GrismFLT.fits!\n",
      "Load /Volumes/Vince_CLEAR/Data/Grism_fields/GS5/icxt15emq.01.GrismFLT.fits!\n",
      "Load /Volumes/Vince_CLEAR/Data/Grism_fields/GS5/icxt15enq.01.GrismFLT.fits!\n",
      "Load /Volumes/Vince_CLEAR/Data/Grism_fields/GS5/icxt15esq.01.GrismFLT.fits!\n",
      "Load /Volumes/Vince_CLEAR/Data/Grism_fields/GS5/icxt15ewq.01.GrismFLT.fits!\n",
      "Load /Volumes/Vince_CLEAR/Data/Grism_fields/GS5/icxt16jzq.01.GrismFLT.fits!\n",
      "Load /Volumes/Vince_CLEAR/Data/Grism_fields/GS5/icxt16k0q.01.GrismFLT.fits!\n",
      "Load /Volumes/Vince_CLEAR/Data/Grism_fields/GS5/icxt16k3q.01.GrismFLT.fits!\n",
      "Load /Volumes/Vince_CLEAR/Data/Grism_fields/GS5/icxt16k5q.01.GrismFLT.fits!\n",
      "Load /Volumes/Vince_CLEAR/Data/Grism_fields/GS5/icxt17aiq.01.GrismFLT.fits!\n",
      "Load /Volumes/Vince_CLEAR/Data/Grism_fields/GS5/icxt17akq.01.GrismFLT.fits!\n",
      "Load /Volumes/Vince_CLEAR/Data/Grism_fields/GS5/icxt17anq.01.GrismFLT.fits!\n",
      "Load /Volumes/Vince_CLEAR/Data/Grism_fields/GS5/icxt17apq.01.GrismFLT.fits!\n",
      "Load /Volumes/Vince_CLEAR/Data/Grism_fields/GS5/icxt18ykq.01.GrismFLT.fits!\n",
      "Load /Volumes/Vince_CLEAR/Data/Grism_fields/GS5/icxt18ynq.01.GrismFLT.fits!\n",
      "Load /Volumes/Vince_CLEAR/Data/Grism_fields/GS5/icxt18zgq.01.GrismFLT.fits!\n",
      "Load /Volumes/Vince_CLEAR/Data/Grism_fields/GS5/icxt18zjq.01.GrismFLT.fits!\n",
      "Files loaded - 77.88 sec.\n"
     ]
    }
   ],
   "source": [
    "field = 'GSD'\n",
    "Cpd = pd.read_pickle('../dataframes/galaxy_frames/GS_new.pkl')\n",
    "Cids = Cpd.id.values\n",
    "\n",
    "skipped = []\n",
    "for i in range(len(gsd_fields)):\n",
    "    grp = multifit.GroupFLT(grism_files = glob('/Volumes/Vince_CLEAR/Data/Grism_fields/{0}/*GrismFLT.fits'.format(gsd_fields[i])))\n",
    "    for ii in Cids:\n",
    "        try:\n",
    "            ex = Extract_all(ii, 'GSD', grp)\n",
    "            ex.Extract_BeamCutout()\n",
    "        except:\n",
    "            print(ii)"
   ]
  },
  {
   "cell_type": "code",
   "execution_count": 4,
   "metadata": {},
   "outputs": [
    {
     "name": "stdout",
     "output_type": "stream",
     "text": [
      "Load /Volumes/Vince_CLEAR/Data/Grism_fields/GN1/ib3720f4q.01.GrismFLT.fits!\n",
      "Load /Volumes/Vince_CLEAR/Data/Grism_fields/GN1/ib3720fkq.01.GrismFLT.fits!\n",
      "Load /Volumes/Vince_CLEAR/Data/Grism_fields/GN1/ib3720f0q.01.GrismFLT.fits!\n",
      "Load /Volumes/Vince_CLEAR/Data/Grism_fields/GN1/ib3720fgq.01.GrismFLT.fits!\n"
     ]
    },
    {
     "name": "stderr",
     "output_type": "stream",
     "text": [
      "WARNING: FITSFixedWarning: The WCS transformation has more axes (2) than the image it is associated with (0) [astropy.wcs.wcs]\n",
      "WARNING: FITSFixedWarning: The WCS transformation has more axes (2) than the image it is associated with (0) [astropy.wcs.wcs]\n",
      "WARNING: FITSFixedWarning: The WCS transformation has more axes (2) than the image it is associated with (0) [astropy.wcs.wcs]\n",
      "WARNING: FITSFixedWarning: The WCS transformation has more axes (2) than the image it is associated with (0) [astropy.wcs.wcs]\n"
     ]
    },
    {
     "name": "stdout",
     "output_type": "stream",
     "text": [
      "Load /Volumes/Vince_CLEAR/Data/Grism_fields/GN1/icat20tdq.01.GrismFLT.fits!\n"
     ]
    },
    {
     "name": "stderr",
     "output_type": "stream",
     "text": [
      "WARNING: FITSFixedWarning: The WCS transformation has more axes (2) than the image it is associated with (0) [astropy.wcs.wcs]\n"
     ]
    },
    {
     "name": "stdout",
     "output_type": "stream",
     "text": [
      "Load /Volumes/Vince_CLEAR/Data/Grism_fields/GN1/icat20tiq.01.GrismFLT.fits!\n",
      "Load /Volumes/Vince_CLEAR/Data/Grism_fields/GN1/icat20tpq.01.GrismFLT.fits!\n",
      "Load /Volumes/Vince_CLEAR/Data/Grism_fields/GN1/icat20tuq.01.GrismFLT.fits!\n",
      "Load /Volumes/Vince_CLEAR/Data/Grism_fields/GN1/icxt46swq.01.GrismFLT.fits!\n",
      "Load /Volumes/Vince_CLEAR/Data/Grism_fields/GN1/icxt46sxq.01.GrismFLT.fits!\n",
      "Load /Volumes/Vince_CLEAR/Data/Grism_fields/GN1/icxt46t0q.01.GrismFLT.fits!\n",
      "Load /Volumes/Vince_CLEAR/Data/Grism_fields/GN1/icxt46t2q.01.GrismFLT.fits!\n",
      "Load /Volumes/Vince_CLEAR/Data/Grism_fields/GN1/icxt47xbq.01.GrismFLT.fits!\n",
      "Load /Volumes/Vince_CLEAR/Data/Grism_fields/GN1/icxt47xcq.01.GrismFLT.fits!\n",
      "Load /Volumes/Vince_CLEAR/Data/Grism_fields/GN1/icxt47xfq.01.GrismFLT.fits!\n",
      "Load /Volumes/Vince_CLEAR/Data/Grism_fields/GN1/icxt47xhq.01.GrismFLT.fits!\n",
      "Load /Volumes/Vince_CLEAR/Data/Grism_fields/GN1/icxt48mgq.01.GrismFLT.fits!\n",
      "Load /Volumes/Vince_CLEAR/Data/Grism_fields/GN1/icxt48mhq.01.GrismFLT.fits!\n",
      "Load /Volumes/Vince_CLEAR/Data/Grism_fields/GN1/icxt48mnq.01.GrismFLT.fits!\n",
      "Load /Volumes/Vince_CLEAR/Data/Grism_fields/GN1/icxt48mtq.01.GrismFLT.fits!\n",
      "Load /Volumes/Vince_CLEAR/Data/Grism_fields/GN1/icxt49hmq.01.GrismFLT.fits!\n",
      "Load /Volumes/Vince_CLEAR/Data/Grism_fields/GN1/icxt49hnq.01.GrismFLT.fits!\n",
      "Load /Volumes/Vince_CLEAR/Data/Grism_fields/GN1/icxt49hqq.01.GrismFLT.fits!\n",
      "Load /Volumes/Vince_CLEAR/Data/Grism_fields/GN1/icxt49hsq.01.GrismFLT.fits!\n",
      "Load /Volumes/Vince_CLEAR/Data/Grism_fields/GN1/icxt50hvq.01.GrismFLT.fits!\n",
      "Load /Volumes/Vince_CLEAR/Data/Grism_fields/GN1/icxt50hwq.01.GrismFLT.fits!\n",
      "Load /Volumes/Vince_CLEAR/Data/Grism_fields/GN1/icxt50hzq.01.GrismFLT.fits!\n",
      "Load /Volumes/Vince_CLEAR/Data/Grism_fields/GN1/icxt50i1q.01.GrismFLT.fits!\n",
      "Files loaded - 61.68 sec.\n"
     ]
    },
    {
     "name": "stderr",
     "output_type": "stream",
     "text": [
      "/Users/Vince.ec/miniconda3/envs/astroconda/lib/python3.5/site-packages/grizli-0.6.0_115_g3ce5ccf-py3.5-macosx-10.6-x86_64.egg/grizli/model.py:3393: RuntimeWarning: divide by zero encountered in true_divide\n",
      "  self.ivar = 1/self.grism.data['ERR']**2\n",
      "WARNING: AstropyDeprecationWarning: \"clobber\" was deprecated in version 2.0 and will be removed in a future version. Use argument \"overwrite\" instead. [grizli.model]\n",
      "WARNING: VerifyWarning: Card is too long, comment will be truncated. [astropy.io.fits.card]\n"
     ]
    },
    {
     "name": "stdout",
     "output_type": "stream",
     "text": [
      "Load /Volumes/Vince_CLEAR/Data/Grism_fields/GN2/ib3708i9q.01.GrismFLT.fits!\n",
      "Load /Volumes/Vince_CLEAR/Data/Grism_fields/GN2/ib3708ipq.01.GrismFLT.fits!\n",
      "Load /Volumes/Vince_CLEAR/Data/Grism_fields/GN2/ib3708ilq.01.GrismFLT.fits!\n",
      "Load /Volumes/Vince_CLEAR/Data/Grism_fields/GN2/ib3708i5q.01.GrismFLT.fits!\n",
      "Load /Volumes/Vince_CLEAR/Data/Grism_fields/GN2/ib3712lkq.01.GrismFLT.fits!\n",
      "Load /Volumes/Vince_CLEAR/Data/Grism_fields/GN2/ib3712lyq.01.GrismFLT.fits!\n",
      "Load /Volumes/Vince_CLEAR/Data/Grism_fields/GN2/ib3712maq.01.GrismFLT.fits!\n",
      "Load /Volumes/Vince_CLEAR/Data/Grism_fields/GN2/ib3712meq.01.GrismFLT.fits!\n",
      "Load /Volumes/Vince_CLEAR/Data/Grism_fields/GN2/ib3721xiq.01.GrismFLT.fits!\n",
      "Load /Volumes/Vince_CLEAR/Data/Grism_fields/GN2/ib3721xmq.01.GrismFLT.fits!\n",
      "Load /Volumes/Vince_CLEAR/Data/Grism_fields/GN2/ib3721xyq.01.GrismFLT.fits!\n",
      "Load /Volumes/Vince_CLEAR/Data/Grism_fields/GN2/ib3721y2q.01.GrismFLT.fits!\n",
      "Load /Volumes/Vince_CLEAR/Data/Grism_fields/GN2/ib3725dyq.01.GrismFLT.fits!\n",
      "Load /Volumes/Vince_CLEAR/Data/Grism_fields/GN2/ib3725e2q.01.GrismFLT.fits!\n",
      "Load /Volumes/Vince_CLEAR/Data/Grism_fields/GN2/ib3725eeq.01.GrismFLT.fits!\n",
      "Load /Volumes/Vince_CLEAR/Data/Grism_fields/GN2/ib3725eiq.01.GrismFLT.fits!\n",
      "Load /Volumes/Vince_CLEAR/Data/Grism_fields/GN2/ib3748v8q.01.GrismFLT.fits!\n",
      "Load /Volumes/Vince_CLEAR/Data/Grism_fields/GN2/ib3748vdq.01.GrismFLT.fits!\n",
      "Load /Volumes/Vince_CLEAR/Data/Grism_fields/GN2/icat08hiq.01.GrismFLT.fits!\n",
      "Load /Volumes/Vince_CLEAR/Data/Grism_fields/GN2/icat08hnq.01.GrismFLT.fits!\n",
      "Load /Volumes/Vince_CLEAR/Data/Grism_fields/GN2/icat08huq.01.GrismFLT.fits!\n",
      "Load /Volumes/Vince_CLEAR/Data/Grism_fields/GN2/icat08hzq.01.GrismFLT.fits!\n",
      "Load /Volumes/Vince_CLEAR/Data/Grism_fields/GN2/icat12tqq.01.GrismFLT.fits!\n",
      "Load /Volumes/Vince_CLEAR/Data/Grism_fields/GN2/icat12tvq.01.GrismFLT.fits!\n",
      "Load /Volumes/Vince_CLEAR/Data/Grism_fields/GN2/icat12u2q.01.GrismFLT.fits!\n",
      "Load /Volumes/Vince_CLEAR/Data/Grism_fields/GN2/icat12u7q.01.GrismFLT.fits!\n",
      "Load /Volumes/Vince_CLEAR/Data/Grism_fields/GN2/icat21cfq.01.GrismFLT.fits!\n",
      "Load /Volumes/Vince_CLEAR/Data/Grism_fields/GN2/icat21coq.01.GrismFLT.fits!\n",
      "Load /Volumes/Vince_CLEAR/Data/Grism_fields/GN2/icat21dgq.01.GrismFLT.fits!\n",
      "Load /Volumes/Vince_CLEAR/Data/Grism_fields/GN2/icat21dlq.01.GrismFLT.fits!\n",
      "Load /Volumes/Vince_CLEAR/Data/Grism_fields/GN2/icat25hcq.01.GrismFLT.fits!\n",
      "Load /Volumes/Vince_CLEAR/Data/Grism_fields/GN2/icat25hiq.01.GrismFLT.fits!\n",
      "Load /Volumes/Vince_CLEAR/Data/Grism_fields/GN2/icat25icq.01.GrismFLT.fits!\n",
      "Load /Volumes/Vince_CLEAR/Data/Grism_fields/GN2/icat25iiq.01.GrismFLT.fits!\n",
      "Load /Volumes/Vince_CLEAR/Data/Grism_fields/GN2/icxt51jvq.01.GrismFLT.fits!\n",
      "Load /Volumes/Vince_CLEAR/Data/Grism_fields/GN2/icxt51jwq.01.GrismFLT.fits!\n",
      "Load /Volumes/Vince_CLEAR/Data/Grism_fields/GN2/icxt51jzq.01.GrismFLT.fits!\n",
      "Load /Volumes/Vince_CLEAR/Data/Grism_fields/GN2/icxt51k1q.01.GrismFLT.fits!\n",
      "Load /Volumes/Vince_CLEAR/Data/Grism_fields/GN2/icxt52i0q.01.GrismFLT.fits!\n",
      "Load /Volumes/Vince_CLEAR/Data/Grism_fields/GN2/icxt52i1q.01.GrismFLT.fits!\n",
      "Load /Volumes/Vince_CLEAR/Data/Grism_fields/GN2/icxt52i4q.01.GrismFLT.fits!\n",
      "Load /Volumes/Vince_CLEAR/Data/Grism_fields/GN2/icxt52i6q.01.GrismFLT.fits!\n",
      "Load /Volumes/Vince_CLEAR/Data/Grism_fields/GN2/icxt53i9q.01.GrismFLT.fits!\n",
      "Load /Volumes/Vince_CLEAR/Data/Grism_fields/GN2/icxt53iaq.01.GrismFLT.fits!\n",
      "Load /Volumes/Vince_CLEAR/Data/Grism_fields/GN2/icxt53idq.01.GrismFLT.fits!\n",
      "Load /Volumes/Vince_CLEAR/Data/Grism_fields/GN2/icxt53ifq.01.GrismFLT.fits!\n",
      "Load /Volumes/Vince_CLEAR/Data/Grism_fields/GN2/icxt55krq.01.GrismFLT.fits!\n",
      "Load /Volumes/Vince_CLEAR/Data/Grism_fields/GN2/icxt55ksq.01.GrismFLT.fits!\n",
      "Load /Volumes/Vince_CLEAR/Data/Grism_fields/GN2/icxt55kvq.01.GrismFLT.fits!\n",
      "Load /Volumes/Vince_CLEAR/Data/Grism_fields/GN2/icxt55kxq.01.GrismFLT.fits!\n",
      "Files loaded - 86.03 sec.\n",
      "Load /Volumes/Vince_CLEAR/Data/Grism_fields/GN3/ib3718amq.01.GrismFLT.fits!\n",
      "Load /Volumes/Vince_CLEAR/Data/Grism_fields/GN3/ib3718ayq.01.GrismFLT.fits!\n",
      "Load /Volumes/Vince_CLEAR/Data/Grism_fields/GN3/ib3718b2q.01.GrismFLT.fits!\n",
      "Load /Volumes/Vince_CLEAR/Data/Grism_fields/GN3/ib3718aiq.01.GrismFLT.fits!\n",
      "Load /Volumes/Vince_CLEAR/Data/Grism_fields/GN3/ib3719ukq.01.GrismFLT.fits!\n",
      "Load /Volumes/Vince_CLEAR/Data/Grism_fields/GN3/ib3719uoq.01.GrismFLT.fits!\n",
      "Load /Volumes/Vince_CLEAR/Data/Grism_fields/GN3/ib3719v7q.01.GrismFLT.fits!\n",
      "Load /Volumes/Vince_CLEAR/Data/Grism_fields/GN3/ib3719vbq.01.GrismFLT.fits!\n",
      "Load /Volumes/Vince_CLEAR/Data/Grism_fields/GN3/icat18kbq.01.GrismFLT.fits!\n",
      "Load /Volumes/Vince_CLEAR/Data/Grism_fields/GN3/icat18kgq.01.GrismFLT.fits!\n",
      "Load /Volumes/Vince_CLEAR/Data/Grism_fields/GN3/icat18knq.01.GrismFLT.fits!\n",
      "Load /Volumes/Vince_CLEAR/Data/Grism_fields/GN3/icat18ksq.01.GrismFLT.fits!\n",
      "Load /Volumes/Vince_CLEAR/Data/Grism_fields/GN3/icat19u2q.01.GrismFLT.fits!\n",
      "Load /Volumes/Vince_CLEAR/Data/Grism_fields/GN3/icat19u7q.01.GrismFLT.fits!\n",
      "Load /Volumes/Vince_CLEAR/Data/Grism_fields/GN3/icat19ueq.01.GrismFLT.fits!\n",
      "Load /Volumes/Vince_CLEAR/Data/Grism_fields/GN3/icat19ujq.01.GrismFLT.fits!\n",
      "Load /Volumes/Vince_CLEAR/Data/Grism_fields/GN3/icxt56tbq.01.GrismFLT.fits!\n",
      "Load /Volumes/Vince_CLEAR/Data/Grism_fields/GN3/icxt56tcq.01.GrismFLT.fits!\n",
      "Load /Volumes/Vince_CLEAR/Data/Grism_fields/GN3/icxt56tfq.01.GrismFLT.fits!\n",
      "Load /Volumes/Vince_CLEAR/Data/Grism_fields/GN3/icxt56thq.01.GrismFLT.fits!\n",
      "Load /Volumes/Vince_CLEAR/Data/Grism_fields/GN3/icxt57a1q.01.GrismFLT.fits!\n",
      "Load /Volumes/Vince_CLEAR/Data/Grism_fields/GN3/icxt57aoq.01.GrismFLT.fits!\n",
      "Load /Volumes/Vince_CLEAR/Data/Grism_fields/GN3/icxt57aqq.01.GrismFLT.fits!\n",
      "Load /Volumes/Vince_CLEAR/Data/Grism_fields/GN3/icxt57zyq.01.GrismFLT.fits!\n",
      "Load /Volumes/Vince_CLEAR/Data/Grism_fields/GN3/icxt58a9q.01.GrismFLT.fits!\n",
      "Load /Volumes/Vince_CLEAR/Data/Grism_fields/GN3/icxt58aeq.01.GrismFLT.fits!\n",
      "Load /Volumes/Vince_CLEAR/Data/Grism_fields/GN3/icxt58b2q.01.GrismFLT.fits!\n",
      "Load /Volumes/Vince_CLEAR/Data/Grism_fields/GN3/icxt58b4q.01.GrismFLT.fits!\n",
      "Load /Volumes/Vince_CLEAR/Data/Grism_fields/GN3/icxt59fuq.01.GrismFLT.fits!\n",
      "Load /Volumes/Vince_CLEAR/Data/Grism_fields/GN3/icxt59fyq.01.GrismFLT.fits!\n",
      "Load /Volumes/Vince_CLEAR/Data/Grism_fields/GN3/icxt59glq.01.GrismFLT.fits!\n",
      "Load /Volumes/Vince_CLEAR/Data/Grism_fields/GN3/icxt59goq.01.GrismFLT.fits!\n",
      "Load /Volumes/Vince_CLEAR/Data/Grism_fields/GN3/icxt60grq.01.GrismFLT.fits!\n",
      "Load /Volumes/Vince_CLEAR/Data/Grism_fields/GN3/icxt60gsq.01.GrismFLT.fits!\n",
      "Load /Volumes/Vince_CLEAR/Data/Grism_fields/GN3/icxt60gvq.01.GrismFLT.fits!\n",
      "Load /Volumes/Vince_CLEAR/Data/Grism_fields/GN3/icxt60gxq.01.GrismFLT.fits!\n",
      "Files loaded - 66.95 sec.\n",
      "Load /Volumes/Vince_CLEAR/Data/Grism_fields/GN4/ib3722j9q.01.GrismFLT.fits!\n",
      "Load /Volumes/Vince_CLEAR/Data/Grism_fields/GN4/ib3722jlq.01.GrismFLT.fits!\n",
      "Load /Volumes/Vince_CLEAR/Data/Grism_fields/GN4/ib3722j5q.01.GrismFLT.fits!\n",
      "Load /Volumes/Vince_CLEAR/Data/Grism_fields/GN4/ib3722jpq.01.GrismFLT.fits!\n",
      "Load /Volumes/Vince_CLEAR/Data/Grism_fields/GN4/ib3725dyq.01.GrismFLT.fits!\n",
      "Load /Volumes/Vince_CLEAR/Data/Grism_fields/GN4/ib3725e2q.01.GrismFLT.fits!\n",
      "Load /Volumes/Vince_CLEAR/Data/Grism_fields/GN4/ib3725eeq.01.GrismFLT.fits!\n",
      "Load /Volumes/Vince_CLEAR/Data/Grism_fields/GN4/ib3725eiq.01.GrismFLT.fits!\n",
      "Load /Volumes/Vince_CLEAR/Data/Grism_fields/GN4/ib3726bpq.01.GrismFLT.fits!\n",
      "Load /Volumes/Vince_CLEAR/Data/Grism_fields/GN4/ib3726btq.01.GrismFLT.fits!\n",
      "Load /Volumes/Vince_CLEAR/Data/Grism_fields/GN4/ib3726c5q.01.GrismFLT.fits!\n",
      "Load /Volumes/Vince_CLEAR/Data/Grism_fields/GN4/ib3726c9q.01.GrismFLT.fits!\n",
      "Load /Volumes/Vince_CLEAR/Data/Grism_fields/GN4/icat22c9q.01.GrismFLT.fits!\n",
      "Load /Volumes/Vince_CLEAR/Data/Grism_fields/GN4/icat22ceq.01.GrismFLT.fits!\n",
      "Load /Volumes/Vince_CLEAR/Data/Grism_fields/GN4/icat22clq.01.GrismFLT.fits!\n",
      "Load /Volumes/Vince_CLEAR/Data/Grism_fields/GN4/icat22cqq.01.GrismFLT.fits!\n",
      "Load /Volumes/Vince_CLEAR/Data/Grism_fields/GN4/icat25hcq.01.GrismFLT.fits!\n",
      "Load /Volumes/Vince_CLEAR/Data/Grism_fields/GN4/icat25hiq.01.GrismFLT.fits!\n",
      "Load /Volumes/Vince_CLEAR/Data/Grism_fields/GN4/icat25icq.01.GrismFLT.fits!\n",
      "Load /Volumes/Vince_CLEAR/Data/Grism_fields/GN4/icat25iiq.01.GrismFLT.fits!\n",
      "Load /Volumes/Vince_CLEAR/Data/Grism_fields/GN4/icat26dtq.01.GrismFLT.fits!\n",
      "Load /Volumes/Vince_CLEAR/Data/Grism_fields/GN4/icat26dyq.01.GrismFLT.fits!\n",
      "Load /Volumes/Vince_CLEAR/Data/Grism_fields/GN4/icat26e5q.01.GrismFLT.fits!\n",
      "Load /Volumes/Vince_CLEAR/Data/Grism_fields/GN4/icat26eaq.01.GrismFLT.fits!\n",
      "Load /Volumes/Vince_CLEAR/Data/Grism_fields/GN4/icxt61gvq.01.GrismFLT.fits!\n",
      "Load /Volumes/Vince_CLEAR/Data/Grism_fields/GN4/icxt61gwq.01.GrismFLT.fits!\n",
      "Load /Volumes/Vince_CLEAR/Data/Grism_fields/GN4/icxt61gzq.01.GrismFLT.fits!\n",
      "Load /Volumes/Vince_CLEAR/Data/Grism_fields/GN4/icxt61h1q.01.GrismFLT.fits!\n",
      "Load /Volumes/Vince_CLEAR/Data/Grism_fields/GN4/icxt62lkq.01.GrismFLT.fits!\n",
      "Load /Volumes/Vince_CLEAR/Data/Grism_fields/GN4/icxt62llq.01.GrismFLT.fits!\n",
      "Load /Volumes/Vince_CLEAR/Data/Grism_fields/GN4/icxt62loq.01.GrismFLT.fits!\n",
      "Load /Volumes/Vince_CLEAR/Data/Grism_fields/GN4/icxt62lqq.01.GrismFLT.fits!\n",
      "Load /Volumes/Vince_CLEAR/Data/Grism_fields/GN4/icxt63ltq.01.GrismFLT.fits!\n",
      "Load /Volumes/Vince_CLEAR/Data/Grism_fields/GN4/icxt63luq.01.GrismFLT.fits!\n",
      "Load /Volumes/Vince_CLEAR/Data/Grism_fields/GN4/icxt63lxq.01.GrismFLT.fits!\n",
      "Load /Volumes/Vince_CLEAR/Data/Grism_fields/GN4/icxt63lzq.01.GrismFLT.fits!\n",
      "Load /Volumes/Vince_CLEAR/Data/Grism_fields/GN4/icxt64qrq.01.GrismFLT.fits!\n",
      "Load /Volumes/Vince_CLEAR/Data/Grism_fields/GN4/icxt64qsq.01.GrismFLT.fits!\n",
      "Load /Volumes/Vince_CLEAR/Data/Grism_fields/GN4/icxt64qvq.01.GrismFLT.fits!\n",
      "Load /Volumes/Vince_CLEAR/Data/Grism_fields/GN4/icxt64qxq.01.GrismFLT.fits!\n",
      "Load /Volumes/Vince_CLEAR/Data/Grism_fields/GN4/icxt65evq.01.GrismFLT.fits!\n",
      "Load /Volumes/Vince_CLEAR/Data/Grism_fields/GN4/icxt65ewq.01.GrismFLT.fits!\n",
      "Load /Volumes/Vince_CLEAR/Data/Grism_fields/GN4/icxt65ezq.01.GrismFLT.fits!\n",
      "Load /Volumes/Vince_CLEAR/Data/Grism_fields/GN4/icxt65f1q.01.GrismFLT.fits!\n",
      "Files loaded - 79.58 sec.\n",
      "Load /Volumes/Vince_CLEAR/Data/Grism_fields/GN5/ib3717wrq.01.GrismFLT.fits!\n",
      "Load /Volumes/Vince_CLEAR/Data/Grism_fields/GN5/ib3717wnq.01.GrismFLT.fits!\n",
      "Load /Volumes/Vince_CLEAR/Data/Grism_fields/GN5/ib3717x7q.01.GrismFLT.fits!\n",
      "Load /Volumes/Vince_CLEAR/Data/Grism_fields/GN5/ib3717x3q.01.GrismFLT.fits!\n",
      "Load /Volumes/Vince_CLEAR/Data/Grism_fields/GN5/ib3718aiq.01.GrismFLT.fits!\n",
      "Load /Volumes/Vince_CLEAR/Data/Grism_fields/GN5/ib3718amq.01.GrismFLT.fits!\n",
      "Load /Volumes/Vince_CLEAR/Data/Grism_fields/GN5/ib3718ayq.01.GrismFLT.fits!\n",
      "Load /Volumes/Vince_CLEAR/Data/Grism_fields/GN5/ib3718b2q.01.GrismFLT.fits!\n",
      "Load /Volumes/Vince_CLEAR/Data/Grism_fields/GN5/icat17e4q.01.GrismFLT.fits!\n",
      "Load /Volumes/Vince_CLEAR/Data/Grism_fields/GN5/icat17e9q.01.GrismFLT.fits!\n",
      "Load /Volumes/Vince_CLEAR/Data/Grism_fields/GN5/icat17egq.01.GrismFLT.fits!\n",
      "Load /Volumes/Vince_CLEAR/Data/Grism_fields/GN5/icat17elq.01.GrismFLT.fits!\n",
      "Load /Volumes/Vince_CLEAR/Data/Grism_fields/GN5/icat18kbq.01.GrismFLT.fits!\n",
      "Load /Volumes/Vince_CLEAR/Data/Grism_fields/GN5/icat18kgq.01.GrismFLT.fits!\n",
      "Load /Volumes/Vince_CLEAR/Data/Grism_fields/GN5/icat18knq.01.GrismFLT.fits!\n",
      "Load /Volumes/Vince_CLEAR/Data/Grism_fields/GN5/icat18ksq.01.GrismFLT.fits!\n",
      "Load /Volumes/Vince_CLEAR/Data/Grism_fields/GN5/icxt41f1q.01.GrismFLT.fits!\n",
      "Load /Volumes/Vince_CLEAR/Data/Grism_fields/GN5/icxt41f2q.01.GrismFLT.fits!\n",
      "Load /Volumes/Vince_CLEAR/Data/Grism_fields/GN5/icxt41f5q.01.GrismFLT.fits!\n",
      "Load /Volumes/Vince_CLEAR/Data/Grism_fields/GN5/icxt41f7q.01.GrismFLT.fits!\n",
      "Load /Volumes/Vince_CLEAR/Data/Grism_fields/GN5/icxt42q5q.01.GrismFLT.fits!\n",
      "Load /Volumes/Vince_CLEAR/Data/Grism_fields/GN5/icxt42q6q.01.GrismFLT.fits!\n",
      "Load /Volumes/Vince_CLEAR/Data/Grism_fields/GN5/icxt42q9q.01.GrismFLT.fits!\n",
      "Load /Volumes/Vince_CLEAR/Data/Grism_fields/GN5/icxt42qbq.01.GrismFLT.fits!\n",
      "Load /Volumes/Vince_CLEAR/Data/Grism_fields/GN5/icxt43vsq.01.GrismFLT.fits!\n",
      "Load /Volumes/Vince_CLEAR/Data/Grism_fields/GN5/icxt43vtq.01.GrismFLT.fits!\n",
      "Load /Volumes/Vince_CLEAR/Data/Grism_fields/GN5/icxt43vwq.01.GrismFLT.fits!\n",
      "Load /Volumes/Vince_CLEAR/Data/Grism_fields/GN5/icxt43vyq.01.GrismFLT.fits!\n",
      "Load /Volumes/Vince_CLEAR/Data/Grism_fields/GN5/icxt44ooq.01.GrismFLT.fits!\n",
      "Load /Volumes/Vince_CLEAR/Data/Grism_fields/GN5/icxt44opq.01.GrismFLT.fits!\n",
      "Load /Volumes/Vince_CLEAR/Data/Grism_fields/GN5/icxt44osq.01.GrismFLT.fits!\n",
      "Load /Volumes/Vince_CLEAR/Data/Grism_fields/GN5/icxt44ouq.01.GrismFLT.fits!\n",
      "Load /Volumes/Vince_CLEAR/Data/Grism_fields/GN5/icxt45oxq.01.GrismFLT.fits!\n",
      "Load /Volumes/Vince_CLEAR/Data/Grism_fields/GN5/icxt45oyq.01.GrismFLT.fits!\n",
      "Load /Volumes/Vince_CLEAR/Data/Grism_fields/GN5/icxt45p1q.01.GrismFLT.fits!\n",
      "Load /Volumes/Vince_CLEAR/Data/Grism_fields/GN5/icxt45p3q.01.GrismFLT.fits!\n",
      "Files loaded - 59.62 sec.\n",
      "Load /Volumes/Vince_CLEAR/Data/Grism_fields/GN7/ib3706biq.01.GrismFLT.fits!\n",
      "Load /Volumes/Vince_CLEAR/Data/Grism_fields/GN7/ib3706b6q.01.GrismFLT.fits!\n",
      "Load /Volumes/Vince_CLEAR/Data/Grism_fields/GN7/ib3706b2q.01.GrismFLT.fits!\n",
      "Load /Volumes/Vince_CLEAR/Data/Grism_fields/GN7/ib3706bpq.01.GrismFLT.fits!\n",
      "Load /Volumes/Vince_CLEAR/Data/Grism_fields/GN7/ib3707caq.01.GrismFLT.fits!\n",
      "Load /Volumes/Vince_CLEAR/Data/Grism_fields/GN7/ib3707ceq.01.GrismFLT.fits!\n",
      "Load /Volumes/Vince_CLEAR/Data/Grism_fields/GN7/ib3707cqq.01.GrismFLT.fits!\n",
      "Load /Volumes/Vince_CLEAR/Data/Grism_fields/GN7/ib3707cuq.01.GrismFLT.fits!\n",
      "Load /Volumes/Vince_CLEAR/Data/Grism_fields/GN7/ib3708i5q.01.GrismFLT.fits!\n",
      "Load /Volumes/Vince_CLEAR/Data/Grism_fields/GN7/ib3708i9q.01.GrismFLT.fits!\n",
      "Load /Volumes/Vince_CLEAR/Data/Grism_fields/GN7/ib3708ilq.01.GrismFLT.fits!\n",
      "Load /Volumes/Vince_CLEAR/Data/Grism_fields/GN7/ib3708ipq.01.GrismFLT.fits!\n",
      "Load /Volumes/Vince_CLEAR/Data/Grism_fields/GN7/ib3746tuq.01.GrismFLT.fits!\n",
      "Load /Volumes/Vince_CLEAR/Data/Grism_fields/GN7/ib3746ujq.01.GrismFLT.fits!\n",
      "Load /Volumes/Vince_CLEAR/Data/Grism_fields/GN7/ib3746urq.01.GrismFLT.fits!\n",
      "Load /Volumes/Vince_CLEAR/Data/Grism_fields/GN7/ib3746uxq.01.GrismFLT.fits!\n",
      "Load /Volumes/Vince_CLEAR/Data/Grism_fields/GN7/ib3747a5q.01.GrismFLT.fits!\n",
      "Load /Volumes/Vince_CLEAR/Data/Grism_fields/GN7/ib3747z0q.01.GrismFLT.fits!\n",
      "Load /Volumes/Vince_CLEAR/Data/Grism_fields/GN7/ib3747z5q.01.GrismFLT.fits!\n",
      "Load /Volumes/Vince_CLEAR/Data/Grism_fields/GN7/ib3747zyq.01.GrismFLT.fits!\n",
      "Load /Volumes/Vince_CLEAR/Data/Grism_fields/GN7/ib3748v8q.01.GrismFLT.fits!\n",
      "Load /Volumes/Vince_CLEAR/Data/Grism_fields/GN7/ib3748vdq.01.GrismFLT.fits!\n",
      "Load /Volumes/Vince_CLEAR/Data/Grism_fields/GN7/icat06gqq.01.GrismFLT.fits!\n",
      "Load /Volumes/Vince_CLEAR/Data/Grism_fields/GN7/icat06gvq.01.GrismFLT.fits!\n",
      "Load /Volumes/Vince_CLEAR/Data/Grism_fields/GN7/icat06h2q.01.GrismFLT.fits!\n",
      "Load /Volumes/Vince_CLEAR/Data/Grism_fields/GN7/icat06h7q.01.GrismFLT.fits!\n",
      "Load /Volumes/Vince_CLEAR/Data/Grism_fields/GN7/icat07bxq.01.GrismFLT.fits!\n",
      "Load /Volumes/Vince_CLEAR/Data/Grism_fields/GN7/icat07c2q.01.GrismFLT.fits!\n",
      "Load /Volumes/Vince_CLEAR/Data/Grism_fields/GN7/icat07c9q.01.GrismFLT.fits!\n",
      "Load /Volumes/Vince_CLEAR/Data/Grism_fields/GN7/icat07ceq.01.GrismFLT.fits!\n",
      "Load /Volumes/Vince_CLEAR/Data/Grism_fields/GN7/icat08hiq.01.GrismFLT.fits!\n",
      "Load /Volumes/Vince_CLEAR/Data/Grism_fields/GN7/icat08hnq.01.GrismFLT.fits!\n",
      "Load /Volumes/Vince_CLEAR/Data/Grism_fields/GN7/icat08huq.01.GrismFLT.fits!\n",
      "Load /Volumes/Vince_CLEAR/Data/Grism_fields/GN7/icat08hzq.01.GrismFLT.fits!\n",
      "Load /Volumes/Vince_CLEAR/Data/Grism_fields/GN7/icxt36jmq.01.GrismFLT.fits!\n",
      "Load /Volumes/Vince_CLEAR/Data/Grism_fields/GN7/icxt36jnq.01.GrismFLT.fits!\n",
      "Load /Volumes/Vince_CLEAR/Data/Grism_fields/GN7/icxt36jqq.01.GrismFLT.fits!\n",
      "Load /Volumes/Vince_CLEAR/Data/Grism_fields/GN7/icxt36jsq.01.GrismFLT.fits!\n",
      "Load /Volumes/Vince_CLEAR/Data/Grism_fields/GN7/icxt37laq.01.GrismFLT.fits!\n",
      "Load /Volumes/Vince_CLEAR/Data/Grism_fields/GN7/icxt37lbq.01.GrismFLT.fits!\n",
      "Load /Volumes/Vince_CLEAR/Data/Grism_fields/GN7/icxt37leq.01.GrismFLT.fits!\n",
      "Load /Volumes/Vince_CLEAR/Data/Grism_fields/GN7/icxt37lgq.01.GrismFLT.fits!\n",
      "Load /Volumes/Vince_CLEAR/Data/Grism_fields/GN7/icxt38p6q.01.GrismFLT.fits!\n",
      "Load /Volumes/Vince_CLEAR/Data/Grism_fields/GN7/icxt38p7q.01.GrismFLT.fits!\n",
      "Load /Volumes/Vince_CLEAR/Data/Grism_fields/GN7/icxt38paq.01.GrismFLT.fits!\n",
      "Load /Volumes/Vince_CLEAR/Data/Grism_fields/GN7/icxt38pcq.01.GrismFLT.fits!\n",
      "Load /Volumes/Vince_CLEAR/Data/Grism_fields/GN7/icxt39eoq.01.GrismFLT.fits!\n",
      "Load /Volumes/Vince_CLEAR/Data/Grism_fields/GN7/icxt39epq.01.GrismFLT.fits!\n",
      "Load /Volumes/Vince_CLEAR/Data/Grism_fields/GN7/icxt39esq.01.GrismFLT.fits!\n",
      "Load /Volumes/Vince_CLEAR/Data/Grism_fields/GN7/icxt39euq.01.GrismFLT.fits!\n",
      "Load /Volumes/Vince_CLEAR/Data/Grism_fields/GN7/icxt40npq.01.GrismFLT.fits!\n",
      "Load /Volumes/Vince_CLEAR/Data/Grism_fields/GN7/icxt40nrq.01.GrismFLT.fits!\n",
      "Load /Volumes/Vince_CLEAR/Data/Grism_fields/GN7/icxt40nuq.01.GrismFLT.fits!\n",
      "Load /Volumes/Vince_CLEAR/Data/Grism_fields/GN7/icxt40nwq.01.GrismFLT.fits!\n",
      "Files loaded - 104.10 sec.\n"
     ]
    }
   ],
   "source": [
    "field = 'GND'\n",
    "Cpd = pd.read_pickle('../dataframes/galaxy_frames/GN_new.pkl')\n",
    "Cids = Cpd.id.values\n",
    "skipped = []\n",
    "for i in range(len(gnd_fields)):\n",
    "    grp = multifit.GroupFLT(grism_files = glob('/Volumes/Vince_CLEAR/Data/Grism_fields/{0}/*GrismFLT.fits'.format(gnd_fields[i])))\n",
    "    for ii in Cids:\n",
    "        try:\n",
    "            ex = Extract_all(ii, 'GND', grp)\n",
    "            ex.Extract_BeamCutout()\n",
    "        except:\n",
    "            print(ii)"
   ]
  },
  {
   "cell_type": "code",
   "execution_count": null,
   "metadata": {},
   "outputs": [],
   "source": [
    "/Volumes/Vince_CLEAR/Data/Grism_fields/ERSPRIME/"
   ]
  },
  {
   "cell_type": "code",
   "execution_count": 4,
   "metadata": {},
   "outputs": [
    {
     "name": "stdout",
     "output_type": "stream",
     "text": [
      "Load /Volumes/Vince_CLEAR/Data/Grism_fields/GN2/ib3708i9q.01.GrismFLT.fits!\n",
      "Load /Volumes/Vince_CLEAR/Data/Grism_fields/GN2/ib3708i5q.01.GrismFLT.fits!\n",
      "Load /Volumes/Vince_CLEAR/Data/Grism_fields/GN2/ib3708ilq.01.GrismFLT.fits!\n",
      "Load /Volumes/Vince_CLEAR/Data/Grism_fields/GN2/ib3708ipq.01.GrismFLT.fits!\n"
     ]
    },
    {
     "name": "stderr",
     "output_type": "stream",
     "text": [
      "WARNING: FITSFixedWarning: The WCS transformation has more axes (2) than the image it is associated with (0) [astropy.wcs.wcs]\n",
      "WARNING: FITSFixedWarning: The WCS transformation has more axes (2) than the image it is associated with (0) [astropy.wcs.wcs]\n",
      "WARNING: FITSFixedWarning: The WCS transformation has more axes (2) than the image it is associated with (0) [astropy.wcs.wcs]\n",
      "WARNING: FITSFixedWarning: The WCS transformation has more axes (2) than the image it is associated with (0) [astropy.wcs.wcs]\n"
     ]
    },
    {
     "name": "stdout",
     "output_type": "stream",
     "text": [
      "Load /Volumes/Vince_CLEAR/Data/Grism_fields/GN2/ib3712lkq.01.GrismFLT.fits!\n"
     ]
    },
    {
     "name": "stderr",
     "output_type": "stream",
     "text": [
      "WARNING: FITSFixedWarning: The WCS transformation has more axes (2) than the image it is associated with (0) [astropy.wcs.wcs]\n",
      "WARNING: FITSFixedWarning: The WCS transformation has more axes (2) than the image it is associated with (0) [astropy.wcs.wcs]\n"
     ]
    },
    {
     "name": "stdout",
     "output_type": "stream",
     "text": [
      "Load /Volumes/Vince_CLEAR/Data/Grism_fields/GN2/ib3712lyq.01.GrismFLT.fits!\n"
     ]
    },
    {
     "name": "stderr",
     "output_type": "stream",
     "text": [
      "WARNING: FITSFixedWarning: The WCS transformation has more axes (2) than the image it is associated with (0) [astropy.wcs.wcs]\n"
     ]
    },
    {
     "name": "stdout",
     "output_type": "stream",
     "text": [
      "Load /Volumes/Vince_CLEAR/Data/Grism_fields/GN2/ib3712maq.01.GrismFLT.fits!\n"
     ]
    },
    {
     "name": "stderr",
     "output_type": "stream",
     "text": [
      "WARNING: FITSFixedWarning: The WCS transformation has more axes (2) than the image it is associated with (0) [astropy.wcs.wcs]\n"
     ]
    },
    {
     "name": "stdout",
     "output_type": "stream",
     "text": [
      "Load /Volumes/Vince_CLEAR/Data/Grism_fields/GN2/ib3712meq.01.GrismFLT.fits!\n"
     ]
    },
    {
     "name": "stderr",
     "output_type": "stream",
     "text": [
      "WARNING: FITSFixedWarning: The WCS transformation has more axes (2) than the image it is associated with (0) [astropy.wcs.wcs]\n"
     ]
    },
    {
     "name": "stdout",
     "output_type": "stream",
     "text": [
      "Load /Volumes/Vince_CLEAR/Data/Grism_fields/GN2/ib3721xiq.01.GrismFLT.fits!\n",
      "Load /Volumes/Vince_CLEAR/Data/Grism_fields/GN2/ib3721xmq.01.GrismFLT.fits!\n",
      "Load /Volumes/Vince_CLEAR/Data/Grism_fields/GN2/ib3721xyq.01.GrismFLT.fits!\n",
      "Load /Volumes/Vince_CLEAR/Data/Grism_fields/GN2/ib3721y2q.01.GrismFLT.fits!\n",
      "Load /Volumes/Vince_CLEAR/Data/Grism_fields/GN2/ib3725dyq.01.GrismFLT.fits!\n",
      "Load /Volumes/Vince_CLEAR/Data/Grism_fields/GN2/ib3725e2q.01.GrismFLT.fits!\n",
      "Load /Volumes/Vince_CLEAR/Data/Grism_fields/GN2/ib3725eeq.01.GrismFLT.fits!\n",
      "Load /Volumes/Vince_CLEAR/Data/Grism_fields/GN2/ib3725eiq.01.GrismFLT.fits!\n",
      "Load /Volumes/Vince_CLEAR/Data/Grism_fields/GN2/ib3748v8q.01.GrismFLT.fits!\n",
      "Load /Volumes/Vince_CLEAR/Data/Grism_fields/GN2/ib3748vdq.01.GrismFLT.fits!\n",
      "Load /Volumes/Vince_CLEAR/Data/Grism_fields/GN2/icat08hiq.01.GrismFLT.fits!\n",
      "Load /Volumes/Vince_CLEAR/Data/Grism_fields/GN2/icat08hnq.01.GrismFLT.fits!\n",
      "Load /Volumes/Vince_CLEAR/Data/Grism_fields/GN2/icat08huq.01.GrismFLT.fits!\n",
      "Load /Volumes/Vince_CLEAR/Data/Grism_fields/GN2/icat08hzq.01.GrismFLT.fits!\n",
      "Load /Volumes/Vince_CLEAR/Data/Grism_fields/GN2/icat12tqq.01.GrismFLT.fits!\n",
      "Load /Volumes/Vince_CLEAR/Data/Grism_fields/GN2/icat12tvq.01.GrismFLT.fits!\n",
      "Load /Volumes/Vince_CLEAR/Data/Grism_fields/GN2/icat12u2q.01.GrismFLT.fits!\n",
      "Load /Volumes/Vince_CLEAR/Data/Grism_fields/GN2/icat12u7q.01.GrismFLT.fits!\n",
      "Load /Volumes/Vince_CLEAR/Data/Grism_fields/GN2/icat21cfq.01.GrismFLT.fits!\n",
      "Load /Volumes/Vince_CLEAR/Data/Grism_fields/GN2/icat21coq.01.GrismFLT.fits!\n",
      "Load /Volumes/Vince_CLEAR/Data/Grism_fields/GN2/icat21dgq.01.GrismFLT.fits!\n",
      "Load /Volumes/Vince_CLEAR/Data/Grism_fields/GN2/icat21dlq.01.GrismFLT.fits!\n",
      "Load /Volumes/Vince_CLEAR/Data/Grism_fields/GN2/icat25hcq.01.GrismFLT.fits!\n",
      "Load /Volumes/Vince_CLEAR/Data/Grism_fields/GN2/icat25hiq.01.GrismFLT.fits!\n",
      "Load /Volumes/Vince_CLEAR/Data/Grism_fields/GN2/icat25icq.01.GrismFLT.fits!\n",
      "Load /Volumes/Vince_CLEAR/Data/Grism_fields/GN2/icat25iiq.01.GrismFLT.fits!\n",
      "Load /Volumes/Vince_CLEAR/Data/Grism_fields/GN2/icxt51jvq.01.GrismFLT.fits!\n",
      "Load /Volumes/Vince_CLEAR/Data/Grism_fields/GN2/icxt51jwq.01.GrismFLT.fits!\n",
      "Load /Volumes/Vince_CLEAR/Data/Grism_fields/GN2/icxt51jzq.01.GrismFLT.fits!\n",
      "Load /Volumes/Vince_CLEAR/Data/Grism_fields/GN2/icxt51k1q.01.GrismFLT.fits!\n",
      "Load /Volumes/Vince_CLEAR/Data/Grism_fields/GN2/icxt52i0q.01.GrismFLT.fits!\n",
      "Load /Volumes/Vince_CLEAR/Data/Grism_fields/GN2/icxt52i1q.01.GrismFLT.fits!\n",
      "Load /Volumes/Vince_CLEAR/Data/Grism_fields/GN2/icxt52i4q.01.GrismFLT.fits!\n",
      "Load /Volumes/Vince_CLEAR/Data/Grism_fields/GN2/icxt52i6q.01.GrismFLT.fits!\n",
      "Load /Volumes/Vince_CLEAR/Data/Grism_fields/GN2/icxt53i9q.01.GrismFLT.fits!\n",
      "Load /Volumes/Vince_CLEAR/Data/Grism_fields/GN2/icxt53iaq.01.GrismFLT.fits!\n",
      "Load /Volumes/Vince_CLEAR/Data/Grism_fields/GN2/icxt53idq.01.GrismFLT.fits!\n",
      "Load /Volumes/Vince_CLEAR/Data/Grism_fields/GN2/icxt53ifq.01.GrismFLT.fits!\n",
      "Load /Volumes/Vince_CLEAR/Data/Grism_fields/GN2/icxt55krq.01.GrismFLT.fits!\n",
      "Load /Volumes/Vince_CLEAR/Data/Grism_fields/GN2/icxt55ksq.01.GrismFLT.fits!\n",
      "Load /Volumes/Vince_CLEAR/Data/Grism_fields/GN2/icxt55kvq.01.GrismFLT.fits!\n",
      "Load /Volumes/Vince_CLEAR/Data/Grism_fields/GN2/icxt55kxq.01.GrismFLT.fits!\n",
      "Files loaded - 68.42 sec.\n"
     ]
    }
   ],
   "source": [
    "grp = multifit.GroupFLT(grism_files = glob('/Volumes/Vince_CLEAR/Data/Grism_fields/{0}/*GrismFLT.fits'.format(gnd_fields[1])))\n"
   ]
  },
  {
   "cell_type": "code",
   "execution_count": 15,
   "metadata": {},
   "outputs": [
    {
     "name": "stdout",
     "output_type": "stream",
     "text": [
      "[]\n",
      "[<grizli.model.BeamCutout object at 0x1a5d5059b0>, <grizli.model.BeamCutout object at 0x1a5d505be0>, <grizli.model.BeamCutout object at 0x1a793257b8>, <grizli.model.BeamCutout object at 0x1a5d516208>, <grizli.model.BeamCutout object at 0x1a5d51cac8>, <grizli.model.BeamCutout object at 0x1a5d50eeb8>, <grizli.model.BeamCutout object at 0x1abdeea860>, <grizli.model.BeamCutout object at 0x1a848b1da0>]\n",
      "[]\n",
      "[]\n"
     ]
    },
    {
     "name": "stderr",
     "output_type": "stream",
     "text": [
      "/Users/Vince.ec/miniconda3/envs/astroconda/lib/python3.5/site-packages/grizli-0.6.0_115_g3ce5ccf-py3.5-macosx-10.6-x86_64.egg/grizli/model.py:3393: RuntimeWarning: divide by zero encountered in true_divide\n",
      "  self.ivar = 1/self.grism.data['ERR']**2\n"
     ]
    },
    {
     "name": "stdout",
     "output_type": "stream",
     "text": [
      "[<grizli.model.BeamCutout object at 0x1a5d524748>, <grizli.model.BeamCutout object at 0x1a79320048>, <grizli.model.BeamCutout object at 0x1a79325978>, <grizli.model.BeamCutout object at 0x1a5d5244e0>, <grizli.model.BeamCutout object at 0x1a5d505390>, <grizli.model.BeamCutout object at 0x1a5d51da58>, <grizli.model.BeamCutout object at 0x1abdef0080>, <grizli.model.BeamCutout object at 0x1a5d510080>, <grizli.model.BeamCutout object at 0x1a848842e8>, <grizli.model.BeamCutout object at 0x1a8489c9e8>]\n",
      "[<grizli.model.BeamCutout object at 0x1a5d4f1da0>, <grizli.model.BeamCutout object at 0x1a5d4f1c50>, <grizli.model.BeamCutout object at 0x1a5d523f98>, <grizli.model.BeamCutout object at 0x1a5d4f9978>, <grizli.model.BeamCutout object at 0x1a793200b8>, <grizli.model.BeamCutout object at 0x1a5d4f8dd8>, <grizli.model.BeamCutout object at 0x1a5d4f4e48>, <grizli.model.BeamCutout object at 0x1abdee1780>]\n",
      "[<grizli.model.BeamCutout object at 0x1a6c466978>, <grizli.model.BeamCutout object at 0x1a792e7d68>, <grizli.model.BeamCutout object at 0x1a6c466fd0>, <grizli.model.BeamCutout object at 0x1a5d4ef0b8>, <grizli.model.BeamCutout object at 0x1a5d4f12b0>, <grizli.model.BeamCutout object at 0x1a5d51f518>, <grizli.model.BeamCutout object at 0x1a5d518f98>, <grizli.model.BeamCutout object at 0x1abdee3940>, <grizli.model.BeamCutout object at 0x1a848a73c8>, <grizli.model.BeamCutout object at 0x1a848a8f98>, <grizli.model.BeamCutout object at 0x1a7d43c940>, <grizli.model.BeamCutout object at 0x1a7d448e80>, <grizli.model.BeamCutout object at 0x1a7d421f98>, <grizli.model.BeamCutout object at 0x1a62090940>, <grizli.model.BeamCutout object at 0x1a620b2e80>, <grizli.model.BeamCutout object at 0x1a62099f98>]\n",
      "[<grizli.model.BeamCutout object at 0x1a5d5082b0>, <grizli.model.BeamCutout object at 0x1a848884e0>, <grizli.model.BeamCutout object at 0x1a792e7d30>, <grizli.model.BeamCutout object at 0x1a792ea860>, <grizli.model.BeamCutout object at 0x1a6c466f60>, <grizli.model.BeamCutout object at 0x1a5d51df60>, <grizli.model.BeamCutout object at 0x1a5d4f4e48>, <grizli.model.BeamCutout object at 0x1abded4860>]\n",
      "[<grizli.model.BeamCutout object at 0x1a5d505908>, <grizli.model.BeamCutout object at 0x1a5d5055f8>, <grizli.model.BeamCutout object at 0x1a5d523630>, <grizli.model.BeamCutout object at 0x1a5d516208>, <grizli.model.BeamCutout object at 0x1a5d5082b0>, <grizli.model.BeamCutout object at 0x1a5d518128>, <grizli.model.BeamCutout object at 0x1a5d4f4f60>, <grizli.model.BeamCutout object at 0x1abdeea780>, <grizli.model.BeamCutout object at 0x1a848b8d30>, <grizli.model.BeamCutout object at 0x1a848b3eb8>]\n",
      "[<grizli.model.BeamCutout object at 0x1a848880b8>, <grizli.model.BeamCutout object at 0x1a84888630>, <grizli.model.BeamCutout object at 0x1a792ef5c0>, <grizli.model.BeamCutout object at 0x1a5d524588>, <grizli.model.BeamCutout object at 0x1a5d505dd8>, <grizli.model.BeamCutout object at 0x1a5d51feb8>, <grizli.model.BeamCutout object at 0x1a5d50f438>, <grizli.model.BeamCutout object at 0x1abdee7d30>, <grizli.model.BeamCutout object at 0x1a848b1ef0>, <grizli.model.BeamCutout object at 0x1a848a64e0>, <grizli.model.BeamCutout object at 0x1a71d16a20>, <grizli.model.BeamCutout object at 0x1a71cf6f60>, <grizli.model.BeamCutout object at 0x1a71d094e0>, <grizli.model.BeamCutout object at 0x1a620aea20>, <grizli.model.BeamCutout object at 0x1a620b0f60>, <grizli.model.BeamCutout object at 0x1a6208e4e0>, <grizli.model.BeamCutout object at 0x1a620aaa20>, <grizli.model.BeamCutout object at 0x1a7d42ff60>, <grizli.model.BeamCutout object at 0x1a7d4354e0>, <grizli.model.BeamCutout object at 0x1a7d45aa20>]\n",
      "[<grizli.model.BeamCutout object at 0x1a792e79e8>, <grizli.model.BeamCutout object at 0x1a792e76d8>, <grizli.model.BeamCutout object at 0x1a5d512748>, <grizli.model.BeamCutout object at 0x1a5d4f92e8>, <grizli.model.BeamCutout object at 0x1a84888dd8>, <grizli.model.BeamCutout object at 0x1a5d518c18>, <grizli.model.BeamCutout object at 0x1a5d510fd0>, <grizli.model.BeamCutout object at 0x1abdeef780>, <grizli.model.BeamCutout object at 0x1a8489fcc0>, <grizli.model.BeamCutout object at 0x1a84892eb8>]\n",
      "[<grizli.model.BeamCutout object at 0x1abded1588>, <grizli.model.BeamCutout object at 0x1abded1d68>, <grizli.model.BeamCutout object at 0x1a5d4f2e10>, <grizli.model.BeamCutout object at 0x1a5d505c18>, <grizli.model.BeamCutout object at 0x1a848887b8>, <grizli.model.BeamCutout object at 0x1a5d50e7f0>, <grizli.model.BeamCutout object at 0x1a5d510240>, <grizli.model.BeamCutout object at 0x1abdef1780>, <grizli.model.BeamCutout object at 0x1a848a2d30>, <grizli.model.BeamCutout object at 0x1a8488ceb8>]\n",
      "[]\n",
      "[<grizli.model.BeamCutout object at 0x1a18812cf8>, <grizli.model.BeamCutout object at 0x1a18812e48>, <grizli.model.BeamCutout object at 0x1a18414128>, <grizli.model.BeamCutout object at 0x1a6c464d30>, <grizli.model.BeamCutout object at 0x1acee78630>, <grizli.model.BeamCutout object at 0x1acee7af98>, <grizli.model.BeamCutout object at 0x1acee7f9b0>, <grizli.model.BeamCutout object at 0x1a5d523978>, <grizli.model.BeamCutout object at 0x1a5d501cc0>, <grizli.model.BeamCutout object at 0x1a79322b00>, <grizli.model.BeamCutout object at 0x1a79314cf8>, <grizli.model.BeamCutout object at 0x1abdee2630>, <grizli.model.BeamCutout object at 0x1abdebcb70>, <grizli.model.BeamCutout object at 0x1a848b8cf8>, <grizli.model.BeamCutout object at 0x1a84898630>, <grizli.model.BeamCutout object at 0x1a561feb00>, <grizli.model.BeamCutout object at 0x1a56212cf8>, <grizli.model.BeamCutout object at 0x1a561e3630>, <grizli.model.BeamCutout object at 0x1a7d42fa90>, <grizli.model.BeamCutout object at 0x1a7d435f28>, <grizli.model.BeamCutout object at 0x1a7d432198>, <grizli.model.BeamCutout object at 0x1a71d16c88>, <grizli.model.BeamCutout object at 0x1a71d18cf8>, <grizli.model.BeamCutout object at 0x1a71cfc630>, <grizli.model.BeamCutout object at 0x1a71d01b00>, <grizli.model.BeamCutout object at 0x1a620bba20>, <grizli.model.BeamCutout object at 0x1a620b6be0>, <grizli.model.BeamCutout object at 0x1a6209fb00>, <grizli.model.BeamCutout object at 0x1a1633df60>, <grizli.model.BeamCutout object at 0x1a1632d630>, <grizli.model.BeamCutout object at 0x1a1630db00>, <grizli.model.BeamCutout object at 0x1a17b70cf8>]\n",
      "[]\n",
      "[]\n",
      "[]\n",
      "[]\n",
      "[<grizli.model.BeamCutout object at 0x1a5d522f28>, <grizli.model.BeamCutout object at 0x1a5d5222b0>, <grizli.model.BeamCutout object at 0x1a158cdc88>, <grizli.model.BeamCutout object at 0x1a6c45e588>, <grizli.model.BeamCutout object at 0x1a6c457fd0>, <grizli.model.BeamCutout object at 0x1acee79ba8>, <grizli.model.BeamCutout object at 0x1acee7f5c0>, <grizli.model.BeamCutout object at 0x1acee8dcf8>, <grizli.model.BeamCutout object at 0x1a5d5007b8>, <grizli.model.BeamCutout object at 0x1a5d510828>, <grizli.model.BeamCutout object at 0x1a5d51bcf8>, <grizli.model.BeamCutout object at 0x1a79322fd0>, <grizli.model.BeamCutout object at 0x1a7931c4e0>, <grizli.model.BeamCutout object at 0x1abdeefcf8>, <grizli.model.BeamCutout object at 0x1abdedcef0>, <grizli.model.BeamCutout object at 0x1a848af828>, <grizli.model.BeamCutout object at 0x1a848b3cf8>, <grizli.model.BeamCutout object at 0x1a848b7ef0>, <grizli.model.BeamCutout object at 0x1a56212828>, <grizli.model.BeamCutout object at 0x1a561d7cf8>, <grizli.model.BeamCutout object at 0x1a7d44f198>, <grizli.model.BeamCutout object at 0x1a7d45c828>, <grizli.model.BeamCutout object at 0x1a7d45bcf8>, <grizli.model.BeamCutout object at 0x1a71ce4ef0>]\n",
      "[<grizli.model.BeamCutout object at 0x1a6c466320>, <grizli.model.BeamCutout object at 0xb0eb4fcc0>, <grizli.model.BeamCutout object at 0x1abdef43c8>, <grizli.model.BeamCutout object at 0x1a6c451d30>, <grizli.model.BeamCutout object at 0x1a6c452ac8>, <grizli.model.BeamCutout object at 0x1acee79e10>, <grizli.model.BeamCutout object at 0x1acee6f860>, <grizli.model.BeamCutout object at 0x1acee6c748>, <grizli.model.BeamCutout object at 0x1a5d4eff28>, <grizli.model.BeamCutout object at 0x1a5d4fd860>, <grizli.model.BeamCutout object at 0x1a5d4ed128>, <grizli.model.BeamCutout object at 0x1a79312f28>, <grizli.model.BeamCutout object at 0x1a79320860>, <grizli.model.BeamCutout object at 0x1abdee8d30>, <grizli.model.BeamCutout object at 0x1abdedaf28>, <grizli.model.BeamCutout object at 0x1a848b8860>, <grizli.model.BeamCutout object at 0x1a84894898>, <grizli.model.BeamCutout object at 0x1a848bdf28>, <grizli.model.BeamCutout object at 0x1a71cfe860>, <grizli.model.BeamCutout object at 0x1a71cf8d30>, <grizli.model.BeamCutout object at 0x1a56212c88>, <grizli.model.BeamCutout object at 0x1a561d77f0>, <grizli.model.BeamCutout object at 0x1a56211d30>, <grizli.model.BeamCutout object at 0x1a7d44f208>]\n",
      "[]\n",
      "[<grizli.model.BeamCutout object at 0x1a9f549dd8>, <grizli.model.BeamCutout object at 0x1ae3382d68>, <grizli.model.BeamCutout object at 0x1abdec9860>, <grizli.model.BeamCutout object at 0x1a6c466128>, <grizli.model.BeamCutout object at 0x1a6c455f28>, <grizli.model.BeamCutout object at 0x1acee69160>, <grizli.model.BeamCutout object at 0x1acee7a6a0>, <grizli.model.BeamCutout object at 0x1acee59d68>, <grizli.model.BeamCutout object at 0x1a5d4efcf8>, <grizli.model.BeamCutout object at 0x1a5d525630>]\n",
      "[]\n",
      "[]\n",
      "[]\n",
      "[]\n",
      "[]\n",
      "[<grizli.model.BeamCutout object at 0x1a1881e3c8>, <grizli.model.BeamCutout object at 0x1a1881e278>, <grizli.model.BeamCutout object at 0x1abdec9eb8>, <grizli.model.BeamCutout object at 0x1a6c4633c8>, <grizli.model.BeamCutout object at 0x1a6c45a2b0>, <grizli.model.BeamCutout object at 0x1acee69fd0>, <grizli.model.BeamCutout object at 0x1acee676a0>, <grizli.model.BeamCutout object at 0x1acee72908>, <grizli.model.BeamCutout object at 0x1a5d51f390>, <grizli.model.BeamCutout object at 0x1a5d516940>, <grizli.model.BeamCutout object at 0x1a5d4edeb8>, <grizli.model.BeamCutout object at 0x1a5d4f4d68>]\n",
      "[<grizli.model.BeamCutout object at 0x1a5d4f9d68>, <grizli.model.BeamCutout object at 0x1a5d4f9320>, <grizli.model.BeamCutout object at 0x1abdef4dd8>, <grizli.model.BeamCutout object at 0x1a18511518>, <grizli.model.BeamCutout object at 0x1a6c45aeb8>, <grizli.model.BeamCutout object at 0x1acee69128>, <grizli.model.BeamCutout object at 0x1acee797b8>, <grizli.model.BeamCutout object at 0x1acee8a470>, <grizli.model.BeamCutout object at 0x1a5d510d30>, <grizli.model.BeamCutout object at 0x1a5d50c978>, <grizli.model.BeamCutout object at 0x1a79317c50>, <grizli.model.BeamCutout object at 0x1a5d51b748>, <grizli.model.BeamCutout object at 0x1a79317ba8>, <grizli.model.BeamCutout object at 0x1a79313ac8>, <grizli.model.BeamCutout object at 0x1abdedbc50>]\n",
      "[]\n",
      "[<grizli.model.BeamCutout object at 0x1a5d508978>, <grizli.model.BeamCutout object at 0x1a9f55ba90>, <grizli.model.BeamCutout object at 0x1a6c466978>, <grizli.model.BeamCutout object at 0x1a6c45f6d8>, <grizli.model.BeamCutout object at 0x1acee695c0>, <grizli.model.BeamCutout object at 0x1acee79390>, <grizli.model.BeamCutout object at 0x1acee8deb8>, <grizli.model.BeamCutout object at 0x1acee6c978>, <grizli.model.BeamCutout object at 0x1a5d4f2748>]\n",
      "[]\n",
      "[]\n",
      "[]\n",
      "[]\n",
      "[]\n",
      "[]\n",
      "[]\n",
      "[]\n",
      "[]\n",
      "[]\n",
      "[]\n",
      "[]\n",
      "[]\n",
      "[]\n",
      "[]\n",
      "[]\n",
      "[]\n",
      "[]\n",
      "[]\n",
      "[]\n",
      "[]\n",
      "[]\n",
      "[]\n",
      "[]\n",
      "[]\n"
     ]
    }
   ],
   "source": [
    "for ii in gnd_cat.index:\n",
    "    try:\n",
    "        ex = Extract_all(gnd_cat.id[ii], 'GND', grp)\n",
    "        ex.Extract_BeamCutout()\n",
    "    except:\n",
    "        print(gnd_cat.id[ii])\n",
    "        \n",
    "    print(grp.get_beams(gnd_cat.id[ii]))\n"
   ]
  },
  {
   "cell_type": "code",
   "execution_count": 16,
   "metadata": {},
   "outputs": [
    {
     "data": {
      "text/plain": [
       "Int64Index([ 2,  6,  7,  9, 13, 14, 16, 18, 22, 23, 24, 25, 30, 31, 33, 34, 36,\n",
       "            37, 39, 40, 41, 45, 46, 48, 49, 52, 53, 54, 55, 56, 57, 62, 63, 64,\n",
       "            65, 66, 67, 68, 69, 70, 74, 75, 76, 80, 81, 82, 83, 85, 86, 87, 89,\n",
       "            90, 92, 93, 95, 96],\n",
       "           dtype='int64')"
      ]
     },
     "execution_count": 16,
     "metadata": {},
     "output_type": "execute_result"
    }
   ],
   "source": [
    "gnd_cat.index"
   ]
  },
  {
   "cell_type": "code",
   "execution_count": 5,
   "metadata": {},
   "outputs": [
    {
     "name": "stderr",
     "output_type": "stream",
     "text": [
      "WARNING: AstropyDeprecationWarning: \"clobber\" was deprecated in version 2.0 and will be removed in a future version. Use argument \"overwrite\" instead. [grizli.model]\n",
      "WARNING: VerifyWarning: Card is too long, comment will be truncated. [astropy.io.fits.card]\n"
     ]
    }
   ],
   "source": [
    "ex = Extract_all(gnd_cat.id[6], 'GND', grp)\n",
    "ex.Extract_BeamCutout()"
   ]
  },
  {
   "cell_type": "markdown",
   "metadata": {},
   "source": [
    "remove 18333_2\n",
    "remove 21516_2"
   ]
  },
  {
   "cell_type": "code",
   "execution_count": 33,
   "metadata": {},
   "outputs": [
    {
     "data": {
      "text/plain": [
       "(-1e-18, 2e-18)"
      ]
     },
     "execution_count": 33,
     "metadata": {},
     "output_type": "execute_result"
    },
    {
     "data": {
      "image/png": "[encoded data removed]",
      "text/plain": [
       "<Figure size 1080x360 with 1 Axes>"
      ]
     },
     "metadata": {
      "image/png": {
       "height": 313,
       "width": 878
      }
     },
     "output_type": "display_data"
    },
    {
     "data": {
      "image/png": "[encoded data removed]",
      "text/plain": [
       "<Figure size 1080x360 with 1 Axes>"
      ]
     },
     "metadata": {
      "image/png": {
       "height": 313,
       "width": 878
      }
     },
     "output_type": "display_data"
    }
   ],
   "source": [
    "Bwv, Bflx, Berr, Bflt = np.load('../spec_files/GND_35175_g102.npy')\n",
    "Rwv, Rflx, Rerr, Rflt = np.load('../spec_files/GND_35175_g141.npy')\n",
    "\n",
    "IDB = [U for U in range(len(Bwv)) if 8100 < Bwv[U] < 11300]\n",
    "IDR = [U for U in range(len(Rwv)) if 11100 < Rwv[U] < 16100]\n",
    "\n",
    "plt.figure(figsize=[15,5])\n",
    "plt.errorbar(Bwv[IDB],Bflx[IDB],Berr[IDB],\n",
    "            linestyle='None', marker='o', markersize=3, color='#377eb8')\n",
    "plt.errorbar(Rwv[IDR],Rflx[IDR],Rerr[IDR],\n",
    "            linestyle='None', marker='o', markersize=3, color='#e41a1c')\n",
    "plt.ylim(-1E-18,2E-18)\n",
    "Bwv2, Bflx2, Berr2, Bflt2 = np.load('../spec_files/GND_35175_2_g102.npy')\n",
    "Rwv2, Rflx2, Rerr2, Rflt2 = np.load('../spec_files/GND_35175_2_g141.npy')\n",
    "\n",
    "IDB2 = [U for U in range(len(Bwv2)) if 8100 < Bwv2[U] < 11300]\n",
    "IDR2 = [U for U in range(len(Rwv2)) if 11100 < Rwv2[U] < 16100]\n",
    "\n",
    "plt.figure(figsize=[15,5])\n",
    "plt.errorbar(Bwv2[IDB2],Bflx2[IDB2],Berr2[IDB2],\n",
    "            linestyle='None', marker='o', markersize=3, color='#377eb8')\n",
    "plt.errorbar(Rwv2[IDR2],Rflx2[IDR2],Rerr2[IDR2],\n",
    "            linestyle='None', marker='o', markersize=3, color='#e41a1c')\n",
    "plt.ylim(-1E-18,2E-18)"
   ]
  },
  {
   "cell_type": "code",
   "execution_count": 34,
   "metadata": {},
   "outputs": [
    {
     "name": "stderr",
     "output_type": "stream",
     "text": [
      "/Users/Vince.ec/miniconda3/envs/astroconda/lib/python3.5/site-packages/ipykernel_launcher.py:1: RuntimeWarning: invalid value encountered in greater\n",
      "  \"\"\"Entry point for launching an IPython kernel.\n"
     ]
    }
   ],
   "source": [
    "Bstk,Bster = Stack(Bwv[Bflx2**2>0], [Bflx[Bflx2**2>0],Bflx2[Bflx2**2>0]],[Berr[Bflx2**2>0], Berr2[Bflx2**2>0] ])\n",
    "Rstk,Rster = Stack(Rwv[Rflx2**2>0], [Rflx[Rflx2**2>0],Rflx2[Rflx2**2>0]],[Rerr[Rflx2**2>0], Rerr2[Rflx2**2>0] ])"
   ]
  },
  {
   "cell_type": "code",
   "execution_count": 28,
   "metadata": {},
   "outputs": [],
   "source": [
    "def Stack(wv,flgrid,errgrid):\n",
    "\n",
    "    flgrid = np.transpose(flgrid)\n",
    "    errgrid = np.transpose(errgrid)\n",
    "    weigrid = errgrid ** (-2)\n",
    "    infmask = np.isinf(weigrid)\n",
    "    weigrid[infmask] = 0\n",
    "    ################\n",
    "\n",
    "    stack, err = np.zeros([2, len(wv)])\n",
    "    for i in range(len(wv)):\n",
    "        stack[i] = np.sum(flgrid[i] * weigrid[[i]]) / (np.sum(weigrid[i]))\n",
    "        err[i] = 1 / np.sqrt(np.sum(weigrid[i]))\n",
    "    \n",
    "    return stack, err"
   ]
  },
  {
   "cell_type": "code",
   "execution_count": 35,
   "metadata": {},
   "outputs": [
    {
     "name": "stderr",
     "output_type": "stream",
     "text": [
      "/Users/Vince.ec/miniconda3/envs/astroconda/lib/python3.5/site-packages/ipykernel_launcher.py:2: RuntimeWarning: invalid value encountered in greater\n",
      "  \n"
     ]
    },
    {
     "data": {
      "text/plain": [
       "(-1e-18, 2e-18)"
      ]
     },
     "execution_count": 35,
     "metadata": {},
     "output_type": "execute_result"
    },
    {
     "data": {
      "image/png": "[encoded data removed]",
      "text/plain": [
       "<Figure size 1080x360 with 1 Axes>"
      ]
     },
     "metadata": {
      "image/png": {
       "height": 313,
       "width": 878
      }
     },
     "output_type": "display_data"
    }
   ],
   "source": [
    "plt.figure(figsize=[15,5])\n",
    "plt.errorbar(Bwv[Bflx2**2>0],Bstk,Bster,\n",
    "            linestyle='None', marker='o', markersize=3, color='#377eb8')\n",
    "\n",
    "plt.errorbar(Bwv[IDB],Bflx[IDB],Berr[IDB],\n",
    "            linestyle='None', marker='o', markersize=3, color='#e41a1c')\n",
    "plt.ylim(-1E-18,2E-18)"
   ]
  },
  {
   "cell_type": "code",
   "execution_count": 36,
   "metadata": {},
   "outputs": [
    {
     "data": {
      "text/plain": [
       "(-1e-18, 1.5e-18)"
      ]
     },
     "execution_count": 36,
     "metadata": {},
     "output_type": "execute_result"
    },
    {
     "data": {
      "image/png": "[encoded data removed]",
      "text/plain": [
       "<Figure size 1080x360 with 1 Axes>"
      ]
     },
     "metadata": {
      "image/png": {
       "height": 313,
       "width": 878
      }
     },
     "output_type": "display_data"
    }
   ],
   "source": [
    "plt.figure(figsize=[15,5])\n",
    "plt.errorbar(Rwv[Rflx2**2>0],Rstk,Rster,\n",
    "            linestyle='None', marker='o', markersize=3, color='#377eb8')\n",
    "\n",
    "plt.errorbar(Rwv[IDR],Rflx[IDR],Rerr[IDR],\n",
    "            linestyle='None', marker='o', markersize=3, color='#e41a1c')\n",
    "plt.ylim(-1E-18,1.5E-18)"
   ]
  },
  {
   "cell_type": "code",
   "execution_count": 37,
   "metadata": {},
   "outputs": [
    {
     "name": "stderr",
     "output_type": "stream",
     "text": [
      "/Users/Vince.ec/miniconda3/envs/astroconda/lib/python3.5/site-packages/ipykernel_launcher.py:1: RuntimeWarning: invalid value encountered in greater\n",
      "  \"\"\"Entry point for launching an IPython kernel.\n"
     ]
    }
   ],
   "source": [
    "np.save('../spec_files/GND_35175_g102', [Bwv[Bflx2**2>0],Bstk,Bster, Bflt[Bflx2**2>0]])\n",
    "np.save('../spec_files/GND_35175_g141', [Rwv[Rflx2**2>0],Rstk,Rster, Rflt[Rflx2**2>0]])"
   ]
  },
  {
   "cell_type": "markdown",
   "metadata": {},
   "source": [
    "# extract spec update"
   ]
  },
  {
   "cell_type": "code",
   "execution_count": 3,
   "metadata": {},
   "outputs": [
    {
     "data": {
      "text/plain": [
       "['/Volumes/Vince_CLEAR/RELEASE_v2.1.0/GN3/GN3_35075.1D.fits']"
      ]
     },
     "execution_count": 3,
     "metadata": {},
     "output_type": "execute_result"
    }
   ],
   "source": [
    "glob('/Volumes/Vince_CLEAR/RELEASE_v2.1.0/*N*/*35075*.1D.fits')"
   ]
  },
  {
   "cell_type": "code",
   "execution_count": 8,
   "metadata": {},
   "outputs": [],
   "source": [
    "def Extract_spec(field, galaxy):\n",
    "    if field[1] == 'N':\n",
    "        pre = 'N'\n",
    "    else:\n",
    "        pre = 'S'\n",
    "    spec_list = glob('/Volumes/Vince_CLEAR/RELEASE_v2.1.0/*{0}*/*{1}*.1D.fits'.format(pre, galaxy))\n",
    "    print(spec_list)\n",
    "    Bwv, Bfl, Ber, Bft, Bln, Bct = [[],[],[],[],[],[]]\n",
    "\n",
    "    Rwv, Rfl, Rer, Rft, Rln, Rct = [[],[],[],[],[],[]]\n",
    "\n",
    "    for i in range(len(spec_list)):\n",
    "        dat = fits.open(spec_list[i])\n",
    "\n",
    "        try:\n",
    "            Bwv.append(np.array(dat['G102'].data['wave']).T)\n",
    "            Bfl.append(np.array(dat['G102'].data['flux']).T)\n",
    "            Ber.append(np.array(dat['G102'].data['err']).T)\n",
    "            Bft.append(np.array(dat['G102'].data['flat']).T)\n",
    "            Bln.append(np.array(dat['G102'].data['line']).T)\n",
    "            Bct.append(np.array(dat['G102'].data['cont']).T)\n",
    "\n",
    "        except:\n",
    "            print('no g102')\n",
    "\n",
    "        try:\n",
    "            Rwv.append(np.array(dat['G141'].data['wave']).T)\n",
    "            Rfl.append(np.array(dat['G141'].data['flux']).T)\n",
    "            Rer.append(np.array(dat['G141'].data['err']).T)\n",
    "            Rft.append(np.array(dat['G141'].data['flat']).T)\n",
    "            Rln.append(np.array(dat['G141'].data['line']).T)\n",
    "            Rct.append(np.array(dat['G141'].data['cont']).T)\n",
    "\n",
    "        except:\n",
    "            print('no g141')\n",
    "\n",
    "    if len(Bwv) > 0:                \n",
    "        SBW, SBF, SBE, SBT, SBL, SBC = Stack(Bwv, Bfl, Ber, Bft, Bln, Bct)\n",
    "        np.save('../spec_files/{0}_{1}_g102'.format(field, galaxy),[SBW, SBF, SBE, SBT, SBL, SBC])\n",
    "\n",
    "\n",
    "    if len(Rwv) > 0:     \n",
    "        SRW, SRF, SRE, SRT, SRL, SRC = Stack(Rwv, Rfl, Rer, Rft, Rln, Rct)\n",
    "        np.save('../spec_files/{0}_{1}_g141'.format(field, galaxy),[SRW, SRF, SRE, SRT, SRL, SRC])\n",
    "\n"
   ]
  },
  {
   "cell_type": "code",
   "execution_count": 10,
   "metadata": {},
   "outputs": [],
   "source": [
    "Cids = pd.read_pickle('../dataframes/galaxy_frames/GN_new.pkl')"
   ]
  },
  {
   "cell_type": "code",
   "execution_count": 11,
   "metadata": {},
   "outputs": [
    {
     "name": "stdout",
     "output_type": "stream",
     "text": [
      "['/Volumes/Vince_CLEAR/RELEASE_v2.1.0/GN7/GN7_11245.1D.fits']\n",
      "no g141\n",
      "['/Volumes/Vince_CLEAR/RELEASE_v2.1.0/GN2/GN2_11814.1D.fits']\n",
      "['/Volumes/Vince_CLEAR/RELEASE_v2.1.0/GN2/GN2_12481.1D.fits']\n"
     ]
    },
    {
     "name": "stderr",
     "output_type": "stream",
     "text": [
      "/Users/Vince.ec/GitHub/Cluster_and_field/scripts/spec_extract.py:41: RuntimeWarning: divide by zero encountered in power\n",
      "  weigrid = errgrid ** (-2)\n",
      "/Users/Vince.ec/GitHub/Cluster_and_field/scripts/spec_extract.py:48: RuntimeWarning: invalid value encountered in double_scalars\n",
      "  stack[i] = np.sum(flgrid[i] * weigrid[[i]]) / (np.sum(weigrid[i]))\n",
      "/Users/Vince.ec/GitHub/Cluster_and_field/scripts/spec_extract.py:49: RuntimeWarning: invalid value encountered in double_scalars\n",
      "  stack_flat[i] = np.sum(fltgrid[i] * weigrid[[i]]) / (np.sum(weigrid[i]))\n",
      "/Users/Vince.ec/GitHub/Cluster_and_field/scripts/spec_extract.py:50: RuntimeWarning: invalid value encountered in double_scalars\n",
      "  stack_line[i] = np.sum(linegrid[i] * weigrid[[i]]) / (np.sum(weigrid[i]))\n",
      "/Users/Vince.ec/GitHub/Cluster_and_field/scripts/spec_extract.py:51: RuntimeWarning: invalid value encountered in double_scalars\n",
      "  stack_cont[i] = np.sum(contgrid[i] * weigrid[[i]]) / (np.sum(weigrid[i]))\n",
      "/Users/Vince.ec/GitHub/Cluster_and_field/scripts/spec_extract.py:53: RuntimeWarning: divide by zero encountered in double_scalars\n",
      "  err[i] = 1 / np.sqrt(np.sum(weigrid[i]))\n"
     ]
    },
    {
     "name": "stdout",
     "output_type": "stream",
     "text": [
      "no g141\n",
      "['/Volumes/Vince_CLEAR/RELEASE_v2.1.0/GN2/GN2_12543.1D.fits']\n",
      "no g141\n",
      "['/Volumes/Vince_CLEAR/RELEASE_v2.1.0/GN2/GN2_12617.1D.fits']\n",
      "['/Volumes/Vince_CLEAR/RELEASE_v2.1.0/GN2/GN2_12739.1D.fits']\n",
      "['/Volumes/Vince_CLEAR/RELEASE_v2.1.0/GN2/GN2_13718.1D.fits']\n",
      "['/Volumes/Vince_CLEAR/RELEASE_v2.1.0/GN2/GN2_13855.1D.fits']\n",
      "['/Volumes/Vince_CLEAR/RELEASE_v2.1.0/GN2/GN2_13977.1D.fits']\n",
      "['/Volumes/Vince_CLEAR/RELEASE_v2.1.0/GN2/GN2_14132.1D.fits']\n",
      "['/Volumes/Vince_CLEAR/RELEASE_v2.1.0/GN2/GN2_14140.1D.fits']\n",
      "no g141\n",
      "['/Volumes/Vince_CLEAR/RELEASE_v2.1.0/GN2/GN2_14970.1D.fits']\n",
      "['/Volumes/Vince_CLEAR/RELEASE_v2.1.0/GN2/GN2_15616.1D.fits']\n",
      "['/Volumes/Vince_CLEAR/RELEASE_v2.1.0/GN2/GN2_15981.1D.fits']\n",
      "['/Volumes/Vince_CLEAR/RELEASE_v2.1.0/GN2/GN2_16180.1D.fits']\n",
      "['/Volumes/Vince_CLEAR/RELEASE_v2.1.0/GN2/GN2_16231.1D.fits']\n",
      "['/Volumes/Vince_CLEAR/RELEASE_v2.1.0/GN7/GN7_17735.1D.fits']\n",
      "no g141\n",
      "['/Volumes/Vince_CLEAR/RELEASE_v2.1.0/GN7/GN7_17746.1D.fits']\n",
      "no g141\n",
      "['/Volumes/Vince_CLEAR/RELEASE_v2.1.0/GN4/GN4_18633.1D.fits']\n",
      "['/Volumes/Vince_CLEAR/RELEASE_v2.1.0/GN4/GN4_19290.1D.fits']\n",
      "['/Volumes/Vince_CLEAR/RELEASE_v2.1.0/GN7/GN7_19442.1D.fits']\n",
      "['/Volumes/Vince_CLEAR/RELEASE_v2.1.0/GN7/GN7_20567.1D.fits']\n",
      "['/Volumes/Vince_CLEAR/RELEASE_v2.1.0/GN2/GN2_21047.1D.fits']\n",
      "['/Volumes/Vince_CLEAR/RELEASE_v2.1.0/GN4/GN4_21427.1D.fits']\n",
      "['/Volumes/Vince_CLEAR/RELEASE_v2.1.0/GN7/GN7_21618.1D.fits']\n",
      "no g102\n",
      "['/Volumes/Vince_CLEAR/RELEASE_v2.1.0/GN7/GN7_21724.1D.fits']\n",
      "['/Volumes/Vince_CLEAR/RELEASE_v2.1.0/GN2/GN2_21738.1D.fits']\n",
      "['/Volumes/Vince_CLEAR/RELEASE_v2.1.0/GN7/GN7_21896.1D.fits']\n",
      "no g102\n",
      "['/Volumes/Vince_CLEAR/RELEASE_v2.1.0/GN7/GN7_22027.1D.fits']\n",
      "['/Volumes/Vince_CLEAR/RELEASE_v2.1.0/GN7/GN7_22184.1D.fits']\n",
      "no g102\n",
      "['/Volumes/Vince_CLEAR/RELEASE_v2.1.0/GN4/GN4_22210.1D.fits']\n",
      "['/Volumes/Vince_CLEAR/RELEASE_v2.1.0/GN7/GN7_22358.1D.fits']\n",
      "['/Volumes/Vince_CLEAR/RELEASE_v2.1.0/GN4/GN4_22463.1D.fits']\n",
      "['/Volumes/Vince_CLEAR/RELEASE_v2.1.0/GN4/GN4_22571.1D.fits']\n",
      "['/Volumes/Vince_CLEAR/RELEASE_v2.1.0/GN4/GN4_22600.1D.fits']\n",
      "['/Volumes/Vince_CLEAR/RELEASE_v2.1.0/GN2/GN2_22633.1D.fits']\n",
      "['/Volumes/Vince_CLEAR/RELEASE_v2.1.0/GN7/GN7_22774.1D.fits']\n",
      "no g102\n",
      "['/Volumes/Vince_CLEAR/RELEASE_v2.1.0/GN2/GN2_23018.1D.fits', '/Volumes/Vince_CLEAR/RELEASE_v2.1.0/GN4/GN4_23018.1D.fits']\n",
      "no g141\n",
      "['/Volumes/Vince_CLEAR/RELEASE_v2.1.0/GN4/GN4_23254.1D.fits']\n",
      "['/Volumes/Vince_CLEAR/RELEASE_v2.1.0/GN4/GN4_23435.1D.fits']\n",
      "['/Volumes/Vince_CLEAR/RELEASE_v2.1.0/GN4/GN4_24856.1D.fits']\n",
      "['/Volumes/Vince_CLEAR/RELEASE_v2.1.0/GN4/GN4_24863.1D.fits']\n",
      "['/Volumes/Vince_CLEAR/RELEASE_v2.1.0/GN4/GN4_24953.1D.fits']\n",
      "['/Volumes/Vince_CLEAR/RELEASE_v2.1.0/GN5/GN5_26544.1D.fits']\n",
      "no g102\n",
      "['/Volumes/Vince_CLEAR/RELEASE_v2.1.0/GN3/GN3_27006.1D.fits', '/Volumes/Vince_CLEAR/RELEASE_v2.1.0/GN4/GN4_27006.1D.fits']\n",
      "['/Volumes/Vince_CLEAR/RELEASE_v2.1.0/GN5/GN5_28890.1D.fits']\n",
      "no g102\n",
      "['/Volumes/Vince_CLEAR/RELEASE_v2.1.0/GN3/GN3_29879.1D.fits', '/Volumes/Vince_CLEAR/RELEASE_v2.1.0/GN4/GN4_29879.1D.fits']\n",
      "['/Volumes/Vince_CLEAR/RELEASE_v2.1.0/GN5/GN5_32146.1D.fits']\n",
      "['/Volumes/Vince_CLEAR/RELEASE_v2.1.0/GN5/GN5_32566.1D.fits']\n",
      "['/Volumes/Vince_CLEAR/RELEASE_v2.1.0/GN3/GN3_32691.1D.fits']\n",
      "['/Volumes/Vince_CLEAR/RELEASE_v2.1.0/GN5/GN5_32933.1D.fits']\n",
      "['/Volumes/Vince_CLEAR/RELEASE_v2.1.0/GN3/GN3_33093.1D.fits']\n",
      "['/Volumes/Vince_CLEAR/RELEASE_v2.1.0/GN3/GN3_33780.1D.fits', '/Volumes/Vince_CLEAR/RELEASE_v2.1.0/GN5/GN5_33780.1D.fits']\n",
      "['/Volumes/Vince_CLEAR/RELEASE_v2.1.0/GN3/GN3_35469.1D.fits', '/Volumes/Vince_CLEAR/RELEASE_v2.1.0/GN5/GN5_35469.1D.fits']\n",
      "no g141\n",
      "['/Volumes/Vince_CLEAR/RELEASE_v2.1.0/GN3/GN3_35587.1D.fits', '/Volumes/Vince_CLEAR/RELEASE_v2.1.0/GN5/GN5_35587.1D.fits']\n",
      "no g141\n",
      "['/Volumes/Vince_CLEAR/RELEASE_v2.1.0/GN3/GN3_35728.1D.fits']\n",
      "['/Volumes/Vince_CLEAR/RELEASE_v2.1.0/GN3/GN3_35835.1D.fits', '/Volumes/Vince_CLEAR/RELEASE_v2.1.0/GN5/GN5_35835.1D.fits']\n",
      "no g141\n",
      "['/Volumes/Vince_CLEAR/RELEASE_v2.1.0/GN1/GN1_36303.1D.fits', '/Volumes/Vince_CLEAR/RELEASE_v2.1.0/GN3/GN3_36303.1D.fits']\n",
      "['/Volumes/Vince_CLEAR/RELEASE_v2.1.0/GN3/GN3_36943.1D.fits']\n",
      "['/Volumes/Vince_CLEAR/RELEASE_v2.1.0/GN1/GN1_37065.1D.fits', '/Volumes/Vince_CLEAR/RELEASE_v2.1.0/GN3/GN3_37065.1D.fits']\n",
      "no g141\n",
      "['/Volumes/Vince_CLEAR/RELEASE_v2.1.0/GN1/GN1_37206.1D.fits']\n",
      "['/Volumes/Vince_CLEAR/RELEASE_v2.1.0/GN3/GN3_37281.1D.fits']\n",
      "['/Volumes/Vince_CLEAR/RELEASE_v2.1.0/GN3/GN3_37326.1D.fits']\n",
      "['/Volumes/Vince_CLEAR/RELEASE_v2.1.0/GN1/GN1_37343.1D.fits', '/Volumes/Vince_CLEAR/RELEASE_v2.1.0/GN3/GN3_37343.1D.fits']\n",
      "no g141\n",
      "['/Volumes/Vince_CLEAR/RELEASE_v2.1.0/GN1/GN1_37765.1D.fits']\n"
     ]
    }
   ],
   "source": [
    "for i in Cids.id.values:\n",
    "#     print(i)\n",
    "    Extract_spec('GND', i)"
   ]
  },
  {
   "cell_type": "code",
   "execution_count": 5,
   "metadata": {},
   "outputs": [
    {
     "data": {
      "text/plain": [
       "array([35075, 35204, 28379, 32719, 32719, 30204, 20801, 11839, 17927,\n",
       "       17324, 13777, 14281, 19235, 13197, 19659, 14850, 17293, 18197,\n",
       "       21231, 10639, 12674, 21290, 17579, 19591, 21707, 24427, 22547,\n",
       "       24221, 37395, 37893, 30053, 31400], dtype=int32)"
      ]
     },
     "execution_count": 5,
     "metadata": {},
     "output_type": "execute_result"
    }
   ],
   "source": [
    "Cids"
   ]
  },
  {
   "cell_type": "code",
   "execution_count": 2,
   "metadata": {},
   "outputs": [
    {
     "name": "stdout",
     "output_type": "stream",
     "text": [
      "Load /Volumes/Vince_CLEAR/Data/Grism_fields/GS3/ibhj11hiq.01.GrismFLT.fits!\n",
      "Load /Volumes/Vince_CLEAR/Data/Grism_fields/GS3/ibhj11hwq.01.GrismFLT.fits!\n",
      "Load /Volumes/Vince_CLEAR/Data/Grism_fields/GS3/ibhj11hpq.01.GrismFLT.fits!\n",
      "Load /Volumes/Vince_CLEAR/Data/Grism_fields/GS3/ibhj11i3q.01.GrismFLT.fits!\n"
     ]
    },
    {
     "name": "stderr",
     "output_type": "stream",
     "text": [
      "WARNING: FITSFixedWarning: The WCS transformation has more axes (2) than the image it is associated with (0) [astropy.wcs.wcs]\n",
      "WARNING: FITSFixedWarning: The WCS transformation has more axes (2) than the image it is associated with (0) [astropy.wcs.wcs]\n",
      "WARNING: FITSFixedWarning: The WCS transformation has more axes (2) than the image it is associated with (0) [astropy.wcs.wcs]\n",
      "WARNING: FITSFixedWarning: The WCS transformation has more axes (2) than the image it is associated with (0) [astropy.wcs.wcs]\n"
     ]
    },
    {
     "name": "stdout",
     "output_type": "stream",
     "text": [
      "Load /Volumes/Vince_CLEAR/Data/Grism_fields/GS3/ibhj29ncq.01.GrismFLT.fits!\n"
     ]
    },
    {
     "name": "stderr",
     "output_type": "stream",
     "text": [
      "WARNING: FITSFixedWarning: The WCS transformation has more axes (2) than the image it is associated with (0) [astropy.wcs.wcs]\n",
      "WARNING: FITSFixedWarning: The WCS transformation has more axes (2) than the image it is associated with (0) [astropy.wcs.wcs]\n"
     ]
    },
    {
     "name": "stdout",
     "output_type": "stream",
     "text": [
      "Load /Volumes/Vince_CLEAR/Data/Grism_fields/GS3/ibhj29nkq.01.GrismFLT.fits!\n"
     ]
    },
    {
     "name": "stderr",
     "output_type": "stream",
     "text": [
      "WARNING: FITSFixedWarning: The WCS transformation has more axes (2) than the image it is associated with (0) [astropy.wcs.wcs]\n"
     ]
    },
    {
     "name": "stdout",
     "output_type": "stream",
     "text": [
      "Load /Volumes/Vince_CLEAR/Data/Grism_fields/GS3/ibhj29nsq.01.GrismFLT.fits!\n"
     ]
    },
    {
     "name": "stderr",
     "output_type": "stream",
     "text": [
      "WARNING: FITSFixedWarning: The WCS transformation has more axes (2) than the image it is associated with (0) [astropy.wcs.wcs]\n"
     ]
    },
    {
     "name": "stdout",
     "output_type": "stream",
     "text": [
      "Load /Volumes/Vince_CLEAR/Data/Grism_fields/GS3/ibhj29nzq.01.GrismFLT.fits!\n"
     ]
    },
    {
     "name": "stderr",
     "output_type": "stream",
     "text": [
      "WARNING: FITSFixedWarning: The WCS transformation has more axes (2) than the image it is associated with (0) [astropy.wcs.wcs]\n"
     ]
    },
    {
     "name": "stdout",
     "output_type": "stream",
     "text": [
      "Load /Volumes/Vince_CLEAR/Data/Grism_fields/GS3/ibhj33tiq.01.GrismFLT.fits!\n",
      "Load /Volumes/Vince_CLEAR/Data/Grism_fields/GS3/ibhj33tpq.01.GrismFLT.fits!\n",
      "Load /Volumes/Vince_CLEAR/Data/Grism_fields/GS3/ibhj33twq.01.GrismFLT.fits!\n",
      "Load /Volumes/Vince_CLEAR/Data/Grism_fields/GS3/ibhj33u3q.01.GrismFLT.fits!\n",
      "Load /Volumes/Vince_CLEAR/Data/Grism_fields/GS3/icxt30s0q.01.GrismFLT.fits!\n",
      "Load /Volumes/Vince_CLEAR/Data/Grism_fields/GS3/icxt30s2q.01.GrismFLT.fits!\n",
      "Load /Volumes/Vince_CLEAR/Data/Grism_fields/GS3/icxt30s5q.01.GrismFLT.fits!\n",
      "Load /Volumes/Vince_CLEAR/Data/Grism_fields/GS3/icxt30s7q.01.GrismFLT.fits!\n",
      "Load /Volumes/Vince_CLEAR/Data/Grism_fields/GS3/icxt31r1q.01.GrismFLT.fits!\n",
      "Load /Volumes/Vince_CLEAR/Data/Grism_fields/GS3/icxt31r3q.01.GrismFLT.fits!\n",
      "Load /Volumes/Vince_CLEAR/Data/Grism_fields/GS3/icxt31r6q.01.GrismFLT.fits!\n",
      "Load /Volumes/Vince_CLEAR/Data/Grism_fields/GS3/icxt31r8q.01.GrismFLT.fits!\n",
      "Load /Volumes/Vince_CLEAR/Data/Grism_fields/GS3/icxt32nlq.01.GrismFLT.fits!\n",
      "Load /Volumes/Vince_CLEAR/Data/Grism_fields/GS3/icxt32nmq.01.GrismFLT.fits!\n",
      "Load /Volumes/Vince_CLEAR/Data/Grism_fields/GS3/icxt32npq.01.GrismFLT.fits!\n",
      "Load /Volumes/Vince_CLEAR/Data/Grism_fields/GS3/icxt32nrq.01.GrismFLT.fits!\n",
      "Load /Volumes/Vince_CLEAR/Data/Grism_fields/GS3/icxt33roq.01.GrismFLT.fits!\n",
      "Load /Volumes/Vince_CLEAR/Data/Grism_fields/GS3/icxt33rpq.01.GrismFLT.fits!\n",
      "Load /Volumes/Vince_CLEAR/Data/Grism_fields/GS3/icxt33rsq.01.GrismFLT.fits!\n",
      "Load /Volumes/Vince_CLEAR/Data/Grism_fields/GS3/icxt33ruq.01.GrismFLT.fits!\n",
      "Load /Volumes/Vince_CLEAR/Data/Grism_fields/GS3/icxt34ekq.01.GrismFLT.fits!\n",
      "Load /Volumes/Vince_CLEAR/Data/Grism_fields/GS3/icxt34emq.01.GrismFLT.fits!\n",
      "Load /Volumes/Vince_CLEAR/Data/Grism_fields/GS3/icxt34epq.01.GrismFLT.fits!\n",
      "Load /Volumes/Vince_CLEAR/Data/Grism_fields/GS3/icxt34erq.01.GrismFLT.fits!\n",
      "Load /Volumes/Vince_CLEAR/Data/Grism_fields/GS3/icxt35s4q.01.GrismFLT.fits!\n",
      "Load /Volumes/Vince_CLEAR/Data/Grism_fields/GS3/icxt35s6q.01.GrismFLT.fits!\n",
      "Load /Volumes/Vince_CLEAR/Data/Grism_fields/GS3/icxt35s9q.01.GrismFLT.fits!\n",
      "Load /Volumes/Vince_CLEAR/Data/Grism_fields/GS3/icxt35sbq.01.GrismFLT.fits!\n",
      "Files loaded - 124.67 sec.\n",
      "45068\n",
      "Load /Volumes/Vince_CLEAR/Data/Grism_fields/GS2/ibhj03y9q.01.GrismFLT.fits!\n",
      "Load /Volumes/Vince_CLEAR/Data/Grism_fields/GS2/ibhj03xvq.01.GrismFLT.fits!\n",
      "Load /Volumes/Vince_CLEAR/Data/Grism_fields/GS2/ibhj03y2q.01.GrismFLT.fits!\n",
      "Load /Volumes/Vince_CLEAR/Data/Grism_fields/GS2/ibhj03xoq.01.GrismFLT.fits!\n"
     ]
    },
    {
     "name": "stderr",
     "output_type": "stream",
     "text": [
      "WARNING: FITSFixedWarning: The WCS transformation has more axes (2) than the image it is associated with (0) [astropy.wcs.wcs]\n",
      "WARNING: FITSFixedWarning: The WCS transformation has more axes (2) than the image it is associated with (0) [astropy.wcs.wcs]\n",
      "WARNING: FITSFixedWarning: The WCS transformation has more axes (2) than the image it is associated with (0) [astropy.wcs.wcs]\n",
      "WARNING: FITSFixedWarning: The WCS transformation has more axes (2) than the image it is associated with (0) [astropy.wcs.wcs]\n"
     ]
    },
    {
     "name": "stdout",
     "output_type": "stream",
     "text": [
      "Load /Volumes/Vince_CLEAR/Data/Grism_fields/GS2/ibhj11hiq.01.GrismFLT.fits!\n"
     ]
    },
    {
     "name": "stderr",
     "output_type": "stream",
     "text": [
      "WARNING: FITSFixedWarning: The WCS transformation has more axes (2) than the image it is associated with (0) [astropy.wcs.wcs]\n"
     ]
    },
    {
     "name": "stdout",
     "output_type": "stream",
     "text": [
      "Load /Volumes/Vince_CLEAR/Data/Grism_fields/GS2/ibhj11hpq.01.GrismFLT.fits!\n",
      "Load /Volumes/Vince_CLEAR/Data/Grism_fields/GS2/ibhj11hwq.01.GrismFLT.fits!\n",
      "Load /Volumes/Vince_CLEAR/Data/Grism_fields/GS2/ibhj11i3q.01.GrismFLT.fits!\n",
      "Load /Volumes/Vince_CLEAR/Data/Grism_fields/GS2/ibhj35vuq.01.GrismFLT.fits!\n",
      "Load /Volumes/Vince_CLEAR/Data/Grism_fields/GS2/ibhj35w1q.01.GrismFLT.fits!\n",
      "Load /Volumes/Vince_CLEAR/Data/Grism_fields/GS2/ibhj35w8q.01.GrismFLT.fits!\n",
      "Load /Volumes/Vince_CLEAR/Data/Grism_fields/GS2/ibhj35wfq.01.GrismFLT.fits!\n",
      "Load /Volumes/Vince_CLEAR/Data/Grism_fields/GS2/icxt01cgq.01.GrismFLT.fits!\n",
      "Load /Volumes/Vince_CLEAR/Data/Grism_fields/GS2/icxt01ciq.01.GrismFLT.fits!\n",
      "Load /Volumes/Vince_CLEAR/Data/Grism_fields/GS2/icxt01clq.01.GrismFLT.fits!\n",
      "Load /Volumes/Vince_CLEAR/Data/Grism_fields/GS2/icxt01cnq.01.GrismFLT.fits!\n",
      "Load /Volumes/Vince_CLEAR/Data/Grism_fields/GS2/icxt02c7q.01.GrismFLT.fits!\n",
      "Load /Volumes/Vince_CLEAR/Data/Grism_fields/GS2/icxt02caq.01.GrismFLT.fits!\n",
      "Load /Volumes/Vince_CLEAR/Data/Grism_fields/GS2/icxt02cdq.01.GrismFLT.fits!\n",
      "Load /Volumes/Vince_CLEAR/Data/Grism_fields/GS2/icxt02cfq.01.GrismFLT.fits!\n",
      "Load /Volumes/Vince_CLEAR/Data/Grism_fields/GS2/icxt03jjq.01.GrismFLT.fits!\n",
      "Load /Volumes/Vince_CLEAR/Data/Grism_fields/GS2/icxt03jkq.01.GrismFLT.fits!\n",
      "Load /Volumes/Vince_CLEAR/Data/Grism_fields/GS2/icxt03jnq.01.GrismFLT.fits!\n",
      "Load /Volumes/Vince_CLEAR/Data/Grism_fields/GS2/icxt03jpq.01.GrismFLT.fits!\n",
      "Load /Volumes/Vince_CLEAR/Data/Grism_fields/GS2/icxt04e3q.01.GrismFLT.fits!\n",
      "Load /Volumes/Vince_CLEAR/Data/Grism_fields/GS2/icxt04e4q.01.GrismFLT.fits!\n",
      "Load /Volumes/Vince_CLEAR/Data/Grism_fields/GS2/icxt04edq.01.GrismFLT.fits!\n",
      "Load /Volumes/Vince_CLEAR/Data/Grism_fields/GS2/icxt04efq.01.GrismFLT.fits!\n",
      "Load /Volumes/Vince_CLEAR/Data/Grism_fields/GS2/icxt05h7q.01.GrismFLT.fits!\n",
      "Load /Volumes/Vince_CLEAR/Data/Grism_fields/GS2/icxt05h9q.01.GrismFLT.fits!\n",
      "Load /Volumes/Vince_CLEAR/Data/Grism_fields/GS2/icxt05hcq.01.GrismFLT.fits!\n",
      "Load /Volumes/Vince_CLEAR/Data/Grism_fields/GS2/icxt05heq.01.GrismFLT.fits!\n",
      "Load /Volumes/Vince_CLEAR/Data/Grism_fields/GS2/icxt06laq.01.GrismFLT.fits!\n",
      "Load /Volumes/Vince_CLEAR/Data/Grism_fields/GS2/icxt06lcq.01.GrismFLT.fits!\n",
      "Load /Volumes/Vince_CLEAR/Data/Grism_fields/GS2/icxt06lfq.01.GrismFLT.fits!\n",
      "Load /Volumes/Vince_CLEAR/Data/Grism_fields/GS2/icxt06lhq.01.GrismFLT.fits!\n",
      "Files loaded - 123.06 sec.\n",
      "45068\n"
     ]
    }
   ],
   "source": [
    "field = 'GSD'\n",
    "Cids = [45068]\n",
    "\n",
    "gsd_fields = ['GS3', 'GS2']\n",
    "\n",
    "for i in range(len(gsd_fields)):\n",
    "    grp = multifit.GroupFLT(grism_files = glob('/Volumes/Vince_CLEAR/Data/Grism_fields/{0}/*GrismFLT.fits'.format(gsd_fields[i])))\n",
    "    for ii in Cids:\n",
    "        try:\n",
    "            ex = Extract_all(ii, 'GSD', grp)\n",
    "            ex.Extract_BeamCutout()\n",
    "        except:\n",
    "            print(ii)"
   ]
  },
  {
   "cell_type": "code",
   "execution_count": 3,
   "metadata": {},
   "outputs": [],
   "source": [
    "ex = Extract_all(ii, 'GSD', grp)"
   ]
  },
  {
   "cell_type": "code",
   "execution_count": 5,
   "metadata": {},
   "outputs": [
    {
     "ename": "TypeError",
     "evalue": "write_fits() got an unexpected keyword argument 'clobber'",
     "output_type": "error",
     "traceback": [
      "\u001b[0;31m---------------------------------------------------------------------------\u001b[0m",
      "\u001b[0;31mTypeError\u001b[0m                                 Traceback (most recent call last)",
      "\u001b[0;32m<ipython-input-5-867bba7e1baa>\u001b[0m in \u001b[0;36m<module>\u001b[0;34m()\u001b[0m\n\u001b[0;32m----> 1\u001b[0;31m \u001b[0mex\u001b[0m\u001b[0;34m.\u001b[0m\u001b[0mExtract_BeamCutout\u001b[0m\u001b[0;34m(\u001b[0m\u001b[0;34m)\u001b[0m\u001b[0;34m\u001b[0m\u001b[0m\n\u001b[0m",
      "\u001b[0;32m~/Github/Cluster_and_field/scripts/spec_extract.py\u001b[0m in \u001b[0;36mExtract_BeamCutout\u001b[0;34m(self)\u001b[0m\n\u001b[1;32m     77\u001b[0m                 \u001b[0;32mif\u001b[0m \u001b[0mpa\u001b[0m \u001b[0;34m!=\u001b[0m \u001b[0mi\u001b[0m\u001b[0;34m.\u001b[0m\u001b[0mget_dispersion_PA\u001b[0m\u001b[0;34m(\u001b[0m\u001b[0;34m)\u001b[0m\u001b[0;34m:\u001b[0m\u001b[0;34m\u001b[0m\u001b[0m\n\u001b[1;32m     78\u001b[0m                     \u001b[0mpa\u001b[0m \u001b[0;34m=\u001b[0m \u001b[0mi\u001b[0m\u001b[0;34m.\u001b[0m\u001b[0mget_dispersion_PA\u001b[0m\u001b[0;34m(\u001b[0m\u001b[0;34m)\u001b[0m\u001b[0;34m\u001b[0m\u001b[0m\n\u001b[0;32m---> 79\u001b[0;31m                     \u001b[0mi\u001b[0m\u001b[0;34m.\u001b[0m\u001b[0mwrite_fits\u001b[0m\u001b[0;34m(\u001b[0m\u001b[0mroot\u001b[0m\u001b[0;34m=\u001b[0m\u001b[0;34m'../beams/o{0}'\u001b[0m\u001b[0;34m.\u001b[0m\u001b[0mformat\u001b[0m\u001b[0;34m(\u001b[0m\u001b[0mpa\u001b[0m\u001b[0;34m)\u001b[0m\u001b[0;34m,\u001b[0m \u001b[0mclobber\u001b[0m\u001b[0;34m=\u001b[0m\u001b[0;32mTrue\u001b[0m\u001b[0;34m)\u001b[0m\u001b[0;34m\u001b[0m\u001b[0m\n\u001b[0m\u001b[1;32m     80\u001b[0m                     fits.setval('../beams/o{0}_{1}.{2}.A.fits'.format(pa, self.galaxy_id, i.grism.filter), 'EXPTIME', ext=0,\n\u001b[1;32m     81\u001b[0m                             value=fits.open('../beams/o{0}_{1}.{2}.A.fits'.format(pa, self.galaxy_id, i.grism.filter))[1].header['EXPTIME'])   \n",
      "\u001b[0;31mTypeError\u001b[0m: write_fits() got an unexpected keyword argument 'clobber'"
     ]
    }
   ],
   "source": [
    "ex.Extract_BeamCutout()"
   ]
  },
  {
   "cell_type": "code",
   "execution_count": null,
   "metadata": {},
   "outputs": [],
   "source": []
  }
 ],
 "metadata": {
  "kernelspec": {
   "display_name": "Python 3",
   "language": "python",
   "name": "python3"
  },
  "language_info": {
   "codemirror_mode": {
    "name": "ipython",
    "version": 3
   },
   "file_extension": ".py",
   "mimetype": "text/x-python",
   "name": "python",
   "nbconvert_exporter": "python",
   "pygments_lexer": "ipython3",
   "version": "3.5.5"
  }
 },
 "nbformat": 4,
 "nbformat_minor": 2
}
