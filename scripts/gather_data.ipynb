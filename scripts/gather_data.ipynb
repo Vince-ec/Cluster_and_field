{
 "cells": [
  {
   "cell_type": "code",
   "execution_count": 1,
   "metadata": {},
   "outputs": [],
   "source": [
    "from spec_extract import *\n",
    "from astropy.table import Table\n",
    "import pandas as pd\n",
    "from glob import glob\n",
    "from spec_tools import Source_present\n",
    "\n",
    "### set home for files\n",
    "hpath = os.environ['HOME'] + '/'"
   ]
  },
  {
   "cell_type": "code",
   "execution_count": 24,
   "metadata": {},
   "outputs": [],
   "source": [
    "# GSD_39170\n",
    "\n",
    "galaxy_id = 21427\n",
    "\n",
    "# field = 'GSD'\n",
    "field = 'GND'\n",
    "# field = 'UDS'\n",
    "\n",
    "ex = Extract_all(galaxy_id, field)"
   ]
  },
  {
   "cell_type": "code",
   "execution_count": 9,
   "metadata": {},
   "outputs": [
    {
     "name": "stdout",
     "output_type": "stream",
     "text": [
      "Photometry extracted\n"
     ]
    }
   ],
   "source": [
    "## extract photometry\n",
    "ex.Phot_save()\n",
    "print('Photometry extracted')"
   ]
  },
  {
   "cell_type": "code",
   "execution_count": 25,
   "metadata": {},
   "outputs": [
    {
     "name": "stdout",
     "output_type": "stream",
     "text": [
      "Image cutout: x=slice(4789, 10146, None), y=slice(8717, 13929, None)\n",
      "Image cutout: x=slice(4933, 10290, None), y=slice(8807, 14019, None)\n",
      "Using default C-based coordinate transformation...\n",
      "Using default C-based coordinate transformation...\n",
      "Image cutout: x=slice(4789, 10146, None), y=slice(8717, 13929, None)\n",
      "Image cutout: x=slice(4933, 10290, None), y=slice(8807, 14019, None)\n",
      "/Users/Vince.ec/Clear_data/n_flt_files/icat26dyq_flt.fits / Pad ref HDU with 50 pixels\n",
      "/Users/Vince.ec/Clear_data/n_flt_files/icat26dtq_flt.fits / Pad ref HDU with 50 pixels\n",
      "Using default C-based coordinate transformation...\n",
      "Using default C-based coordinate transformation...\n",
      "Using default C-based coordinate transformation...\n",
      "Using default C-based coordinate transformation...\n",
      "Image cutout: x=slice(4930, 10287, None), y=slice(8782, 13994, None)\n",
      "Image cutout: x=slice(4946, 10303, None), y=slice(8800, 14012, None)\n",
      "Using default C-based coordinate transformation...\n",
      "Using default C-based coordinate transformation...\n",
      "Image cutout: x=slice(4930, 10287, None), y=slice(8782, 13994, None)\n",
      "Image cutout: x=slice(4946, 10303, None), y=slice(8800, 14012, None)\n",
      "/Users/Vince.ec/Clear_data/n_flt_files/icat26e5q_flt.fits / Pad ref HDU with 50 pixels\n",
      "/Users/Vince.ec/Clear_data/n_flt_files/icat26eaq_flt.fits / Pad ref HDU with 50 pixels\n",
      "Using default C-based coordinate transformation...\n",
      "Using default C-based coordinate transformation...\n",
      "Using default C-based coordinate transformation...\n",
      "Using default C-based coordinate transformation...\n",
      "Image cutout: x=slice(4938, 10294, None), y=slice(8809, 14020, None)\n",
      "Image cutout: x=slice(4931, 10287, None), y=slice(8801, 14012, None)\n",
      "Using default C-based coordinate transformation...\n",
      "Using default C-based coordinate transformation...\n",
      "Image cutout: x=slice(4938, 10294, None), y=slice(8809, 14020, None)\n",
      "Image cutout: x=slice(4931, 10287, None), y=slice(8801, 14012, None)\n",
      "/Users/Vince.ec/3dhst/n_flt_files/ib3726bpq_flt.fits / Pad ref HDU with 50 pixels\n",
      "/Users/Vince.ec/3dhst/n_flt_files/ib3726btq_flt.fits / Pad ref HDU with 50 pixels\n",
      "Using default C-based coordinate transformation...\n",
      "Using default C-based coordinate transformation...\n",
      "Using default C-based coordinate transformation...\n",
      "Using default C-based coordinate transformation...\n",
      "Image cutout: x=slice(4940, 10295, None), y=slice(8797, 14008, None)\n",
      "Image cutout: x=slice(4947, 10303, None), y=slice(8805, 14015, None)\n",
      "Using default C-based coordinate transformation...\n",
      "Using default C-based coordinate transformation...\n",
      "Image cutout: x=slice(4940, 10295, None), y=slice(8797, 14008, None)\n",
      "Image cutout: x=slice(4947, 10303, None), y=slice(8805, 14015, None)\n",
      "/Users/Vince.ec/3dhst/n_flt_files/ib3726c5q_flt.fits / Pad ref HDU with 50 pixels\n",
      "/Users/Vince.ec/3dhst/n_flt_files/ib3726c9q_flt.fits / Pad ref HDU with 50 pixels\n",
      "Using default C-based coordinate transformation...\n",
      "Using default C-based coordinate transformation...\n",
      "Using default C-based coordinate transformation...\n",
      "Using default C-based coordinate transformation...\n",
      "Image cutout: x=slice(3413, 8767, None), y=slice(7290, 12498, None)\n",
      "Image cutout: x=slice(3405, 8760, None), y=slice(7282, 12491, None)\n",
      "Using default C-based coordinate transformation...\n",
      "Using default C-based coordinate transformation...\n",
      "Image cutout: x=slice(3405, 8760, None), y=slice(7282, 12491, None)\n",
      "Image cutout: x=slice(3413, 8767, None), y=slice(7290, 12498, None)\n",
      "/Users/Vince.ec/3dhst/n_flt_files/ib3728cyq_flt.fits / Pad ref HDU with 50 pixels\n",
      "/Users/Vince.ec/3dhst/n_flt_files/ib3728d2q_flt.fits / Pad ref HDU with 50 pixels\n",
      "Using default C-based coordinate transformation...\n",
      "Using default C-based coordinate transformation...\n",
      "Using default C-based coordinate transformation...\n",
      "Using default C-based coordinate transformation...\n",
      "Image cutout: x=slice(3414, 8769, None), y=slice(7278, 12487, None)\n",
      "Image cutout: x=slice(3421, 8776, None), y=slice(7285, 12494, None)\n",
      "Using default C-based coordinate transformation...\n",
      "Using default C-based coordinate transformation...\n",
      "Image cutout: x=slice(3414, 8769, None), y=slice(7278, 12487, None)\n",
      "Image cutout: x=slice(3421, 8776, None), y=slice(7285, 12494, None)\n",
      "/Users/Vince.ec/3dhst/n_flt_files/ib3728deq_flt.fits / Pad ref HDU with 50 pixels\n",
      "/Users/Vince.ec/3dhst/n_flt_files/ib3728diq_flt.fits / Pad ref HDU with 50 pixels\n",
      "Using default C-based coordinate transformation...\n",
      "Using default C-based coordinate transformation...\n",
      "Using default C-based coordinate transformation...\n",
      "Using default C-based coordinate transformation...\n",
      "/Users/Vince.ec/Clear_data/n_flt_files/icat26dtq_flt.fits: _compute_model Done\n",
      "/Users/Vince.ec/Clear_data/n_flt_files/icat26dyq_flt.fits: _compute_model Done\n",
      "/Users/Vince.ec/Clear_data/n_flt_files/icat26e5q_flt.fits: _compute_model Done\n",
      "/Users/Vince.ec/Clear_data/n_flt_files/icat26eaq_flt.fits: _compute_model Done\n",
      "/Users/Vince.ec/3dhst/n_flt_files/ib3726bpq_flt.fits: _compute_model Done\n",
      "/Users/Vince.ec/3dhst/n_flt_files/ib3726btq_flt.fits: _compute_model Done\n",
      "/Users/Vince.ec/3dhst/n_flt_files/ib3726c5q_flt.fits: _compute_model Done\n",
      "/Users/Vince.ec/3dhst/n_flt_files/ib3726c9q_flt.fits: _compute_model Done\n",
      "/Users/Vince.ec/3dhst/n_flt_files/ib3728cyq_flt.fits: _compute_model Done\n",
      "/Users/Vince.ec/3dhst/n_flt_files/ib3728d2q_flt.fits: _compute_model Done\n",
      "/Users/Vince.ec/3dhst/n_flt_files/ib3728deq_flt.fits: _compute_model Done\n",
      "/Users/Vince.ec/3dhst/n_flt_files/ib3728diq_flt.fits: _compute_model Done\n",
      "Models computed - 29.75 sec.\n",
      "Spectrum extracted\n"
     ]
    }
   ],
   "source": [
    "## extract spectra\n",
    "ex.Extract_spec()\n",
    "print('Spectrum extracted')"
   ]
  },
  {
   "cell_type": "code",
   "execution_count": 11,
   "metadata": {},
   "outputs": [
    {
     "name": "stdout",
     "output_type": "stream",
     "text": [
      "Image cutout: x=slice(8196, 13451, None), y=slice(12887, 18302, None)\n",
      "/Users/Vince.ec/Clear_data/s_flt_files/icxt13gfq_flt.fits / blot reference /Volumes/Vince_research/Data/CLEAR/CATALOGS/goodss_v4.4/goodss-F105W-astrodrizzle-v4.4_drz_sci.fits[0]\n",
      "The following task in the stsci.skypac package can be run with TEAL:\n",
      "                                    skymatch                                    \n",
      "The following tasks in the drizzlepac package can be run with TEAL:\n",
      "    astrodrizzle       imagefindpars           mapreg              photeq       \n",
      "     pixreplace           pixtopix            pixtosky        refimagefindpars  \n",
      "     resetbits          runastrodriz          skytopix           tweakback      \n",
      "      tweakreg           updatenpol\n",
      "Using default C-based coordinate transformation...\n",
      "Image cutout: x=slice(8196, 13451, None), y=slice(12887, 18302, None)\n",
      "/Users/Vince.ec/Clear_data/s_flt_files/icxt13gfq_flt.fits / Pad ref HDU with 50 pixels\n",
      "/Users/Vince.ec/Clear_data/s_flt_files/icxt13gfq_flt.fits / blot segmentation /Users/Vince.ec/Clear_data/goodss_mosaic/goodss_3dhst.v4.0.F160W_seg.fits[0]\n",
      "Using default C-based coordinate transformation...\n",
      "Using default C-based coordinate transformation...\n",
      "Image cutout: x=slice(8987, 12975, None), y=slice(13390, 17764, None)\n",
      "/Users/Vince.ec/3dhst/s_flt_files/ibhj30bzq_flt.fits / blot reference /Volumes/Vince_research/Data/CLEAR/CATALOGS/goodss_v4.4/goodss-F105W-astrodrizzle-v4.4_drz_sci.fits[0]\n",
      "Using default C-based coordinate transformation...\n",
      "Image cutout: x=slice(8987, 12975, None), y=slice(13390, 17764, None)\n",
      "/Users/Vince.ec/3dhst/s_flt_files/ibhj30bzq_flt.fits / Pad ref HDU with 50 pixels\n",
      "/Users/Vince.ec/3dhst/s_flt_files/ibhj30bzq_flt.fits / blot segmentation /Users/Vince.ec/Clear_data/goodss_mosaic/goodss_3dhst.v4.0.F160W_seg.fits[0]\n",
      "Using default C-based coordinate transformation...\n",
      "Using default C-based coordinate transformation...\n",
      "ID 35690 not found in segmentation image\n",
      "ID 39583 not found in segmentation image\n",
      "Beams extracted\n"
     ]
    }
   ],
   "source": [
    "## extract beams\n",
    "ex.Extract_BeamCutout(ex.Bflts[0],'g102')\n",
    "ex.Extract_BeamCutout(ex.Rflts[0],'g141')\n",
    "print('Beams extracted')"
   ]
  },
  {
   "cell_type": "code",
   "execution_count": null,
   "metadata": {},
   "outputs": [],
   "source": []
  }
 ],
 "metadata": {
  "kernelspec": {
   "display_name": "Python 3",
   "language": "python",
   "name": "python3"
  },
  "language_info": {
   "codemirror_mode": {
    "name": "ipython",
    "version": 3
   },
   "file_extension": ".py",
   "mimetype": "text/x-python",
   "name": "python",
   "nbconvert_exporter": "python",
   "pygments_lexer": "ipython3",
   "version": "3.5.5"
  }
 },
 "nbformat": 4,
 "nbformat_minor": 2
}
