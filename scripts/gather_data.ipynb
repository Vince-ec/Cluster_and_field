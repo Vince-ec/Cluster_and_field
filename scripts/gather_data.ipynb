{
 "cells": [
  {
   "cell_type": "code",
   "execution_count": 1,
   "metadata": {},
   "outputs": [
    {
     "name": "stdout",
     "output_type": "stream",
     "text": [
      "\n",
      "Couldn't `import tristars`.  Get it from https://github.com/gbrammer/tristars to enable improved blind astrometric matching with triangle asterisms.\n",
      "\n"
     ]
    }
   ],
   "source": [
    "from spec_extract import *\n",
    "from astropy.table import Table\n",
    "import pandas as pd\n",
    "from glob import glob\n",
    "from spec_tools import Source_present\n",
    "\n",
    "### set home for files\n",
    "hpath = os.environ['HOME'] + '/'"
   ]
  },
  {
   "cell_type": "code",
   "execution_count": 2,
   "metadata": {},
   "outputs": [],
   "source": [
    "galaxy_id = 21427\n",
    "\n",
    "# field = 'GSD'\n",
    "field = 'GND'\n",
    "# field = 'UDS'\n",
    "\n",
    "ex = Extract_all(galaxy_id, field)"
   ]
  },
  {
   "cell_type": "code",
   "execution_count": 26,
   "metadata": {},
   "outputs": [
    {
     "name": "stdout",
     "output_type": "stream",
     "text": [
      "Photometry extracted\n"
     ]
    }
   ],
   "source": [
    "## extract photometry\n",
    "ex.Phot_save()\n",
    "print('Photometry extracted')"
   ]
  },
  {
   "cell_type": "code",
   "execution_count": 27,
   "metadata": {},
   "outputs": [
    {
     "name": "stdout",
     "output_type": "stream",
     "text": [
      "Image cutout: x=slice(4933, 10290, None), y=slice(8807, 14019, None)\n",
      "Image cutout: x=slice(4789, 10146, None), y=slice(8717, 13929, None)\n",
      "Using default C-based coordinate transformation...\n",
      "Using default C-based coordinate transformation...\n",
      "Image cutout: x=slice(4789, 10146, None), y=slice(8717, 13929, None)\n",
      "Image cutout: x=slice(4933, 10290, None), y=slice(8807, 14019, None)\n",
      "/Users/Vince.ec/Clear_data/n_flt_files/icat26dyq_flt.fits / Pad ref HDU with 50 pixels\n",
      "/Users/Vince.ec/Clear_data/n_flt_files/icat26dtq_flt.fits / Pad ref HDU with 50 pixels\n",
      "Using default C-based coordinate transformation...\n",
      "Using default C-based coordinate transformation...\n",
      "Using default C-based coordinate transformation...\n",
      "Using default C-based coordinate transformation...\n",
      "Image cutout: x=slice(4930, 10287, None), y=slice(8782, 13994, None)\n",
      "Image cutout: x=slice(4946, 10303, None), y=slice(8800, 14012, None)\n",
      "Using default C-based coordinate transformation...\n",
      "Using default C-based coordinate transformation...\n",
      "Image cutout: x=slice(4930, 10287, None), y=slice(8782, 13994, None)\n",
      "Image cutout: x=slice(4946, 10303, None), y=slice(8800, 14012, None)\n",
      "/Users/Vince.ec/Clear_data/n_flt_files/icat26e5q_flt.fits / Pad ref HDU with 50 pixels\n",
      "/Users/Vince.ec/Clear_data/n_flt_files/icat26eaq_flt.fits / Pad ref HDU with 50 pixels\n",
      "Using default C-based coordinate transformation...\n",
      "Using default C-based coordinate transformation...\n",
      "Using default C-based coordinate transformation...\n",
      "Using default C-based coordinate transformation...\n",
      "Image cutout: x=slice(4938, 10294, None), y=slice(8809, 14020, None)\n",
      "Image cutout: x=slice(4931, 10287, None), y=slice(8801, 14012, None)\n",
      "Using default C-based coordinate transformation...\n",
      "Using default C-based coordinate transformation...\n",
      "Image cutout: x=slice(4938, 10294, None), y=slice(8809, 14020, None)\n",
      "/Users/Vince.ec/3dhst/n_flt_files/ib3726bpq_flt.fits / Pad ref HDU with 50 pixels\n",
      "Image cutout: x=slice(4931, 10287, None), y=slice(8801, 14012, None)\n",
      "/Users/Vince.ec/3dhst/n_flt_files/ib3726btq_flt.fits / Pad ref HDU with 50 pixels\n",
      "Using default C-based coordinate transformation...\n",
      "Using default C-based coordinate transformation...\n",
      "Using default C-based coordinate transformation...\n",
      "Using default C-based coordinate transformation...\n",
      "Image cutout: x=slice(4940, 10295, None), y=slice(8797, 14008, None)\n",
      "Image cutout: x=slice(4947, 10303, None), y=slice(8805, 14015, None)\n",
      "Using default C-based coordinate transformation...\n",
      "Using default C-based coordinate transformation...\n",
      "Image cutout: x=slice(4940, 10295, None), y=slice(8797, 14008, None)\n",
      "Image cutout: x=slice(4947, 10303, None), y=slice(8805, 14015, None)\n",
      "/Users/Vince.ec/3dhst/n_flt_files/ib3726c5q_flt.fits / Pad ref HDU with 50 pixels\n",
      "/Users/Vince.ec/3dhst/n_flt_files/ib3726c9q_flt.fits / Pad ref HDU with 50 pixels\n",
      "Using default C-based coordinate transformation...\n",
      "Using default C-based coordinate transformation...\n",
      "Using default C-based coordinate transformation...\n",
      "Using default C-based coordinate transformation...\n",
      "Image cutout: x=slice(3413, 8767, None), y=slice(7290, 12498, None)\n",
      "Image cutout: x=slice(3405, 8760, None), y=slice(7282, 12491, None)\n",
      "Using default C-based coordinate transformation...\n",
      "Using default C-based coordinate transformation...\n",
      "Image cutout: x=slice(3413, 8767, None), y=slice(7290, 12498, None)\n",
      "Image cutout: x=slice(3405, 8760, None), y=slice(7282, 12491, None)\n",
      "/Users/Vince.ec/3dhst/n_flt_files/ib3728cyq_flt.fits / Pad ref HDU with 50 pixels\n",
      "/Users/Vince.ec/3dhst/n_flt_files/ib3728d2q_flt.fits / Pad ref HDU with 50 pixels\n",
      "Using default C-based coordinate transformation...\n",
      "Using default C-based coordinate transformation...\n",
      "Using default C-based coordinate transformation...\n",
      "Using default C-based coordinate transformation...\n",
      "Image cutout: x=slice(3414, 8769, None), y=slice(7278, 12487, None)\n",
      "Image cutout: x=slice(3421, 8776, None), y=slice(7285, 12494, None)\n",
      "Using default C-based coordinate transformation...\n",
      "Using default C-based coordinate transformation...\n",
      "Image cutout: x=slice(3414, 8769, None), y=slice(7278, 12487, None)\n",
      "Image cutout: x=slice(3421, 8776, None), y=slice(7285, 12494, None)\n",
      "/Users/Vince.ec/3dhst/n_flt_files/ib3728deq_flt.fits / Pad ref HDU with 50 pixels\n",
      "/Users/Vince.ec/3dhst/n_flt_files/ib3728diq_flt.fits / Pad ref HDU with 50 pixels\n",
      "Using default C-based coordinate transformation...\n",
      "Using default C-based coordinate transformation...\n",
      "Using default C-based coordinate transformation...\n",
      "Using default C-based coordinate transformation...\n",
      "/Users/Vince.ec/Clear_data/n_flt_files/icat26dtq_flt.fits: _compute_model Done\n",
      "/Users/Vince.ec/Clear_data/n_flt_files/icat26dyq_flt.fits: _compute_model Done\n",
      "/Users/Vince.ec/Clear_data/n_flt_files/icat26e5q_flt.fits: _compute_model Done\n",
      "/Users/Vince.ec/3dhst/n_flt_files/ib3726bpq_flt.fits: _compute_model Done\n",
      "/Users/Vince.ec/Clear_data/n_flt_files/icat26eaq_flt.fits: _compute_model Done\n",
      "/Users/Vince.ec/3dhst/n_flt_files/ib3726btq_flt.fits: _compute_model Done\n",
      "/Users/Vince.ec/3dhst/n_flt_files/ib3726c5q_flt.fits: _compute_model Done\n",
      "/Users/Vince.ec/3dhst/n_flt_files/ib3726c9q_flt.fits: _compute_model Done\n",
      "/Users/Vince.ec/3dhst/n_flt_files/ib3728cyq_flt.fits: _compute_model Done\n",
      "/Users/Vince.ec/3dhst/n_flt_files/ib3728d2q_flt.fits: _compute_model Done\n",
      "/Users/Vince.ec/3dhst/n_flt_files/ib3728deq_flt.fits: _compute_model Done\n",
      "/Users/Vince.ec/3dhst/n_flt_files/ib3728diq_flt.fits: _compute_model Done\n",
      "Models computed - 31.81 sec.\n",
      "Spectrum extracted\n"
     ]
    }
   ],
   "source": [
    "## extract spectra\n",
    "ex.Extract_spec()\n",
    "print('Spectrum extracted')"
   ]
  },
  {
   "cell_type": "code",
   "execution_count": 3,
   "metadata": {},
   "outputs": [
    {
     "name": "stdout",
     "output_type": "stream",
     "text": [
      "Image cutout: x=slice(4933, 10290, None), y=slice(8807, 14019, None)\n",
      "/Users/vestrada/Clear_data/n_flt_files/icat26dtq_flt.fits / blot reference /Users/vestrada/Data/CLEAR/CATALOGS/goodsn_v4.4/goodsn-F105W-astrodrizzle-v4.4_drz_sci.fits[0]\n",
      "The following task in the stsci.skypac package can be run with TEAL:\n",
      "                                    skymatch                                    \n",
      "The following tasks in the drizzlepac package can be run with TEAL:\n",
      "    astrodrizzle       imagefindpars           mapreg              photeq       \n",
      "     pixreplace           pixtopix            pixtosky        refimagefindpars  \n",
      "     resetbits          runastrodriz          skytopix           tweakback      \n",
      "      tweakreg           updatenpol\n",
      "Using default C-based coordinate transformation...\n",
      "Image cutout: x=slice(4933, 10290, None), y=slice(8807, 14019, None)\n",
      "/Users/vestrada/Clear_data/n_flt_files/icat26dtq_flt.fits / Pad ref HDU with 50 pixels\n",
      "/Users/vestrada/Clear_data/n_flt_files/icat26dtq_flt.fits / blot segmentation /Users/vestrada/Clear_data/goodsn_mosaic/goodsn_3dhstP.seg.fits[0]\n",
      "Using default C-based coordinate transformation...\n",
      "Using default C-based coordinate transformation...\n",
      "Image cutout: x=slice(4938, 10294, None), y=slice(8809, 14020, None)\n",
      "/Users/vestrada/3dhst/n_flt_files/ib3726bpq_flt.fits / blot reference /Users/vestrada/Data/CLEAR/CATALOGS/goodsn_v4.4/goodsn-F105W-astrodrizzle-v4.4_drz_sci.fits[0]\n",
      "Using default C-based coordinate transformation...\n",
      "Image cutout: x=slice(4938, 10294, None), y=slice(8809, 14020, None)\n",
      "/Users/vestrada/3dhst/n_flt_files/ib3726bpq_flt.fits / Pad ref HDU with 50 pixels\n",
      "/Users/vestrada/3dhst/n_flt_files/ib3726bpq_flt.fits / blot segmentation /Users/vestrada/Clear_data/goodsn_mosaic/goodsn_3dhstP.seg.fits[0]\n",
      "Using default C-based coordinate transformation...\n",
      "Using default C-based coordinate transformation...\n",
      "Beams extracted\n"
     ]
    }
   ],
   "source": [
    "## extract beams\n",
    "ex.Extract_BeamCutout(ex.Bflts[0],'g102')\n",
    "ex.Extract_BeamCutout(ex.Rflts[0],'g141')\n",
    "print('Beams extracted')"
   ]
  },
  {
   "cell_type": "code",
   "execution_count": null,
   "metadata": {},
   "outputs": [],
   "source": []
  }
 ],
 "metadata": {
  "kernelspec": {
   "display_name": "Python 3",
   "language": "python",
   "name": "python3"
  },
  "language_info": {
   "codemirror_mode": {
    "name": "ipython",
    "version": 3
   },
   "file_extension": ".py",
   "mimetype": "text/x-python",
   "name": "python",
   "nbconvert_exporter": "python",
   "pygments_lexer": "ipython3",
   "version": "3.5.5"
  }
 },
 "nbformat": 4,
 "nbformat_minor": 2
}
