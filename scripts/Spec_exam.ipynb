{
 "cells": [
  {
   "cell_type": "code",
   "execution_count": 1,
   "metadata": {},
   "outputs": [],
   "source": [
    "import numpy as np\n",
    "import pandas as pd\n",
    "import matplotlib.pyplot as plt\n",
    "from glob import glob\n",
    "import os\n",
    "from time import time\n",
    "from shutil import copy\n",
    "\n",
    "from astropy.cosmology import FlatLambdaCDM\n",
    "cosmo = FlatLambdaCDM(H0=70, Om0=0.3)\n",
    "\n",
    "import fsps\n",
    "from matplotlib.gridspec import GridSpec\n",
    "from astropy.io import fits\n",
    "from astropy import wcs\n",
    "from astropy.table import Table\n",
    "from spec_stats import Highest_density_region, Linear_fit\n",
    "from spec_exam import Gen_spec_2D\n",
    "from scipy.interpolate import interp1d, interp2d\n",
    "import seaborn as sea\n",
    "from grizli import multifit\n",
    "from grizli import model\n",
    "from spec_extract import Stack\n",
    "\n",
    "sea.set(style='white')\n",
    "sea.set(style='ticks')\n",
    "sea.set_style({'xtick.direct'\n",
    "               'ion': 'in','xtick.top':True,'xtick.minor.visible': True,\n",
    "               'ytick.direction': \"in\",'ytick.right': True,'ytick.minor.visible': True})\n",
    "cmap = sea.cubehelix_palette(12, start=2, rot=.2, dark=0, light=1.0, as_cmap=True)\n",
    "%config InlineBackend.figure_format = 'retina'\n",
    "%matplotlib inline\n",
    "\n",
    "### set home for files\n",
    "hpath = os.environ['HOME'] + '/'\n",
    "\n",
    "if hpath == '/Users/Vince.ec/':\n",
    "    dpath = '/Volumes/Vince_research/Data/' \n",
    "    \n",
    "else:\n",
    "    dpath = hpath + 'Data/' "
   ]
  },
  {
   "cell_type": "code",
   "execution_count": 2,
   "metadata": {},
   "outputs": [],
   "source": [
    "def Phot_load(field, galaxy_id,ref_cat_loc,masterlist = '../phot/master_template_list.pkl'):\n",
    "    galdf = ref_cat_loc[ref_cat_loc.id == galaxy_id]\n",
    "    master_tmp_df = pd.read_pickle(masterlist)\n",
    "\n",
    "    if field == 'GSD':\n",
    "        pre= 'S_'\n",
    "\n",
    "    if field == 'GND':\n",
    "        pre= 'N_'\n",
    "\n",
    "    eff_wv = []\n",
    "    phot_fl = []\n",
    "    phot_er = []\n",
    "    phot_num = []\n",
    "\n",
    "    for i in galdf.keys():\n",
    "        if i[0:2] == 'f_':\n",
    "            Clam = 3E18 / master_tmp_df.eff_wv[master_tmp_df.tmp_name == pre + i].values[0] **2 * 10**((-1.1)/2.5-29)\n",
    "            if galdf[i].values[0] > -99.0:\n",
    "                eff_wv.append(master_tmp_df.eff_wv[master_tmp_df.tmp_name == pre + i].values[0])\n",
    "                phot_fl.append(galdf[i].values[0]*Clam)\n",
    "                phot_num.append(master_tmp_df.tmp_num[master_tmp_df.tmp_name == pre + i].values[0])\n",
    "        if i[0:2] == 'e_':\n",
    "            if galdf[i].values[0] > -99.0:\n",
    "                phot_er.append(galdf[i].values[0]*Clam)\n",
    "    \n",
    "    return eff_wv, phot_fl, phot_er\n",
    "\n",
    "def Extract_spec(Field, galaxy_id):\n",
    "    spec_list = glob('/Volumes/Vince_CLEAR/RELEASE_v2.1.0/*{}*/*{}*.1D.fits'.format(Field, galaxy_id))\n",
    "\n",
    "    Bwv, Bfl, Ber, Bft, Bln, Bct = [[],[],[],[],[],[]]\n",
    "\n",
    "    Rwv, Rfl, Rer, Rft, Rln, Rct = [[],[],[],[],[],[]]\n",
    "\n",
    "    for i in range(len(spec_list)):\n",
    "        dat = fits.open(spec_list[i])\n",
    "\n",
    "        try:\n",
    "            Bwv.append(np.array(dat['G102'].data['wave']).T)\n",
    "            Bfl.append(np.array(dat['G102'].data['flux']).T)\n",
    "            Ber.append(np.array(dat['G102'].data['err']).T)\n",
    "            Bft.append(np.array(dat['G102'].data['flat']).T)\n",
    "            Bln.append(np.array(dat['G102'].data['line']).T)\n",
    "            Bct.append(np.array(dat['G102'].data['cont']).T)\n",
    "\n",
    "        except:\n",
    "            print('no g102')\n",
    "\n",
    "        try:\n",
    "            Rwv.append(np.array(dat['G141'].data['wave']).T)\n",
    "            Rfl.append(np.array(dat['G141'].data['flux']).T)\n",
    "            Rer.append(np.array(dat['G141'].data['err']).T)\n",
    "            Rft.append(np.array(dat['G141'].data['flat']).T)\n",
    "            Rln.append(np.array(dat['G141'].data['line']).T)\n",
    "            Rct.append(np.array(dat['G141'].data['cont']).T)\n",
    "\n",
    "        except:\n",
    "            print('no g141')\n",
    "\n",
    "    if len(Bwv) > 0 and len(Rwv) == 0:                \n",
    "        SBW, SBF, SBE, SBT, SBL, SBC = Stack(Bwv, Bfl, Ber, Bft, Bln, Bct)\n",
    "        IDX = [U for U in range(len(SBW)) if 8500 < SBW[U] < 11100 and SBF[U] > 0 and SBF[U]/SBE[U] > .1]\n",
    "        return SBW[IDX], SBF[IDX] / SBT[IDX], SBE[IDX] / SBT[IDX]\n",
    "\n",
    "    if len(Rwv) > 0 and len(Bwv) == 0:     \n",
    "        SRW, SRF, SRE, SRT, SRL, SRC = Stack(Rwv, Rfl, Rer, Rft, Rln, Rct)\n",
    "        IDX = [U for U in range(len(SRW)) if 11100 < SRW[U] < 16500 and SRF[U] > 0 and SRF[U]/SRE[U] > .1]\n",
    "        return SRW[IDX], SRF[IDX] / SRT[IDX], SRE[IDX] / SRT[IDX]\n",
    "    \n",
    "    if len(Rwv) > 0 and len(Bwv) > 0:     \n",
    "        \n",
    "        SBW, SBF, SBE, SBT, SBL, SBC = Stack(Bwv, Bfl, Ber, Bft, Bln, Bct)\n",
    "        SRW, SRF, SRE, SRT, SRL, SRC = Stack(Rwv, Rfl, Rer, Rft, Rln, Rct)\n",
    "        \n",
    "        IDB = [U for U in range(len(SBW)) if 8500 < SBW[U] < 11100 and SBF[U] > 0 and SBF[U]/SBE[U] > .1]\n",
    "        IDR = [U for U in range(len(SRW)) if 11100 < SRW[U] < 16500 and SRF[U] > 0 and SRF[U]/SRE[U] > .1]\n",
    "        \n",
    "        return [SBW[IDB],SRW[IDR]], [SBF[IDB] / SBT[IDB],SRF[IDR] / SRT[IDR]], [SBE[IDB] / SBT[IDB],SRE[IDR] / SRT[IDR]]"
   ]
  },
  {
   "cell_type": "code",
   "execution_count": 3,
   "metadata": {},
   "outputs": [],
   "source": [
    "v4Ncat = Table.read('/Volumes/Vince_CLEAR/3dhst_V4.4/goodsn_3dhst.v4.4.cats/Catalog/goodsn_3dhst.v4.4.cat',\n",
    "                 format='ascii').to_pandas()\n",
    "v4Scat = Table.read('/Volumes/Vince_CLEAR/3dhst_V4.4/goodss_3dhst.v4.4.cats/Catalog/goodss_3dhst.v4.4.cat',\n",
    "                 format='ascii').to_pandas()"
   ]
  },
  {
   "cell_type": "code",
   "execution_count": 4,
   "metadata": {},
   "outputs": [],
   "source": [
    "GND_all = pd.read_pickle('../dataframes/galaxy_frames/GND_CLEAR.pkl')\n",
    "GSD_all = pd.read_pickle('../dataframes/galaxy_frames/GSD_CLEAR.pkl')"
   ]
  },
  {
   "cell_type": "code",
   "execution_count": 58,
   "metadata": {},
   "outputs": [],
   "source": [
    "GND_bad = [ 9030, 9128,9458, 10529, 10728, 10793, 11115, 11759, 11814, 12299, 12464, 12613, 13970, 14132, 14140, 14516, 14533, 14754, 14797, 15493, 16173, 16987, 18030, 18043, \n",
    "           18939, 19554, 19725, 20052, 20513, 21481, 21845, 22601, 22633, 23018, 23857, 23936, 25738, 26794, 29211, 35526, 36512, 37406, 37469]\n",
    "\n",
    "GSD_bad = [25858, 30871, 35937, 36451, 37542, 37885, 38060, 38119, 38880, 39180, 39449, 39671, 40440, 40745, 40745, 40768, 41146, 42294, 42568, 43390, 45069]"
   ]
  },
  {
   "cell_type": "code",
   "execution_count": 59,
   "metadata": {},
   "outputs": [],
   "source": [
    "goodspec = np.ones_like(GND_all.id.values)\n",
    "\n",
    "for i in range(len(GND_all.id.values)):\n",
    "    if GND_all.id.values[i] in GND_bad:\n",
    "        goodspec[i] = 0\n",
    "        \n",
    "GND_all['good_spec'] = goodspec\n",
    "\n",
    "\n",
    "\n",
    "goodspec = np.ones_like(GSD_all.id.values)\n",
    "\n",
    "for i in range(len(GSD_all.id.values)):\n",
    "    if GSD_all.id.values[i] in GSD_bad:\n",
    "        goodspec[i] = 0\n",
    "        \n",
    "GSD_all['good_spec'] = goodspec"
   ]
  },
  {
   "cell_type": "code",
   "execution_count": 69,
   "metadata": {},
   "outputs": [],
   "source": [
    "z_grizli = []\n",
    "for i in GND_all.id:\n",
    "    if len(str(i)) < 5:\n",
    "        gid = '0' + str(i)\n",
    "    else:\n",
    "        gid = str(i)\n",
    "    \n",
    "    spec_list = glob('/Volumes/Vince_CLEAR/RELEASE_v2.1.0/*N*/*{}*.1D.fits'.format(gid))\n",
    "    rshift = []\n",
    "    for fl in spec_list:\n",
    "        subfield = fl.split('/')[-2]\n",
    "\n",
    "        dat = Table.read(fits.open('/Volumes/Vince_CLEAR/RELEASE_v2.1.0/grizli_v2.1_cats/{0}_lines_grizli.fits'.format(subfield)), format='fits').to_pandas()\n",
    "        if dat.query('ID == {0}'.format(i)).z_50.values[0] > 0:\n",
    "            rshift.append(dat.query('ID == {0}'.format(i)).z_50.values[0])\n",
    "    z_grizli.append(rshift)\n",
    "    \n",
    "GND_all['zgrizli'] = z_grizli\n",
    "\n",
    "z_grizli = []\n",
    "for i in GSD_all.id:\n",
    "    if len(str(i)) < 5:\n",
    "        gid = '0' + str(i)\n",
    "    else:\n",
    "        gid = str(i)\n",
    "    \n",
    "    spec_list = glob('/Volumes/Vince_CLEAR/RELEASE_v2.1.0/*S*/*{}*.1D.fits'.format(gid))\n",
    "    rshift = []\n",
    "    for fl in spec_list:\n",
    "        subfield = fl.split('/')[-2]\n",
    "\n",
    "        dat = Table.read(fits.open('/Volumes/Vince_CLEAR/RELEASE_v2.1.0/grizli_v2.1_cats/{0}_lines_grizli.fits'.format(subfield)), format='fits').to_pandas()\n",
    "        if dat.query('ID == {0}'.format(i)).z_50.values[0] > 0:\n",
    "            rshift.append(dat.query('ID == {0}'.format(i)).z_50.values[0])\n",
    "    z_grizli.append(rshift)\n",
    "    \n",
    "GSD_all['zgrizli'] = z_grizli"
   ]
  },
  {
   "cell_type": "code",
   "execution_count": 71,
   "metadata": {},
   "outputs": [],
   "source": [
    "GND_all.to_pickle('../dataframes/galaxy_frames/GND_CLEAR.pkl')\n",
    "GSD_all.to_pickle('../dataframes/galaxy_frames/GSD_CLEAR.pkl')"
   ]
  },
  {
   "cell_type": "code",
   "execution_count": 5,
   "metadata": {},
   "outputs": [],
   "source": [
    "GSD_all = GSD_all.query('good_spec > 0')\n",
    "GND_all = GND_all.query('good_spec > 0')"
   ]
  },
  {
   "cell_type": "code",
   "execution_count": 96,
   "metadata": {},
   "outputs": [
    {
     "data": {
      "text/plain": [
       "'48525'"
      ]
     },
     "execution_count": 96,
     "metadata": {},
     "output_type": "execute_result"
    }
   ],
   "source": [
    "gid"
   ]
  },
  {
   "cell_type": "code",
   "execution_count": 6,
   "metadata": {},
   "outputs": [
    {
     "name": "stderr",
     "output_type": "stream",
     "text": [
      "/Users/vestrada/miniconda3/envs/astroconda/lib/python3.5/site-packages/grizli-0.13.0_167_g5e9ee7c-py3.5-macosx-10.6-x86_64.egg/grizli/model.py:3510: RuntimeWarning: divide by zero encountered in true_divide\n",
      "  self.ivar = 1/self.grism.data['ERR']**2\n",
      "/Users/vestrada/miniconda3/envs/astroconda/lib/python3.5/site-packages/grizli-0.13.0_167_g5e9ee7c-py3.5-macosx-10.6-x86_64.egg/grizli/model.py:3553: RuntimeWarning: invalid value encountered in sqrt\n",
      "  resid = np.abs(self.scif - self.flat_flam)*np.sqrt(self.ivarf)\n",
      "/Users/vestrada/miniconda3/envs/astroconda/lib/python3.5/site-packages/grizli-0.13.0_167_g5e9ee7c-py3.5-macosx-10.6-x86_64.egg/grizli/model.py:3558: RuntimeWarning: invalid value encountered in sqrt\n",
      "  contam_mask = ((self.contam*np.sqrt(self.ivar) > contam_sn_mask[0]) &\n",
      "/Users/vestrada/miniconda3/envs/astroconda/lib/python3.5/site-packages/grizli-0.13.0_167_g5e9ee7c-py3.5-macosx-10.6-x86_64.egg/grizli/model.py:3559: RuntimeWarning: invalid value encountered in sqrt\n",
      "  (self.model*np.sqrt(self.ivar) < contam_sn_mask[1]))\n"
     ]
    },
    {
     "name": "stdout",
     "output_type": "stream",
     "text": [
      "1 ibhj35vuq_flt.fits G141\n",
      "2 ibhj35w1q_flt.fits G141\n",
      "3 ibhj35w8q_flt.fits G141\n",
      "4 ibhj35wfq_flt.fits G141\n"
     ]
    },
    {
     "name": "stderr",
     "output_type": "stream",
     "text": [
      "/Users/vestrada/miniconda3/envs/astroconda/lib/python3.5/site-packages/grizli-0.13.0_167_g5e9ee7c-py3.5-macosx-10.6-x86_64.egg/grizli/multifit.py:1433: RuntimeWarning: divide by zero encountered in true_divide\n",
      "  beam.ivarf = 1./(1/beam.ivarf + (sys_err*beam.scif)**2)\n",
      "/Users/vestrada/miniconda3/envs/astroconda/lib/python3.5/site-packages/grizli-0.13.0_167_g5e9ee7c-py3.5-macosx-10.6-x86_64.egg/grizli/multifit.py:1573: RuntimeWarning: invalid value encountered in sqrt\n",
      "  self.sivarf = np.sqrt(self.ivarf)\n",
      "/Users/vestrada/miniconda3/envs/astroconda/lib/python3.5/site-packages/grizli-0.13.0_167_g5e9ee7c-py3.5-macosx-10.6-x86_64.egg/grizli/multifit.py:1578: RuntimeWarning: invalid value encountered in sqrt\n",
      "  self.weightf = np.exp(-(self.fcontam*np.abs(self.contamf)*np.sqrt(self.ivarf)))\n",
      "/Users/vestrada/miniconda3/envs/astroconda/lib/python3.5/site-packages/grizli-0.13.0_167_g5e9ee7c-py3.5-macosx-10.6-x86_64.egg/grizli/model.py:3510: RuntimeWarning: divide by zero encountered in true_divide\n",
      "  self.ivar = 1/self.grism.data['ERR']**2\n",
      "/Users/vestrada/miniconda3/envs/astroconda/lib/python3.5/site-packages/grizli-0.13.0_167_g5e9ee7c-py3.5-macosx-10.6-x86_64.egg/grizli/model.py:3553: RuntimeWarning: invalid value encountered in sqrt\n",
      "  resid = np.abs(self.scif - self.flat_flam)*np.sqrt(self.ivarf)\n",
      "/Users/vestrada/miniconda3/envs/astroconda/lib/python3.5/site-packages/grizli-0.13.0_167_g5e9ee7c-py3.5-macosx-10.6-x86_64.egg/grizli/model.py:3558: RuntimeWarning: invalid value encountered in sqrt\n",
      "  contam_mask = ((self.contam*np.sqrt(self.ivar) > contam_sn_mask[0]) &\n",
      "/Users/vestrada/miniconda3/envs/astroconda/lib/python3.5/site-packages/grizli-0.13.0_167_g5e9ee7c-py3.5-macosx-10.6-x86_64.egg/grizli/model.py:3559: RuntimeWarning: invalid value encountered in sqrt\n",
      "  (self.model*np.sqrt(self.ivar) < contam_sn_mask[1]))\n"
     ]
    },
    {
     "name": "stdout",
     "output_type": "stream",
     "text": [
      "1 ibhj03xoq_flt.fits G141\n",
      "2 ibhj03xvq_flt.fits G141\n",
      "3 ibhj03y2q_flt.fits G141\n",
      "4 ibhj35vuq_flt.fits G141\n",
      "5 ibhj35w1q_flt.fits G141\n",
      "6 ibhj35w8q_flt.fits G141\n",
      "7 ibhj35wfq_flt.fits G141\n",
      "8 icxt03jjq_flt.fits G102\n",
      "9 icxt03jkq_flt.fits G102\n",
      "10 icxt03jnq_flt.fits G102\n",
      "11 icxt03jpq_flt.fits G102\n",
      "12 icxt04e3q_flt.fits G102\n",
      "13 icxt04e4q_flt.fits G102\n",
      "14 icxt04edq_flt.fits G102\n",
      "15 icxt04efq_flt.fits G102\n",
      "16 icxt01cgq_flt.fits G102\n",
      "17 icxt01ciq_flt.fits G102\n",
      "18 icxt01clq_flt.fits G102\n",
      "19 icxt01cnq_flt.fits G102\n",
      "20 icxt02c7q_flt.fits G102\n",
      "21 icxt02caq_flt.fits G102\n",
      "22 icxt02cdq_flt.fits G102\n",
      "23 icxt02cfq_flt.fits G102\n",
      "24 icxt05h7q_flt.fits G102\n",
      "25 icxt05h9q_flt.fits G102\n",
      "26 icxt05hcq_flt.fits G102\n",
      "27 icxt05heq_flt.fits G102\n",
      "28 icxt06laq_flt.fits G102\n",
      "29 icxt06lcq_flt.fits G102\n",
      "30 icxt06lfq_flt.fits G102\n",
      "31 icxt06lhq_flt.fits G102\n"
     ]
    },
    {
     "name": "stderr",
     "output_type": "stream",
     "text": [
      "/Users/vestrada/miniconda3/envs/astroconda/lib/python3.5/site-packages/grizli-0.13.0_167_g5e9ee7c-py3.5-macosx-10.6-x86_64.egg/grizli/multifit.py:1433: RuntimeWarning: divide by zero encountered in true_divide\n",
      "  beam.ivarf = 1./(1/beam.ivarf + (sys_err*beam.scif)**2)\n",
      "/Users/vestrada/Github/Cluster_and_field/scripts/spec_exam.py:768: FutureWarning: elementwise comparison failed; returning scalar instead, but in the future will perform elementwise comparison\n",
      "  if bm.grism.parent_file in BMX:\n",
      "/Users/vestrada/miniconda3/envs/astroconda/lib/python3.5/site-packages/grizli-0.13.0_167_g5e9ee7c-py3.5-macosx-10.6-x86_64.egg/grizli/model.py:557: RuntimeWarning: divide by zero encountered in true_divide\n",
      "  self.optimal_profile = m/m.sum(axis=0)\n",
      "/Users/vestrada/miniconda3/envs/astroconda/lib/python3.5/site-packages/grizli-0.13.0_167_g5e9ee7c-py3.5-macosx-10.6-x86_64.egg/grizli/model.py:557: RuntimeWarning: invalid value encountered in true_divide\n",
      "  self.optimal_profile = m/m.sum(axis=0)\n"
     ]
    },
    {
     "ename": "FileNotFoundError",
     "evalue": "[Errno 2] No such file or directory: '../phot/GSD_48525_phot.npy'",
     "output_type": "error",
     "traceback": [
      "\u001b[0;31m---------------------------------------------------------------------------\u001b[0m",
      "\u001b[0;31mFileNotFoundError\u001b[0m                         Traceback (most recent call last)",
      "\u001b[0;32m<ipython-input-6-fb6b7c0ec090>\u001b[0m in \u001b[0;36m<module>\u001b[0;34m()\u001b[0m\n\u001b[1;32m      7\u001b[0m \u001b[0;34m\u001b[0m\u001b[0m\n\u001b[1;32m      8\u001b[0m \u001b[0mz50\u001b[0m \u001b[0;34m=\u001b[0m \u001b[0mGSD_all\u001b[0m\u001b[0;34m.\u001b[0m\u001b[0mzgrizli\u001b[0m\u001b[0;34m[\u001b[0m\u001b[0mi\u001b[0m\u001b[0;34m]\u001b[0m\u001b[0;34m\u001b[0m\u001b[0m\n\u001b[0;32m----> 9\u001b[0;31m \u001b[0mGs\u001b[0m \u001b[0;34m=\u001b[0m \u001b[0mGen_spec_2D\u001b[0m\u001b[0;34m(\u001b[0m\u001b[0;34m'GSD'\u001b[0m\u001b[0;34m,\u001b[0m \u001b[0mGSD_all\u001b[0m\u001b[0;34m.\u001b[0m\u001b[0mid\u001b[0m\u001b[0;34m[\u001b[0m\u001b[0mi\u001b[0m\u001b[0;34m]\u001b[0m\u001b[0;34m,\u001b[0m \u001b[0;36m1\u001b[0m\u001b[0;34m)\u001b[0m\u001b[0;34m\u001b[0m\u001b[0m\n\u001b[0m\u001b[1;32m     10\u001b[0m \u001b[0;31m# GWV,GFL,GER = Extract_spec('S', gid)\u001b[0m\u001b[0;34m\u001b[0m\u001b[0;34m\u001b[0m\u001b[0m\n\u001b[1;32m     11\u001b[0m \u001b[0;34m\u001b[0m\u001b[0m\n",
      "\u001b[0;32m~/Github/Cluster_and_field/scripts/spec_exam.py\u001b[0m in \u001b[0;36m__init__\u001b[0;34m(self, field, galaxy_id, specz, g102_lims, g141_lims, phot_errterm, irac_err)\u001b[0m\n\u001b[1;32m    724\u001b[0m \u001b[0;34m\u001b[0m\u001b[0m\n\u001b[1;32m    725\u001b[0m         self.Pwv, self.Pwv_rf, self.Pflx, self.Perr, self.Pnum = load_spec(self.field,\n\u001b[0;32m--> 726\u001b[0;31m                                 self.galaxy_id, 'phot', self.g141_lims,  self.specz, grism = False, select = None)\n\u001b[0m\u001b[1;32m    727\u001b[0m \u001b[0;34m\u001b[0m\u001b[0m\n\u001b[1;32m    728\u001b[0m         \u001b[0mself\u001b[0m\u001b[0;34m.\u001b[0m\u001b[0mPerr\u001b[0m \u001b[0;34m=\u001b[0m \u001b[0mapply_phot_err\u001b[0m\u001b[0;34m(\u001b[0m\u001b[0mself\u001b[0m\u001b[0;34m.\u001b[0m\u001b[0mPflx\u001b[0m\u001b[0;34m,\u001b[0m \u001b[0mself\u001b[0m\u001b[0;34m.\u001b[0m\u001b[0mPerr\u001b[0m\u001b[0;34m,\u001b[0m \u001b[0mself\u001b[0m\u001b[0;34m.\u001b[0m\u001b[0mPnum\u001b[0m\u001b[0;34m,\u001b[0m \u001b[0mbase_err\u001b[0m \u001b[0;34m=\u001b[0m \u001b[0mphot_errterm\u001b[0m\u001b[0;34m,\u001b[0m \u001b[0mirac_err\u001b[0m \u001b[0;34m=\u001b[0m \u001b[0mirac_err\u001b[0m\u001b[0;34m)\u001b[0m\u001b[0;34m\u001b[0m\u001b[0m\n",
      "\u001b[0;32m~/Github/Cluster_and_field/scripts/sim_engine.py\u001b[0m in \u001b[0;36mload_spec\u001b[0;34m(field, galaxy_id, instr, lims, specz, grism, select, auto_select, decontam)\u001b[0m\n\u001b[1;32m    124\u001b[0m \u001b[0;34m\u001b[0m\u001b[0m\n\u001b[1;32m    125\u001b[0m     \u001b[0;32melse\u001b[0m\u001b[0;34m:\u001b[0m\u001b[0;34m\u001b[0m\u001b[0m\n\u001b[0;32m--> 126\u001b[0;31m         \u001b[0mW\u001b[0m\u001b[0;34m,\u001b[0m \u001b[0mF\u001b[0m\u001b[0;34m,\u001b[0m \u001b[0mE\u001b[0m\u001b[0;34m,\u001b[0m \u001b[0mFLT\u001b[0m \u001b[0;34m=\u001b[0m \u001b[0mnp\u001b[0m\u001b[0;34m.\u001b[0m\u001b[0mload\u001b[0m\u001b[0;34m(\u001b[0m\u001b[0mphot_path\u001b[0m \u001b[0;34m+\u001b[0m \u001b[0;34m'{0}_{1}_{2}.npy'\u001b[0m\u001b[0;34m.\u001b[0m\u001b[0mformat\u001b[0m\u001b[0;34m(\u001b[0m\u001b[0mfield\u001b[0m\u001b[0;34m,\u001b[0m \u001b[0mgalaxy_id\u001b[0m\u001b[0;34m,\u001b[0m \u001b[0minstr\u001b[0m\u001b[0;34m)\u001b[0m\u001b[0;34m)\u001b[0m\u001b[0;34m\u001b[0m\u001b[0m\n\u001b[0m\u001b[1;32m    127\u001b[0m \u001b[0;34m\u001b[0m\u001b[0m\n\u001b[1;32m    128\u001b[0m         \u001b[0mWRF\u001b[0m \u001b[0;34m=\u001b[0m \u001b[0mW\u001b[0m \u001b[0;34m/\u001b[0m \u001b[0;34m(\u001b[0m\u001b[0;36m1\u001b[0m \u001b[0;34m+\u001b[0m \u001b[0mspecz\u001b[0m\u001b[0;34m)\u001b[0m\u001b[0;34m\u001b[0m\u001b[0m\n",
      "\u001b[0;32m~/miniconda3/envs/astroconda/lib/python3.5/site-packages/numpy/lib/npyio.py\u001b[0m in \u001b[0;36mload\u001b[0;34m(file, mmap_mode, allow_pickle, fix_imports, encoding)\u001b[0m\n\u001b[1;32m    370\u001b[0m     \u001b[0mown_fid\u001b[0m \u001b[0;34m=\u001b[0m \u001b[0;32mFalse\u001b[0m\u001b[0;34m\u001b[0m\u001b[0m\n\u001b[1;32m    371\u001b[0m     \u001b[0;32mif\u001b[0m \u001b[0misinstance\u001b[0m\u001b[0;34m(\u001b[0m\u001b[0mfile\u001b[0m\u001b[0;34m,\u001b[0m \u001b[0mbasestring\u001b[0m\u001b[0;34m)\u001b[0m\u001b[0;34m:\u001b[0m\u001b[0;34m\u001b[0m\u001b[0m\n\u001b[0;32m--> 372\u001b[0;31m         \u001b[0mfid\u001b[0m \u001b[0;34m=\u001b[0m \u001b[0mopen\u001b[0m\u001b[0;34m(\u001b[0m\u001b[0mfile\u001b[0m\u001b[0;34m,\u001b[0m \u001b[0;34m\"rb\"\u001b[0m\u001b[0;34m)\u001b[0m\u001b[0;34m\u001b[0m\u001b[0m\n\u001b[0m\u001b[1;32m    373\u001b[0m         \u001b[0mown_fid\u001b[0m \u001b[0;34m=\u001b[0m \u001b[0;32mTrue\u001b[0m\u001b[0;34m\u001b[0m\u001b[0m\n\u001b[1;32m    374\u001b[0m     \u001b[0;32melif\u001b[0m \u001b[0mis_pathlib_path\u001b[0m\u001b[0;34m(\u001b[0m\u001b[0mfile\u001b[0m\u001b[0;34m)\u001b[0m\u001b[0;34m:\u001b[0m\u001b[0;34m\u001b[0m\u001b[0m\n",
      "\u001b[0;31mFileNotFoundError\u001b[0m: [Errno 2] No such file or directory: '../phot/GSD_48525_phot.npy'"
     ]
    }
   ],
   "source": [
    "# for i in GSD_all.index:\n",
    "i=493 #GSD_all.index[100]\n",
    "if len(str(GSD_all.id[i])) < 5:\n",
    "    gid = '0' + str(GSD_all.id[i])\n",
    "else:\n",
    "    gid = str(GSD_all.id[i])\n",
    "\n",
    "z50 = GSD_all.zgrizli[i]\n",
    "Gs = Gen_spec_2D('GSD', GSD_all.id[i], 1)\n",
    "# GWV,GFL,GER = Extract_spec('S', gid)\n",
    "\n",
    "# W,P,E = Phot_load('GSD', GSD_all.id[i], v4Scat)\n",
    "\n",
    "gs = GridSpec(2,1)\n",
    "\n",
    "for z in z50:\n",
    "    plt.figure(figsize=[12,17])\n",
    "    ax1 = plt.subplot(gs[0])\n",
    "    plt.errorbar(W / (1+z),P,E, fmt = 'o',ms=10)\n",
    "\n",
    "    for ii in range(len(GWV)):\n",
    "        plt.errorbar(GWV[ii] / (1+z),GFL[ii],GER[ii], fmt = 'o',ms = 1, color = 'k')\n",
    "\n",
    "    plt.axvline(2799.177 ,linestyle='--', alpha=.3) # MGII\n",
    "    plt.axvline(3727.092 ,linestyle='--', alpha=.3) # OII\n",
    "\n",
    "    plt.axvline(4102.89 ,linestyle='--', alpha=.3, color = 'r')\n",
    "    plt.axvline(4341.68 ,linestyle='--', alpha=.3, color = 'r')\n",
    "    plt.axvline(4862.68 ,linestyle='--', alpha=.3, color = 'r')\n",
    "    plt.axvline(5008.240 ,linestyle='--', alpha=.3)\n",
    "    plt.axvline(6564.61 ,linestyle='--', alpha=.3, color = 'r')\n",
    "    plt.axvline(6718.29,linestyle='--', alpha=.3, color = 'k')\n",
    "    plt.axvline(4000 , alpha=.3, color = 'b')\n",
    "\n",
    "    plt.xscale('log')\n",
    "    plt.title('GSD-' + str(GSD_all.id[i]) + ' z=' + str(np.round(z,4)), fontsize = 20)\n",
    "    plt.xticks([2000,4000,10000,25000,50000],[2000,4000,10000,25000,50000])\n",
    "    \n",
    "    ax1 = plt.subplot(gs[1])\n",
    "    for ii in range(len(GWV)):\n",
    "        plt.errorbar(GWV[ii] / (1+z),GFL[ii],GER[ii], fmt = 'o',ms = 1, color = 'k')\n",
    "\n",
    "    plt.axvline(2799.177 ,linestyle='--', alpha=.3) # MGII\n",
    "    plt.axvline(3727.092 ,linestyle='--', alpha=.3) # OII\n",
    "    plt.axvline(4000 , alpha=.3, color = 'b')\n",
    "\n",
    "    plt.axvline(4102.89 ,linestyle='--', alpha=.3, color = 'r')\n",
    "    plt.axvline(4341.68 ,linestyle='--', alpha=.3, color = 'r')\n",
    "    plt.axvline(4862.68 ,linestyle='--', alpha=.3, color = 'r')\n",
    "    plt.axvline(5008.240 ,linestyle='--', alpha=.3)\n",
    "    plt.axvline(6564.61 ,linestyle='--', alpha=.3, color = 'r')\n",
    "    plt.axvline(6718.29,linestyle='--', alpha=.3, color = 'k')"
   ]
  },
  {
   "cell_type": "code",
   "execution_count": 90,
   "metadata": {},
   "outputs": [
    {
     "data": {
      "image/png": "[encoded data removed]",
      "text/plain": [
       "<Figure size 432x288 with 1 Axes>"
      ]
     },
     "metadata": {
      "image/png": {
       "height": 245,
       "width": 358
      }
     },
     "output_type": "display_data"
    }
   ],
   "source": [
    "for z in GSD_all.zgrizli:\n",
    "    if len(z) > 1:\n",
    "        for i in range(len(z)):\n",
    "            plt.scatter(z[0], z[i])"
   ]
  },
  {
   "cell_type": "code",
   "execution_count": 88,
   "metadata": {},
   "outputs": [
    {
     "data": {
      "text/plain": [
       "[1.575318883891514]"
      ]
     },
     "execution_count": 88,
     "metadata": {},
     "output_type": "execute_result"
    }
   ],
   "source": [
    "z"
   ]
  },
  {
   "cell_type": "code",
   "execution_count": 56,
   "metadata": {},
   "outputs": [
    {
     "name": "stdout",
     "output_type": "stream",
     "text": [
      "[[1.575318883891514], [2.577383610817953], [0.8411485043455519], [0.6706377306359553], [1.098978688791466], [1.307802826651694], [0.6675733418778722], [3.005899900501017], [1.515895659296277], [1.341709823209857], [2.659571977125149], [1.248211526879173], [1.491925888260978], [3.18093320607129], [2.876528923770224], [1.179569767729721], [2.644036975735168], [1.76633656004451], [0.6055487605167857], [0.6649088398783817], [1.188802334422374], [2.745242158652583], [0.6693762224125068], [1.993456784043516], [1.099300032967669], [1.568597876392754], [1.774975622932899], [1.428865296004957], [1.363600007664111], [1.222907471398417], [1.718531484702108], [0.9984359150519174], [0.6664305850786936], [2.633986911266744], [1.089594699366129], [1.313263244567824], [1.561920066027557], [1.318628157413741], [1.909374396764563], [1.094093691606942], [1.849407924205496], [1.097992599313309], [0.9520518527388171], [1.315124285880544], [1.416245980519933], [0.6194550584263085], [1.571278116817665], [1.293705352488747], [2.700752450648781], [1.995724091175468], [1.908270183177062], [0.6200028043892043], [1.10185739461955], [1.037325393476202], [1.845683105779337], [1.859209795127776], [0.8980517020695998], [1.135384116276229], [1.511957016262661], [1.095256656770699], [0.6224542373505908], [1.608930481716614], [0.6670267822485713], [2.541059479643435], [1.293993183131403], [2.677476577999898], [0.6721812272223531], [1.039710931478218], [0.9968137987359349], [0.6228928005793115], [2.140765444250145], [1.222987960798607], [0.6230988484745621], [1.090379361020816], [2.573042037836678], [1.084446870247306], [0.7722220077185574], [1.013951607359975], [2.224403589717385], [1.771258431029694], [1.57505530226467], [1.098667385144062], [0.6710138172300845], [1.221045305871968], [1.281244782778228], [0.8943819982924975], [1.096300868532207], [0.7876688880886044], [1.096128233678822], [2.128037457182042], [1.226875716360252], [0.6680540852471236], [3.203331160255509], [0.7339944911252361], [1.306368653778044], [1.230811018994883], [1.03476903356138], [0.7323049669550236], [1.964208118114909], [1.041451274787121]]\n"
     ]
    }
   ],
   "source": [
    "z_grizli = []\n",
    "for i in GSD_all.id:\n",
    "    spec_list = glob('/Volumes/Vince_CLEAR/RELEASE_v2.1.0/*S*/*{}*.1D.fits'.format(i))\n",
    "    rshift = []\n",
    "    for fl in spec_list:\n",
    "        subfield = fl.split('/')[-2]\n",
    "\n",
    "        dat = Table.read(fits.open('/Volumes/Vince_CLEAR/RELEASE_v2.1.0/grizli_v2.1_cats/{0}_lines_grizli.fits'.format(subfield)), format='fits').to_pandas()\n",
    "        if dat.query('ID == {0}'.format(i)).z_50.values[0] > 0:\n",
    "            rshift.append(dat.query('ID == {0}'.format(i)).z_50.values[0])\n",
    "    z_grizli.append(rshift)\n",
    "    \n",
    "GSD_all['zgrizli'] = z_grizli\n",
    "\n",
    "z_grizli = []\n",
    "for i in GSD_all.id:\n",
    "    spec_list = glob('/Volumes/Vince_CLEAR/RELEASE_v2.1.0/*S*/*{}*.1D.fits'.format(i))\n",
    "    rshift = []\n",
    "    for fl in spec_list:\n",
    "        subfield = fl.split('/')[-2]\n",
    "\n",
    "        dat = Table.read(fits.open('/Volumes/Vince_CLEAR/RELEASE_v2.1.0/grizli_v2.1_cats/{0}_lines_grizli.fits'.format(subfield)), format='fits').to_pandas()\n",
    "        if dat.query('ID == {0}'.format(i)).z_50.values[0] > 0:\n",
    "            rshift.append(dat.query('ID == {0}'.format(i)).z_50.values[0])\n",
    "    z_grizli.append(rshift)\n",
    "    \n",
    "GSD_all['zgrizli'] = z_grizli"
   ]
  },
  {
   "cell_type": "code",
   "execution_count": 46,
   "metadata": {},
   "outputs": [
    {
     "data": {
      "text/plain": [
       "1.022992843572704"
      ]
     },
     "execution_count": 46,
     "metadata": {},
     "output_type": "execute_result"
    }
   ],
   "source": [
    "rshift"
   ]
  },
  {
   "cell_type": "code",
   "execution_count": null,
   "metadata": {},
   "outputs": [],
   "source": []
  }
 ],
 "metadata": {
  "kernelspec": {
   "display_name": "Python 3",
   "language": "python",
   "name": "python3"
  },
  "language_info": {
   "codemirror_mode": {
    "name": "ipython",
    "version": 3
   },
   "file_extension": ".py",
   "mimetype": "text/x-python",
   "name": "python",
   "nbconvert_exporter": "python",
   "pygments_lexer": "ipython3",
   "version": "3.5.5"
  }
 },
 "nbformat": 4,
 "nbformat_minor": 2
}
